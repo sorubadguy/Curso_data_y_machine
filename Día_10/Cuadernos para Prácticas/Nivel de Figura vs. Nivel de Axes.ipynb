{
 "cells": [
  {
   "cell_type": "markdown",
   "id": "9adc6aac",
   "metadata": {},
   "source": [
    "![](funciones_seaborn.png)"
   ]
  },
  {
   "cell_type": "code",
   "execution_count": 1,
   "id": "d2fbe585",
   "metadata": {},
   "outputs": [],
   "source": [
    "import seaborn as sns"
   ]
  },
  {
   "cell_type": "code",
   "execution_count": 2,
   "id": "0dfd70c4",
   "metadata": {},
   "outputs": [],
   "source": [
    "pinguinos = sns.load_dataset(\"penguins\")"
   ]
  },
  {
   "cell_type": "code",
   "execution_count": null,
   "id": "3bd8fb02",
   "metadata": {},
   "outputs": [],
   "source": []
  }
 ],
 "metadata": {
  "kernelspec": {
   "display_name": "Python 3 (ipykernel)",
   "language": "python",
   "name": "python3"
  },
  "language_info": {
   "codemirror_mode": {
    "name": "ipython",
    "version": 3
   },
   "file_extension": ".py",
   "mimetype": "text/x-python",
   "name": "python",
   "nbconvert_exporter": "python",
   "pygments_lexer": "ipython3",
   "version": "3.11.5"
  }
 },
 "nbformat": 4,
 "nbformat_minor": 5
}
