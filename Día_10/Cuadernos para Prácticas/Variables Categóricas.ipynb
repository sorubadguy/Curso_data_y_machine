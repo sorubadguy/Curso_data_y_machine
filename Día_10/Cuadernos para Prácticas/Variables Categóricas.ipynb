{
 "cells": [
  {
   "cell_type": "markdown",
   "id": "324a1ffa",
   "metadata": {},
   "source": [
    "![](funciones_seaborn.png)"
   ]
  },
  {
   "cell_type": "code",
   "execution_count": 1,
   "id": "212b86df",
   "metadata": {},
   "outputs": [],
   "source": [
    "import seaborn as sns"
   ]
  },
  {
   "cell_type": "code",
   "execution_count": 2,
   "id": "a8e6133a",
   "metadata": {},
   "outputs": [],
   "source": [
    "propinas = sns.load_dataset(\"tips\")"
   ]
  },
  {
   "cell_type": "code",
   "execution_count": null,
   "id": "68692513",
   "metadata": {},
   "outputs": [],
   "source": []
  }
 ],
 "metadata": {
  "kernelspec": {
   "display_name": "Python 3 (ipykernel)",
   "language": "python",
   "name": "python3"
  },
  "language_info": {
   "codemirror_mode": {
    "name": "ipython",
    "version": 3
   },
   "file_extension": ".py",
   "mimetype": "text/x-python",
   "name": "python",
   "nbconvert_exporter": "python",
   "pygments_lexer": "ipython3",
   "version": "3.11.5"
  }
 },
 "nbformat": 4,
 "nbformat_minor": 5
}
