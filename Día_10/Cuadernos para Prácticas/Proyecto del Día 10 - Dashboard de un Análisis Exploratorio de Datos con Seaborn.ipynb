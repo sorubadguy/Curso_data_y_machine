{
 "cells": [
  {
   "cell_type": "markdown",
   "id": "6fdaca99",
   "metadata": {},
   "source": [
    "# Proyecto del Día 10 - Dashboard de un Análisis Exploratorio de Datos con Seaborn"
   ]
  },
  {
   "cell_type": "markdown",
   "id": "e216360f",
   "metadata": {},
   "source": [
    "## Introducción\n",
    "Este notebook tiene como objetivo demostrar cómo utilizar Seaborn para **crear visualizaciones complejas y atractivas para el análisis exploratorio de datos** utilizando el dataset de `diamonds`, pertenenciente a la librería **Seaborn** en Python. Este dashboard incluirá visualizaciones que muestren:\n",
    "* relaciones estadísticas\n",
    "* distribuciones de variables\n",
    "* comparaciones entre categorías\n",
    "\n",
    "El estudiante deberá:\n",
    "1. Cargar el dataset `diamonds` de Seaborn\n",
    "2. Realizar un **análisis exploratorio** preliminar para familiarizarse con los datos\n",
    "3. Crear visualizaciones que incluyan:\n",
    "    * Relaciones entre variables numéricas (por ejemplo, precio vs. peso en quilates)\n",
    "    * Distribuciones de variables numéricas (por ejemplo, precio, peso en quilates)\n",
    "    * Comparaciones de variables numéricas agrupadas por categorías (por ejemplo, calidad del corte)\n",
    "4. Utilizar `jointplot()` para explorar relaciones específicas entre pares de variables, incluyendo información estadística adicional\n",
    "5. Emplear `pairplot()` para visualizar las relaciones entre todas las variables numéricas del dataset de manera conjunta\n",
    "6. Ajustar los estilos y temas de las visualizaciones para mejorar la estética y legibilidad\n",
    "7. Interpretar los gráficos generados, destacando hallazgos interesantes sobre los datos\n",
    "\n",
    "No dejes de usar tu creatividad, explora, diviértete y en el medio de todo eso, aprende."
   ]
  },
  {
   "cell_type": "code",
   "execution_count": null,
   "id": "8a3bb5a9",
   "metadata": {},
   "outputs": [],
   "source": []
  }
 ],
 "metadata": {
  "kernelspec": {
   "display_name": "Python 3 (ipykernel)",
   "language": "python",
   "name": "python3"
  },
  "language_info": {
   "codemirror_mode": {
    "name": "ipython",
    "version": 3
   },
   "file_extension": ".py",
   "mimetype": "text/x-python",
   "name": "python",
   "nbconvert_exporter": "python",
   "pygments_lexer": "ipython3",
   "version": "3.11.5"
  }
 },
 "nbformat": 4,
 "nbformat_minor": 5
}
