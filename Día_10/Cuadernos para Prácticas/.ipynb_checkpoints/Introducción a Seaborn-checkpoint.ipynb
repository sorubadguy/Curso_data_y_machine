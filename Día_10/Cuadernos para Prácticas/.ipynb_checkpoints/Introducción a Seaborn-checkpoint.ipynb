{
 "cells": [
  {
   "cell_type": "code",
   "execution_count": null,
   "id": "7758e2d5-5026-4e4f-b774-2c1426869ad8",
   "metadata": {},
   "outputs": [],
   "source": [
    "# Importar seaborn\n",
    "import seaborn as sns\n",
    "\n",
    "# Aplicar el tema por defecto\n",
    "sns.set_theme()\n",
    "\n",
    "# Cargar un dataset de ejemplo\n",
    "propinas = sns.load_dataset(\"tips\")\n",
    "\n",
    "# Crear una visualización\n",
    "sns.relplot(\n",
    "    data=propinas,\n",
    "    x=\"total_bill\",\n",
    "    y=\"tip\",\n",
    "    col=\"time\",\n",
    "    hue=\"smoker\",\n",
    "    style=\"smoker\",\n",
    "    size=\"size\",\n",
    ");"
   ]
  }
 ],
 "metadata": {
  "kernelspec": {
   "display_name": "Python 3 (ipykernel)",
   "language": "python",
   "name": "python3"
  },
  "language_info": {
   "codemirror_mode": {
    "name": "ipython",
    "version": 3
   },
   "file_extension": ".py",
   "mimetype": "text/x-python",
   "name": "python",
   "nbconvert_exporter": "python",
   "pygments_lexer": "ipython3",
   "version": "3.11.5"
  }
 },
 "nbformat": 4,
 "nbformat_minor": 5
}
