{
 "cells": [
  {
   "cell_type": "markdown",
   "id": "2fca2088-fdc4-43f1-a8bf-0af2437db019",
   "metadata": {},
   "source": [
    "![CUADRO](funciones_seaborn.png)"
   ]
  },
  {
   "cell_type": "code",
   "execution_count": 1,
   "id": "ce14be86-b54c-40c0-9d14-89e023a6060d",
   "metadata": {},
   "outputs": [],
   "source": [
    "import seaborn as sns"
   ]
  },
  {
   "cell_type": "code",
   "execution_count": null,
   "id": "7f8b4f56",
   "metadata": {},
   "outputs": [],
   "source": []
  }
 ],
 "metadata": {
  "kernelspec": {
   "display_name": "Python 3 (ipykernel)",
   "language": "python",
   "name": "python3"
  },
  "language_info": {
   "codemirror_mode": {
    "name": "ipython",
    "version": 3
   },
   "file_extension": ".py",
   "mimetype": "text/x-python",
   "name": "python",
   "nbconvert_exporter": "python",
   "pygments_lexer": "ipython3",
   "version": "3.11.5"
  }
 },
 "nbformat": 4,
 "nbformat_minor": 5
}
