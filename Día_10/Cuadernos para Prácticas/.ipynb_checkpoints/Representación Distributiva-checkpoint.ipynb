{
 "cells": [
  {
   "cell_type": "markdown",
   "id": "3403aebd-78e3-4ef5-a33f-892c5ad799fc",
   "metadata": {},
   "source": [
    "![](funciones_seaborn.png)"
   ]
  },
  {
   "cell_type": "code",
   "execution_count": 1,
   "id": "673d66b5-4355-4cbc-bde9-119da7c00412",
   "metadata": {},
   "outputs": [],
   "source": [
    "import seaborn as sns"
   ]
  },
  {
   "cell_type": "code",
   "execution_count": null,
   "id": "7a50996f",
   "metadata": {},
   "outputs": [],
   "source": []
  }
 ],
 "metadata": {
  "kernelspec": {
   "display_name": "Python 3 (ipykernel)",
   "language": "python",
   "name": "python3"
  },
  "language_info": {
   "codemirror_mode": {
    "name": "ipython",
    "version": 3
   },
   "file_extension": ".py",
   "mimetype": "text/x-python",
   "name": "python",
   "nbconvert_exporter": "python",
   "pygments_lexer": "ipython3",
   "version": "3.11.5"
  }
 },
 "nbformat": 4,
 "nbformat_minor": 5
}
