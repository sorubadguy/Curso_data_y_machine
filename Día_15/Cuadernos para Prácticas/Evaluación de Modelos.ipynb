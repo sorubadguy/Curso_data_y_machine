{
 "cells": [
  {
   "cell_type": "code",
   "execution_count": 10,
   "id": "f07d5edd",
   "metadata": {},
   "outputs": [],
   "source": [
    "from sklearn.datasets import load_iris\n",
    "from sklearn.ensemble import RandomForestClassifier\n",
    "from sklearn.model_selection import cross_val_score\n",
    "\n",
    "data = load_iris()\n",
    "X = data.data\n",
    "y = data.target\n",
    "\n",
    "modelo = RandomForestClassifier(n_estimators=100, random_state=42)"
   ]
  },
  {
   "cell_type": "code",
   "execution_count": 13,
   "id": "b64bbd67",
   "metadata": {},
   "outputs": [],
   "source": [
    "puntaje = cross_val_score(modelo,\n",
    "                          X,\n",
    "                          y,\n",
    "                          cv=5)"
   ]
  },
  {
   "cell_type": "code",
   "execution_count": 14,
   "id": "be2b48d8",
   "metadata": {},
   "outputs": [
    {
     "name": "stdout",
     "output_type": "stream",
     "text": [
      "Exactitud de cada particion:  [0.96666667 0.96666667 0.93333333 0.96666667 1.        ]\n",
      "Media de la exactitud:  0.9666666666666668\n"
     ]
    }
   ],
   "source": [
    "print(\"Exactitud de cada particion: \", puntaje)\n",
    "print(\"Media de la exactitud: \", puntaje.mean())"
   ]
  },
  {
   "cell_type": "markdown",
   "id": "6daccfc7",
   "metadata": {},
   "source": [
    "# Ejercicio practico del curso"
   ]
  },
  {
   "cell_type": "code",
   "execution_count": 15,
   "id": "448384ec",
   "metadata": {},
   "outputs": [
    {
     "name": "stdout",
     "output_type": "stream",
     "text": [
      "Exactitud de cada particion (KNN):  [0.66666667 0.66666667 0.61111111 0.61111111 0.61111111 0.61111111\n",
      " 0.72222222 0.66666667 0.82352941 0.76470588]\n",
      "Media de la exactitud (KNN):  0.6754901960784313\n"
     ]
    }
   ],
   "source": [
    "from sklearn.datasets import load_wine\n",
    "from sklearn.neighbors import KNeighborsClassifier\n",
    "\n",
    "data = load_wine()\n",
    "\n",
    "X = data.data\n",
    "y = data.target\n",
    "\n",
    "knn_modelo = KNeighborsClassifier(n_neighbors=5)\n",
    "puntaje_knn = cross_val_score(knn_modelo,\n",
    "                              X,\n",
    "                              y,\n",
    "                              cv=10)\n",
    "print(\"Exactitud de cada particion (KNN): \", puntaje_knn)\n",
    "print(\"Media de la exactitud (KNN): \", puntaje_knn.mean())  "
   ]
  }
 ],
 "metadata": {
  "kernelspec": {
   "display_name": "venv",
   "language": "python",
   "name": "python3"
  },
  "language_info": {
   "codemirror_mode": {
    "name": "ipython",
    "version": 3
   },
   "file_extension": ".py",
   "mimetype": "text/x-python",
   "name": "python",
   "nbconvert_exporter": "python",
   "pygments_lexer": "ipython3",
   "version": "3.10.0"
  }
 },
 "nbformat": 4,
 "nbformat_minor": 5
}
