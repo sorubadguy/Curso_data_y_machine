{
 "cells": [
  {
   "cell_type": "code",
   "execution_count": 1,
   "id": "6fbc98c1",
   "metadata": {},
   "outputs": [
    {
     "name": "stdout",
     "output_type": "stream",
     "text": [
      "Las predicciones son: [2 1 0 2 0 2 0 1 1 1 2 1 1 1 1 0 1 1 0 0 2 1 0 0 2 0 0 1 1 0 2 1 0 2 2 1 0\n",
      " 2]\n",
      "La precisión del modelo es: 0.97\n"
     ]
    }
   ],
   "source": [
    "from sklearn.datasets import load_iris\n",
    "from sklearn.model_selection import train_test_split\n",
    "from sklearn.preprocessing import StandardScaler\n",
    "from sklearn.linear_model import LogisticRegression\n",
    "\n",
    "# Cargamos el dataset\n",
    "data = load_iris()\n",
    "X = data.data\n",
    "y = data.target\n",
    "\n",
    "# Dividimos el dataset en conjunto de entrenamiento y de prueba\n",
    "X_entrena, X_prueba, y_entrena, y_prueba = train_test_split(X, y, test_size=0.25, random_state=0)\n",
    "\n",
    "# Creamos una instancia del escalador\n",
    "scaler = StandardScaler()\n",
    "\n",
    "# Estimador (StandardScaler): Aprendemos los parámetros de escalado con fit\n",
    "scaler.fit(X_entrena)\n",
    "\n",
    "# Transformador (StandardScaler): Aplicamos la transformación a los datos de entrenamiento y prueba\n",
    "X_entrena_escalado = scaler.transform(X_entrena)\n",
    "X_prueba_escalado = scaler.transform(X_prueba)\n",
    "\n",
    "# Creamos una instancia del modelo\n",
    "modelo = LogisticRegression()\n",
    "\n",
    "# Estimador (LogisticRegression): Entrenamos el modelo con los datos escalados\n",
    "modelo.fit(X_entrena_escalado, y_entrena)\n",
    "\n",
    "# Predictor (LogisticRegression): Hacemos predicciones y evaluamos el modelo\n",
    "y_pred = modelo.predict(X_prueba_escalado)\n",
    "puntaje = modelo.score(X_prueba_escalado, y_prueba)\n",
    "print(f\"Las predicciones son: {y_pred}\")\n",
    "print(f\"La precisión del modelo es: {puntaje:.2f}\")"
   ]
  },
  {
   "cell_type": "code",
   "execution_count": null,
   "id": "b788f4c1",
   "metadata": {},
   "outputs": [],
   "source": []
  }
 ],
 "metadata": {
  "kernelspec": {
   "display_name": "Python 3 (ipykernel)",
   "language": "python",
   "name": "python3"
  },
  "language_info": {
   "codemirror_mode": {
    "name": "ipython",
    "version": 3
   },
   "file_extension": ".py",
   "mimetype": "text/x-python",
   "name": "python",
   "nbconvert_exporter": "python",
   "pygments_lexer": "ipython3",
   "version": "3.11.5"
  }
 },
 "nbformat": 4,
 "nbformat_minor": 5
}
