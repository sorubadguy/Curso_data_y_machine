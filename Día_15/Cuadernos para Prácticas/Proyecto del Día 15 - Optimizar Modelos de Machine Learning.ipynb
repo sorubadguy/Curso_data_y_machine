{
 "cells": [
  {
   "cell_type": "markdown",
   "id": "b9af9e49",
   "metadata": {},
   "source": [
    "# Proyecto del Día 15 - Optimizar Modelos de Machine Learning\n",
    "\n",
    "El proyecto del día de hoy consiste en tomar un código que ya está desarrollado con Scikit-Learn, y modificarlo agregando varios apspectos que hemos aprendido el día de hoy.\n",
    "\n",
    "Este programa es un simple análisis usando el modelo de **Bosques Aleatorios** en un dataset de **Scikit-Learn** sobre registros médicos de **pacientes con diabetes**.\n",
    "\n",
    "### Consigna\n",
    "\n",
    "Tu trabajo aquí simplemente consiste en ejecutar este código, y analizarlo para identificar qué hace cada línea, y cuál es su función dentro del código. Una vez que te hayas asegurado de haber identificado sus elementos y de haber comprendido su funcionamiento en general, realiza todas las modificaciones que creas necesarias, para que este código incluya:\n",
    "\n",
    "+ Preprocesamiento de datos con StandardScaler\n",
    "+ Selección de mejores categorías (investiga cuál es la mejor función de cálculo)\n",
    "+ Pipelines\n",
    "+ Evaluación de modelo\n",
    "\n",
    "Suena fácil, pero te aseguro que poner todo junto en un mismo proyecto, puede hacer que las cosas se compliquen un poco.\n",
    "\n",
    "Te deseo lo mejor como siempre, esperando que este proyecto implique un buen tiempo de diversión y resolución de problemas."
   ]
  },
  {
   "cell_type": "code",
   "execution_count": 2,
   "id": "78138f59",
   "metadata": {},
   "outputs": [
    {
     "name": "stdout",
     "output_type": "stream",
     "text": [
      "\n",
      "Precisión del modelo: 0.72\n"
     ]
    }
   ],
   "source": [
    "import numpy as np\n",
    "import pandas as pd\n",
    "from sklearn import datasets\n",
    "from sklearn.model_selection import train_test_split\n",
    "from sklearn.ensemble import RandomForestClassifier\n",
    "\n",
    "# Cargar el dataset de diabetes\n",
    "diabetes = datasets.load_diabetes()\n",
    "\n",
    "# Convertir a DataFrame para facilitar el análisis exploratorio\n",
    "diabetes_df = pd.DataFrame(data=np.c_[diabetes['data'], diabetes['target']],\n",
    "                           columns=diabetes['feature_names'] + ['target'])\n",
    "\n",
    "# Convertir 'target' en categorías para clasificación\n",
    "diabetes_df['target'] = (diabetes_df['target'] > diabetes_df['target'].median()).astype(int)\n",
    "\n",
    "# División de datos en conjuntos de entrenamiento y prueba\n",
    "X = diabetes_df.drop('target', axis=1)\n",
    "y = diabetes_df['target']\n",
    "X_entrena, X_prueba, y_entrena, y_prueba = train_test_split(X, y, test_size=0.2, random_state=42)\n",
    "\n",
    "# Crear y entrenar el modelo RandomForest\n",
    "modelo = RandomForestClassifier(n_estimators=100, random_state=42)\n",
    "modelo.fit(X_entrena, y_entrena)\n",
    "\n",
    "# Realizar predicciones con el conjunto de prueba\n",
    "predicciones = modelo.predict(X_prueba)\n",
    "\n",
    "# Evaluación del modelo\n",
    "puntaje = modelo.score(X_prueba, y_prueba)\n",
    "print(f\"\\nPrecisión del modelo: {puntaje:.2f}\")\n"
   ]
  },
  {
   "cell_type": "markdown",
   "id": "418e3609",
   "metadata": {},
   "source": [
    "### Código optimizado"
   ]
  },
  {
   "cell_type": "code",
   "execution_count": 8,
   "id": "a39d9b9b",
   "metadata": {},
   "outputs": [
    {
     "name": "stdout",
     "output_type": "stream",
     "text": [
      "\n",
      "Precisión del modelo: 0.74\n",
      "\n",
      "Puntajes de validación cruzada: [0.78873239 0.70422535 0.73239437 0.7        0.72857143]\n",
      "\n",
      "Precisión media de validación cruzada: 0.73\n"
     ]
    }
   ],
   "source": [
    "# Copia y pega aquí el código anterior, y optimízalo según la consignaimport numpy as np\n",
    "import pandas as pd\n",
    "from sklearn import datasets\n",
    "from sklearn.model_selection import train_test_split\n",
    "from sklearn.ensemble import RandomForestClassifier\n",
    "\n",
    "# Librerias nuevas\n",
    "from sklearn.pipeline import Pipeline\n",
    "from sklearn.preprocessing import StandardScaler\n",
    "from sklearn.feature_selection import SelectKBest, f_classif\n",
    "from sklearn.model_selection import cross_val_score\n",
    "\n",
    "# Cargar el dataset de diabetes\n",
    "diabetes = datasets.load_diabetes()\n",
    "\n",
    "# Convertir a DataFrame para facilitar el análisis exploratorio\n",
    "diabetes_df = pd.DataFrame(data=np.c_[diabetes['data'], diabetes['target']],\n",
    "                           columns=diabetes['feature_names'] + ['target'])\n",
    "\n",
    "# Convertir 'target' en categorías para clasificación\n",
    "diabetes_df['target'] = (diabetes_df['target'] > diabetes_df['target'].median()).astype(int)\n",
    "\n",
    "# División de datos en conjuntos de entrenamiento y prueba\n",
    "X = diabetes_df.drop('target', axis=1)\n",
    "y = diabetes_df['target']\n",
    "X_entrena, X_prueba, y_entrena, y_prueba = train_test_split(X, y, test_size=0.2, random_state=42)\n",
    "\n",
    "#Seleccion de las 4 mejores características\n",
    "#! agregado\n",
    "\n",
    "selector = SelectKBest(score_func=f_classif, k=4)\n",
    "X_entrena_seleccionada = selector.fit_transform(X_entrena, y_entrena)\n",
    "X_prueba_seleccionada = selector.transform(X_prueba)\n",
    "\n",
    "\"\"\"\n",
    "Se reemplaza en el pipeline\n",
    "# Crear y entrenar el modelo RandomForest\n",
    "modelo = RandomForestClassifier(n_estimators=100, random_state=42)\n",
    "modelo.fit(X_entrena, y_entrena)\n",
    "\"\"\"\n",
    "\n",
    "# Creacion de pipeline sin la seleccion de caracteristica\n",
    "\n",
    "pipeline = Pipeline([\n",
    "    ('scaler', StandardScaler()),\n",
    "    ('classifier', RandomForestClassifier(n_estimators=100, random_state=42))\n",
    "    ])\n",
    "\n",
    "# Entrenamiento del modelo usando Pipeline\n",
    "\n",
    "pipeline.fit(X_entrena_seleccionada, y_entrena)\n",
    "\n",
    "\"\"\"\n",
    "#!Se realiza con la pipeline\n",
    "# Realizar predicciones con el conjunto de prueba\n",
    "predicciones = modelo.predict(X_prueba)\n",
    "\"\"\"\n",
    "\n",
    "# Realizacion de predicciones con el conjunto de prueba\n",
    "\n",
    "predicciones = pipeline.predict(X_prueba_seleccionada)\n",
    "\n",
    "\"\"\"\n",
    "#!Se aplica sobre la pipeline\n",
    "# Evaluación del modelo\n",
    "puntaje = modelo.score(X_prueba, y_prueba)\n",
    "print(f'\\nPrecisión del modelo: {puntaje:.2f}')\n",
    "\"\"\"\n",
    "\n",
    "#Evaluacion del modelo\n",
    "\n",
    "puntaje = pipeline.score(X_prueba_seleccionada, y_prueba)\n",
    "print(f\"\\nPrecisión del modelo: {puntaje:.2f}\")\n",
    "\n",
    "#Evaluacion adicional con la validacion cruzada\n",
    "\n",
    "puntajes_validacion_cruzada = cross_val_score(pipeline, X_entrena_seleccionada, y_entrena, cv=5)\n",
    "print(f\"\\nPuntajes de validación cruzada: {puntajes_validacion_cruzada}\")\n",
    "print(f\"\\nPrecisión media de validación cruzada: {np.mean(puntajes_validacion_cruzada):.2f}\")"
   ]
  },
  {
   "cell_type": "code",
   "execution_count": null,
   "id": "65e4d2ce",
   "metadata": {},
   "outputs": [],
   "source": []
  }
 ],
 "metadata": {
  "kernelspec": {
   "display_name": "venv",
   "language": "python",
   "name": "python3"
  },
  "language_info": {
   "codemirror_mode": {
    "name": "ipython",
    "version": 3
   },
   "file_extension": ".py",
   "mimetype": "text/x-python",
   "name": "python",
   "nbconvert_exporter": "python",
   "pygments_lexer": "ipython3",
   "version": "3.10.0"
  }
 },
 "nbformat": 4,
 "nbformat_minor": 5
}
