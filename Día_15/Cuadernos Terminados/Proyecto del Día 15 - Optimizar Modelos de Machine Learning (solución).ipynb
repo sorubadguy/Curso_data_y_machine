{
 "cells": [
  {
   "cell_type": "markdown",
   "id": "b9af9e49",
   "metadata": {},
   "source": [
    "# Proyecto del Día 15 - Optimizar Modelos de Machine Learning (solución)\n",
    "\n",
    "El proyecto del día de hoy consiste en tomar un código que ya está desarrollado con Scikit-Learn, y modificarlo agregando varios apspectos que hemos aprendido el día de hoy.\n",
    "\n",
    "Este programa es un simple análisis usando el modelo de **Bosques Aleatorios** en un dataset de **Scikit-Learn** sobre registros médicos de **pacientes con diabetes**.\n",
    "\n",
    "### Consigna\n",
    "\n",
    "Tu trabajo aquí simplemente consiste en ejecutar este código, y analizarlo para identificar qué hace cada línea, y cuál es su función dentro del código. Una vez que te hayas asegurado de haber identificado sus elementos y de haber comprendido su funcionamiento en general, realiza todas las modificaciones que creas necesarias, para que este código incluya:\n",
    "\n",
    "+ Preprocesamiento de datos con StandardScaler\n",
    "+ Selección de mejores categorías (investiga cuál es la mejor función de cálculo)\n",
    "+ Pipelines\n",
    "+ Evaluación de modelo\n",
    "\n",
    "Suena fácil, pero te aseguro que poner todo junto en un mismo proyecto, puede hacer que las cosas se compliquen un poco.\n",
    "\n",
    "Te deseo lo mejor como siempre, esperando que este proyecto implique un buen tiempo de diversión y resolución de problemas."
   ]
  },
  {
   "cell_type": "code",
   "execution_count": 17,
   "id": "78138f59",
   "metadata": {},
   "outputs": [
    {
     "name": "stdout",
     "output_type": "stream",
     "text": [
      "\n",
      "Precisión del modelo: 0.72\n"
     ]
    }
   ],
   "source": [
    "import numpy as np\n",
    "import pandas as pd\n",
    "from sklearn import datasets\n",
    "from sklearn.model_selection import train_test_split\n",
    "from sklearn.ensemble import RandomForestClassifier\n",
    "\n",
    "# Cargar el dataset de diabetes\n",
    "diabetes = datasets.load_diabetes()\n",
    "\n",
    "# Convertir a DataFrame para facilitar el análisis exploratorio\n",
    "diabetes_df = pd.DataFrame(data=np.c_[diabetes['data'], diabetes['target']],\n",
    "                           columns=diabetes['feature_names'] + ['target'])\n",
    "\n",
    "# Convertir 'target' en categorías para clasificación\n",
    "diabetes_df['target'] = (diabetes_df['target'] > diabetes_df['target'].median()).astype(int)\n",
    "\n",
    "# División de datos en conjuntos de entrenamiento y prueba\n",
    "X = diabetes_df.drop('target', axis=1)\n",
    "y = diabetes_df['target']\n",
    "X_entrena, X_prueba, y_entrena, y_prueba = train_test_split(X, y, test_size=0.2, random_state=42)\n",
    "\n",
    "# Crear y entrenar el modelo RandomForest\n",
    "modelo = RandomForestClassifier(n_estimators=100, random_state=42)\n",
    "modelo.fit(X_entrena, y_entrena)\n",
    "\n",
    "# Realizar predicciones con el conjunto de prueba\n",
    "predicciones = modelo.predict(X_prueba)\n",
    "\n",
    "# Evaluación del modelo\n",
    "puntaje = modelo.score(X_prueba, y_prueba)\n",
    "print(f\"\\nPrecisión del modelo: {puntaje:.2f}\")\n"
   ]
  },
  {
   "cell_type": "markdown",
   "id": "418e3609",
   "metadata": {},
   "source": [
    "### Código optimizado"
   ]
  },
  {
   "cell_type": "code",
   "execution_count": 2,
   "id": "624ae1c7",
   "metadata": {},
   "outputs": [
    {
     "name": "stdout",
     "output_type": "stream",
     "text": [
      "Precisión del modelo: 0.74\n",
      "Puntuaciones de validación cruzada: [0.69662921 0.74157303 0.67045455 0.61363636 0.68181818]\n",
      "Promedio de puntuación de validación cruzada: 0.68\n"
     ]
    }
   ],
   "source": [
    "import numpy as np\n",
    "import pandas as pd\n",
    "from sklearn import datasets\n",
    "from sklearn.model_selection import train_test_split, cross_val_score\n",
    "from sklearn.ensemble import RandomForestClassifier\n",
    "from sklearn.preprocessing import StandardScaler\n",
    "from sklearn.feature_selection import SelectKBest, f_classif\n",
    "from sklearn.pipeline import Pipeline\n",
    "\n",
    "# Cargar el dataset de diabetes\n",
    "diabetes = datasets.load_diabetes()\n",
    "\n",
    "# Convertir a DataFrame para un análisis exploratorio más fácil\n",
    "diabetes_df = pd.DataFrame(data=np.c_[diabetes['data'], diabetes['target']],\n",
    "                           columns=diabetes['feature_names'] + ['target'])\n",
    "\n",
    "# Convertir la variable 'target' en categórica para clasificación\n",
    "diabetes_df['target'] = (diabetes_df['target'] > diabetes_df['target'].median()).astype(int)\n",
    "\n",
    "# División de datos en conjuntos de entrenamiento y prueba\n",
    "X = diabetes_df.drop('target', axis=1)\n",
    "y = diabetes_df['target']\n",
    "X_entrena, X_prueba, y_entrena, y_prueba = train_test_split(X, y, test_size=0.2, random_state=42)\n",
    "\n",
    "# Selección de las mejores 4 características\n",
    "selector = SelectKBest(score_func=f_classif, k=4)\n",
    "X_entrena_seleccionada = selector.fit_transform(X_entrena, y_entrena)\n",
    "X_prueba_seleccionada = selector.transform(X_prueba)\n",
    "\n",
    "# Creación del pipeline sin la selección de características\n",
    "pipeline = Pipeline([\n",
    "    ('scaler', StandardScaler()),\n",
    "    ('classifier', RandomForestClassifier(n_estimators=100, random_state=42))\n",
    "])\n",
    "\n",
    "# Entrenamiento del modelo usando el pipeline\n",
    "pipeline.fit(X_entrena_seleccionada, y_entrena)\n",
    "\n",
    "# Realización de predicciones con el conjunto de prueba\n",
    "predicciones = pipeline.predict(X_prueba_seleccionada)\n",
    "\n",
    "# Evaluación del modelo\n",
    "puntaje = pipeline.score(X_prueba_seleccionada, y_prueba)\n",
    "print(f\"Precisión del modelo: {puntaje:.2f}\")\n",
    "\n",
    "# Evaluación adicional con validación cruzada\n",
    "puntajes_validacion_cruzada = cross_val_score(pipeline, selector.transform(X), y, cv=5)\n",
    "print(f\"Puntuaciones de validación cruzada: {puntajes_validacion_cruzada}\")\n",
    "print(f\"Promedio de puntuación de validación cruzada: {np.mean(puntajes_validacion_cruzada):.2f}\")\n"
   ]
  },
  {
   "cell_type": "code",
   "execution_count": null,
   "id": "a39d9b9b",
   "metadata": {},
   "outputs": [],
   "source": []
  }
 ],
 "metadata": {
  "kernelspec": {
   "display_name": "Python 3 (ipykernel)",
   "language": "python",
   "name": "python3"
  },
  "language_info": {
   "codemirror_mode": {
    "name": "ipython",
    "version": 3
   },
   "file_extension": ".py",
   "mimetype": "text/x-python",
   "name": "python",
   "nbconvert_exporter": "python",
   "pygments_lexer": "ipython3",
   "version": "3.11.5"
  }
 },
 "nbformat": 4,
 "nbformat_minor": 5
}
