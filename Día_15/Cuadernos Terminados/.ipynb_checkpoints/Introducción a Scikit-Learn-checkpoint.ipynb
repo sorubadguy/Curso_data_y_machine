{
 "cells": [
  {
   "attachments": {},
   "cell_type": "markdown",
   "id": "7094efd0",
   "metadata": {},
   "source": [
    "# Introducción a Scikit-Learn\n",
    "\n",
    "¡Bienvenido a la primera lección sobre **Scikit-Learn**, una de las bibliotecas más poderosas y versátiles para **Machine Learning** en Python!\n",
    "\n",
    "En esta lección quiero explicar casi desde cero qué es **Scikit-Learn**, para que podamos entender cómo está construida esta herramienta para crear modelos de aprendizaje automático. La idea es que comprendas cuáles son los componentes principales de la estructura de Scikit-Learn y que puedas ampliar tu capacidad de trabajar con esta increíble biblioteca.\n",
    "\n",
    "\n",
    "### ¿Qué es Scikit-Learn?\n",
    "\n",
    "**Scikit-Learn**, o `sklearn`, es una biblioteca de Python que sirve para facilitar la implementación de **algoritmos de Machine Learning**. Por eso en este curso primero nos abocamos a aprender Machine Learning, y con eso aprendido poder profundizar mucho más en **Scikit-Learn**.\n",
    "\n",
    "**Scikit-Learn** fue creada en 2007 y está diseñada con un enfoque principal en la *simplicidad* y en la *eficiencia*, lo que la hace ideal para aquellos que están empezando en el campo del aprendizaje automático, pero también lo suficientemente robusta para los expertos en esta materia.\n",
    "\n",
    "Como todo en python, Scikit-Learn está construida sobre los principios de la **Programación Orientada a Objetos (OOP)**, que es este concepto que venimos viendo desde el principio del curso: *en Python, todo es un objeto*.\n",
    "\n",
    "Esto significa que en Scikit-Learn, (que fue construida sobre **numpy**, **scipy** y **matplotlib**), también, como en cualquier librería de Python, aquí todo es un objeto.\n",
    "\n",
    "\n",
    "### Estructura de Scikit-Learn\n",
    "\n",
    "A continuación vamos a ver que cuando implementamos Scikit-Learn, aplicamos un código que contiene **3 componentes principales**:\n",
    "+ Estimadores\n",
    "+ Transformadores\n",
    "+ Predictores.\n",
    "\n",
    "Vamos a ver un pequeño ejemplo de código, para poder identificar estos componentes."
   ]
  },
  {
   "cell_type": "code",
   "execution_count": 1,
   "id": "f1ccf3f6",
   "metadata": {},
   "outputs": [
    {
     "name": "stdout",
     "output_type": "stream",
     "text": [
      "Las predicciones son: [2 1 0 2 0 2 0 1 1 1 2 1 1 1 1 0 1 1 0 0 2 1 0 0 2 0 0 1 1 0 2 1 0 2 2 1 0\n",
      " 2]\n",
      "La precisión del modelo es: 0.97\n"
     ]
    }
   ],
   "source": [
    "from sklearn.datasets import load_iris\n",
    "from sklearn.model_selection import train_test_split\n",
    "from sklearn.preprocessing import StandardScaler\n",
    "from sklearn.linear_model import LogisticRegression\n",
    "\n",
    "# Cargamos el dataset\n",
    "data = load_iris()\n",
    "X = data.data\n",
    "y = data.target\n",
    "\n",
    "# Dividimos el dataset en conjunto de entrenamiento y de prueba\n",
    "X_entrena, X_prueba, y_entrena, y_prueba = train_test_split(X, y, test_size=0.25, random_state=0)\n",
    "\n",
    "# Creamos una instancia del escalador\n",
    "scaler = StandardScaler()\n",
    "\n",
    "# Estimador (StandardScaler): Aprendemos los parámetros de escalado con fit\n",
    "scaler.fit(X_entrena)\n",
    "\n",
    "# Transformador (StandardScaler): Aplicamos la transformación a los datos de entrenamiento y prueba\n",
    "X_entrena_escalado = scaler.transform(X_entrena)\n",
    "X_prueba_escalado = scaler.transform(X_prueba)\n",
    "\n",
    "# Creamos una instancia del modelo\n",
    "modelo = LogisticRegression()\n",
    "\n",
    "# Estimador (LogisticRegression): Entrenamos el modelo con los datos escalados\n",
    "modelo.fit(X_entrena_escalado, y_entrena)\n",
    "\n",
    "# Predictor (LogisticRegression): Hacemos predicciones y evaluamos el modelo\n",
    "y_pred = modelo.predict(X_prueba_escalado)\n",
    "puntaje = modelo.score(X_prueba_escalado, y_prueba)\n",
    "print(f\"Las predicciones son: {y_pred}\")\n",
    "print(f\"La precisión del modelo es: {puntaje:.2f}\")"
   ]
  },
  {
   "cell_type": "markdown",
   "id": "dd756b69",
   "metadata": {},
   "source": [
    "### Análisis de los Componentes del Código\n",
    "\n",
    "Como te decía, en el código de Scikit-Learn vamos a encontrar una estructura que contiene **3 componentes principales**: Estimadores, Transformadores, y Predictores.\n",
    "\n",
    "Antes de identificarlos, es importante destacar que muchas veces un mismo elemento puede cumplir las funciones de distintos componentes. Por ejemplo, un *estimador*, puede cumplir luego la función de ser un *predictor*.\n",
    "\n",
    "\n",
    "##### Estimadores\n",
    "\n",
    "Los **Estimadores** son cualquier objeto del código que pueda estimar algunos parámetros basados en el dataset. La estimación misma se realiza mediante el método `fit()`, y solamente va a tomar un dataset como parámetro.\n",
    "\n",
    "En este código de ejemplo, los estimadores son `StandardScaler` y `LogisticRegression`, ya que ambos aplican el método `fit()` y por lo tanto **ambos hacen diferentes estimaciones**:\n",
    "+ `StandardScaler` determina los parámetros *media* y *desviación estándar* de cada característica\n",
    "+ `LogisticRegression` aprende los *coeficientes del modelo* de regresión logística a partir de los datos, luego de que han sido escalados.\n",
    "\n",
    "\n",
    "##### Transformadores\n",
    "\n",
    "Algunos estimadores, además de hacer estimaciones, también pueden **transformar un dataset**; a estos estimadores entonces también los consideramos **Transformadores**. La transformación se realiza mediante el método `transform()`, que devuelve un nuevo conjunto de datos, que en realidad es una **modificación de los datos originales**. \n",
    "Cuando ocurre que **el mismo elemento** es un *estimador* y un *transformador*, tambien pueden usar otro método muy conveniente, llamado `fit_transform()` que en realidad es una optimización que realiza una estimación y una transformación en el mismo paso.\n",
    "\n",
    "En el código de ejemplo, el transformador es `StandardScaler`, ya que este estimador, después de estimar los parámetros necesarios, se comporta como transformador, porque también aplica una transformación, que en este caso es la **estandarización de los datos**, escalándolos, usando el método `transform()`. Esto ya lo hemos visto en algunos ejercicios de Machine Learning, y se hace para ajustar los datos de entrada para que tengan una **media de `0`** y una **desviación estándar de `1`**.\n",
    "\n",
    "\n",
    "##### Predictores\n",
    "\n",
    "Finalmente, algunos estimadores también son capaces de hacer predicciones. A estos estimadores que pueden hacer predicciones, los llamamos **Predictores**. El predictor actúa aplicando el método `predict()`, que toma un nuevo conjunto de datos y produce **predicciones basadas en el modelo aprendido**, y también tiene un método `score()` que mide la calidad de las predicciones que ha hecho al evaluarlas con un conjunto de prueba.\n",
    "\n",
    "En nuestro ejemplo, `LogisticRegression`, que inicialmente actuó como estimador (cuando entrenó al modelo usando los datos escalados), y que luego una vez que el modelo ha aprendido los parámetros durante el entrenamiento, ahora pasa a actuar como un *predictor*. Utiliza el método `predict()` para clasificar nuevas observaciones basándose en los coeficientes aprendidos, y luego usa el método `score()` para evaluar el rendimiento del modelo en el conjunto de prueba, proporcionando la precisión de las predicciones.\n",
    "\n",
    "*******\n",
    "Este breve ejemplo de código ha encapsulado la naturaleza y la estructura de **Scikit-Learn**: *simple*, *eficiente* y *poderoso*.\n",
    "\n",
    "Con esto hemos cubierto los fundamentos de qué es Scikit-Learn, cómo está estructurada y hemos visto un ejemplo simple en acción par aidentificar sus componentes principales.\n",
    "\n",
    "A medida que avanzamos en las próximas lecciones, vamos a explorar cada componente en más detalle y vamos a aprender a aprovechar al máximo esta herramienta para nuestros proyectos de Machine Learning.\n"
   ]
  },
  {
   "cell_type": "code",
   "execution_count": null,
   "id": "d8338305",
   "metadata": {},
   "outputs": [],
   "source": []
  }
 ],
 "metadata": {
  "kernelspec": {
   "display_name": "Python 3 (ipykernel)",
   "language": "python",
   "name": "python3"
  },
  "language_info": {
   "codemirror_mode": {
    "name": "ipython",
    "version": 3
   },
   "file_extension": ".py",
   "mimetype": "text/x-python",
   "name": "python",
   "nbconvert_exporter": "python",
   "pygments_lexer": "ipython3",
   "version": "3.11.5"
  }
 },
 "nbformat": 4,
 "nbformat_minor": 5
}
