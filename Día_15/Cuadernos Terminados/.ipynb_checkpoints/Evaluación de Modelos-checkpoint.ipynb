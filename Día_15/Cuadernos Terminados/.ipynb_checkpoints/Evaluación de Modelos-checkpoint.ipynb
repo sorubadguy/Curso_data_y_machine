{
 "cells": [
  {
   "attachments": {},
   "cell_type": "markdown",
   "id": "ccaeb08d",
   "metadata": {},
   "source": [
    "# Evaluación de Modelos\n",
    "\n",
    "Bienvenido a una lección que es esencial en cualquier curso de **Machine learning**: cómo *evaluar correctamente a nuestros modelos*.\n",
    "\n",
    "Esta lección va a cubrir una técnica crucial, utilizando una herramienta de Scikit-Learn que se llama `cross_val_score()` que se utiliza para hacer **validación cruzada**.\n",
    "\n",
    "\n",
    "### Evaluación de Modelos con Validación Cruzada\n",
    "\n",
    "La **validación cruzada** es un método que sirve para evaluar el rendimiento de un modelo de **Machine Learning**, ya que nos ayuda a entender cómo se espera que el modelo se desempeñe en datos *no vistos*.\n",
    "\n",
    "Lo veamos con un ejemplo sencillo, donde aplicaremos `cross_val_score()`. En el siguiente código tenemos nuevamente a nuestro dataset de `iris`, y supongamos que queremos saber cómo se va a desempeñar el modelo `RandomForestClassifier` con nuestros datos, aún sin haberlo entrenado.\n",
    "\n",
    "A los fines prácticos, ya he importado a `cross_val_score` en este ejercicio."
   ]
  },
  {
   "cell_type": "code",
   "execution_count": 1,
   "id": "f07d5edd",
   "metadata": {},
   "outputs": [],
   "source": [
    "from sklearn.datasets import load_iris\n",
    "from sklearn.ensemble import RandomForestClassifier\n",
    "from sklearn.model_selection import cross_val_score\n",
    "\n",
    "data = load_iris()\n",
    "X = data.data\n",
    "y = data.target\n",
    "\n",
    "modelo = RandomForestClassifier(n_estimators=100, random_state=42)"
   ]
  },
  {
   "attachments": {},
   "cell_type": "markdown",
   "id": "ba391577",
   "metadata": {},
   "source": [
    "Como puedes ver en este código inicial, `RandomForestClassifier` ya está instanciado en la variable `modelo`, pero aún **no está entrenado**.\n",
    "\n",
    "Ahora voy a crear una variable `puntaje`, que va a contener la evaluación que hagamos con `cross_val_score()`."
   ]
  },
  {
   "cell_type": "code",
   "execution_count": 2,
   "id": "8934a848",
   "metadata": {},
   "outputs": [],
   "source": [
    "puntaje = cross_val_score(modelo, X, y, cv=5)"
   ]
  },
  {
   "attachments": {},
   "cell_type": "markdown",
   "id": "75a8c365",
   "metadata": {},
   "source": [
    "Vamos a describir los parámetros que he utilizado para la función `cross_val_score()`:\n",
    "+ **`modelo`**: Es simplemente el modelo de Machine learning que quiero evaluar\n",
    "+ **`X`**: Las variables independientes de los datos sobre los que quiero aplicar mi modelo\n",
    "+ **`y`**: Las variables objetivo, es decir los valores que quiero predecir\n",
    "+ **`cv=5`**: El número de particiones (\"folds\") que se utilizarán en la validación cruzada. Un valor de `5` significa que los datos se dividirán en 5 conjuntos diferentes. En cada iteración de la validación cruzada, uno de estos conjuntos se usa como el conjunto de prueba y los otros 4 como el conjunto de entrenamiento. Esto se repite 5 veces, de modo que cada conjunto se usa una vez como conjunto de prueba.\n",
    "\t\t\t\t\n",
    "Ahora veamos los **puntajes** que ha obtenido esta **validación cruzada**:"
   ]
  },
  {
   "cell_type": "code",
   "execution_count": 3,
   "id": "525882a5",
   "metadata": {},
   "outputs": [
    {
     "name": "stdout",
     "output_type": "stream",
     "text": [
      "Exactitud de cada partición: [0.96666667 0.96666667 0.93333333 0.96666667 1.        ]\n",
      "Media de la exactitud: 0.9666666666666668\n"
     ]
    }
   ],
   "source": [
    "print(\"Exactitud de cada partición:\", puntaje)\n",
    "print(\"Media de la exactitud:\", puntaje.mean())"
   ]
  },
  {
   "attachments": {},
   "cell_type": "markdown",
   "id": "d801fbad",
   "metadata": {},
   "source": [
    "### Funcionamiento de cross_val_score\n",
    "\n",
    "+ La función `cross_val_score()` ejecuta automáticamente el proceso de entrenamiento y de evaluación del modelo especificado (en este caso `RandomForestClassifier`) utilizando la técnica de **validación cruzada**.\n",
    "+ Para cada una de los 5 folds que hemos definido:\n",
    "    * El modelo es entrenado con los datos de entrenamiento de los otros 4 folds.\n",
    "    * Luego, el modelo se evalúa usando el fold restante (el fold de prueba), y se calcula una métrica de rendimiento, que por defecto es la precisión para los problemas de clasificación.\n",
    "+ Finalmente, `cross_val_score()` devuelve un **array** que contiene la métrica de rendimiento para cada uno de los 5 folds. Esto nos proporciona una estimación muy robusta del rendimiento del modelo, ya que se evalúa en diferentes subconjuntos de datos.\n",
    "\n",
    "Al usar múltiples conjuntos de prueba diferentes, reducimos el riesgo de que el rendimiento estimado del modelo dependa de la particularidad de un único conjunto de prueba.\n",
    "\n",
    "Entonces con `cross_val_score()` ya tienes un método que te permite conocer de antemano qué tan asertivo será un modelo de Machine Learning, antes de aplicarlo en tus datos.\n",
    "\n",
    "Esto es verdaderamente útil, y espero que esta lección haya sido de tu agrado. Vamos juntos a la lección siguiente, para compartirte otro complemento muy interesante."
   ]
  },
  {
   "cell_type": "code",
   "execution_count": null,
   "id": "b64bbd67",
   "metadata": {},
   "outputs": [],
   "source": []
  }
 ],
 "metadata": {
  "kernelspec": {
   "display_name": "Python 3 (ipykernel)",
   "language": "python",
   "name": "python3"
  },
  "language_info": {
   "codemirror_mode": {
    "name": "ipython",
    "version": 3
   },
   "file_extension": ".py",
   "mimetype": "text/x-python",
   "name": "python",
   "nbconvert_exporter": "python",
   "pygments_lexer": "ipython3",
   "version": "3.11.5"
  }
 },
 "nbformat": 4,
 "nbformat_minor": 5
}
