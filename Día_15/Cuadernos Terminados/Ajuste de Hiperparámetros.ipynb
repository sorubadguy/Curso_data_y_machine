{
 "cells": [
  {
   "attachments": {},
   "cell_type": "markdown",
   "id": "e6990470",
   "metadata": {},
   "source": [
    "# Ajuste de Hiperprámetros\n",
    "\n",
    "Bienvenido a otra lección más en este interesante día donde estamos conociendo a **Scikit-Learn** hasta el hueso.\n",
    "\n",
    "Y ahora hablemos de un concepto especial: el **ajuste de hiperparámetros**. ¿qué es esto? Es un paso crítico para optimizar un modelo de **Machine Learning**.\n",
    "\n",
    "\n",
    "### Concepto\n",
    "\n",
    "Primero permíteme explicarte qué es el concepto de **ajuste de hiperparámetros**. Imagínate que estás preparando una comida que nunca habías cocinado antes, y que por la primera vez lo haces siguiendo al pie de la letra una receta que has encontrado en internet. En este caso los hiperparámetros de la receta serían los **ingredientes** y sus cantidades o proporciones.\n",
    "\n",
    "Es probable que la primera vez que cocines este plato, uses los ingredientes *exactamente* como dice la receta. Pero es posible que luego de comer este riquísimo plato, la segunda vez que lo cocines, comiences a **ajustar las proporciones de los ingredientes** para que se adapte a tus preferencias: más pimienta, menos orégano, más tiempo de cocción, y así.\n",
    "\n",
    "En el contexto de la inteligencia artificial, los **hiperparámetros** son las **configuraciones que podemos ajustar** antes de entrenar un modelo para que prediga cosas. Estos hiperparámetros podrían ser cuánto tiempo debe entrenarse un modelo o cuán complejo debería ser.\n",
    "\n",
    "El ajuste de los hiperparámetros busca **encontrar la combinación perfecta** de estos ajustes para que el modelo funcione de la mejor manera posible, es decir, para que haga las mejores predicciones con los datos nuevos que no ha visto antes.\n",
    "\n",
    "\n",
    "### El problema de encontrar la mejor combinación de hiperparámetros\n",
    "\n",
    "Como habrás notado en las lecciones de **Machine Learning**, muchas veces al **configurar un modelo**, cualquiera de ellos, yo lo hacía estableciendo sus parámetros de un modo muy específico. Por ejemplo:\n",
    "\n",
    "```\n",
    "kmeans = KMeans(n_clusters=5,\n",
    "                n_init='warn',\n",
    "                max_iter=300,\n",
    "                verbose=0,\n",
    "                random_state=42)\n",
    "```\n",
    "\n",
    "Puede que tu hayas pensado \"*Cuando yo tenga que configurar mis propios modelos ¿cuántas veces los tengo que poner a prueba antes de encontrar los mejores parámetros?*\". Bueno, eso es lo que vamos a aprender a hacer ahora.\n",
    "\n",
    "\n",
    "### Automatizar la búsqueda de los mejores hiperparámetros\n",
    "\n",
    "Para hacer un ajuste con los mejores hiperparámetros posibles, **Scikit-Learn** nos ofrece una herramienta que se llama `GridSearchCV`, que lo que hace es **probar una serie de configuraciones de hiperparámetros**, de manera automatizada, para encontrar la combinación que produce **el mejor rendimiento**.\n",
    "\n",
    "Lo veamos en un ejemplo. Nuevamente tenemos a nuestro dataset `iris` ya preparado, y hemos instanciado el modelo `RandomForestClassifier` en la variable `modelo`.\n",
    "\n",
    "A los fines prácticos, ya he importado el componente `GridSearchCV` a este ejemplo."
   ]
  },
  {
   "cell_type": "code",
   "execution_count": 1,
   "id": "e564352a",
   "metadata": {},
   "outputs": [],
   "source": [
    "from sklearn.datasets import load_iris\n",
    "from sklearn.ensemble import RandomForestClassifier\n",
    "from sklearn.model_selection import GridSearchCV\n",
    "\n",
    "data = load_iris()\n",
    "X = data.data\n",
    "y = data.target\n",
    "\n",
    "modelo = RandomForestClassifier(random_state=42)"
   ]
  },
  {
   "attachments": {},
   "cell_type": "markdown",
   "id": "7c1e39bb",
   "metadata": {},
   "source": [
    "Ahora yo quiero descubrir **cómo configurar mi modelo** de la mejor manera posible para estos datos.\n",
    "\n",
    "Si busco la ayuda para mi modelo `RandomForestClassifier`, me encuentro con que tiene tantos parámetros, que si me pongo a probar en todas sus combinaciones, me tomaría mucho tiempo descubrir cuáles son los mejores valores para cada parámetro. \n",
    "\n",
    "Entonces aquí es donde entra en acción `GridSearchCV`, para resolver este problema.\n",
    "\n",
    "### Implementación de `GridSearchCV`\n",
    "\n",
    "Comenzaré definiendo una variable llamada `parametros`, que va a contener un **diccionario** con todas las alternativas que quiero probar para los parámetros de `RandomForestClassifier`:"
   ]
  },
  {
   "cell_type": "code",
   "execution_count": 2,
   "id": "0aa32a68",
   "metadata": {},
   "outputs": [],
   "source": [
    "parametros = {\n",
    "    'n_estimators': [50, 100, 200],\n",
    "    'max_features': ['sqrt', 'log2'],\n",
    "    'max_depth': [4, 5, 6, 7, 8],\n",
    "    'criterion': ['gini', 'entropy']\n",
    "}"
   ]
  },
  {
   "attachments": {},
   "cell_type": "markdown",
   "id": "e9e47209",
   "metadata": {},
   "source": [
    "Entonces ahora voy a crear una instancia del objeto `GridSearchCV`, y le voy a pasar estos parámetros:"
   ]
  },
  {
   "cell_type": "code",
   "execution_count": 3,
   "id": "8e25218f",
   "metadata": {},
   "outputs": [],
   "source": [
    "mi_grid_search = GridSearchCV(estimator=modelo,\n",
    "                             param_grid=parametros,\n",
    "                             cv=5,\n",
    "                             scoring=\"accuracy\")"
   ]
  },
  {
   "attachments": {},
   "cell_type": "markdown",
   "id": "abbc1117",
   "metadata": {},
   "source": [
    "Y finalmente voy a ejecutar la búsqueda de hiperparámetros.\n",
    "\n",
    "**Advertencia**: La ejecución de la siguiente celda puede tomar un tiempo más prolongado de lo habitual."
   ]
  },
  {
   "cell_type": "code",
   "execution_count": 4,
   "id": "437a243d",
   "metadata": {},
   "outputs": [
    {
     "data": {
      "text/html": [
       "<style>#sk-container-id-1 {color: black;}#sk-container-id-1 pre{padding: 0;}#sk-container-id-1 div.sk-toggleable {background-color: white;}#sk-container-id-1 label.sk-toggleable__label {cursor: pointer;display: block;width: 100%;margin-bottom: 0;padding: 0.3em;box-sizing: border-box;text-align: center;}#sk-container-id-1 label.sk-toggleable__label-arrow:before {content: \"▸\";float: left;margin-right: 0.25em;color: #696969;}#sk-container-id-1 label.sk-toggleable__label-arrow:hover:before {color: black;}#sk-container-id-1 div.sk-estimator:hover label.sk-toggleable__label-arrow:before {color: black;}#sk-container-id-1 div.sk-toggleable__content {max-height: 0;max-width: 0;overflow: hidden;text-align: left;background-color: #f0f8ff;}#sk-container-id-1 div.sk-toggleable__content pre {margin: 0.2em;color: black;border-radius: 0.25em;background-color: #f0f8ff;}#sk-container-id-1 input.sk-toggleable__control:checked~div.sk-toggleable__content {max-height: 200px;max-width: 100%;overflow: auto;}#sk-container-id-1 input.sk-toggleable__control:checked~label.sk-toggleable__label-arrow:before {content: \"▾\";}#sk-container-id-1 div.sk-estimator input.sk-toggleable__control:checked~label.sk-toggleable__label {background-color: #d4ebff;}#sk-container-id-1 div.sk-label input.sk-toggleable__control:checked~label.sk-toggleable__label {background-color: #d4ebff;}#sk-container-id-1 input.sk-hidden--visually {border: 0;clip: rect(1px 1px 1px 1px);clip: rect(1px, 1px, 1px, 1px);height: 1px;margin: -1px;overflow: hidden;padding: 0;position: absolute;width: 1px;}#sk-container-id-1 div.sk-estimator {font-family: monospace;background-color: #f0f8ff;border: 1px dotted black;border-radius: 0.25em;box-sizing: border-box;margin-bottom: 0.5em;}#sk-container-id-1 div.sk-estimator:hover {background-color: #d4ebff;}#sk-container-id-1 div.sk-parallel-item::after {content: \"\";width: 100%;border-bottom: 1px solid gray;flex-grow: 1;}#sk-container-id-1 div.sk-label:hover label.sk-toggleable__label {background-color: #d4ebff;}#sk-container-id-1 div.sk-serial::before {content: \"\";position: absolute;border-left: 1px solid gray;box-sizing: border-box;top: 0;bottom: 0;left: 50%;z-index: 0;}#sk-container-id-1 div.sk-serial {display: flex;flex-direction: column;align-items: center;background-color: white;padding-right: 0.2em;padding-left: 0.2em;position: relative;}#sk-container-id-1 div.sk-item {position: relative;z-index: 1;}#sk-container-id-1 div.sk-parallel {display: flex;align-items: stretch;justify-content: center;background-color: white;position: relative;}#sk-container-id-1 div.sk-item::before, #sk-container-id-1 div.sk-parallel-item::before {content: \"\";position: absolute;border-left: 1px solid gray;box-sizing: border-box;top: 0;bottom: 0;left: 50%;z-index: -1;}#sk-container-id-1 div.sk-parallel-item {display: flex;flex-direction: column;z-index: 1;position: relative;background-color: white;}#sk-container-id-1 div.sk-parallel-item:first-child::after {align-self: flex-end;width: 50%;}#sk-container-id-1 div.sk-parallel-item:last-child::after {align-self: flex-start;width: 50%;}#sk-container-id-1 div.sk-parallel-item:only-child::after {width: 0;}#sk-container-id-1 div.sk-dashed-wrapped {border: 1px dashed gray;margin: 0 0.4em 0.5em 0.4em;box-sizing: border-box;padding-bottom: 0.4em;background-color: white;}#sk-container-id-1 div.sk-label label {font-family: monospace;font-weight: bold;display: inline-block;line-height: 1.2em;}#sk-container-id-1 div.sk-label-container {text-align: center;}#sk-container-id-1 div.sk-container {/* jupyter's `normalize.less` sets `[hidden] { display: none; }` but bootstrap.min.css set `[hidden] { display: none !important; }` so we also need the `!important` here to be able to override the default hidden behavior on the sphinx rendered scikit-learn.org. See: https://github.com/scikit-learn/scikit-learn/issues/21755 */display: inline-block !important;position: relative;}#sk-container-id-1 div.sk-text-repr-fallback {display: none;}</style><div id=\"sk-container-id-1\" class=\"sk-top-container\"><div class=\"sk-text-repr-fallback\"><pre>GridSearchCV(cv=5, estimator=RandomForestClassifier(random_state=42),\n",
       "             param_grid={&#x27;criterion&#x27;: [&#x27;gini&#x27;, &#x27;entropy&#x27;],\n",
       "                         &#x27;max_depth&#x27;: [4, 5, 6, 7, 8],\n",
       "                         &#x27;max_features&#x27;: [&#x27;sqrt&#x27;, &#x27;log2&#x27;],\n",
       "                         &#x27;n_estimators&#x27;: [50, 100, 200]},\n",
       "             scoring=&#x27;accuracy&#x27;)</pre><b>In a Jupyter environment, please rerun this cell to show the HTML representation or trust the notebook. <br />On GitHub, the HTML representation is unable to render, please try loading this page with nbviewer.org.</b></div><div class=\"sk-container\" hidden><div class=\"sk-item sk-dashed-wrapped\"><div class=\"sk-label-container\"><div class=\"sk-label sk-toggleable\"><input class=\"sk-toggleable__control sk-hidden--visually\" id=\"sk-estimator-id-1\" type=\"checkbox\" ><label for=\"sk-estimator-id-1\" class=\"sk-toggleable__label sk-toggleable__label-arrow\">GridSearchCV</label><div class=\"sk-toggleable__content\"><pre>GridSearchCV(cv=5, estimator=RandomForestClassifier(random_state=42),\n",
       "             param_grid={&#x27;criterion&#x27;: [&#x27;gini&#x27;, &#x27;entropy&#x27;],\n",
       "                         &#x27;max_depth&#x27;: [4, 5, 6, 7, 8],\n",
       "                         &#x27;max_features&#x27;: [&#x27;sqrt&#x27;, &#x27;log2&#x27;],\n",
       "                         &#x27;n_estimators&#x27;: [50, 100, 200]},\n",
       "             scoring=&#x27;accuracy&#x27;)</pre></div></div></div><div class=\"sk-parallel\"><div class=\"sk-parallel-item\"><div class=\"sk-item\"><div class=\"sk-label-container\"><div class=\"sk-label sk-toggleable\"><input class=\"sk-toggleable__control sk-hidden--visually\" id=\"sk-estimator-id-2\" type=\"checkbox\" ><label for=\"sk-estimator-id-2\" class=\"sk-toggleable__label sk-toggleable__label-arrow\">estimator: RandomForestClassifier</label><div class=\"sk-toggleable__content\"><pre>RandomForestClassifier(random_state=42)</pre></div></div></div><div class=\"sk-serial\"><div class=\"sk-item\"><div class=\"sk-estimator sk-toggleable\"><input class=\"sk-toggleable__control sk-hidden--visually\" id=\"sk-estimator-id-3\" type=\"checkbox\" ><label for=\"sk-estimator-id-3\" class=\"sk-toggleable__label sk-toggleable__label-arrow\">RandomForestClassifier</label><div class=\"sk-toggleable__content\"><pre>RandomForestClassifier(random_state=42)</pre></div></div></div></div></div></div></div></div></div></div>"
      ],
      "text/plain": [
       "GridSearchCV(cv=5, estimator=RandomForestClassifier(random_state=42),\n",
       "             param_grid={'criterion': ['gini', 'entropy'],\n",
       "                         'max_depth': [4, 5, 6, 7, 8],\n",
       "                         'max_features': ['sqrt', 'log2'],\n",
       "                         'n_estimators': [50, 100, 200]},\n",
       "             scoring='accuracy')"
      ]
     },
     "execution_count": 4,
     "metadata": {},
     "output_type": "execute_result"
    }
   ],
   "source": [
    "mi_grid_search.fit(X, y)"
   ]
  },
  {
   "attachments": {},
   "cell_type": "markdown",
   "id": "36e6eca7",
   "metadata": {},
   "source": [
    "Ahora nuestro objeto `mi_grid_search` dispone de toda la información de rendimiento de todas las combinaciones de hiperparámetros posibles, por lo que ha llegado la hora de mostrar los **mejores parámetros** y la **mejor puntuación** encontrada."
   ]
  },
  {
   "cell_type": "code",
   "execution_count": 5,
   "id": "5518d7c3",
   "metadata": {},
   "outputs": [
    {
     "name": "stdout",
     "output_type": "stream",
     "text": [
      "Mejores parámetros: {'criterion': 'gini', 'max_depth': 4, 'max_features': 'sqrt', 'n_estimators': 50}\n",
      "Mejor exactitud: 0.9666666666666668\n"
     ]
    }
   ],
   "source": [
    "print(\"Mejores parámetros:\", mi_grid_search.best_params_)\n",
    "print(\"Mejor exactitud:\", mi_grid_search.best_score_)"
   ]
  },
  {
   "attachments": {},
   "cell_type": "markdown",
   "id": "f0cd9ee8",
   "metadata": {},
   "source": [
    "Cabe aclarar que `GridSearchCV` puede ser computacionalmente intensivo, especialmente si lo aplicamos en datasets muy grandes, o si le cargamos un gran número de combinaciones de hiperparámetros. Por eso es importante balancear la amplitud del espacio de búsqueda según los recursos computacionales que tengamos disponibles.\n",
    "\n",
    "Dicho esto, sin duda alguna `GridSearchCV` es un gran aliado que nos brinda una información importantísima para poder configurar nuestros modelos con precisión, por lo que deberíamos tener este recurso siempre a mano a la hora de preparar modelos de **Machine Learning**.\n",
    "\n",
    "El día no se acaba, así que te veo en la siguiente lección."
   ]
  },
  {
   "cell_type": "code",
   "execution_count": null,
   "id": "64a6b383",
   "metadata": {},
   "outputs": [],
   "source": []
  }
 ],
 "metadata": {
  "kernelspec": {
   "display_name": "Python 3 (ipykernel)",
   "language": "python",
   "name": "python3"
  },
  "language_info": {
   "codemirror_mode": {
    "name": "ipython",
    "version": 3
   },
   "file_extension": ".py",
   "mimetype": "text/x-python",
   "name": "python",
   "nbconvert_exporter": "python",
   "pygments_lexer": "ipython3",
   "version": "3.11.5"
  }
 },
 "nbformat": 4,
 "nbformat_minor": 5
}
