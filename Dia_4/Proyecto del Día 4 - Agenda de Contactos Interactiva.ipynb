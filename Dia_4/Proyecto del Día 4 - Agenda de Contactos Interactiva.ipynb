{
 "cells": [
  {
   "cell_type": "markdown",
   "id": "0d153c56",
   "metadata": {},
   "source": [
    "# Proyecto del Día 4: Agenda de Contactos Interactiva\n",
    "\n",
    "### Objetivo\n",
    "Crear una agenda de contactos utilizando Python, aplicando los conceptos aprendidos sobre listas, tuplas, diccionarios, booleanos y estructuras de control.\n",
    "\n",
    "\n",
    "### Consigna\n",
    "Cada vez que inicies tu agenda, va a comenzar preguntándole al usuario cuál de estas opciones prefiere:\n",
    "1. **Añadir un contacto**: Crear un nuevo registro en la agenda (nombre, telefono).\n",
    "2. **Buscar un contacto**: Buscar un contacto por nombre y mostrar su teléfono, o un mensaje de error si no lo encuentra.\n",
    "3. **Editar un contacto**: Modificar teléfono de un contacto existente.\n",
    "4. **Eliminar un contacto**: Eliminar un contacto de la agenda (investiga los métodos disponibles para lograrlo)\n",
    "5. **Mostrar todos los contactos**: Mostrar todos los contactos guardados en la agenda.\n",
    "\n",
    "El usuario elegirá una de esas opciones, y el programa ejecutará el código correspondiente para procesar su pedido y mostrarle el resultado.\n",
    "\n",
    "\n",
    "### Notas y Ayudas\n",
    "- Debido a que vas a almacenar pares de datos (nombre y teléfono) ¿cuál crees que sería la mejor estructura de datos para guardarlos: **listas**, **tuplas** o **diccionarios**?\n",
    "- Algunas de las funcionalidades de tu agenda, pueden requerir que investigues algunos métodos que no hemos visto en las lecciones, pero que podrás descubrir con *type*, *dir* y *help*.\n",
    "<br>  \n",
    "<br>\n",
    "<br>"
   ]
  },
  {
   "cell_type": "markdown",
   "id": "c6c4ab9d",
   "metadata": {},
   "source": [
    "## Resolución"
   ]
  },
  {
   "cell_type": "markdown",
   "id": "cb507a52",
   "metadata": {},
   "source": [
    "Crea una agenda vacía"
   ]
  },
  {
   "cell_type": "code",
   "execution_count": 1,
   "id": "e9c026bd",
   "metadata": {},
   "outputs": [
    {
     "data": {
      "text/plain": [
       "{}"
      ]
     },
     "execution_count": 1,
     "metadata": {},
     "output_type": "execute_result"
    }
   ],
   "source": [
    "agenda = {}\n",
    "agenda"
   ]
  },
  {
   "cell_type": "markdown",
   "id": "be7b6b93",
   "metadata": {},
   "source": [
    "En la siguiente celda, incluye el código para ejecutar las siguientes instrucciones:\n",
    "- Mostrar en pantalla las opciones\n",
    "- Pedirle al usuario que elija las opciones\n",
    "- Crear una estructura de control (*if*, *elif* y *else*) que ejecute diferentes bloques de código según las opciones elegidas."
   ]
  },
  {
   "cell_type": "code",
   "execution_count": null,
   "id": "8fadf823",
   "metadata": {},
   "outputs": [],
   "source": []
  },
  {
   "cell_type": "code",
   "execution_count": 2,
   "id": "45fbcf91",
   "metadata": {},
   "outputs": [
    {
     "name": "stdout",
     "output_type": "stream",
     "text": [
      "Agenda: \n",
      "1- añadir contacto.\n",
      "2- buscar contacto.\n",
      "3- Editar contacto.\n",
      "4- Eliminar un contacto\n",
      "4- mostrar todos los contactos.\n"
     ]
    }
   ],
   "source": [
    "print(\"Agenda: \")\n",
    "print(\"1- añadir contacto.\")\n",
    "print(\"2- buscar contacto.\")\n",
    "print(\"3- Editar contacto.\")\n",
    "print(\"4- Eliminar un contacto\")\n",
    "print(\"4- mostrar todos los contactos.\")\n",
    "opcion = input(\"Ingrese la opcion deseada: \")"
   ]
  },
  {
   "cell_type": "code",
   "execution_count": null,
   "id": "1ddf4bd9",
   "metadata": {},
   "outputs": [],
   "source": [
    "if opcion == \"1\":\n",
    "    agenda[input(\"Ingrese Nombre del nuevo contacto: \")] = input(\"Ingrese el numero del nuevo contacto\")\n",
    "    print(agenda.keys())\n",
    "elif opcion == \"2\":\n",
    "    opcion = input(\"Ingrese el contacto a buscar: \")\n",
    "    if agenda[opcion]:\n",
    "        print(f\"Contacto: {opcion} Telefono: {agenda[opcion]}\")\n",
    "    else:\n",
    "        print(\"El contacto no existe\")\n",
    "elif opcion == \"3\":\n",
    "    opcion = input(\"Ingrese el contacto a editar: \")\n",
    "    if agenda[opcion]:\n",
    "        agenda[opcion] = input(\"Ingrese nuevo telefono: \")\n",
    "        print(f\"{opcion} : {agenda[opcion]}\")\n",
    "    else:\n",
    "        print(\"El contacto no existe\")\n",
    "elif opcion == \"4\":\n",
    "    opcion = input(\"Ingrese el contacto a eliminar: \")\n",
    "    if agenda[opcion]:\n",
    "        agenda.pop(opcion)\n",
    "    else:\n",
    "        print(\"El contacto no existe\")\n",
    "elif opcion == \"5\":\n",
    "    print(agenda)\n",
    "else:\n",
    "    print(\"Opcion incorrecta\")"
   ]
  }
 ],
 "metadata": {
  "kernelspec": {
   "display_name": "Python 3 (ipykernel)",
   "language": "python",
   "name": "python3"
  }
 },
 "nbformat": 4,
 "nbformat_minor": 5
}
