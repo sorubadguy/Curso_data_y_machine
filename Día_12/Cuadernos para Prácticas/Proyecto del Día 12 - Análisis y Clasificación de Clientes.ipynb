{
 "cells": [
  {
   "cell_type": "markdown",
   "id": "3891ae72",
   "metadata": {},
   "source": [
    "# Proyecto del Día 12 - Análisis y Clasificación de Clientes\n",
    "\n",
    "Bienvenido al **Proyecto del Día 12**. Lee atentamente la consigna *¡y a programar!*\n",
    "\n",
    "\n",
    "### Título: Análisis y Clasificación de Clientes para Campañas de Marketing\n",
    "\n",
    "En este proyecto, vas a aplicar técnicas avanzadas de análisis de datos para resolver un problema de clasificación de clientes en un conjunto de datos simulado.\n",
    "\n",
    "El objetivo es identificar distintos segmentos de clientes basados en sus comportamientos de compra y características demográficas para diseñar campañas de marketing más efectivas.\n",
    "\n",
    "\n",
    "### Descripción del Proyecto\n",
    "\n",
    "Este proyecto tiene como objetivo utilizar técnicas de análisis de datos y aprendizaje automático para identificar diferentes segmentos de clientes basados en sus comportamientos de compra y características demográficas. Esto te permitirá desarrollar estrategias de marketing dirigidas y personalizadas. Vas a aplicar métodos de preprocesamiento de datos, reducción de dimensiones, y técnicas de clustering para analizar un conjunto de datos simulado de clientes.\n",
    "\n",
    "\n",
    "### Datos\n",
    "\n",
    "Vas a utilizar un dataset simulado llamado `datos_clientes.csv` que te descargarás en los recursos de esta lección, y que contiene información demográfica y de comportamiento de compra de clientes, como la edad, los ingresos anuales, la puntuación de gasto y la categoría de producto favorito.\n",
    "\n",
    "\n",
    "### Consigna del Proyecto\n",
    "\n",
    "1. **Preprocesamiento de Datos**: Cargar, limpiar y preparar el dataset para el análisis. Esto incluye la normalización de los datos para asegurar que las técnicas de reducción de dimensiones y clustering funcionen correctamente.\n",
    "2. **Reducción de Dimensiones**: Utilizar **PCA** y **SVD** para reducir la cantidad de variables y destacar las características más importantes que influyen en el comportamiento del cliente.\n",
    "3. **Clustering**: Implementar **K-Means** y **Clustering Jerárquico** para segmentar los clientes en grupos basados en similitudes en sus datos. Esto ayudará a identificar patrones y tendencias entre diferentes tipos de clientes.\n",
    "4. **Visualización de Datos**: Crear visualizaciones para interpretar los resultados de las técnicas de reducción de dimensiones y clustering. Esto incluye la creación de **gráficos de dispersión** para los resultados de PCA y la visualización de **dendrogramas** para el Clustering Jerárquico.\n",
    "5. **Interpretación y Estrategias de Marketing**: Analizar los clusters obtenidos y desarrollar propuestas de estrategias de marketing específicas para cada segmento de clientes. Deberás justificar tus estrategias basándote en las características y comportamientos de los grupos identificados.\n",
    "\n",
    "¡Mucha suerte, y que te diviertas!"
   ]
  },
  {
   "cell_type": "markdown",
   "id": "28531fac",
   "metadata": {},
   "source": [
    "## Análisis y Clasificación de Clientes para Campañas de Marketing"
   ]
  },
  {
   "cell_type": "markdown",
   "id": "a56458a6",
   "metadata": {},
   "source": [
    "### 1. Preprocesamiento de Datos"
   ]
  },
  {
   "cell_type": "code",
   "execution_count": 24,
   "id": "80aaa4d7",
   "metadata": {},
   "outputs": [],
   "source": [
    "# Importar librerías\n",
    "import pandas as pd\n",
    "import numpy as np\n",
    "import matplotlib.pyplot as plt\n",
    "import seaborn as sns\n",
    "from sklearn.preprocessing import MinMaxScaler\n",
    "from sklearn.decomposition import PCA\n",
    "from sklearn.cluster import KMeans\n",
    "from scipy.cluster.hierarchy import dendrogram, linkage"
   ]
  },
  {
   "cell_type": "code",
   "execution_count": 25,
   "id": "ff5050b3",
   "metadata": {},
   "outputs": [
    {
     "data": {
      "text/html": [
       "<div>\n",
       "<style scoped>\n",
       "    .dataframe tbody tr th:only-of-type {\n",
       "        vertical-align: middle;\n",
       "    }\n",
       "\n",
       "    .dataframe tbody tr th {\n",
       "        vertical-align: top;\n",
       "    }\n",
       "\n",
       "    .dataframe thead th {\n",
       "        text-align: right;\n",
       "    }\n",
       "</style>\n",
       "<table border=\"1\" class=\"dataframe\">\n",
       "  <thead>\n",
       "    <tr style=\"text-align: right;\">\n",
       "      <th></th>\n",
       "      <th>ID Cliente</th>\n",
       "      <th>Edad</th>\n",
       "      <th>Ingresos Anuales (k$)</th>\n",
       "      <th>Puntuación de Gasto (1-100)</th>\n",
       "      <th>Categoría de Producto Favorito</th>\n",
       "    </tr>\n",
       "  </thead>\n",
       "  <tbody>\n",
       "    <tr>\n",
       "      <th>0</th>\n",
       "      <td>1</td>\n",
       "      <td>56</td>\n",
       "      <td>89</td>\n",
       "      <td>47</td>\n",
       "      <td>Libros</td>\n",
       "    </tr>\n",
       "    <tr>\n",
       "      <th>1</th>\n",
       "      <td>2</td>\n",
       "      <td>69</td>\n",
       "      <td>91</td>\n",
       "      <td>86</td>\n",
       "      <td>Hogar</td>\n",
       "    </tr>\n",
       "    <tr>\n",
       "      <th>2</th>\n",
       "      <td>3</td>\n",
       "      <td>46</td>\n",
       "      <td>46</td>\n",
       "      <td>23</td>\n",
       "      <td>Electrónica</td>\n",
       "    </tr>\n",
       "    <tr>\n",
       "      <th>3</th>\n",
       "      <td>4</td>\n",
       "      <td>32</td>\n",
       "      <td>28</td>\n",
       "      <td>66</td>\n",
       "      <td>Libros</td>\n",
       "    </tr>\n",
       "    <tr>\n",
       "      <th>4</th>\n",
       "      <td>5</td>\n",
       "      <td>60</td>\n",
       "      <td>81</td>\n",
       "      <td>27</td>\n",
       "      <td>Electrónica</td>\n",
       "    </tr>\n",
       "  </tbody>\n",
       "</table>\n",
       "</div>"
      ],
      "text/plain": [
       "   ID Cliente  Edad  Ingresos Anuales (k$)  Puntuación de Gasto (1-100)  \\\n",
       "0           1    56                     89                           47   \n",
       "1           2    69                     91                           86   \n",
       "2           3    46                     46                           23   \n",
       "3           4    32                     28                           66   \n",
       "4           5    60                     81                           27   \n",
       "\n",
       "  Categoría de Producto Favorito  \n",
       "0                         Libros  \n",
       "1                          Hogar  \n",
       "2                    Electrónica  \n",
       "3                         Libros  \n",
       "4                    Electrónica  "
      ]
     },
     "execution_count": 25,
     "metadata": {},
     "output_type": "execute_result"
    }
   ],
   "source": [
    "# Cargar los datos\n",
    "clientes = pd.read_csv('customer_data.csv')\n",
    "clientes.head()"
   ]
  },
  {
   "cell_type": "code",
   "execution_count": 26,
   "id": "bc5330a8",
   "metadata": {},
   "outputs": [
    {
     "data": {
      "text/plain": [
       "ID Cliente                         200\n",
       "Edad                                69\n",
       "Ingresos Anuales (k$)              119\n",
       "Puntuación de Gasto (1-100)         99\n",
       "Categoría de Producto Favorito    Ropa\n",
       "dtype: object"
      ]
     },
     "execution_count": 26,
     "metadata": {},
     "output_type": "execute_result"
    }
   ],
   "source": [
    "clientes.max()"
   ]
  },
  {
   "cell_type": "code",
   "execution_count": 27,
   "id": "f0083699",
   "metadata": {},
   "outputs": [
    {
     "data": {
      "text/plain": [
       "ID Cliente                                1\n",
       "Edad                                     18\n",
       "Ingresos Anuales (k$)                    20\n",
       "Puntuación de Gasto (1-100)               1\n",
       "Categoría de Producto Favorito    Alimentos\n",
       "dtype: object"
      ]
     },
     "execution_count": 27,
     "metadata": {},
     "output_type": "execute_result"
    }
   ],
   "source": [
    "clientes.min()"
   ]
  },
  {
   "cell_type": "code",
   "execution_count": 28,
   "id": "78abbec2",
   "metadata": {},
   "outputs": [
    {
     "name": "stdout",
     "output_type": "stream",
     "text": [
      "<class 'pandas.core.frame.DataFrame'>\n",
      "RangeIndex: 200 entries, 0 to 199\n",
      "Data columns (total 5 columns):\n",
      " #   Column                          Non-Null Count  Dtype \n",
      "---  ------                          --------------  ----- \n",
      " 0   ID Cliente                      200 non-null    int64 \n",
      " 1   Edad                            200 non-null    int64 \n",
      " 2   Ingresos Anuales (k$)           200 non-null    int64 \n",
      " 3   Puntuación de Gasto (1-100)     200 non-null    int64 \n",
      " 4   Categoría de Producto Favorito  200 non-null    object\n",
      "dtypes: int64(4), object(1)\n",
      "memory usage: 7.9+ KB\n"
     ]
    }
   ],
   "source": [
    "# Ver información básica del dataset\n",
    "clientes.info()"
   ]
  },
  {
   "cell_type": "code",
   "execution_count": 29,
   "id": "ea31c4f9",
   "metadata": {},
   "outputs": [
    {
     "name": "stdout",
     "output_type": "stream",
     "text": [
      "Edad promedio: 43.425\n",
      "Ingresos promedio: 69.58\n",
      "Puntuación promedio: 49.91\n"
     ]
    },
    {
     "data": {
      "text/plain": [
       "<Axes: xlabel='Edad', ylabel='Ingresos Anuales (k$)'>"
      ]
     },
     "execution_count": 29,
     "metadata": {},
     "output_type": "execute_result"
    },
    {
     "data": {
      "image/png": "[encoded data removed]",
      "text/plain": [
       "<Figure size 640x480 with 1 Axes>"
      ]
     },
     "metadata": {},
     "output_type": "display_data"
    }
   ],
   "source": [
    "# Ver la descripción de las estadísticas básicas del dataset\n",
    "edad_promedio = clientes['Edad'].mean()\n",
    "ingresos_promedio = clientes['Ingresos Anuales (k$)'].mean()\n",
    "puntuacion_promedio = clientes['Puntuación de Gasto (1-100)'].mean()\n",
    "print(\"Edad promedio:\", edad_promedio)\n",
    "print(\"Ingresos promedio:\", ingresos_promedio)\n",
    "print(\"Puntuación promedio:\", puntuacion_promedio)\n",
    "sns.lineplot(x='Edad', y='Ingresos Anuales (k$)', data=clientes)"
   ]
  },
  {
   "cell_type": "code",
   "execution_count": 30,
   "id": "566641bc",
   "metadata": {},
   "outputs": [],
   "source": [
    "# Normalizar los datos\n",
    "clientes['Edad'] = clientes['Edad'] / 100\n",
    "clientes['Ingresos Anuales (k$)'] = clientes['Ingresos Anuales (k$)'] / 1000\n",
    "clientes['Puntuación de Gasto (1-100)'] = clientes['Puntuación de Gasto (1-100)'] / 100"
   ]
  },
  {
   "cell_type": "code",
   "execution_count": 31,
   "id": "7a5fae8b",
   "metadata": {},
   "outputs": [
    {
     "name": "stdout",
     "output_type": "stream",
     "text": [
      "ID Cliente                          200\n",
      "Edad                               0.69\n",
      "Ingresos Anuales (k$)             0.119\n",
      "Puntuación de Gasto (1-100)        0.99\n",
      "Categoría de Producto Favorito     Ropa\n",
      "dtype: object \n",
      "\n",
      "ID Cliente                                1\n",
      "Edad                                   0.18\n",
      "Ingresos Anuales (k$)                  0.02\n",
      "Puntuación de Gasto (1-100)            0.01\n",
      "Categoría de Producto Favorito    Alimentos\n",
      "dtype: object\n"
     ]
    }
   ],
   "source": [
    "print(f\"{clientes.max()} \\n\")\n",
    "print(clientes.min())"
   ]
  },
  {
   "cell_type": "markdown",
   "id": "f4b1ab25",
   "metadata": {},
   "source": [
    "### 2. Reducción de Dimensiones: PCA y SVD"
   ]
  },
  {
   "cell_type": "code",
   "execution_count": null,
   "id": "1293a477",
   "metadata": {},
   "outputs": [],
   "source": [
    "# Aplicar PCA\n"
   ]
  },
  {
   "cell_type": "code",
   "execution_count": 33,
   "id": "fd931af1",
   "metadata": {},
   "outputs": [],
   "source": [
    "# Aplicar SVD"
   ]
  },
  {
   "cell_type": "code",
   "execution_count": 34,
   "id": "3baed16c",
   "metadata": {},
   "outputs": [],
   "source": [
    "# Seleccionar los dos primeros componentes singulares para reducción de dimensiones"
   ]
  },
  {
   "cell_type": "markdown",
   "id": "18a5865c",
   "metadata": {},
   "source": [
    "### 3. Clustering: K-Means y Clustering Jerárquico"
   ]
  },
  {
   "cell_type": "code",
   "execution_count": 35,
   "id": "7d9a3533",
   "metadata": {},
   "outputs": [],
   "source": [
    "# Aplicar K-Means"
   ]
  },
  {
   "cell_type": "code",
   "execution_count": 36,
   "id": "b8d41ef0",
   "metadata": {},
   "outputs": [],
   "source": [
    "# Aplicar Clustering Jerárquico"
   ]
  },
  {
   "cell_type": "markdown",
   "id": "c562a49d",
   "metadata": {},
   "source": [
    "### 4. Visualización de Datos"
   ]
  },
  {
   "cell_type": "code",
   "execution_count": 37,
   "id": "994f3428",
   "metadata": {},
   "outputs": [],
   "source": [
    "# Crear un gráfico de dispersión para los resultados de PCA"
   ]
  },
  {
   "cell_type": "code",
   "execution_count": 38,
   "id": "678fce19",
   "metadata": {},
   "outputs": [],
   "source": [
    "# Crear un dendrograma del clústering jerárquico"
   ]
  },
  {
   "cell_type": "markdown",
   "id": "8360bb3c",
   "metadata": {},
   "source": [
    "### 5. Interpretación y Estrategias de Marketing basadas en los Clusters"
   ]
  },
  {
   "cell_type": "code",
   "execution_count": 39,
   "id": "e5db89bb",
   "metadata": {},
   "outputs": [],
   "source": [
    "# Escribe un loop que te permita mostrar los datos básicos de los diferentes clusters, como:\n",
    "## su edad media\n",
    "## sus ingresos medios\n",
    "## su puntuación de gastos media"
   ]
  },
  {
   "cell_type": "code",
   "execution_count": 40,
   "id": "2296f3d1",
   "metadata": {},
   "outputs": [],
   "source": [
    "# Redacta una propuesta de estrategia de marketing para los diferentes clusters"
   ]
  }
 ],
 "metadata": {
  "kernelspec": {
   "display_name": "venv",
   "language": "python",
   "name": "python3"
  },
  "language_info": {
   "codemirror_mode": {
    "name": "ipython",
    "version": 3
   },
   "file_extension": ".py",
   "mimetype": "text/x-python",
   "name": "python",
   "nbconvert_exporter": "python",
   "pygments_lexer": "ipython3",
   "version": "3.10.0"
  }
 },
 "nbformat": 4,
 "nbformat_minor": 5
}
