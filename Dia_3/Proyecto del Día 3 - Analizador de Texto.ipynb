{
 "cells": [
  {
   "cell_type": "markdown",
   "id": "9572445f",
   "metadata": {},
   "source": [
    "# Proyecto del Día 3: Analizador de Texto\n",
    "\n",
    "Este proyecto tiene como objetivo aplicar los conceptos aprendidos sobre strings, input, indexación y formateo de strings en Python. El programa permitirá al usuario ingresar un texto y luego elegir realizar diversas operaciones de análisis sobre ese texto.\n",
    "\n",
    "## Consigna\n",
    "Vas a crear un programa que le pida al usuario que ingrese un texto de al menos 10 palabras. Tu programa va a procesar ese texto, lo va a procesar, y le va a devolver un análisis detallado, que incluya:\n",
    "1. Contar el número total de caracteres en el texto\n",
    "2. Contar el número de caracteres sin incluir los espacios\n",
    "3. Contar la cantidad de vocales que hay en el texto\n",
    "4. Contar el número total de palabras en el texto ingresado\n",
    "\n",
    "**nota**: para resolver los siguientes items, deberás investigar otros métodos de strings que no hemos visto. Recuerda valerte de *type*, *dir* y *help*\n",
    "\n",
    "5. Eliminar la primera palabra\n",
    "6. Reemplazar todos los espacios por guiones medios (-)\n",
    "8. Cambia las mayúsculas a minúsculas y las minúsculas a mayúsculas \n",
    "\n",
    "Al finalizar el procesamiento, se imprimirán 8 cadenas literales mostrando los resultados del análisis (una cadena por cada resultado).\n",
    "<br>\n",
    "<br>\n",
    "<br>"
   ]
  },
  {
   "cell_type": "markdown",
   "id": "e5cd9e4d",
   "metadata": {},
   "source": [
    "### Resolución\n",
    "\n",
    "Ingreso del usuario:"
   ]
  },
  {
   "cell_type": "code",
   "execution_count": 1,
   "id": "fa27da8c",
   "metadata": {},
   "outputs": [
    {
     "name": "stdin",
     "output_type": "stream",
     "text": [
      "Ingrese un texto de al menos 10 palabras Habia una vaca vaquera del lejano oeste\n"
     ]
    },
    {
     "data": {
      "text/plain": [
       "'Habia una vaca vaquera del lejano oeste'"
      ]
     },
     "execution_count": 1,
     "metadata": {},
     "output_type": "execute_result"
    }
   ],
   "source": [
    "texto = input(\"Ingrese un texto de al menos 10 palabras\")\n",
    "texto"
   ]
  },
  {
   "cell_type": "markdown",
   "id": "41214377",
   "metadata": {},
   "source": [
    "1. Contar el número total de caracteres en el texto"
   ]
  },
  {
   "cell_type": "code",
   "execution_count": 2,
   "id": "40448873",
   "metadata": {},
   "outputs": [
    {
     "data": {
      "text/plain": [
       "39"
      ]
     },
     "execution_count": 2,
     "metadata": {},
     "output_type": "execute_result"
    }
   ],
   "source": [
    "caracteres = len(texto)\n",
    "caracteres"
   ]
  },
  {
   "cell_type": "markdown",
   "id": "3d6378dc",
   "metadata": {},
   "source": [
    "2. Contar el número de caracteres sin incluir los espacios"
   ]
  },
  {
   "cell_type": "code",
   "execution_count": 3,
   "id": "991b29c7",
   "metadata": {},
   "outputs": [
    {
     "data": {
      "text/plain": [
       "33"
      ]
     },
     "execution_count": 3,
     "metadata": {},
     "output_type": "execute_result"
    }
   ],
   "source": [
    "sin_espacios = caracteres - texto.count(\" \")\n",
    "sin_espacios"
   ]
  },
  {
   "cell_type": "markdown",
   "id": "c6e62385",
   "metadata": {},
   "source": [
    "3. Contar la cantidad de vocales que hay en el texto"
   ]
  },
  {
   "cell_type": "code",
   "execution_count": 4,
   "id": "65b19bc7",
   "metadata": {},
   "outputs": [
    {
     "data": {
      "text/plain": [
       "18"
      ]
     },
     "execution_count": 4,
     "metadata": {},
     "output_type": "execute_result"
    }
   ],
   "source": [
    "vocales = texto.count(\"a\") + texto.count(\"e\") + texto.count(\"i\") + texto.count(\"o\") + texto.count(\"u\")\n",
    "vocales"
   ]
  },
  {
   "cell_type": "markdown",
   "id": "4b6211c5",
   "metadata": {},
   "source": [
    "4. Contar el número total de palabras en el texto ingresado"
   ]
  },
  {
   "cell_type": "code",
   "execution_count": 5,
   "id": "5b6eb1b1",
   "metadata": {},
   "outputs": [
    {
     "data": {
      "text/plain": [
       "7"
      ]
     },
     "execution_count": 5,
     "metadata": {},
     "output_type": "execute_result"
    }
   ],
   "source": [
    "palabras = texto.strip().count(\" \") + 1\n",
    "palabras"
   ]
  },
  {
   "cell_type": "markdown",
   "id": "bee5597e",
   "metadata": {},
   "source": [
    "5. Eliminar la primera palabra"
   ]
  },
  {
   "cell_type": "code",
   "execution_count": 12,
   "id": "8bcbfe9d",
   "metadata": {},
   "outputs": [
    {
     "data": {
      "text/plain": [
       "'oeste'"
      ]
     },
     "execution_count": 12,
     "metadata": {},
     "output_type": "execute_result"
    }
   ],
   "source": [
    "sin_primera_lista = texto.split()\n",
    "sin_primera_lista.pop(0)\n",
    "for p in sin_primera_lista:\n",
    "    sin_primera = sin_pp\n",
    "sin_primera"
   ]
  },
  {
   "cell_type": "markdown",
   "id": "d5b05440",
   "metadata": {},
   "source": [
    "6. Reemplazar todos los espacios por guiones medios (-)"
   ]
  },
  {
   "cell_type": "code",
   "execution_count": 7,
   "id": "90a21e61",
   "metadata": {},
   "outputs": [],
   "source": [
    "espacios_por_guiones = texto.replace(\" \", \"-\")"
   ]
  },
  {
   "cell_type": "markdown",
   "id": "8a61c508",
   "metadata": {},
   "source": [
    "7. Cambia las mayúsculas a minúsculas y las minúsculas a mayúsculas"
   ]
  },
  {
   "cell_type": "code",
   "execution_count": 8,
   "id": "8cb35aaf",
   "metadata": {},
   "outputs": [
    {
     "data": {
      "text/plain": [
       "'hABIA UNA VACA VAQUERA DEL LEJANO OESTE'"
      ]
     },
     "execution_count": 8,
     "metadata": {},
     "output_type": "execute_result"
    }
   ],
   "source": [
    "invertido = texto.swapcase()"
   ]
  },
  {
   "cell_type": "markdown",
   "id": "66b8d816",
   "metadata": {},
   "source": [
    "Muéstrale al usuario los resultados del análisis de su texto."
   ]
  },
  {
   "cell_type": "code",
   "execution_count": null,
   "id": "eb0d449a",
   "metadata": {},
   "outputs": [],
   "source": [
    "print(f\"Texto ingresado: {texto}\")\n",
    "print(f\"tiene un total de {caracteres} caracteres incluidos los espacios, y {sin_espacios} de caracteres sin espacios\")\n",
    "print(f\"cuenta con un total de {vocales} vocales\")\n",
    "print(f\"cuenta con {palabras} palabras\")\n",
    "print(f\"sin la primera palabra quedaria {sin_primera}\")"
   ]
  }
 ],
 "metadata": {
  "kernelspec": {
   "display_name": "Python 3 (ipykernel)",
   "language": "python",
   "name": "python3"
  },
  "language_info": {
   "codemirror_mode": {
    "name": "ipython",
    "version": 3
   },
   "file_extension": ".py",
   "mimetype": "text/x-python",
   "name": "python",
   "nbconvert_exporter": "python",
   "pygments_lexer": "ipython3",
   "version": "3.11.9"
  }
 },
 "nbformat": 4,
 "nbformat_minor": 5
}
