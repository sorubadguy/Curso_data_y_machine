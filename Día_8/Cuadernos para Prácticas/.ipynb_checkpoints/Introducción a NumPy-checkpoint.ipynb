{
 "cells": [
  {
   "cell_type": "markdown",
   "id": "844a649d",
   "metadata": {},
   "source": [
    "# Introducción a NumPy\n",
    "\n",
    "**¿Qué es NumPy?**\n",
    "* NumPy es una biblioteca para el lenguaje de programación Python, que soporta la creación y manipulación de arrays y matrices multidimensionales.\n",
    "* Es una abreviatura de \"Numerical Python\".\n",
    "\n",
    "**Importancia de NumPy en Data Science**\n",
    "* Eficiencia en operaciones numéricas y manipulación de datos.\n",
    "* Facilita la realización de cálculos matemáticos complejos\n",
    "* Ampliamente utilizado para tareas de análisis de datos, debido a su velocidad y recursos de memoria optimizados.\n",
    "\n",
    "**Importación de NumPy**\n",
    "* NumPyse se importa a nuestros cuadernos con el comando `import numpy as np`"
   ]
  },
  {
   "cell_type": "code",
   "execution_count": null,
   "id": "d97a5a17",
   "metadata": {},
   "outputs": [],
   "source": []
  }
 ],
 "metadata": {
  "kernelspec": {
   "display_name": "Python 3 (ipykernel)",
   "language": "python",
   "name": "python3"
  },
  "language_info": {
   "codemirror_mode": {
    "name": "ipython",
    "version": 3
   },
   "file_extension": ".py",
   "mimetype": "text/x-python",
   "name": "python",
   "nbconvert_exporter": "python",
   "pygments_lexer": "ipython3",
   "version": "3.11.5"
  }
 },
 "nbformat": 4,
 "nbformat_minor": 5
}
