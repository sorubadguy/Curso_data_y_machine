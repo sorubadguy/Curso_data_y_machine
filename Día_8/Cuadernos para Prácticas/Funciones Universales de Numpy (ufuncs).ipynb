{
 "cells": [
  {
   "attachments": {},
   "cell_type": "markdown",
   "id": "c239f55b",
   "metadata": {},
   "source": [
    "# Funciones Universales de NumPy (ufuncs)\n",
    "\n",
    "A continuación quiero dejarte un listado de las **Funciones Universales** de NumPy más comunes, **agrupadas por categorías**.\n",
    "\n",
    "Este listado no es exhaustivo ya que existe una gran cantidad, y creo que no sería practico incluir aquí algunas funciones que son tan específicas que harían que esta tabla deje de ser práctica para ti.\n",
    "\n",
    "En caso de que quieras conocer la lista completa, puedes hacerlo visitando [este enlace](https://numpy.org/doc/stable/reference/ufuncs.html) hacia la documentación oficial de NumPy (sólo disponible en inglés)."
   ]
  },
  {
   "cell_type": "markdown",
   "id": "05c0f49e",
   "metadata": {},
   "source": [
    "| Categoría                | Función       | Descripción Breve                                               |\n",
    "|--------------------------|---------------|-----------------------------------------------------------------|\n",
    "| **Aritméticas**          | `add`         | Suma elemento a elemento de dos arrays.                         |\n",
    "|                          | `subtract`    | Resta elemento a elemento de dos arrays.                        |\n",
    "|                          | `multiply`    | Multiplica elemento a elemento de dos arrays.                   |\n",
    "|                          | `divide`      | Divide elemento a elemento de dos arrays.                       |\n",
    "|                          | `negative`    | Cambia el signo a los elementos de un array.                    |\n",
    "|                          | `power`       | Eleva los elementos de un array a las potencias de otro array.  |\n",
    "|                          | `mod`         | Calcula el módulo elemento a elemento entre dos arrays.         |\n",
    "| **Trigonométricas**      | `sin`         | Seno de los elementos del array.                                |\n",
    "|                          | `cos`         | Coseno de los elementos del array.                              |\n",
    "|                          | `tan`         | Tangente de los elementos del array.                            |\n",
    "|                          | `arcsin`      | Arcoseno de los elementos del array.                            |\n",
    "|                          | `arccos`      | Arcocoseno de los elementos del array.                          |\n",
    "|                          | `arctan`      | Arcotangente de los elementos del array.                        |\n",
    "| **Hiperbólicas**         | `sinh`        | Seno hiperbólico de los elementos del array.                    |\n",
    "|                          | `cosh`        | Coseno hiperbólico de los elementos del array.                  |\n",
    "|                          | `tanh`        | Tangente hiperbólica de los elementos del array.                |\n",
    "|                          | `arcsinh`     | Arcoseno hiperbólico de los elementos del array.                |\n",
    "|                          | `arccosh`     | Arcocoseno hiperbólico de los elementos del array.              |\n",
    "|                          | `arctanh`     | Arcotangente hiperbólica de los elementos del array.            |\n",
    "| **Exponencial y Logaritmo** | `exp`      | Exponencial de los elementos del array.                         |\n",
    "|                          | `log`         | Logaritmo natural de los elementos del array.                   |\n",
    "|                          | `log2`        | Logaritmo base 2 de los elementos del array.                    |\n",
    "|                          | `log10`       | Logaritmo base 10 de los elementos del array.                   |\n",
    "|                          | `expm1`       | `exp(x) - 1` para todos los elementos del array.                |\n",
    "|                          | `log1p`       | `log(1 + x)` para todos los elementos del array.                |\n",
    "| **Estadísticas**         | `sum`         | Suma de elementos en el array.                                  |\n",
    "|                          | `prod`        | Producto de elementos en el array.                              |\n",
    "|                          | `mean`        | Media de elementos en el array.                                 |\n",
    "|                          | `std`         | Desviación estándar de los elementos del array.                 |\n",
    "|                          | `var`         | Varianza de los elementos en el array.                          |\n",
    "|                          | `min`         | Mínimo de los elementos del array.                              |\n",
    "|                          | `max`         | Máximo de los elementos del array.                              |\n",
    "| **Comparación**          | `greater`     | Comparación elemento a elemento (mayor que) entre dos arrays.   |\n",
    "|                          | `less`        | Comparación elemento a elemento (menor que) entre dos arrays.   |\n",
    "|                          | `equal`       | Comparación elemento a elemento (igual) entre dos arrays.       |\n",
    "|                          | `not_equal`   | Comparación elemento a elemento (no igual) entre dos arrays.    |\n",
    "|                          | `greater_equal` | Comparación elemento a elemento (mayor o igual) entre dos arrays. |\n",
    "|                          | `less_equal`  | Comparación elemento a elemento (menor o igual) entre dos arrays. |\n"
   ]
  },
  {
   "cell_type": "code",
   "execution_count": null,
   "id": "d94a6b4e",
   "metadata": {},
   "outputs": [],
   "source": []
  }
 ],
 "metadata": {
  "kernelspec": {
   "display_name": "Python 3 (ipykernel)",
   "language": "python",
   "name": "python3"
  },
  "language_info": {
   "codemirror_mode": {
    "name": "ipython",
    "version": 3
   },
   "file_extension": ".py",
   "mimetype": "text/x-python",
   "name": "python",
   "nbconvert_exporter": "python",
   "pygments_lexer": "ipython3",
   "version": "3.11.5"
  }
 },
 "nbformat": 4,
 "nbformat_minor": 5
}
