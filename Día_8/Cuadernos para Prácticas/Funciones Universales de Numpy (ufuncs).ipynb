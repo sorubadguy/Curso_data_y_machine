{
 "cells": [
  {
   "attachments": {},
   "cell_type": "markdown",
   "id": "c239f55b",
   "metadata": {},
   "source": [
    "# Funciones Universales de NumPy (ufuncs)\n",
    "\n",
    "A continuación quiero dejarte un listado de las **Funciones Universales** de NumPy más comunes, **agrupadas por categorías**.\n",
    "\n",
    "Este listado no es exhaustivo ya que existe una gran cantidad, y creo que no sería practico incluir aquí algunas funciones que son tan específicas que harían que esta tabla deje de ser práctica para ti.\n",
    "\n",
    "En caso de que quieras conocer la lista completa, puedes hacerlo visitando [este enlace](https://numpy.org/doc/stable/reference/ufuncs.html) hacia la documentación oficial de NumPy (sólo disponible en inglés)."
   ]
  },
  {
   "cell_type": "markdown",
   "id": "05c0f49e",
   "metadata": {},
   "source": [
    "| Categoría                | Función       | Descripción Breve                                               |\n",
    "|--------------------------|---------------|-----------------------------------------------------------------|\n",
    "| **Aritméticas**          | `add`         | Suma elemento a elemento de dos arrays.                         |\n",
    "|                          | `subtract`    | Resta elemento a elemento de dos arrays.                        |\n",
    "|                          | `multiply`    | Multiplica elemento a elemento de dos arrays.                   |\n",
    "|                          | `divide`      | Divide elemento a elemento de dos arrays.                       |\n",
    "|                          | `negative`    | Cambia el signo a los elementos de un array.                    |\n",
    "|                          | `power`       | Eleva los elementos de un array a las potencias de otro array.  |\n",
    "|                          | `mod`         | Calcula el módulo elemento a elemento entre dos arrays.         |\n",
    "| **Trigonométricas**      | `sin`         | Seno de los elementos del array.                                |\n",
    "|                          | `cos`         | Coseno de los elementos del array.                              |\n",
    "|                          | `tan`         | Tangente de los elementos del array.                            |\n",
    "|                          | `arcsin`      | Arcoseno de los elementos del array.                            |\n",
    "|                          | `arccos`      | Arcocoseno de los elementos del array.                          |\n",
    "|                          | `arctan`      | Arcotangente de los elementos del array.                        |\n",
    "| **Hiperbólicas**         | `sinh`        | Seno hiperbólico de los elementos del array.                    |\n",
    "|                          | `cosh`        | Coseno hiperbólico de los elementos del array.                  |\n",
    "|                          | `tanh`        | Tangente hiperbólica de los elementos del array.                |\n",
    "|                          | `arcsinh`     | Arcoseno hiperbólico de los elementos del array.                |\n",
    "|                          | `arccosh`     | Arcocoseno hiperbólico de los elementos del array.              |\n",
    "|                          | `arctanh`     | Arcotangente hiperbólica de los elementos del array.            |\n",
    "| **Exponencial y Logaritmo** | `exp`      | Exponencial de los elementos del array.                         |\n",
    "|                          | `log`         | Logaritmo natural de los elementos del array.                   |\n",
    "|                          | `log2`        | Logaritmo base 2 de los elementos del array.                    |\n",
    "|                          | `log10`       | Logaritmo base 10 de los elementos del array.                   |\n",
    "|                          | `expm1`       | `exp(x) - 1` para todos los elementos del array.                |\n",
    "|                          | `log1p`       | `log(1 + x)` para todos los elementos del array.                |\n",
    "| **Estadísticas**         | `sum`         | Suma de elementos en el array.                                  |\n",
    "|                          | `prod`        | Producto de elementos en el array.                              |\n",
    "|                          | `mean`        | Media de elementos en el array.                                 |\n",
    "|                          | `std`         | Desviación estándar de los elementos del array.                 |\n",
    "|                          | `var`         | Varianza de los elementos en el array.                          |\n",
    "|                          | `min`         | Mínimo de los elementos del array.                              |\n",
    "|                          | `max`         | Máximo de los elementos del array.                              |\n",
    "| **Comparación**          | `greater`     | Comparación elemento a elemento (mayor que) entre dos arrays.   |\n",
    "|                          | `less`        | Comparación elemento a elemento (menor que) entre dos arrays.   |\n",
    "|                          | `equal`       | Comparación elemento a elemento (igual) entre dos arrays.       |\n",
    "|                          | `not_equal`   | Comparación elemento a elemento (no igual) entre dos arrays.    |\n",
    "|                          | `greater_equal` | Comparación elemento a elemento (mayor o igual) entre dos arrays. |\n",
    "|                          | `less_equal`  | Comparación elemento a elemento (menor o igual) entre dos arrays. |\n"
   ]
  },
  {
   "cell_type": "code",
   "execution_count": 1,
   "id": "d94a6b4e",
   "metadata": {},
   "outputs": [],
   "source": [
    "import numpy as np"
   ]
  },
  {
   "cell_type": "code",
   "execution_count": 2,
   "id": "8b411e7e",
   "metadata": {},
   "outputs": [
    {
     "data": {
      "text/plain": [
       "array([1, 3, 5, 7, 9])"
      ]
     },
     "execution_count": 2,
     "metadata": {},
     "output_type": "execute_result"
    }
   ],
   "source": [
    "A = np.array(range(1, 11,2))\n",
    "A"
   ]
  },
  {
   "cell_type": "code",
   "execution_count": 7,
   "id": "778aeb5d",
   "metadata": {},
   "outputs": [
    {
     "data": {
      "text/plain": [
       "array([[10],\n",
       "       [20],\n",
       "       [30],\n",
       "       [40],\n",
       "       [50]])"
      ]
     },
     "execution_count": 7,
     "metadata": {},
     "output_type": "execute_result"
    }
   ],
   "source": [
    "B = (np.array(range(1,len(A)+1)) * 10).reshape(5,1)\n",
    "B"
   ]
  },
  {
   "cell_type": "code",
   "execution_count": 8,
   "id": "af3d78d5",
   "metadata": {},
   "outputs": [
    {
     "data": {
      "text/plain": [
       "array([[11, 13, 15, 17, 19],\n",
       "       [21, 23, 25, 27, 29],\n",
       "       [31, 33, 35, 37, 39],\n",
       "       [41, 43, 45, 47, 49],\n",
       "       [51, 53, 55, 57, 59]])"
      ]
     },
     "execution_count": 8,
     "metadata": {},
     "output_type": "execute_result"
    }
   ],
   "source": [
    "resultado = np.add(A,B)\n",
    "resultado"
   ]
  },
  {
   "cell_type": "code",
   "execution_count": 9,
   "id": "07d947a0",
   "metadata": {},
   "outputs": [
    {
     "data": {
      "text/plain": [
       "array([ 1,  2,  3,  4,  5,  6,  7,  8,  9, 10])"
      ]
     },
     "execution_count": 9,
     "metadata": {},
     "output_type": "execute_result"
    }
   ],
   "source": [
    "C = np.array(range(1,11))\n",
    "C"
   ]
  },
  {
   "cell_type": "code",
   "execution_count": 10,
   "id": "89ade5e5",
   "metadata": {},
   "outputs": [
    {
     "data": {
      "text/plain": [
       "array([ 10,  20,  30,  40,  50,  60,  70,  80,  90, 100])"
      ]
     },
     "execution_count": 10,
     "metadata": {},
     "output_type": "execute_result"
    }
   ],
   "source": [
    "D = (np.array(range(1, len(C)+1))) * 10\n",
    "D"
   ]
  },
  {
   "cell_type": "code",
   "execution_count": 11,
   "id": "646510e3",
   "metadata": {},
   "outputs": [
    {
     "data": {
      "text/plain": [
       "array([  10,   40,   90,  160,  250,  360,  490,  640,  810, 1000])"
      ]
     },
     "execution_count": 11,
     "metadata": {},
     "output_type": "execute_result"
    }
   ],
   "source": [
    "resultado2 = np.multiply(C,D)\n",
    "resultado2"
   ]
  },
  {
   "cell_type": "code",
   "execution_count": null,
   "id": "d2f99a82",
   "metadata": {},
   "outputs": [],
   "source": []
  }
 ],
 "metadata": {
  "kernelspec": {
   "display_name": "Python 3 (ipykernel)",
   "language": "python",
   "name": "python3"
  },
  "language_info": {
   "codemirror_mode": {
    "name": "ipython",
    "version": 3
   },
   "file_extension": ".py",
   "mimetype": "text/x-python",
   "name": "python",
   "nbconvert_exporter": "python",
   "pygments_lexer": "ipython3",
   "version": "3.11.9"
  }
 },
 "nbformat": 4,
 "nbformat_minor": 5
}
