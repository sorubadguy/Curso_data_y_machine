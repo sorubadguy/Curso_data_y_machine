{
 "cells": [
  {
   "cell_type": "markdown",
   "id": "844a649d",
   "metadata": {},
   "source": [
    "# Introducción a NumPy\n",
    "\n",
    "**¿Qué es NumPy?**\n",
    "* NumPy es una biblioteca para el lenguaje de programación Python, que soporta la creación y manipulación de arrays y matrices multidimensionales.\n",
    "* Es una abreviatura de \"Numerical Python\".\n",
    "\n",
    "**Importancia de NumPy en Data Science**\n",
    "* Eficiencia en operaciones numéricas y manipulación de datos.\n",
    "* Facilita la realización de cálculos matemáticos complejos\n",
    "* Ampliamente utilizado para tareas de análisis de datos, debido a su velocidad y recursos de memoria optimizados.\n",
    "\n",
    "**Importación de NumPy**\n",
    "* NumPyse se importa a nuestros cuadernos con el comando `import numpy as np`"
   ]
  },
  {
   "cell_type": "code",
   "execution_count": 1,
   "id": "d97a5a17",
   "metadata": {},
   "outputs": [],
   "source": [
    "import numpy as np\n",
    "import pandas as pd"
   ]
  },
  {
   "cell_type": "code",
   "execution_count": 3,
   "id": "ab3b3ea6-502a-41be-b0b2-6c3912e34f52",
   "metadata": {},
   "outputs": [
    {
     "data": {
      "text/html": [
       "<div>\n",
       "<style scoped>\n",
       "    .dataframe tbody tr th:only-of-type {\n",
       "        vertical-align: middle;\n",
       "    }\n",
       "\n",
       "    .dataframe tbody tr th {\n",
       "        vertical-align: top;\n",
       "    }\n",
       "\n",
       "    .dataframe thead th {\n",
       "        text-align: right;\n",
       "    }\n",
       "</style>\n",
       "<table border=\"1\" class=\"dataframe\">\n",
       "  <thead>\n",
       "    <tr style=\"text-align: right;\">\n",
       "      <th></th>\n",
       "      <th>Ciudad</th>\n",
       "      <th>País</th>\n",
       "      <th>Población</th>\n",
       "      <th>Visitantes</th>\n",
       "    </tr>\n",
       "  </thead>\n",
       "  <tbody>\n",
       "    <tr>\n",
       "      <th>0</th>\n",
       "      <td>Ciudad de México</td>\n",
       "      <td>México</td>\n",
       "      <td>9265833</td>\n",
       "      <td>21000000</td>\n",
       "    </tr>\n",
       "    <tr>\n",
       "      <th>1</th>\n",
       "      <td>Buenos Aires</td>\n",
       "      <td>Argentina</td>\n",
       "      <td>3059574</td>\n",
       "      <td>15000000</td>\n",
       "    </tr>\n",
       "    <tr>\n",
       "      <th>2</th>\n",
       "      <td>Río de Janeiro</td>\n",
       "      <td>Brasil</td>\n",
       "      <td>6748314</td>\n",
       "      <td>13000000</td>\n",
       "    </tr>\n",
       "    <tr>\n",
       "      <th>3</th>\n",
       "      <td>Lima</td>\n",
       "      <td>Perú</td>\n",
       "      <td>9756020</td>\n",
       "      <td>9000000</td>\n",
       "    </tr>\n",
       "    <tr>\n",
       "      <th>4</th>\n",
       "      <td>Bogotá</td>\n",
       "      <td>Colombia</td>\n",
       "      <td>7181663</td>\n",
       "      <td>8000000</td>\n",
       "    </tr>\n",
       "    <tr>\n",
       "      <th>5</th>\n",
       "      <td>Santiago de Chile</td>\n",
       "      <td>Chile</td>\n",
       "      <td>6199241</td>\n",
       "      <td>7500000</td>\n",
       "    </tr>\n",
       "    <tr>\n",
       "      <th>6</th>\n",
       "      <td>São Paulo</td>\n",
       "      <td>Brasil</td>\n",
       "      <td>12333146</td>\n",
       "      <td>20000000</td>\n",
       "    </tr>\n",
       "    <tr>\n",
       "      <th>7</th>\n",
       "      <td>La Habana</td>\n",
       "      <td>Cuba</td>\n",
       "      <td>2164182</td>\n",
       "      <td>4000000</td>\n",
       "    </tr>\n",
       "    <tr>\n",
       "      <th>8</th>\n",
       "      <td>Cancún</td>\n",
       "      <td>México</td>\n",
       "      <td>888124</td>\n",
       "      <td>5000000</td>\n",
       "    </tr>\n",
       "    <tr>\n",
       "      <th>9</th>\n",
       "      <td>Cartagena</td>\n",
       "      <td>Colombia</td>\n",
       "      <td>1036671</td>\n",
       "      <td>3000000</td>\n",
       "    </tr>\n",
       "  </tbody>\n",
       "</table>\n",
       "</div>"
      ],
      "text/plain": [
       "              Ciudad       País  Población  Visitantes\n",
       "0   Ciudad de México     México    9265833    21000000\n",
       "1       Buenos Aires  Argentina    3059574    15000000\n",
       "2     Río de Janeiro     Brasil    6748314    13000000\n",
       "3               Lima       Perú    9756020     9000000\n",
       "4             Bogotá   Colombia    7181663     8000000\n",
       "5  Santiago de Chile      Chile    6199241     7500000\n",
       "6          São Paulo     Brasil   12333146    20000000\n",
       "7          La Habana       Cuba    2164182     4000000\n",
       "8             Cancún     México     888124     5000000\n",
       "9          Cartagena   Colombia    1036671     3000000"
      ]
     },
     "execution_count": 3,
     "metadata": {},
     "output_type": "execute_result"
    }
   ],
   "source": [
    "df = pd.read_csv('Ciudades_Visitadas_Latinoamerica_2023.csv')\n",
    "df"
   ]
  },
  {
   "cell_type": "code",
   "execution_count": 5,
   "id": "abb7928f-f056-4410-adfc-f5117a5c83d1",
   "metadata": {},
   "outputs": [
    {
     "data": {
      "text/plain": [
       "np.float64(5863276.8)"
      ]
     },
     "execution_count": 5,
     "metadata": {},
     "output_type": "execute_result"
    }
   ],
   "source": [
    "df['Población'].mean()"
   ]
  },
  {
   "cell_type": "code",
   "execution_count": 6,
   "id": "d89b3827-4afb-47ee-b30b-82ef75a8dff4",
   "metadata": {},
   "outputs": [
    {
     "data": {
      "text/plain": [
       "np.float64(5863277.0)"
      ]
     },
     "execution_count": 6,
     "metadata": {},
     "output_type": "execute_result"
    }
   ],
   "source": [
    "np.round(df['Población'].mean())"
   ]
  },
  {
   "cell_type": "code",
   "execution_count": 7,
   "id": "26fa0a06-8baf-48c8-a644-cddeeb801c49",
   "metadata": {},
   "outputs": [
    {
     "data": {
      "text/plain": [
       "np.int64(3000000)"
      ]
     },
     "execution_count": 7,
     "metadata": {},
     "output_type": "execute_result"
    }
   ],
   "source": [
    "np.min(df['Visitantes'])"
   ]
  },
  {
   "cell_type": "code",
   "execution_count": 8,
   "id": "07759cc7-b000-4367-809d-53fe50a37b7c",
   "metadata": {},
   "outputs": [
    {
     "data": {
      "text/plain": [
       "np.int64(21000000)"
      ]
     },
     "execution_count": 8,
     "metadata": {},
     "output_type": "execute_result"
    }
   ],
   "source": [
    "np.max(df['Visitantes'])"
   ]
  },
  {
   "cell_type": "code",
   "execution_count": null,
   "id": "b566fe26-397e-4fc5-a092-c77ca6fe335b",
   "metadata": {},
   "outputs": [],
   "source": []
  }
 ],
 "metadata": {
  "kernelspec": {
   "display_name": "Python 3 (ipykernel)",
   "language": "python",
   "name": "python3"
  },
  "language_info": {
   "codemirror_mode": {
    "name": "ipython",
    "version": 3
   },
   "file_extension": ".py",
   "mimetype": "text/x-python",
   "name": "python",
   "nbconvert_exporter": "python",
   "pygments_lexer": "ipython3",
   "version": "3.11.9"
  }
 },
 "nbformat": 4,
 "nbformat_minor": 5
}
