{
 "cells": [
  {
   "cell_type": "markdown",
   "id": "0f6a8863",
   "metadata": {},
   "source": [
    "# Tratamiento de Datos Faltantes con NumPy\n",
    "\n",
    "La **limpieza de datos** es un tema que ya hemos abordado en los días de Pandas, por lo que no es necesario volver a destacar su importancia. Uno de los aspectos más delicados de la limpieza de datos, como hemos visto, es cómo **tratar a los datos faltantes**.\n",
    "\n",
    "Volveremos a retomar ese tema, pero esta vez para aprender cómo lo hacemos **con NumPy**, con los métodos que esta librería dispone para **manejar**, **identificar** y **sustituir datos faltantes**.\n",
    "\n",
    "En NumPy, los datos faltantes suelen representarse como `np.nan` (que significa *Not a Number*). Te quiero mostrar cómo crearíamos un dato faltante en un array, por si quisieramos reservar un lugar para un elemento faltante pero que no podemos representar con cero."
   ]
  },
  {
   "cell_type": "code",
   "execution_count": 1,
   "id": "826c14e4",
   "metadata": {},
   "outputs": [],
   "source": [
    "import numpy as np"
   ]
  },
  {
   "cell_type": "code",
   "execution_count": 2,
   "id": "7e26cb71",
   "metadata": {},
   "outputs": [
    {
     "data": {
      "text/plain": [
       "array([ 1.,  2., nan,  4.,  5.])"
      ]
     },
     "execution_count": 2,
     "metadata": {},
     "output_type": "execute_result"
    }
   ],
   "source": [
    "array = np.array([1, 2, np.nan, 4, 5])\n",
    "array"
   ]
  },
  {
   "cell_type": "markdown",
   "id": "6e3ffd48",
   "metadata": {},
   "source": [
    "Para comprobar la presencia de `NaN` en un array, lo podemos hacer usando la función `np.isnan()`."
   ]
  },
  {
   "cell_type": "code",
   "execution_count": 3,
   "id": "f8a00621",
   "metadata": {},
   "outputs": [
    {
     "data": {
      "text/plain": [
       "array([False, False,  True, False, False])"
      ]
     },
     "execution_count": 3,
     "metadata": {},
     "output_type": "execute_result"
    }
   ],
   "source": [
    "np.isnan(array)"
   ]
  },
  {
   "cell_type": "markdown",
   "id": "1b26df8a",
   "metadata": {},
   "source": [
    "Ahora hablemos cobre cómo podemos manejar a los elementos `NaN` en cálculos. Supongamos que quiero conocer el **promedio** de los números del array, usando la función `mean()`."
   ]
  },
  {
   "cell_type": "code",
   "execution_count": 4,
   "id": "240fe8aa",
   "metadata": {},
   "outputs": [
    {
     "data": {
      "text/plain": [
       "nan"
      ]
     },
     "execution_count": 4,
     "metadata": {},
     "output_type": "execute_result"
    }
   ],
   "source": [
    "np.mean(array)"
   ]
  },
  {
   "cell_type": "markdown",
   "id": "18e02a6e",
   "metadata": {},
   "source": [
    "Las operaciones matemáticas estándar aplicadas sobre arrays que contienen elementos `NaN`, van a terminar devolviendo `NaN`.\n",
    "\n",
    "Pero aquí viene la magie de NumPy, que habiendo previsto esto, también nos ofrece funciones que ignoran `NaN`."
   ]
  },
  {
   "cell_type": "code",
   "execution_count": 5,
   "id": "4c0863ec",
   "metadata": {},
   "outputs": [
    {
     "data": {
      "text/plain": [
       "3.0"
      ]
     },
     "execution_count": 5,
     "metadata": {},
     "output_type": "execute_result"
    }
   ],
   "source": [
    "np.nanmean(array)"
   ]
  },
  {
   "cell_type": "markdown",
   "id": "aab3dc2f",
   "metadata": {},
   "source": [
    "Como existen varias funciones que ignoran `NaN`, y no tiene sentido que las veamos una por una, en [este otro cuaderno](Listado%20de%20Funciones%20de%20NumPy%20que%20Ignoran%20Datos%20Faltantes.ipynb) te dejo una lista de las más comunes.\n",
    "\n",
    "Una estrategia común en el manejo de datos faltantes, es sustituir `NaN` por otro valor, como el cero, o el promedio o la mediana del array. Esto lo podemos hacer con el método `where()`, que en inglés significa *\"donde\"*, y que es una especie de mezcla de loop for y de estructura de control if, porque lo que hace es pasar por cada elemento del array, y dice *\"allí donde se cumple esta condición haz esto, y allí donde no se cumple la condición, haz esto otro\"*.\n",
    "\n",
    "Entonces si queremos reemplazar los `NaN` por `cero`:"
   ]
  },
  {
   "cell_type": "code",
   "execution_count": 6,
   "id": "5a81b5f0",
   "metadata": {},
   "outputs": [
    {
     "data": {
      "text/plain": [
       "array([1., 2., 0., 4., 5.])"
      ]
     },
     "execution_count": 6,
     "metadata": {},
     "output_type": "execute_result"
    }
   ],
   "source": [
    "array_con_0 = np.where(np.isnan(array), 0, array)\n",
    "array_con_0"
   ]
  },
  {
   "cell_type": "markdown",
   "id": "38c4333a",
   "metadata": {},
   "source": [
    "Si en vez de `0`, queremos reemplazar nuestros `NaN` con el **promedio** de todos los números del array, podemos hacerlo de esta manera:"
   ]
  },
  {
   "cell_type": "code",
   "execution_count": 7,
   "id": "e88f8de1",
   "metadata": {},
   "outputs": [],
   "source": [
    "promedio = np.nanmean(array)"
   ]
  },
  {
   "cell_type": "code",
   "execution_count": 8,
   "id": "3b8073ac",
   "metadata": {},
   "outputs": [
    {
     "data": {
      "text/plain": [
       "array([1., 2., 3., 4., 5.])"
      ]
     },
     "execution_count": 8,
     "metadata": {},
     "output_type": "execute_result"
    }
   ],
   "source": [
    "array_con_promedio = np.where(np.isnan(array), promedio, array)\n",
    "array_con_promedio"
   ]
  },
  {
   "cell_type": "markdown",
   "id": "2aee627f",
   "metadata": {},
   "source": [
    "Y lo último que quiero que veamos en relación al manejo de datos faltantes, es cómo **eliminar los valores no válidos**, porque muchas veces, puede que sea eso lo que queramos hacer en arrays que contienen `NaN`.\n",
    "\n",
    "Para hacer esto, técnicamente vamos a estar creando un nuevo array donde esos elementos ya no van a estar. Es decir que básicamente los vamos a **filtrar**.\n",
    "\n",
    "Primero te mostraré cómo creamos un nuevo array que solo contiene los valores `NaN` usando el método `isnan()`:"
   ]
  },
  {
   "cell_type": "code",
   "execution_count": 9,
   "id": "c3af83f7",
   "metadata": {},
   "outputs": [
    {
     "data": {
      "text/plain": [
       "array([nan])"
      ]
     },
     "execution_count": 9,
     "metadata": {},
     "output_type": "execute_result"
    }
   ],
   "source": [
    "array_filtrado = array[np.isnan(array)]\n",
    "array_filtrado"
   ]
  },
  {
   "cell_type": "markdown",
   "id": "d07d5ec8",
   "metadata": {},
   "source": [
    "Si hago esto, estoy filtrando para que me queden solo los valores `NaN`, pero si antes coloco el símbolo de tilde invertida (**~**), logro que me quede exactamente lo contrario: los valores que no son `NaN`."
   ]
  },
  {
   "cell_type": "code",
   "execution_count": 10,
   "id": "49211442",
   "metadata": {},
   "outputs": [
    {
     "data": {
      "text/plain": [
       "array([1., 2., 4., 5.])"
      ]
     },
     "execution_count": 10,
     "metadata": {},
     "output_type": "execute_result"
    }
   ],
   "source": [
    "array_filtrado = array[~np.isnan(array)]\n",
    "array_filtrado"
   ]
  },
  {
   "cell_type": "markdown",
   "id": "e0fa386b",
   "metadata": {},
   "source": [
    "En conclusión, NumPy nos proporciona suficientes y muy eficientes herramientas para identificar, manejar y sustituir valores `NaN`, lo que nos permite mantener la integridad de nuestros análisis."
   ]
  },
  {
   "cell_type": "code",
   "execution_count": null,
   "id": "e203af68",
   "metadata": {},
   "outputs": [],
   "source": []
  }
 ],
 "metadata": {
  "kernelspec": {
   "display_name": "Python 3 (ipykernel)",
   "language": "python",
   "name": "python3"
  },
  "language_info": {
   "codemirror_mode": {
    "name": "ipython",
    "version": 3
   },
   "file_extension": ".py",
   "mimetype": "text/x-python",
   "name": "python",
   "nbconvert_exporter": "python",
   "pygments_lexer": "ipython3",
   "version": "3.11.5"
  }
 },
 "nbformat": 4,
 "nbformat_minor": 5
}
