{
 "cells": [
  {
   "cell_type": "markdown",
   "id": "21da55ee",
   "metadata": {},
   "source": [
    "# Listado de Funciones de NumPy que Ignoran Datos Faltantes\n",
    "\n",
    "NumPy ofrece varias funciones que están diseñadas específicamente para ignorar los **valores NaN** (Not a Number) en los cálculos.\n",
    "\n",
    "Estas funciones son extremadamente útiles en el análisis de datos, ya que permiten realizar cálculos estadísticos y matemáticos sin que los valores faltantes o indefinidos distorsionen los resultados. Algunas de estas funciones son:\n",
    "\n",
    "| Función        | Descripción                                                                           |\n",
    "|----------------|---------------------------------------------------------------------------------------|\n",
    "| `np.nanmean`   | Calcula la media de un array ignorando los NaN.                                       |\n",
    "| `np.nanmedian` | Calcula la mediana de un array ignorando los NaN.                                     |\n",
    "| `np.nansum`    | Calcula la suma de los elementos de un array, ignorando los NaN.                      |\n",
    "| `np.nanmax`    | Encuentra el valor máximo en un array, ignorando los NaN.                             |\n",
    "| `np.nanmin`    | Encuentra el valor mínimo en un array, ignorando los NaN.                             |\n",
    "| `np.nanstd`    | Calcula la desviación estándar de un array, ignorando los NaN.                        |\n",
    "| `np.nanvar`    | Calcula la varianza de un array, ignorando los NaN.                                   |\n",
    "| `np.nanargmax` | Devuelve los índices de los valores máximos a lo largo de un eje, ignorando los NaN.  |\n",
    "| `np.nanargmin` | Devuelve los índices de los valores mínimos a lo largo de un eje, ignorando los NaN.  |\n",
    "| `np.nancumsum` | Calcula la suma acumulativa de los elementos a lo largo de un eje específico, ignorando los NaN. |\n",
    "| `np.nancumprod`| Calcula el producto acumulativo de los elementos a lo largo de un eje específico, ignorando los NaN. |\n"
   ]
  },
  {
   "cell_type": "code",
   "execution_count": null,
   "id": "ab09f7a1",
   "metadata": {},
   "outputs": [],
   "source": []
  }
 ],
 "metadata": {
  "kernelspec": {
   "display_name": "Python 3 (ipykernel)",
   "language": "python",
   "name": "python3"
  },
  "language_info": {
   "codemirror_mode": {
    "name": "ipython",
    "version": 3
   },
   "file_extension": ".py",
   "mimetype": "text/x-python",
   "name": "python",
   "nbconvert_exporter": "python",
   "pygments_lexer": "ipython3",
   "version": "3.11.5"
  }
 },
 "nbformat": 4,
 "nbformat_minor": 5
}
