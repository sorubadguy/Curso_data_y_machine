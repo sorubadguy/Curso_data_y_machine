{
 "cells": [
  {
   "attachments": {},
   "cell_type": "markdown",
   "id": "b2dc8f7d",
   "metadata": {},
   "source": [
    "# Manipulación de Arrays\n",
    "\n",
    "Quiero compartir contigo algunos métodos y estrategias que nos permiten manipular arrays en NumPy.\n",
    "\n",
    "Algo que también podemos hacer es **concatenar** a nuestros arrays, del mismo modo en que hemos concatenado DataFrames con Pandas."
   ]
  },
  {
   "cell_type": "code",
   "execution_count": 1,
   "id": "45660d80",
   "metadata": {},
   "outputs": [],
   "source": [
    "import numpy as np"
   ]
  },
  {
   "cell_type": "code",
   "execution_count": 2,
   "id": "0af13ebb",
   "metadata": {},
   "outputs": [],
   "source": [
    "x = [1,2,3]\n",
    "y = [1,2,3]\n",
    "z = [1,2,3]"
   ]
  },
  {
   "cell_type": "code",
   "execution_count": 3,
   "id": "a0d0a10c",
   "metadata": {},
   "outputs": [
    {
     "data": {
      "text/plain": [
       "array([1, 2, 3, 1, 2, 3, 1, 2, 3])"
      ]
     },
     "execution_count": 3,
     "metadata": {},
     "output_type": "execute_result"
    }
   ],
   "source": [
    "np.concatenate([x, y, z])"
   ]
  },
  {
   "attachments": {},
   "cell_type": "markdown",
   "id": "2010e89d",
   "metadata": {},
   "source": [
    "Como puedes ver, el argumento que hemos pasado a `concatenate()` es una lista de listas a concatenar, y esto a devuelto un **array** (porque lo hicimos con NumPy) **de una dimensión**.\n",
    "\n",
    "Pero el método `concatenate()` de NumPy tiene un segundo argumento, que es el **\"Eje\"**, o **\"Axis\"**, que nos permite especificar a lo largo de qué eje será concatenado el resultado.\n",
    "\n",
    "Voy a crear **2 arrays de dos dimensiones**, y lo voy a concatenar sobre el eje 1 `(axis=1)`:"
   ]
  },
  {
   "cell_type": "code",
   "execution_count": 4,
   "id": "04e66fab",
   "metadata": {},
   "outputs": [
    {
     "data": {
      "text/plain": [
       "array([[1, 2, 5, 6],\n",
       "       [3, 4, 7, 8]])"
      ]
     },
     "execution_count": 4,
     "metadata": {},
     "output_type": "execute_result"
    }
   ],
   "source": [
    "a = [[1, 2],\n",
    "    [3, 4]]\n",
    "b = [[5, 6],\n",
    "    [7, 8]]\n",
    "np.concatenate([a, b], axis=1)"
   ]
  },
  {
   "attachments": {},
   "cell_type": "markdown",
   "id": "6d2511bf",
   "metadata": {},
   "source": [
    "Y si concateno esos mismos arrays pero sobre el eje `0`:"
   ]
  },
  {
   "cell_type": "code",
   "execution_count": 5,
   "id": "d61f4c4d",
   "metadata": {
    "scrolled": true
   },
   "outputs": [
    {
     "data": {
      "text/plain": [
       "array([[1, 2],\n",
       "       [3, 4],\n",
       "       [5, 6],\n",
       "       [7, 8]])"
      ]
     },
     "execution_count": 5,
     "metadata": {},
     "output_type": "execute_result"
    }
   ],
   "source": [
    "np.concatenate([a, b], axis=0)"
   ]
  },
  {
   "attachments": {},
   "cell_type": "markdown",
   "id": "5395d9f7",
   "metadata": {},
   "source": [
    "Hay algunas estrategias extra para manipular arrays, como por ejemplo **cambiar su forma**.\n",
    "\n",
    "Para hacer eso, primero voy a tomar el último array que hemos creado y lo voy a alamacenar en la variable `array_concatenado`:"
   ]
  },
  {
   "cell_type": "code",
   "execution_count": 6,
   "id": "a120accd",
   "metadata": {},
   "outputs": [
    {
     "data": {
      "text/plain": [
       "array([[1, 2],\n",
       "       [3, 4],\n",
       "       [5, 6],\n",
       "       [7, 8]])"
      ]
     },
     "execution_count": 6,
     "metadata": {},
     "output_type": "execute_result"
    }
   ],
   "source": [
    "array_concatenado = np.concatenate([a, b], axis=0)\n",
    "array_concatenado"
   ]
  },
  {
   "attachments": {},
   "cell_type": "markdown",
   "id": "b795927b",
   "metadata": {},
   "source": [
    "Si quiero conocer la **forma** de este array…"
   ]
  },
  {
   "cell_type": "code",
   "execution_count": 7,
   "id": "72663f50",
   "metadata": {},
   "outputs": [
    {
     "data": {
      "text/plain": [
       "(4, 2)"
      ]
     },
     "execution_count": 7,
     "metadata": {},
     "output_type": "execute_result"
    }
   ],
   "source": [
    "array_concatenado.shape"
   ]
  },
  {
   "attachments": {},
   "cell_type": "markdown",
   "id": "2d3f53ec",
   "metadata": {},
   "source": [
    "… veo que es de **4 por 2**, porque tiene **cuatro filas** y **dos columnas**.\n",
    "\n",
    "Pero voy a **cambiar su forma**, pidiéndole que se reorganice para ser un array de **2 filas** por **4 columnas**, usando el método `reshape()`:"
   ]
  },
  {
   "cell_type": "code",
   "execution_count": 8,
   "id": "8f80b4a8",
   "metadata": {},
   "outputs": [
    {
     "data": {
      "text/plain": [
       "array([[1, 2, 3, 4],\n",
       "       [5, 6, 7, 8]])"
      ]
     },
     "execution_count": 8,
     "metadata": {},
     "output_type": "execute_result"
    }
   ],
   "source": [
    "array_reformado = array_concatenado.reshape(2, 4)\n",
    "array_reformado"
   ]
  },
  {
   "attachments": {},
   "cell_type": "markdown",
   "id": "b832f04a",
   "metadata": {},
   "source": [
    "También puedo hacer cosas como **sumar arrays**:"
   ]
  },
  {
   "cell_type": "code",
   "execution_count": 9,
   "id": "82bebad4",
   "metadata": {},
   "outputs": [
    {
     "data": {
      "text/plain": [
       "array([[ 2,  4,  6,  8],\n",
       "       [10, 12, 14, 16]])"
      ]
     },
     "execution_count": 9,
     "metadata": {},
     "output_type": "execute_result"
    }
   ],
   "source": [
    "array_sumado = array_reformado + array_reformado\n",
    "array_sumado"
   ]
  },
  {
   "attachments": {},
   "cell_type": "markdown",
   "id": "005e17bc",
   "metadata": {},
   "source": [
    "O multiplicarlos:"
   ]
  },
  {
   "cell_type": "code",
   "execution_count": 10,
   "id": "e06093d7",
   "metadata": {},
   "outputs": [
    {
     "data": {
      "text/plain": [
       "array([[ 1,  4,  9, 16],\n",
       "       [25, 36, 49, 64]])"
      ]
     },
     "execution_count": 10,
     "metadata": {},
     "output_type": "execute_result"
    }
   ],
   "source": [
    "array_multi = array_reformado * array_reformado\n",
    "array_multi"
   ]
  },
  {
   "attachments": {},
   "cell_type": "markdown",
   "id": "85095320",
   "metadata": {},
   "source": [
    "Básicamente puedes usar todos los operadores matemáticos que conocemos para hacer cálculos con arrays (ya sean uni o bidimensionales).\n",
    "\n",
    "Un detalle específico en NumPy que me gustaría mostrarte es cómo hacemos en este caso el cálculo de la **raíz cuadrada**, ya que es con un método especial de NumPy que se llama `sqrt()`, que significa **square root** (o *raíz cuadrada*), y que se aplica así:"
   ]
  },
  {
   "cell_type": "code",
   "execution_count": 11,
   "id": "75606886",
   "metadata": {},
   "outputs": [
    {
     "data": {
      "text/plain": [
       "array([[1., 2., 3., 4.],\n",
       "       [5., 6., 7., 8.]])"
      ]
     },
     "execution_count": 11,
     "metadata": {},
     "output_type": "execute_result"
    }
   ],
   "source": [
    "raices = np.sqrt(array_multi)\n",
    "raices"
   ]
  },
  {
   "attachments": {},
   "cell_type": "markdown",
   "id": "ff6bf56b",
   "metadata": {},
   "source": [
    "Esto es lo básico sobre arrays, hay mucho más para aprender (sobre arrays en particular y NumPy en general), así que es hora de avanzar."
   ]
  },
  {
   "cell_type": "code",
   "execution_count": null,
   "id": "02b04df9",
   "metadata": {},
   "outputs": [],
   "source": []
  }
 ],
 "metadata": {
  "kernelspec": {
   "display_name": "Python 3 (ipykernel)",
   "language": "python",
   "name": "python3"
  },
  "language_info": {
   "codemirror_mode": {
    "name": "ipython",
    "version": 3
   },
   "file_extension": ".py",
   "mimetype": "text/x-python",
   "name": "python",
   "nbconvert_exporter": "python",
   "pygments_lexer": "ipython3",
   "version": "3.11.5"
  }
 },
 "nbformat": 4,
 "nbformat_minor": 5
}
