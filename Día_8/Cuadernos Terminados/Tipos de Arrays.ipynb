{
 "cells": [
  {
   "attachments": {},
   "cell_type": "markdown",
   "id": "53915d80",
   "metadata": {},
   "source": [
    "# Tipos de Arrays\n",
    "\n",
    "En esta lección vamos a profundizar en la principal **estructura de datos** en NumPy, que son los **arrays**.\n",
    "\n",
    "Vamos a conocer los **dos tipos de array** que podemos crear, y cómo manipular estas estructuras.\n",
    "\n",
    "Ya hemos conocido a los arrays de NumPy, y hemos visto que básicamente un array es:\n",
    "* una **cuadrícula de valores**,\n",
    "* que tienen que ser todos **del mismo tipo** (pueden ser integers, floats, strings, o lo que sea, pero todos del mismo tipo),\n",
    "* y está **indexado**, o sea que tiene un índice, como la mayoría de las estructuras de datos que vimos hasta ahora.\n",
    "\n",
    "Vamos a crear un array bien sencillo:"
   ]
  },
  {
   "cell_type": "code",
   "execution_count": 1,
   "id": "e3e04921",
   "metadata": {},
   "outputs": [],
   "source": [
    "import numpy as np"
   ]
  },
  {
   "cell_type": "code",
   "execution_count": 2,
   "id": "ef69245d",
   "metadata": {},
   "outputs": [],
   "source": [
    "array = np.array([1, 2, 3])"
   ]
  },
  {
   "attachments": {},
   "cell_type": "markdown",
   "id": "643e78ca",
   "metadata": {},
   "source": [
    "Este es un **array unidimensional**, porque tiene **una sola dimensión**. Tiene un **largo**.\n",
    "\n",
    "De hecho si quiero comprobar su largo…"
   ]
  },
  {
   "cell_type": "code",
   "execution_count": 3,
   "id": "aa6ccb7c",
   "metadata": {},
   "outputs": [
    {
     "data": {
      "text/plain": [
       "3"
      ]
     },
     "execution_count": 3,
     "metadata": {},
     "output_type": "execute_result"
    }
   ],
   "source": [
    "len(array)"
   ]
  },
  {
   "attachments": {},
   "cell_type": "markdown",
   "id": "f5674c9b",
   "metadata": {},
   "source": [
    "Hagamos una comprobación más, e intentemos conocer la **forma** de este array ¿recuerdas la propiedad `shape` que usábamos para conocer la forma de un DataFrame?"
   ]
  },
  {
   "cell_type": "code",
   "execution_count": 4,
   "id": "3fb35b36",
   "metadata": {},
   "outputs": [
    {
     "data": {
      "text/plain": [
       "(3,)"
      ]
     },
     "execution_count": 4,
     "metadata": {},
     "output_type": "execute_result"
    }
   ],
   "source": [
    "array.shape"
   ]
  },
  {
   "attachments": {},
   "cell_type": "markdown",
   "id": "5c090fde",
   "metadata": {},
   "source": [
    "Como puede ver, he pedido conocer el **largo** y el **alto** de mi array, pero solo me dice el largo, y no hay ninguna medida para el alto, porque no lo tiene. Solo tiene **una dimensión**, que es el largo.\n",
    "\n",
    "Ahora creemos un **array de dos dimensiones**:"
   ]
  },
  {
   "cell_type": "code",
   "execution_count": 5,
   "id": "46c41037",
   "metadata": {},
   "outputs": [
    {
     "data": {
      "text/plain": [
       "array([[1, 2, 3],\n",
       "       [4, 5, 6]])"
      ]
     },
     "execution_count": 5,
     "metadata": {},
     "output_type": "execute_result"
    }
   ],
   "source": [
    "array_2d = np.array([[1, 2, 3], [4, 5, 6]])\n",
    "array_2d"
   ]
  },
  {
   "attachments": {},
   "cell_type": "markdown",
   "id": "b1d6f40b",
   "metadata": {},
   "source": [
    "Esto ya se ve distinto. Las dos *listas* que le he pasado, se han ordenado una arriba de la otra, y tenemos una especie de *tabla*, pero no es una tabla, es un **array de dos dimensiones**.\n",
    "\n",
    "Voy a consultar el largo (`len`) de este array. ¿Qué número crees que voy a obtener? ¿Voy a obtener **6**, debido a que tiene 6 elementos? ¿O tal vez debería obtener **3** ya que ese es el ancho de esta especie de *tabla*?"
   ]
  },
  {
   "cell_type": "code",
   "execution_count": 6,
   "id": "e788c8ef",
   "metadata": {},
   "outputs": [
    {
     "data": {
      "text/plain": [
       "2"
      ]
     },
     "execution_count": 6,
     "metadata": {},
     "output_type": "execute_result"
    }
   ],
   "source": [
    "len(array_2d)"
   ]
  },
  {
   "attachments": {},
   "cell_type": "markdown",
   "id": "b52096c8",
   "metadata": {},
   "source": [
    "Esto sí que es curioso ¿verdad?. Ni 6, ni 3.\n",
    "\n",
    "Este array tiene un **largo de 2**, a pesar de que sus elementos tienen 3 números cada uno. ¿Entonces por qué dice que tiene un largo de 2?\n",
    "\n",
    "Porque en realidad este array tiene **2 elementos**, que son cada uno de los conjuntos de 3 números:\n",
    "* Elemento #1: **[1, 2, 3]**\n",
    "* Elemento #2: **[4, 5, 6]**\n",
    "\n",
    "\n",
    "¿Y si consultamos su **forma**?"
   ]
  },
  {
   "cell_type": "code",
   "execution_count": 7,
   "id": "f2bead9a",
   "metadata": {},
   "outputs": [
    {
     "data": {
      "text/plain": [
       "(2, 3)"
      ]
     },
     "execution_count": 7,
     "metadata": {},
     "output_type": "execute_result"
    }
   ],
   "source": [
    "array_2d.shape"
   ]
  },
  {
   "attachments": {},
   "cell_type": "markdown",
   "id": "571b297a",
   "metadata": {},
   "source": [
    "Bueno, ahora podemos ver sus **dos dimensiones**. Nuestro array tiene:\n",
    "* **2 unidades de alto**\n",
    "* **3 unidades de largo**.\n",
    "\n",
    "Estos han sido los arrays uni y bidimensionales, y te invito a la siguiente lección para que aprendamos a manipular a nuestros arrays."
   ]
  },
  {
   "cell_type": "code",
   "execution_count": null,
   "id": "04b7bfba",
   "metadata": {},
   "outputs": [],
   "source": []
  }
 ],
 "metadata": {
  "kernelspec": {
   "display_name": "Python 3 (ipykernel)",
   "language": "python",
   "name": "python3"
  },
  "language_info": {
   "codemirror_mode": {
    "name": "ipython",
    "version": 3
   },
   "file_extension": ".py",
   "mimetype": "text/x-python",
   "name": "python",
   "nbconvert_exporter": "python",
   "pygments_lexer": "ipython3",
   "version": "3.11.5"
  }
 },
 "nbformat": 4,
 "nbformat_minor": 5
}
