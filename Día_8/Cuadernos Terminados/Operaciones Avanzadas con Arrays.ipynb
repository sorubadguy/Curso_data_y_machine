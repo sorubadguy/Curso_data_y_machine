{
 "cells": [
  {
   "attachments": {},
   "cell_type": "markdown",
   "id": "082068d9",
   "metadata": {},
   "source": [
    "# Operaciones Avanzadas y Funciones Universales con Arrays\n",
    "\n",
    "En esta lección vamos a aprender varios recursos que nos van a permitir realizar operaciones más avanzadas con arrays. Esto va a ser divertido.\n",
    "\n",
    "Primero te presento al **broadcasting**, que es una estrategia que nos permite extender operaciones de un modo curioso pero muy eficiente.\n",
    "\n",
    "Observa estos dos arrays que he creado. Uno es unidimensional, y el otro es bidimensional."
   ]
  },
  {
   "cell_type": "code",
   "execution_count": 1,
   "id": "84f5736b",
   "metadata": {},
   "outputs": [],
   "source": [
    "import numpy as np"
   ]
  },
  {
   "cell_type": "code",
   "execution_count": 2,
   "id": "b4d88ecb",
   "metadata": {},
   "outputs": [
    {
     "data": {
      "text/plain": [
       "array([1, 2, 3])"
      ]
     },
     "execution_count": 2,
     "metadata": {},
     "output_type": "execute_result"
    }
   ],
   "source": [
    "array1 = np.array([1, 2, 3])\n",
    "array1"
   ]
  },
  {
   "cell_type": "code",
   "execution_count": 3,
   "id": "4bd36f98",
   "metadata": {},
   "outputs": [
    {
     "data": {
      "text/plain": [
       "array([[ 0],\n",
       "       [10],\n",
       "       [20],\n",
       "       [30]])"
      ]
     },
     "execution_count": 3,
     "metadata": {},
     "output_type": "execute_result"
    }
   ],
   "source": [
    "array2 = np.array([[0], [10], [20], [30]])\n",
    "array2"
   ]
  },
  {
   "cell_type": "markdown",
   "id": "3805af16",
   "metadata": {},
   "source": [
    "A pesar de que el primero tiene una forma **horizontal** y el segundo **vertical**, voy a intentar sumarlos. Por favor, analiza el resultado para comprender de qué manera funciona el broadcasting."
   ]
  },
  {
   "cell_type": "code",
   "execution_count": 4,
   "id": "3bd0de41",
   "metadata": {},
   "outputs": [
    {
     "data": {
      "text/plain": [
       "array([[ 1,  2,  3],\n",
       "       [11, 12, 13],\n",
       "       [21, 22, 23],\n",
       "       [31, 32, 33]])"
      ]
     },
     "execution_count": 4,
     "metadata": {},
     "output_type": "execute_result"
    }
   ],
   "source": [
    "broadcast_suma = array2 + array1\n",
    "broadcast_suma"
   ]
  },
  {
   "attachments": {},
   "cell_type": "markdown",
   "id": "2371594c",
   "metadata": {},
   "source": [
    "Y a esto tambien lo podemos hacer con otras operaciones, como por ejemplo, la multiplicación."
   ]
  },
  {
   "cell_type": "code",
   "execution_count": 5,
   "id": "95ea26ef",
   "metadata": {
    "scrolled": true
   },
   "outputs": [
    {
     "data": {
      "text/plain": [
       "array([[ 0,  0,  0],\n",
       "       [10, 20, 30],\n",
       "       [20, 40, 60],\n",
       "       [30, 60, 90]])"
      ]
     },
     "execution_count": 5,
     "metadata": {},
     "output_type": "execute_result"
    }
   ],
   "source": [
    "broadcast_multi = array2 * array1\n",
    "broadcast_multi"
   ]
  },
  {
   "attachments": {},
   "cell_type": "markdown",
   "id": "50caa7bd",
   "metadata": {},
   "source": [
    "### Funciones Universales (ufuncs)\n",
    "\n",
    "Lo segundo que quiero que veamos en esta lección, son las funciones universales en Numpy, también conocidas como ufuncs. Las ufuncs son funciones que operan en arrays de NumPy, pero aplicándose **elemento por elemento**, de manera **vectorizada**, lo que las hace muy eficientes. Veamos algunos ejemplos.\n",
    "\n",
    "Primero tenemos las **funciones Aritméticas** básicas.\n",
    "\n",
    "El método `add()` sirve para realizar sumas vectorizadas."
   ]
  },
  {
   "cell_type": "code",
   "execution_count": 6,
   "id": "36a65cae",
   "metadata": {},
   "outputs": [],
   "source": [
    "a = np.array([1, 2, 3])\n",
    "b = np.array([4, 5, 6])"
   ]
  },
  {
   "cell_type": "code",
   "execution_count": 7,
   "id": "fdfc2357",
   "metadata": {},
   "outputs": [
    {
     "data": {
      "text/plain": [
       "array([5, 7, 9])"
      ]
     },
     "execution_count": 7,
     "metadata": {},
     "output_type": "execute_result"
    }
   ],
   "source": [
    "resultado = np.add(a, b)\n",
    "resultado"
   ]
  },
  {
   "attachments": {},
   "cell_type": "markdown",
   "id": "c2994396",
   "metadata": {},
   "source": [
    "Te dejo aquí los nombres de las demás funciones aritméticas básicas, para que pruebes por ti mismo."
   ]
  },
  {
   "cell_type": "code",
   "execution_count": 8,
   "id": "310e4c47",
   "metadata": {},
   "outputs": [],
   "source": [
    "# .substract(), .multiply(), .divide()"
   ]
  },
  {
   "attachments": {},
   "cell_type": "markdown",
   "id": "3b37efbe",
   "metadata": {},
   "source": [
    "Ahora veamos algunas **funciones Matemáticas**.\n",
    "\n",
    "Para conocer el **exponencial** de cada número de un array, puedo usar `exp()`."
   ]
  },
  {
   "cell_type": "code",
   "execution_count": 9,
   "id": "86800170",
   "metadata": {},
   "outputs": [
    {
     "data": {
      "text/plain": [
       "array([ 2.71828183,  7.3890561 , 20.08553692])"
      ]
     },
     "execution_count": 9,
     "metadata": {},
     "output_type": "execute_result"
    }
   ],
   "source": [
    "resultado2 = np.exp(a)\n",
    "resultado2"
   ]
  },
  {
   "attachments": {},
   "cell_type": "markdown",
   "id": "196796d5",
   "metadata": {},
   "source": [
    "Tenemos `log()` para conocer el **logaritmo natural** de cada número:"
   ]
  },
  {
   "cell_type": "code",
   "execution_count": 10,
   "id": "a6694d85",
   "metadata": {},
   "outputs": [
    {
     "data": {
      "text/plain": [
       "array([0.        , 0.69314718, 1.09861229])"
      ]
     },
     "execution_count": 10,
     "metadata": {},
     "output_type": "execute_result"
    }
   ],
   "source": [
    "resultado3 = np.log(a)\n",
    "resultado3"
   ]
  },
  {
   "attachments": {},
   "cell_type": "markdown",
   "id": "c35668df",
   "metadata": {},
   "source": [
    "Como nota adicional, tambien puedes calcular el logaritmo natural para otras bases, como base de 2, o de 10, de esta manera:"
   ]
  },
  {
   "cell_type": "code",
   "execution_count": 11,
   "id": "40e14aad",
   "metadata": {},
   "outputs": [
    {
     "data": {
      "text/plain": [
       "array([0.        , 0.30103   , 0.47712125])"
      ]
     },
     "execution_count": 11,
     "metadata": {},
     "output_type": "execute_result"
    }
   ],
   "source": [
    "resultado4 = np.log10(a)\n",
    "resultado4"
   ]
  },
  {
   "attachments": {},
   "cell_type": "markdown",
   "id": "b75f8877",
   "metadata": {},
   "source": [
    "Y finalmente, dentro de las funciones matemáticas, te quiero mostrar a `sqrt()`, que ya la vimos antes, y que sirve para conocer la **raíz cuadrada** de cada elemento de un array:"
   ]
  },
  {
   "cell_type": "code",
   "execution_count": 12,
   "id": "79b6a07d",
   "metadata": {},
   "outputs": [
    {
     "data": {
      "text/plain": [
       "array([1.        , 1.41421356, 1.73205081])"
      ]
     },
     "execution_count": 12,
     "metadata": {},
     "output_type": "execute_result"
    }
   ],
   "source": [
    "resultado5 = np.sqrt(a)\n",
    "resultado5"
   ]
  },
  {
   "attachments": {},
   "cell_type": "markdown",
   "id": "1d277c39",
   "metadata": {},
   "source": [
    "Hay muchas más funciones universales, como las trigonométricas, las estadísticas, las lógicas, hiperbólicas, y otras más.\n",
    "\n",
    "Para no agobiarte con tanta información, te dejo [este otro cuaderno](Funciones%20Universales%20de%20Numpy%20(ufuncs).ipynb) que contiene una lista ampliada con las funciones universales más utilizadas, para que la tengas a mano o las practiques si quieres.\n",
    "\n",
    "Como siempre insisto en que lo importante no es saberse de memoria todas las cosas que existen en Python, porque es imposible, sino sólo saber que existen para luego saber dónde y cómo buscarlas en caso de que las necesites."
   ]
  },
  {
   "cell_type": "code",
   "execution_count": null,
   "id": "9ffa3191",
   "metadata": {},
   "outputs": [],
   "source": []
  }
 ],
 "metadata": {
  "kernelspec": {
   "display_name": "Python 3 (ipykernel)",
   "language": "python",
   "name": "python3"
  },
  "language_info": {
   "codemirror_mode": {
    "name": "ipython",
    "version": 3
   },
   "file_extension": ".py",
   "mimetype": "text/x-python",
   "name": "python",
   "nbconvert_exporter": "python",
   "pygments_lexer": "ipython3",
   "version": "3.11.5"
  }
 },
 "nbformat": 4,
 "nbformat_minor": 5
}
