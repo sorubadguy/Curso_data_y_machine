{
 "cells": [
  {
   "attachments": {},
   "cell_type": "markdown",
   "id": "77cd970e",
   "metadata": {},
   "source": [
    "# Forma y Estructura de Arrays\n",
    "\n",
    "En esta lección vamos a entender cómo **cambiar la forma y el tamaño** de los arrays de NumPy, y para eso vamos a aprender a utilizar algunos métodos especiales.\n",
    "\n",
    "Por un lado ya hemos visto que la propiedad `.shape` sirve para conocer la **forma** de un array."
   ]
  },
  {
   "cell_type": "code",
   "execution_count": 9,
   "id": "55835b13",
   "metadata": {},
   "outputs": [],
   "source": [
    "import numpy as np"
   ]
  },
  {
   "cell_type": "code",
   "execution_count": 10,
   "id": "04648949",
   "metadata": {},
   "outputs": [
    {
     "data": {
      "text/plain": [
       "array([1, 2, 3, 4, 5, 6, 7, 8, 9])"
      ]
     },
     "execution_count": 10,
     "metadata": {},
     "output_type": "execute_result"
    }
   ],
   "source": [
    "array = np.array([1, 2, 3, 4, 5, 6, 7, 8, 9])\n",
    "array"
   ]
  },
  {
   "cell_type": "code",
   "execution_count": 11,
   "id": "c30e913e",
   "metadata": {},
   "outputs": [
    {
     "data": {
      "text/plain": [
       "(9,)"
      ]
     },
     "execution_count": 11,
     "metadata": {},
     "output_type": "execute_result"
    }
   ],
   "source": [
    "array.shape"
   ]
  },
  {
   "attachments": {},
   "cell_type": "markdown",
   "id": "ccde52d7",
   "metadata": {},
   "source": [
    "Y también disponemos de `reshape()` que sirve para **modificar su forma**."
   ]
  },
  {
   "cell_type": "code",
   "execution_count": 4,
   "id": "abd4620a",
   "metadata": {},
   "outputs": [
    {
     "data": {
      "text/plain": [
       "array([[1, 2, 3],\n",
       "       [4, 5, 6],\n",
       "       [7, 8, 9]])"
      ]
     },
     "execution_count": 4,
     "metadata": {},
     "output_type": "execute_result"
    }
   ],
   "source": [
    "array_mod = array.reshape(3, 3)\n",
    "array_mod"
   ]
  },
  {
   "attachments": {},
   "cell_type": "markdown",
   "id": "4a10bf45",
   "metadata": {},
   "source": [
    "Es importante tener en cuenta que el número total de elementos debe permanecer constante para cada grupo cuando aplicamos el reshape.\n",
    "\n",
    "Un dato curioso, es que puedes usar el número negativo **-1** para alguna de las dimensiones del array, y eso hace que NumPy se base en la otra dimensión, y **calcule automáticamente** la distribución de la dimensión faltante."
   ]
  },
  {
   "cell_type": "code",
   "execution_count": 5,
   "id": "f0006026",
   "metadata": {},
   "outputs": [
    {
     "data": {
      "text/plain": [
       "array([[1, 2, 3],\n",
       "       [4, 5, 6],\n",
       "       [7, 8, 9]])"
      ]
     },
     "execution_count": 5,
     "metadata": {},
     "output_type": "execute_result"
    }
   ],
   "source": [
    "array_mod2 = array.reshape(-1, 3)\n",
    "array_mod2"
   ]
  },
  {
   "attachments": {},
   "cell_type": "markdown",
   "id": "dea41040",
   "metadata": {},
   "source": [
    "También quiero que conozcas al método `transpose()` (que significa *transponer*), que se encarga de **voltear el array**, es decir, de cambiar las filas a columnas y las columnas a filas."
   ]
  },
  {
   "cell_type": "code",
   "execution_count": 12,
   "id": "3816fcdb",
   "metadata": {},
   "outputs": [
    {
     "data": {
      "text/plain": [
       "array([[1, 4, 7],\n",
       "       [2, 5, 8],\n",
       "       [3, 6, 9]])"
      ]
     },
     "execution_count": 12,
     "metadata": {},
     "output_type": "execute_result"
    }
   ],
   "source": [
    "array_volteado = array_mod2.transpose()\n",
    "array_volteado"
   ]
  },
  {
   "attachments": {},
   "cell_type": "markdown",
   "id": "5a255e85",
   "metadata": {},
   "source": [
    "Por otro lado, para **convertir un array biidimensional en un array unidimensional**, tenemos los métodos `flatten()` y `ravel()`.\n",
    "\n",
    "El primero de ellos, `flatten()` (que significa \"achatado\"), crea una copia del array original."
   ]
  },
  {
   "cell_type": "code",
   "execution_count": 7,
   "id": "4c73c3d6",
   "metadata": {},
   "outputs": [
    {
     "data": {
      "text/plain": [
       "array([1, 2, 3, 4, 5, 6, 7, 8, 9])"
      ]
     },
     "execution_count": 7,
     "metadata": {},
     "output_type": "execute_result"
    }
   ],
   "source": [
    "array_chato = array_mod.flatten()\n",
    "array_chato"
   ]
  },
  {
   "attachments": {},
   "cell_type": "markdown",
   "id": "6b194c9b",
   "metadata": {},
   "source": [
    "El segundo, `ravel()`, hace algo que parece ser exactamente lo mismo…"
   ]
  },
  {
   "cell_type": "code",
   "execution_count": 8,
   "id": "f6735a08",
   "metadata": {},
   "outputs": [
    {
     "data": {
      "text/plain": [
       "array([1, 2, 3, 4, 5, 6, 7, 8, 9])"
      ]
     },
     "execution_count": 8,
     "metadata": {},
     "output_type": "execute_result"
    }
   ],
   "source": [
    "array_ravel = array_mod.ravel()\n",
    "array_ravel"
   ]
  },
  {
   "attachments": {},
   "cell_type": "markdown",
   "id": "0338e0aa",
   "metadata": {},
   "source": [
    "Pero la diferencia ocurre detrás de la cortina, porque `flatten()` crea una **copia** aplanada del array, lo cual ocupa memoria, mientras que `ravel()` crea una **vista** aplanada del array original, lo que es diferente en términos de eficiencia.\n",
    "\n",
    "Estos son métodos muy simples de usar, y esta capacidad de cambiar la forma y el tamaño de los arrays es fundamental en NumPy, ya que permite manipular y preparar datos para el análisis, la visualización y el modelado. Estas operaciones son eficientes y flexibles, y facilitan el trabajo con conjuntos de datos complejos."
   ]
  },
  {
   "cell_type": "code",
   "execution_count": null,
   "id": "b83cfc95",
   "metadata": {},
   "outputs": [],
   "source": []
  }
 ],
 "metadata": {
  "kernelspec": {
   "display_name": "Python 3 (ipykernel)",
   "language": "python",
   "name": "python3"
  },
  "language_info": {
   "codemirror_mode": {
    "name": "ipython",
    "version": 3
   },
   "file_extension": ".py",
   "mimetype": "text/x-python",
   "name": "python",
   "nbconvert_exporter": "python",
   "pygments_lexer": "ipython3",
   "version": "3.11.5"
  }
 },
 "nbformat": 4,
 "nbformat_minor": 5
}
