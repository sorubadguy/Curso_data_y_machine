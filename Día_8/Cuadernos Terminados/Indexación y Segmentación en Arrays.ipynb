{
 "cells": [
  {
   "attachments": {},
   "cell_type": "markdown",
   "id": "6be6c534",
   "metadata": {},
   "source": [
    "# Indexación y Segmentación de Arrays\n",
    "\n",
    "En esta lección vamos a aprender cómo:\n",
    "* **acceder a elementos específicos** de un array de NumPy a través de la **indexación**,\n",
    "* cortar (o hacer **slicing**) a nuestros arrays para obtener subconjuntos\n",
    "* usar **índices booleanos** para filtrar datos en los arrays.\n",
    "\n",
    "Mucho por aprender así que comencemos.\n",
    "\n",
    "### Indexar Arrays\n",
    "\n",
    "En NumPy, puedes acceder a elementos específicos de un array de la misma manera que en las listas de Python, utilizando **índices**.\n",
    "\n",
    "PAra estos ejemplos voy a crear dos arrays: uno unidimensional y otro bidimensional."
   ]
  },
  {
   "cell_type": "code",
   "execution_count": 1,
   "id": "3f41f459",
   "metadata": {},
   "outputs": [],
   "source": [
    "import numpy as np"
   ]
  },
  {
   "cell_type": "code",
   "execution_count": 2,
   "id": "abee74ec",
   "metadata": {},
   "outputs": [],
   "source": [
    "array1d = np.array([1, 2, 3, 4, 5])"
   ]
  },
  {
   "cell_type": "code",
   "execution_count": 3,
   "id": "02b4206f",
   "metadata": {},
   "outputs": [],
   "source": [
    "array2d = np.array([[1, 2, 3],\n",
    "                    [4, 5, 6],\n",
    "                    [7, 8, 9]])"
   ]
  },
  {
   "cell_type": "markdown",
   "id": "ba33d68c",
   "metadata": {},
   "source": [
    "¿Queremos acceder al **primer elemento** de un **array unidimensional**?"
   ]
  },
  {
   "cell_type": "code",
   "execution_count": 4,
   "id": "4809af5b",
   "metadata": {},
   "outputs": [
    {
     "data": {
      "text/plain": [
       "1"
      ]
     },
     "execution_count": 4,
     "metadata": {},
     "output_type": "execute_result"
    }
   ],
   "source": [
    "array1d[0]"
   ]
  },
  {
   "attachments": {},
   "cell_type": "markdown",
   "id": "8eddef28",
   "metadata": {},
   "source": [
    "¿al último?"
   ]
  },
  {
   "cell_type": "code",
   "execution_count": 5,
   "id": "3e23d50e",
   "metadata": {},
   "outputs": [
    {
     "data": {
      "text/plain": [
       "5"
      ]
     },
     "execution_count": 5,
     "metadata": {},
     "output_type": "execute_result"
    }
   ],
   "source": [
    "array1d[-1]"
   ]
  },
  {
   "attachments": {},
   "cell_type": "markdown",
   "id": "9b39b03b",
   "metadata": {},
   "source": [
    "Fácil, esto es lo mismo que hacemos con las listas. Pero veamos qué pasa si hago lo mismo con mi array de **dos dimensiones**:"
   ]
  },
  {
   "cell_type": "code",
   "execution_count": 6,
   "id": "dad74b48",
   "metadata": {},
   "outputs": [
    {
     "data": {
      "text/plain": [
       "array([1, 2, 3])"
      ]
     },
     "execution_count": 6,
     "metadata": {},
     "output_type": "execute_result"
    }
   ],
   "source": [
    "array2d[0]"
   ]
  },
  {
   "attachments": {},
   "cell_type": "markdown",
   "id": "86b3cc18",
   "metadata": {},
   "source": [
    "Aquí lo que he obtenido es el primer elemento del array bidimensional, que es **la fila que se encuentra en el índice `0`**.\n",
    "\n",
    "Entonces si se da el caso de que yo quiero agarrar solamente el **numero 6** de este array (y no toda la fila en que se encuentra el 6), primero tengo que indexar la posición de la fila, y luego la posición del elemento 6."
   ]
  },
  {
   "cell_type": "code",
   "execution_count": 7,
   "id": "7afe1796",
   "metadata": {},
   "outputs": [
    {
     "data": {
      "text/plain": [
       "6"
      ]
     },
     "execution_count": 7,
     "metadata": {},
     "output_type": "execute_result"
    }
   ],
   "source": [
    "array2d[1][2]"
   ]
  },
  {
   "attachments": {},
   "cell_type": "markdown",
   "id": "90e0cea6",
   "metadata": {},
   "source": [
    "O también puedo escribirlo así… y es lo mismo."
   ]
  },
  {
   "cell_type": "code",
   "execution_count": 8,
   "id": "037e7776",
   "metadata": {},
   "outputs": [
    {
     "data": {
      "text/plain": [
       "6"
      ]
     },
     "execution_count": 8,
     "metadata": {},
     "output_type": "execute_result"
    }
   ],
   "source": [
    "array2d[1, 2]"
   ]
  },
  {
   "cell_type": "markdown",
   "id": "3ee9ec5c",
   "metadata": {},
   "source": [
    "### Seleccionar Subconjuntos (Slicing)\n",
    "\n",
    "Otra estrategia que ya conocemos en Python, y que también podemos aplicar con los arrays de NumPy, es el **slicing**, para seleccionar subconjuntos de datos.\n",
    "\n",
    "Para un array de **una dimensión**, lo aplicamos exactamente igual que con las listas:"
   ]
  },
  {
   "cell_type": "code",
   "execution_count": 9,
   "id": "ba0b41cf",
   "metadata": {},
   "outputs": [
    {
     "data": {
      "text/plain": [
       "array([2, 3, 4])"
      ]
     },
     "execution_count": 9,
     "metadata": {},
     "output_type": "execute_result"
    }
   ],
   "source": [
    "array1d[1:4]"
   ]
  },
  {
   "attachments": {},
   "cell_type": "markdown",
   "id": "0687e2ed",
   "metadata": {},
   "source": [
    "Para arrays **bidimensionales**, puedes hacer slicing tanto en filas como en columnas.\n",
    "\n",
    "Supongamos que quiero obtener la **segunda fila** completa:"
   ]
  },
  {
   "cell_type": "code",
   "execution_count": 10,
   "id": "071b1dd0",
   "metadata": {},
   "outputs": [
    {
     "data": {
      "text/plain": [
       "array([4, 5, 6])"
      ]
     },
     "execution_count": 10,
     "metadata": {},
     "output_type": "execute_result"
    }
   ],
   "source": [
    "array2d[1, :]"
   ]
  },
  {
   "attachments": {},
   "cell_type": "markdown",
   "id": "80da172c",
   "metadata": {},
   "source": [
    "Pero si quiero obtener los **dos últimos números** de esa fila:"
   ]
  },
  {
   "cell_type": "code",
   "execution_count": 11,
   "id": "11f69606",
   "metadata": {},
   "outputs": [
    {
     "data": {
      "text/plain": [
       "array([5, 6])"
      ]
     },
     "execution_count": 11,
     "metadata": {},
     "output_type": "execute_result"
    }
   ],
   "source": [
    "array2d[1, 1:3]"
   ]
  },
  {
   "attachments": {},
   "cell_type": "markdown",
   "id": "a0ce2ba1",
   "metadata": {},
   "source": [
    "También podemos usar el slicing para obtener **una columna completa**, por ejemplo la **columna del medio**:"
   ]
  },
  {
   "cell_type": "code",
   "execution_count": 12,
   "id": "4784d528",
   "metadata": {},
   "outputs": [
    {
     "data": {
      "text/plain": [
       "array([2, 5, 8])"
      ]
     },
     "execution_count": 12,
     "metadata": {},
     "output_type": "execute_result"
    }
   ],
   "source": [
    "array2d[:, 1]"
   ]
  },
  {
   "attachments": {},
   "cell_type": "markdown",
   "id": "77f0fa42",
   "metadata": {},
   "source": [
    "Y un caso particular sería que queramos obtener los **dos primeros números** de las **primeras dos filas** y las **primeras dos columnas**, por ejemplo:"
   ]
  },
  {
   "cell_type": "code",
   "execution_count": 13,
   "id": "e84751e6",
   "metadata": {
    "scrolled": true
   },
   "outputs": [
    {
     "data": {
      "text/plain": [
       "array([[1, 2],\n",
       "       [4, 5]])"
      ]
     },
     "execution_count": 13,
     "metadata": {},
     "output_type": "execute_result"
    }
   ],
   "source": [
    "array2d[:2, :2]"
   ]
  },
  {
   "attachments": {},
   "cell_type": "markdown",
   "id": "0052c1a9",
   "metadata": {},
   "source": [
    "### Indexación Booleana\n",
    "\n",
    "Y por último, quiero presentarte la indexación booleana, que nos permite seleccionar elementos de un array **que cumplan con una condición específica**.\n",
    "\n",
    "Por ejemplo, quiero identificar qué números de mi array unidimensional son **mayores a 3**:"
   ]
  },
  {
   "cell_type": "code",
   "execution_count": 14,
   "id": "00e2a7fe",
   "metadata": {},
   "outputs": [
    {
     "data": {
      "text/plain": [
       "array([False, False, False,  True,  True])"
      ]
     },
     "execution_count": 14,
     "metadata": {},
     "output_type": "execute_result"
    }
   ],
   "source": [
    "array1d > 3"
   ]
  },
  {
   "attachments": {},
   "cell_type": "markdown",
   "id": "80c47b87",
   "metadata": {},
   "source": [
    "O talvez en mi array de dos dimensiones quiero ver **qué números son pares**:"
   ]
  },
  {
   "cell_type": "code",
   "execution_count": 15,
   "id": "e818a6ba",
   "metadata": {},
   "outputs": [
    {
     "data": {
      "text/plain": [
       "array([[False,  True, False],\n",
       "       [ True, False,  True],\n",
       "       [False,  True, False]])"
      ]
     },
     "execution_count": 15,
     "metadata": {},
     "output_type": "execute_result"
    }
   ],
   "source": [
    "array2d % 2 == 0"
   ]
  },
  {
   "cell_type": "markdown",
   "id": "1ff481dc",
   "metadata": {},
   "source": [
    "La **indexación** y el **slicing** son herramientas poderosas en NumPy, ya que te permiten acceder y manipular datos de manera eficiente. \n",
    "\n",
    "La **indexación booleana**, en particular, aunque por ahora parezca sólo un juego de lógica divertido, es extremadamente útil para el análisis de datos, ya que permite filtrar datos según condiciones específicas, y vas a ir conociendo su utilidad práctica con el tiempo. "
   ]
  },
  {
   "cell_type": "code",
   "execution_count": null,
   "id": "8ce80016",
   "metadata": {},
   "outputs": [],
   "source": []
  }
 ],
 "metadata": {
  "kernelspec": {
   "display_name": "Python 3 (ipykernel)",
   "language": "python",
   "name": "python3"
  },
  "language_info": {
   "codemirror_mode": {
    "name": "ipython",
    "version": 3
   },
   "file_extension": ".py",
   "mimetype": "text/x-python",
   "name": "python",
   "nbconvert_exporter": "python",
   "pygments_lexer": "ipython3",
   "version": "3.11.5"
  }
 },
 "nbformat": 4,
 "nbformat_minor": 5
}
