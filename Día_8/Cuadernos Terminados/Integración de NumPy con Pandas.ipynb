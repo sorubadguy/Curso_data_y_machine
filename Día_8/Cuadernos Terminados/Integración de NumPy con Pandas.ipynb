{
 "cells": [
  {
   "attachments": {},
   "cell_type": "markdown",
   "id": "2f6f28c6",
   "metadata": {},
   "source": [
    "# Integración de NumPy con Pandas\n",
    "\n",
    "El objetivo de esta lección es que puedas comprender cómo pueden trabajar juntos NumPy y Pandas en el análisis de datos.\n",
    "\n",
    "Para eso, vamos a aprender a **convertir estructuras de datos** entre Pandas y NumPy.\n",
    "\n",
    "Pandas, como hemos visto, es una biblioteca de Python que proporciona estructuras de datos (*Series* y *DataFrames*), así como también nos brinda muchas y muy importantes herramientas de análisis de datos.\n",
    "\n",
    "NumPy y Pandas están estrechamente integrados, y de hecho, **Pandas se basa en NumPy** para realizar muchas de sus operaciones.\n",
    "\n",
    "Comencemos **importando ambas bibliotecas**, para disponer de todos los recursos de Pandas y de NumPy en un mismo cuaderno."
   ]
  },
  {
   "cell_type": "code",
   "execution_count": 1,
   "id": "0ae05fb1",
   "metadata": {},
   "outputs": [],
   "source": [
    "import pandas as pd\n",
    "import numpy as np"
   ]
  },
  {
   "cell_type": "markdown",
   "id": "77b77bd6",
   "metadata": {},
   "source": [
    "Ahora voy a crear un pequeño DataFrame de ejemplo."
   ]
  },
  {
   "cell_type": "code",
   "execution_count": 2,
   "id": "021a4dfd",
   "metadata": {},
   "outputs": [
    {
     "data": {
      "text/html": [
       "<div>\n",
       "<style scoped>\n",
       "    .dataframe tbody tr th:only-of-type {\n",
       "        vertical-align: middle;\n",
       "    }\n",
       "\n",
       "    .dataframe tbody tr th {\n",
       "        vertical-align: top;\n",
       "    }\n",
       "\n",
       "    .dataframe thead th {\n",
       "        text-align: right;\n",
       "    }\n",
       "</style>\n",
       "<table border=\"1\" class=\"dataframe\">\n",
       "  <thead>\n",
       "    <tr style=\"text-align: right;\">\n",
       "      <th></th>\n",
       "      <th>Impares</th>\n",
       "      <th>Pares</th>\n",
       "    </tr>\n",
       "  </thead>\n",
       "  <tbody>\n",
       "    <tr>\n",
       "      <th>0</th>\n",
       "      <td>1</td>\n",
       "      <td>2</td>\n",
       "    </tr>\n",
       "    <tr>\n",
       "      <th>1</th>\n",
       "      <td>3</td>\n",
       "      <td>4</td>\n",
       "    </tr>\n",
       "    <tr>\n",
       "      <th>2</th>\n",
       "      <td>5</td>\n",
       "      <td>6</td>\n",
       "    </tr>\n",
       "  </tbody>\n",
       "</table>\n",
       "</div>"
      ],
      "text/plain": [
       "   Impares  Pares\n",
       "0        1      2\n",
       "1        3      4\n",
       "2        5      6"
      ]
     },
     "execution_count": 2,
     "metadata": {},
     "output_type": "execute_result"
    }
   ],
   "source": [
    "df = pd.DataFrame({\n",
    "    'Impares': [1, 3, 5],\n",
    "    'Pares': [2, 4, 6]\n",
    "})\n",
    "df"
   ]
  },
  {
   "attachments": {},
   "cell_type": "markdown",
   "id": "396b46b7",
   "metadata": {},
   "source": [
    "Ahora veamos cómo convertir DataFrames de Pandas en Arrays de NumPy.\n",
    "\n",
    "Esto es algo que podemos lograr de dos maneras:\n",
    "* con el atributo `.values`."
   ]
  },
  {
   "cell_type": "code",
   "execution_count": 3,
   "id": "76bcf6d5",
   "metadata": {},
   "outputs": [
    {
     "data": {
      "text/plain": [
       "array([[1, 2],\n",
       "       [3, 4],\n",
       "       [5, 6]], dtype=int64)"
      ]
     },
     "execution_count": 3,
     "metadata": {},
     "output_type": "execute_result"
    }
   ],
   "source": [
    "array_np1 = df.values\n",
    "array_np1"
   ]
  },
  {
   "cell_type": "markdown",
   "id": "b2655a73",
   "metadata": {},
   "source": [
    " * con el método `to_numpy()`."
   ]
  },
  {
   "cell_type": "code",
   "execution_count": 4,
   "id": "5989af13",
   "metadata": {},
   "outputs": [
    {
     "data": {
      "text/plain": [
       "array([[1, 2],\n",
       "       [3, 4],\n",
       "       [5, 6]], dtype=int64)"
      ]
     },
     "execution_count": 4,
     "metadata": {},
     "output_type": "execute_result"
    }
   ],
   "source": [
    "array_np2 = df.to_numpy()\n",
    "array_np2"
   ]
  },
  {
   "attachments": {},
   "cell_type": "markdown",
   "id": "9b7f2921",
   "metadata": {},
   "source": [
    "Ahora veamos cómo podemos hacer operaciones con Arrays de NumPy… en Pandas.\n",
    "\n",
    "Y lo genial de esto es que como **Pandas se basa en NumPy**, entonces las operaciones de NumPy **se pueden aplicar directamente** a columnas o filas de los DataFrames de Pandas."
   ]
  },
  {
   "cell_type": "code",
   "execution_count": 5,
   "id": "2511e422",
   "metadata": {},
   "outputs": [
    {
     "data": {
      "text/html": [
       "<div>\n",
       "<style scoped>\n",
       "    .dataframe tbody tr th:only-of-type {\n",
       "        vertical-align: middle;\n",
       "    }\n",
       "\n",
       "    .dataframe tbody tr th {\n",
       "        vertical-align: top;\n",
       "    }\n",
       "\n",
       "    .dataframe thead th {\n",
       "        text-align: right;\n",
       "    }\n",
       "</style>\n",
       "<table border=\"1\" class=\"dataframe\">\n",
       "  <thead>\n",
       "    <tr style=\"text-align: right;\">\n",
       "      <th></th>\n",
       "      <th>Impares</th>\n",
       "      <th>Pares</th>\n",
       "    </tr>\n",
       "  </thead>\n",
       "  <tbody>\n",
       "    <tr>\n",
       "      <th>0</th>\n",
       "      <td>1.000000</td>\n",
       "      <td>1.414214</td>\n",
       "    </tr>\n",
       "    <tr>\n",
       "      <th>1</th>\n",
       "      <td>1.732051</td>\n",
       "      <td>2.000000</td>\n",
       "    </tr>\n",
       "    <tr>\n",
       "      <th>2</th>\n",
       "      <td>2.236068</td>\n",
       "      <td>2.449490</td>\n",
       "    </tr>\n",
       "  </tbody>\n",
       "</table>\n",
       "</div>"
      ],
      "text/plain": [
       "    Impares     Pares\n",
       "0  1.000000  1.414214\n",
       "1  1.732051  2.000000\n",
       "2  2.236068  2.449490"
      ]
     },
     "execution_count": 5,
     "metadata": {},
     "output_type": "execute_result"
    }
   ],
   "source": [
    "np.sqrt(df)"
   ]
  },
  {
   "cell_type": "code",
   "execution_count": 6,
   "id": "9a4cba76",
   "metadata": {},
   "outputs": [
    {
     "data": {
      "text/plain": [
       "6"
      ]
     },
     "execution_count": 6,
     "metadata": {},
     "output_type": "execute_result"
    }
   ],
   "source": [
    "np.max(df)"
   ]
  },
  {
   "attachments": {},
   "cell_type": "markdown",
   "id": "367afc81",
   "metadata": {},
   "source": [
    "Entonces, como verás, no tendrás problema en aplicar todos los recursos que brinda NumPy en tus objetos de Pandas. Esto sí que es una gran virtud de ambas librerías.\n",
    "\n",
    "Ahora veamos el proceso contrario al que hicimos antes, y veamos **cómo convertir Arrays de NumPy en DataFrames de Pandas**.\n",
    "\n",
    "Esto es muy útil para también poder aprovechar las funcionalidades de Pandas en la manipulación de datos, y se logra simplemente pasando el array como argumento del método `DataFrame()`."
   ]
  },
  {
   "cell_type": "code",
   "execution_count": 7,
   "id": "d36e898b",
   "metadata": {},
   "outputs": [
    {
     "data": {
      "text/html": [
       "<div>\n",
       "<style scoped>\n",
       "    .dataframe tbody tr th:only-of-type {\n",
       "        vertical-align: middle;\n",
       "    }\n",
       "\n",
       "    .dataframe tbody tr th {\n",
       "        vertical-align: top;\n",
       "    }\n",
       "\n",
       "    .dataframe thead th {\n",
       "        text-align: right;\n",
       "    }\n",
       "</style>\n",
       "<table border=\"1\" class=\"dataframe\">\n",
       "  <thead>\n",
       "    <tr style=\"text-align: right;\">\n",
       "      <th></th>\n",
       "      <th>0</th>\n",
       "      <th>1</th>\n",
       "    </tr>\n",
       "  </thead>\n",
       "  <tbody>\n",
       "    <tr>\n",
       "      <th>0</th>\n",
       "      <td>1</td>\n",
       "      <td>2</td>\n",
       "    </tr>\n",
       "    <tr>\n",
       "      <th>1</th>\n",
       "      <td>3</td>\n",
       "      <td>4</td>\n",
       "    </tr>\n",
       "    <tr>\n",
       "      <th>2</th>\n",
       "      <td>5</td>\n",
       "      <td>6</td>\n",
       "    </tr>\n",
       "  </tbody>\n",
       "</table>\n",
       "</div>"
      ],
      "text/plain": [
       "   0  1\n",
       "0  1  2\n",
       "1  3  4\n",
       "2  5  6"
      ]
     },
     "execution_count": 7,
     "metadata": {},
     "output_type": "execute_result"
    }
   ],
   "source": [
    "df_desde_np = pd.DataFrame(array_np1)\n",
    "df_desde_np"
   ]
  },
  {
   "attachments": {},
   "cell_type": "markdown",
   "id": "fb7709a0",
   "metadata": {},
   "source": [
    "Observa, eso sí, que como los arrays no tienen columnas propiamente dichas, tampoco tienen nombres de columnas, y por eso al convertirse en DataFrame, Pandas le asigna automáticamente números a los encabezados de las columnas.\n",
    "\n",
    "Si quieres elegir nombres personalizados para tus columnas, lo puedes hacer con el parámetro `columns`:"
   ]
  },
  {
   "cell_type": "code",
   "execution_count": 8,
   "id": "97be0b1b",
   "metadata": {},
   "outputs": [
    {
     "data": {
      "text/html": [
       "<div>\n",
       "<style scoped>\n",
       "    .dataframe tbody tr th:only-of-type {\n",
       "        vertical-align: middle;\n",
       "    }\n",
       "\n",
       "    .dataframe tbody tr th {\n",
       "        vertical-align: top;\n",
       "    }\n",
       "\n",
       "    .dataframe thead th {\n",
       "        text-align: right;\n",
       "    }\n",
       "</style>\n",
       "<table border=\"1\" class=\"dataframe\">\n",
       "  <thead>\n",
       "    <tr style=\"text-align: right;\">\n",
       "      <th></th>\n",
       "      <th>Col1</th>\n",
       "      <th>Col2</th>\n",
       "    </tr>\n",
       "  </thead>\n",
       "  <tbody>\n",
       "    <tr>\n",
       "      <th>0</th>\n",
       "      <td>1</td>\n",
       "      <td>2</td>\n",
       "    </tr>\n",
       "    <tr>\n",
       "      <th>1</th>\n",
       "      <td>3</td>\n",
       "      <td>4</td>\n",
       "    </tr>\n",
       "    <tr>\n",
       "      <th>2</th>\n",
       "      <td>5</td>\n",
       "      <td>6</td>\n",
       "    </tr>\n",
       "  </tbody>\n",
       "</table>\n",
       "</div>"
      ],
      "text/plain": [
       "   Col1  Col2\n",
       "0     1     2\n",
       "1     3     4\n",
       "2     5     6"
      ]
     },
     "execution_count": 8,
     "metadata": {},
     "output_type": "execute_result"
    }
   ],
   "source": [
    "df_desde_np = pd.DataFrame(array_np1, columns=['Col1', 'Col2'])\n",
    "df_desde_np"
   ]
  },
  {
   "cell_type": "markdown",
   "id": "1e38f9e6",
   "metadata": {},
   "source": [
    "La cuestión es que ahora mi array ya es un DataFrame, y puedo disponer de todos los recursos de Pandas para hacer análisis sobre esta información. **¿Qué recursos?** Literalmente todos.\n",
    "\n",
    "Puedo usar las estrategias de agrupación y de filtrado de Pandas en mis arrays, o puedo usar las operaciones avanzadas de NumPy en mis DataFrames y Series de Pandas.\n",
    "\n",
    "Esto es un montón, y nos deja un poco más cerca de nuestro objetivo de ser científicos de datos."
   ]
  }
 ],
 "metadata": {
  "kernelspec": {
   "display_name": "Python 3 (ipykernel)",
   "language": "python",
   "name": "python3"
  },
  "language_info": {
   "codemirror_mode": {
    "name": "ipython",
    "version": 3
   },
   "file_extension": ".py",
   "mimetype": "text/x-python",
   "name": "python",
   "nbconvert_exporter": "python",
   "pygments_lexer": "ipython3",
   "version": "3.11.5"
  }
 },
 "nbformat": 4,
 "nbformat_minor": 5
}
