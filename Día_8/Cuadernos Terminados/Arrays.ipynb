{
 "cells": [
  {
   "attachments": {},
   "cell_type": "markdown",
   "id": "89fdcc78",
   "metadata": {},
   "source": [
    "# Arrays\n",
    "\n",
    "Como te mencioné en la lección anterior, además de brindarnos herramientas de algoritmos matemáticos muy poderosas (y que vamos a ir conociendo en las próximas lecciones), **NumPy** nos brinda un **nuevo tipo de datos** que es una estructura de datos, en realidad, y que se llama **array**.\n",
    "\n",
    "Como a mí me gusta explicar las cosas visualmente, primero vamos a crear nuestro primer array, y luego te lo explico mejor:"
   ]
  },
  {
   "cell_type": "code",
   "execution_count": 10,
   "id": "a810be89",
   "metadata": {},
   "outputs": [],
   "source": [
    "import numpy as np\n",
    "import time"
   ]
  },
  {
   "cell_type": "code",
   "execution_count": 11,
   "id": "4538ca28",
   "metadata": {},
   "outputs": [
    {
     "data": {
      "text/plain": [
       "array([1, 2, 3, 4, 5])"
      ]
     },
     "execution_count": 11,
     "metadata": {},
     "output_type": "execute_result"
    }
   ],
   "source": [
    "mi_array = np.array([1, 2, 3, 4, 5])\n",
    "mi_array"
   ]
  },
  {
   "attachments": {},
   "cell_type": "markdown",
   "id": "311c445e",
   "metadata": {},
   "source": [
    "Puede que en este momento estés pensando \"*Fede, eso es una lista*\". Bueno, la verdad que es muy parecido, pero el array de NumPy es **mucho más rápido** y **más poderoso**, y a esto lo vamos a comprobar en un instante. Pero antes, para despejar toda duda…"
   ]
  },
  {
   "cell_type": "code",
   "execution_count": 3,
   "id": "eb69c934",
   "metadata": {},
   "outputs": [
    {
     "data": {
      "text/plain": [
       "numpy.ndarray"
      ]
     },
     "execution_count": 3,
     "metadata": {},
     "output_type": "execute_result"
    }
   ],
   "source": [
    "type(mi_array)"
   ]
  },
  {
   "attachments": {},
   "cell_type": "markdown",
   "id": "f4a63faf",
   "metadata": {},
   "source": [
    "Para comparar la *velocidad* de un **array** versus una **lista**, tenemos que trabajar con objetos más grandes y pesados, donde la velocidad va a ser más evidente.\n",
    "\n",
    "Para eso voy a crear dos objetos nuevos (una lista y un array) que contengan **un millón de elementos**:"
   ]
  },
  {
   "cell_type": "code",
   "execution_count": 12,
   "id": "118ce283",
   "metadata": {},
   "outputs": [],
   "source": [
    "lista_grande = list(range(1000000))\n",
    "array_grande = np.array(lista_grande)"
   ]
  },
  {
   "cell_type": "code",
   "execution_count": 5,
   "id": "69ba9faf",
   "metadata": {},
   "outputs": [
    {
     "data": {
      "text/plain": [
       "list"
      ]
     },
     "execution_count": 5,
     "metadata": {},
     "output_type": "execute_result"
    }
   ],
   "source": [
    "type(lista_grande)"
   ]
  },
  {
   "cell_type": "code",
   "execution_count": 6,
   "id": "40690fc6",
   "metadata": {},
   "outputs": [
    {
     "data": {
      "text/plain": [
       "numpy.ndarray"
      ]
     },
     "execution_count": 6,
     "metadata": {},
     "output_type": "execute_result"
    }
   ],
   "source": [
    "type(array_grande)"
   ]
  },
  {
   "attachments": {},
   "cell_type": "markdown",
   "id": "f7f929b4",
   "metadata": {},
   "source": [
    "Para medir el tiempo, he tenido que importar en la primera celda de este cuaderno, una librería de python llamada `time`, que nos brinda algunas herramientas para medir el tiempo que toma en ejecutarse un determinado código.\n",
    "\n",
    "Imaginemos que quiero obtener el **cuadrado** de cada número que hay en mis nuevos objetos. Estamos hablando de multiplicar al cuadrado un millón de números en cada uno de ellos. El objetivo de hacer esto, es para medir cuánto tiempo tarda la *lista*, y cuánto tarda el *array*, para ver **cuál es más eficiente**.\n",
    "\n",
    "Para lograr eso, `time` me va a permitir crear marcas de tiempo antes y después de ejecutar mi código, y así poder ver cuánto ha durado su ejecución:"
   ]
  },
  {
   "cell_type": "code",
   "execution_count": 13,
   "id": "cc2a84ce",
   "metadata": {},
   "outputs": [
    {
     "name": "stdout",
     "output_type": "stream",
     "text": [
      "Tiempo lista:  0.23846125602722168\n"
     ]
    }
   ],
   "source": [
    "inicio_lista = time.time()\n",
    "for i in lista_grande:\n",
    "    i ** 2\n",
    "fin_lista = time.time()\n",
    "print(\"Tiempo lista: \", fin_lista - inicio_lista)"
   ]
  },
  {
   "attachments": {},
   "cell_type": "markdown",
   "id": "eeee0e28",
   "metadata": {},
   "source": [
    "Ahora voy a hacer lo mismo pero en vez de trabajar con `lista_grande`, voy a trabajar con `array_grande`:"
   ]
  },
  {
   "cell_type": "code",
   "execution_count": 14,
   "id": "5d4316f3",
   "metadata": {},
   "outputs": [
    {
     "name": "stdout",
     "output_type": "stream",
     "text": [
      "Tiempo array:  0.003989458084106445\n"
     ]
    }
   ],
   "source": [
    "inicio_array = time.time()\n",
    "array_grande ** 2\n",
    "fin_array = time.time()\n",
    "print(\"Tiempo array: \", fin_array - inicio_array)"
   ]
  },
  {
   "attachments": {},
   "cell_type": "markdown",
   "id": "00ac4878",
   "metadata": {},
   "source": [
    "Observa la eficiencia con la que ha trabajado NumPy a través del array, para comenzar a comprender el poder de trabajar con este recurso.\n",
    "\n",
    "NumPy es una herramienta esencial en el mundo del Data Science por su **eficiencia**, por su **facilidad de uso** y por su **amplia adopción** en la comunidad científica y analítica.\n",
    "\n",
    "En las siguientes lecciones nos va a quedar bien clara su capacidad para realizar operaciones complejas y para manejar grandes conjuntos de datos, lo cual lo hace insustituible en el análisis de datos."
   ]
  },
  {
   "cell_type": "code",
   "execution_count": null,
   "id": "e805f2d7",
   "metadata": {},
   "outputs": [],
   "source": []
  }
 ],
 "metadata": {
  "kernelspec": {
   "display_name": "Python 3 (ipykernel)",
   "language": "python",
   "name": "python3"
  },
  "language_info": {
   "codemirror_mode": {
    "name": "ipython",
    "version": 3
   },
   "file_extension": ".py",
   "mimetype": "text/x-python",
   "name": "python",
   "nbconvert_exporter": "python",
   "pygments_lexer": "ipython3",
   "version": "3.11.5"
  }
 },
 "nbformat": 4,
 "nbformat_minor": 5
}
