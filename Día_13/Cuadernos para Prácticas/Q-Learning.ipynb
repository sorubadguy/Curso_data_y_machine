{
 "cells": [
  {
   "cell_type": "markdown",
   "id": "d0e048b7",
   "metadata": {},
   "source": [
    "![](Bellman.png)"
   ]
  },
  {
   "cell_type": "code",
   "execution_count": 1,
   "id": "4c248999",
   "metadata": {},
   "outputs": [],
   "source": [
    "import numpy as np\n",
    "import random\n"
   ]
  },
  {
   "cell_type": "code",
   "execution_count": 2,
   "id": "e0b8cea0",
   "metadata": {},
   "outputs": [],
   "source": [
    "dimensiones =(5,5)\n",
    "estado_inicial = (0,0)\n",
    "estado_objetivo = (4,4)\n",
    "obstaculos = [(1,1),(1,3),(2,3),(3,0)]\n",
    "acciones = [(-1,0),(1,0),(0,-1),(0,1)]"
   ]
  },
  {
   "cell_type": "code",
   "execution_count": 3,
   "id": "54ff1cb0",
   "metadata": {},
   "outputs": [
    {
     "data": {
      "text/plain": [
       "25"
      ]
     },
     "execution_count": 3,
     "metadata": {},
     "output_type": "execute_result"
    }
   ],
   "source": [
    "num_estados = dimensiones[0] * dimensiones[1]\n",
    "num_estados"
   ]
  },
  {
   "cell_type": "code",
   "execution_count": 4,
   "id": "d2c109ec",
   "metadata": {},
   "outputs": [
    {
     "data": {
      "text/plain": [
       "4"
      ]
     },
     "execution_count": 4,
     "metadata": {},
     "output_type": "execute_result"
    }
   ],
   "source": [
    "num_acciones = len(acciones)\n",
    "num_acciones"
   ]
  },
  {
   "cell_type": "code",
   "execution_count": 5,
   "id": "4c6ebf53",
   "metadata": {},
   "outputs": [
    {
     "data": {
      "text/plain": [
       "array([[0., 0., 0., 0.],\n",
       "       [0., 0., 0., 0.],\n",
       "       [0., 0., 0., 0.],\n",
       "       [0., 0., 0., 0.],\n",
       "       [0., 0., 0., 0.],\n",
       "       [0., 0., 0., 0.],\n",
       "       [0., 0., 0., 0.],\n",
       "       [0., 0., 0., 0.],\n",
       "       [0., 0., 0., 0.],\n",
       "       [0., 0., 0., 0.],\n",
       "       [0., 0., 0., 0.],\n",
       "       [0., 0., 0., 0.],\n",
       "       [0., 0., 0., 0.],\n",
       "       [0., 0., 0., 0.],\n",
       "       [0., 0., 0., 0.],\n",
       "       [0., 0., 0., 0.],\n",
       "       [0., 0., 0., 0.],\n",
       "       [0., 0., 0., 0.],\n",
       "       [0., 0., 0., 0.],\n",
       "       [0., 0., 0., 0.],\n",
       "       [0., 0., 0., 0.],\n",
       "       [0., 0., 0., 0.],\n",
       "       [0., 0., 0., 0.],\n",
       "       [0., 0., 0., 0.],\n",
       "       [0., 0., 0., 0.]])"
      ]
     },
     "execution_count": 5,
     "metadata": {},
     "output_type": "execute_result"
    }
   ],
   "source": [
    "Q = np.zeros((num_estados, num_acciones))\n",
    "Q"
   ]
  },
  {
   "cell_type": "code",
   "execution_count": 6,
   "id": "35ed71a0",
   "metadata": {},
   "outputs": [],
   "source": [
    "#! determina la posicion del estado dado de la matriz\n",
    "def estado_a_indice(estado):\n",
    "    return estado[0] * dimensiones[1] + estado[1]"
   ]
  },
  {
   "cell_type": "code",
   "execution_count": 7,
   "id": "d8c3aa2e",
   "metadata": {},
   "outputs": [
    {
     "data": {
      "text/plain": [
       "7"
      ]
     },
     "execution_count": 7,
     "metadata": {},
     "output_type": "execute_result"
    }
   ],
   "source": [
    "ejemplo = estado_a_indice((1,2))\n",
    "ejemplo"
   ]
  },
  {
   "cell_type": "code",
   "execution_count": 8,
   "id": "ebd7dec0",
   "metadata": {},
   "outputs": [],
   "source": [
    "alpha = 0.1 #determina cuanto se actualiza el ajente Q en cada iteracion\n",
    "gamma = 0.99 #factor de descuento, determina la importancia de las recompensas futuras\n",
    "epsilon = 0.2 #tasa de exploracion, determina la probabilidad de que el agente explore nuevas acciones en lugar de tomar la mejor que ya conoce\n",
    "episodios = 100 #cantidad de veces q se repite el proceso de aprendizaje\n"
   ]
  },
  {
   "cell_type": "code",
   "execution_count": 15,
   "id": "82dcde7e",
   "metadata": {},
   "outputs": [],
   "source": [
    "def elegir_accion(estado):\n",
    "    if random.uniform(0,1) < epsilon:\n",
    "        return random.choice(range(num_acciones))\n",
    "    else:\n",
    "        return np.argmax(Q[estado_a_indice(estado)])"
   ]
  },
  {
   "cell_type": "code",
   "execution_count": 10,
   "id": "ba7c1a1f",
   "metadata": {},
   "outputs": [],
   "source": [
    "def aplicar_accion(estado, accion_idx):\n",
    "    accion = acciones[accion_idx]\n",
    "    nuevo_estado = tuple(np.add(estado, accion) % dimensiones)\n",
    "\n",
    "    if nuevo_estado == obstaculos or nuevo_estado == estado:\n",
    "        return estado, -100, False\n",
    "    \n",
    "    if nuevo_estado == estado_objetivo:\n",
    "        return nuevo_estado, 100, True\n",
    "\n",
    "    return nuevo_estado, -1, False"
   ]
  },
  {
   "cell_type": "code",
   "execution_count": 17,
   "id": "72993a89",
   "metadata": {},
   "outputs": [],
   "source": [
    "for episodio in range(episodios):\n",
    "    estado = estado_inicial\n",
    "    terminado = False\n",
    "\n",
    "    while not terminado:\n",
    "        idx_estado = estado_a_indice(estado)\n",
    "        accion_idx = elegir_accion(estado)\n",
    "        nuevo_estado, recompensa, terminado = aplicar_accion(estado, accion_idx)\n",
    "        idx_nuevo_estado = estado_a_indice(nuevo_estado)\n",
    "\n",
    "        Q[idx_estado, accion_idx] = Q[idx_estado, accion_idx] + alpha + (recompensa + gamma * np.max(Q[idx_nuevo_estado]) - Q[idx_estado, accion_idx])\n",
    "        estado = nuevo_estado   "
   ]
  },
  {
   "cell_type": "code",
   "execution_count": 18,
   "id": "ed640142",
   "metadata": {},
   "outputs": [
    {
     "data": {
      "text/plain": [
       "array([[0, 0, 0, 0, 0],\n",
       "       [0, 0, 0, 0, 0],\n",
       "       [0, 0, 0, 0, 0],\n",
       "       [0, 0, 0, 0, 0],\n",
       "       [0, 0, 0, 0, 0]])"
      ]
     },
     "execution_count": 18,
     "metadata": {},
     "output_type": "execute_result"
    }
   ],
   "source": [
    "politica = np.zeros(dimensiones, dtype=int)\n",
    "politica"
   ]
  },
  {
   "cell_type": "code",
   "execution_count": 20,
   "id": "b2021341",
   "metadata": {},
   "outputs": [
    {
     "name": "stdout",
     "output_type": "stream",
     "text": [
      "Politica Aprendida: (0: arriba, 1: abajo, 2: izquierda, 3: derecha)\n"
     ]
    },
    {
     "data": {
      "text/plain": [
       "array([[0, 2, 2, 1, 0],\n",
       "       [2, 3, 2, 1, 0],\n",
       "       [1, 1, 2, 1, 0],\n",
       "       [1, 1, 2, 0, 1],\n",
       "       [2, 2, 3, 3, 0]])"
      ]
     },
     "execution_count": 20,
     "metadata": {},
     "output_type": "execute_result"
    }
   ],
   "source": [
    "for i in range(dimensiones[0]):\n",
    "    for j in range(dimensiones[1]):\n",
    "        estado = (i, j)\n",
    "        idx_estado = estado_a_indice(estado)\n",
    "        mejor_accion = np.argmax(Q[idx_estado])\n",
    "        politica[i][j] = mejor_accion\n",
    "\n",
    "print(\"Politica Aprendida: (0: arriba, 1: abajo, 2: izquierda, 3: derecha)\")\n",
    "politica"
   ]
  },
  {
   "cell_type": "code",
   "execution_count": null,
   "id": "c8cb4474",
   "metadata": {},
   "outputs": [],
   "source": []
  }
 ],
 "metadata": {
  "kernelspec": {
   "display_name": "venv",
   "language": "python",
   "name": "python3"
  },
  "language_info": {
   "codemirror_mode": {
    "name": "ipython",
    "version": 3
   },
   "file_extension": ".py",
   "mimetype": "text/x-python",
   "name": "python",
   "nbconvert_exporter": "python",
   "pygments_lexer": "ipython3",
   "version": "3.10.0"
  }
 },
 "nbformat": 4,
 "nbformat_minor": 5
}
