{
 "cells": [
  {
   "cell_type": "code",
   "execution_count": 1,
   "id": "ac5e1e8d",
   "metadata": {},
   "outputs": [],
   "source": [
    "import matplotlib.pyplot as plt\n",
    "import numpy as np\n",
    "from keras.datasets import mnist\n",
    "from keras.models import Sequential\n",
    "from keras.layers import Dense, Flatten\n",
    "from keras.utils import to_categorical"
   ]
  },
  {
   "cell_type": "code",
   "execution_count": 2,
   "id": "1217eb61",
   "metadata": {},
   "outputs": [],
   "source": [
    "(imagenes_entrenamiento, etiquetas_entrenamiento), (imagenes_prueba, etiquetas_prueba) = mnist.load_data()"
   ]
  },
  {
   "cell_type": "code",
   "execution_count": 3,
   "id": "6938970e",
   "metadata": {},
   "outputs": [],
   "source": [
    "imagenes_entrenamiento = imagenes_entrenamiento / 255.0\n",
    "imagenes_prueba = imagenes_prueba / 255.0"
   ]
  },
  {
   "cell_type": "code",
   "execution_count": 5,
   "id": "e43e0769",
   "metadata": {},
   "outputs": [
    {
     "data": {
      "text/plain": [
       "np.uint8(5)"
      ]
     },
     "execution_count": 5,
     "metadata": {},
     "output_type": "execute_result"
    }
   ],
   "source": [
    "etiquetas_entrenamiento[0]"
   ]
  },
  {
   "cell_type": "code",
   "execution_count": 6,
   "id": "1461e0b8",
   "metadata": {},
   "outputs": [],
   "source": [
    "etiquetas_entrenamiento = to_categorical(etiquetas_entrenamiento)\n",
    "etiquetas_prueba = to_categorical(etiquetas_prueba)"
   ]
  },
  {
   "cell_type": "code",
   "execution_count": 7,
   "id": "215e0af3",
   "metadata": {},
   "outputs": [
    {
     "data": {
      "text/plain": [
       "array([0., 0., 0., 0., 0., 1., 0., 0., 0., 0.])"
      ]
     },
     "execution_count": 7,
     "metadata": {},
     "output_type": "execute_result"
    }
   ],
   "source": [
    "etiquetas_entrenamiento[0]"
   ]
  },
  {
   "cell_type": "code",
   "execution_count": 9,
   "id": "16dfd154",
   "metadata": {},
   "outputs": [
    {
     "name": "stderr",
     "output_type": "stream",
     "text": [
      "c:\\Dev\\Curso_data_y_machine\\venv\\lib\\site-packages\\keras\\src\\layers\\reshaping\\flatten.py:37: UserWarning: Do not pass an `input_shape`/`input_dim` argument to a layer. When using Sequential models, prefer using an `Input(shape)` object as the first layer in the model instead.\n",
      "  super().__init__(**kwargs)\n"
     ]
    }
   ],
   "source": [
    "modelo = Sequential([\n",
    "    Flatten(input_shape=(28, 28)),\n",
    "    Dense(128, activation='relu'),\n",
    "    Dense(10, activation='softmax')\n",
    "])"
   ]
  },
  {
   "cell_type": "code",
   "execution_count": 10,
   "id": "def62263",
   "metadata": {},
   "outputs": [],
   "source": [
    "modelo.compile(optimizer='adam',\n",
    "                loss = 'categorical_crossentropy',\n",
    "                metrics=['accuracy'])"
   ]
  },
  {
   "cell_type": "code",
   "execution_count": 11,
   "id": "8fc45cfd",
   "metadata": {},
   "outputs": [
    {
     "name": "stdout",
     "output_type": "stream",
     "text": [
      "Epoch 1/5\n",
      "\u001b[1m1875/1875\u001b[0m \u001b[32m━━━━━━━━━━━━━━━━━━━━\u001b[0m\u001b[37m\u001b[0m \u001b[1m9s\u001b[0m 4ms/step - accuracy: 0.8775 - loss: 0.4350 - val_accuracy: 0.9566 - val_loss: 0.1480\n",
      "Epoch 2/5\n",
      "\u001b[1m1875/1875\u001b[0m \u001b[32m━━━━━━━━━━━━━━━━━━━━\u001b[0m\u001b[37m\u001b[0m \u001b[1m7s\u001b[0m 4ms/step - accuracy: 0.9657 - loss: 0.1186 - val_accuracy: 0.9692 - val_loss: 0.1029\n",
      "Epoch 3/5\n",
      "\u001b[1m1875/1875\u001b[0m \u001b[32m━━━━━━━━━━━━━━━━━━━━\u001b[0m\u001b[37m\u001b[0m \u001b[1m5s\u001b[0m 3ms/step - accuracy: 0.9753 - loss: 0.0811 - val_accuracy: 0.9739 - val_loss: 0.0835\n",
      "Epoch 4/5\n",
      "\u001b[1m1875/1875\u001b[0m \u001b[32m━━━━━━━━━━━━━━━━━━━━\u001b[0m\u001b[37m\u001b[0m \u001b[1m6s\u001b[0m 3ms/step - accuracy: 0.9824 - loss: 0.0587 - val_accuracy: 0.9744 - val_loss: 0.0808\n",
      "Epoch 5/5\n",
      "\u001b[1m1875/1875\u001b[0m \u001b[32m━━━━━━━━━━━━━━━━━━━━\u001b[0m\u001b[37m\u001b[0m \u001b[1m6s\u001b[0m 3ms/step - accuracy: 0.9866 - loss: 0.0449 - val_accuracy: 0.9772 - val_loss: 0.0698\n"
     ]
    },
    {
     "data": {
      "text/plain": [
       "<keras.src.callbacks.history.History at 0x1a81a1a11e0>"
      ]
     },
     "execution_count": 11,
     "metadata": {},
     "output_type": "execute_result"
    }
   ],
   "source": [
    "modelo.fit(imagenes_entrenamiento,\n",
    "            etiquetas_entrenamiento,\n",
    "            epochs = 5,\n",
    "            validation_data = (imagenes_prueba, etiquetas_prueba))"
   ]
  },
  {
   "cell_type": "code",
   "execution_count": 12,
   "id": "619ae8f0",
   "metadata": {},
   "outputs": [
    {
     "name": "stdout",
     "output_type": "stream",
     "text": [
      "\u001b[1m313/313\u001b[0m \u001b[32m━━━━━━━━━━━━━━━━━━━━\u001b[0m\u001b[37m\u001b[0m \u001b[1m1s\u001b[0m 2ms/step\n"
     ]
    }
   ],
   "source": [
    "predicciones = modelo.predict(imagenes_prueba)"
   ]
  },
  {
   "cell_type": "code",
   "execution_count": 17,
   "id": "7406cdac",
   "metadata": {},
   "outputs": [],
   "source": [
    "def ver_imagen(array_predicciones, etiqueta_real, img):\n",
    "    etiqueta_real, img = etiqueta_real.argmax(), img.squeeze()\n",
    "    plt.grid(False)\n",
    "    plt.xticks([])\n",
    "    plt.yticks([])\n",
    "\n",
    "    plt.imshow(img, cmap=plt.cm.binary)\n",
    "\n",
    "    etiqueta_predicha = np.argmax(array_predicciones)\n",
    "\n",
    "    if etiqueta_predicha == etiqueta_real:\n",
    "        color = 'blue'\n",
    "    else:\n",
    "        color = 'red'\n",
    "\n",
    "    plt.xlabel(f'Pred: {etiqueta_predicha} Real: {etiqueta_real}', color=color)"
   ]
  },
  {
   "cell_type": "code",
   "execution_count": 18,
   "id": "8df7db85",
   "metadata": {},
   "outputs": [
    {
     "data": {
      "image/png": "[encoded data removed]",
      "text/plain": [
       "<Figure size 2000x1000 with 15 Axes>"
      ]
     },
     "metadata": {},
     "output_type": "display_data"
    }
   ],
   "source": [
    "filas = 5\n",
    "columnas = 3\n",
    "numero_imagenes = filas * columnas\n",
    "plt.figure(figsize=(2*2*filas, 2*filas))\n",
    "\n",
    "for i in range(numero_imagenes):\n",
    "    plt.subplot(filas, 2*filas, 2*i+1)\n",
    "    ver_imagen(predicciones[i], etiquetas_prueba[i], imagenes_prueba[i])"
   ]
  },
  {
   "cell_type": "code",
   "execution_count": null,
   "id": "96b6b38c",
   "metadata": {},
   "outputs": [],
   "source": []
  }
 ],
 "metadata": {
  "kernelspec": {
   "display_name": "venv",
   "language": "python",
   "name": "python3"
  },
  "language_info": {
   "codemirror_mode": {
    "name": "ipython",
    "version": 3
   },
   "file_extension": ".py",
   "mimetype": "text/x-python",
   "name": "python",
   "nbconvert_exporter": "python",
   "pygments_lexer": "ipython3",
   "version": "3.10.0"
  }
 },
 "nbformat": 4,
 "nbformat_minor": 5
}
