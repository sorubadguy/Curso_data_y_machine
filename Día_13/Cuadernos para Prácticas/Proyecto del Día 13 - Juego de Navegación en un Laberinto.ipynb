{
 "cells": [
  {
   "cell_type": "markdown",
   "id": "d7bf2362",
   "metadata": {},
   "source": [
    "## Proyecto del Día 13 - Juego de Navegación en un Laberinto\n",
    "\n",
    "Este proyecto tiene como objetivo desarrollar un entorno de laberinto simple y aplicar un algoritmo de **Aprendizaje por Refuerzo** para enseñar a una IA a navegar desde un punto inicial hasta un objetivo.\n",
    "\n",
    "Dada la naturaleza de este proyecto, considero que el algoritmo más adecuado para este tipo de probleas es **Q-Learning**, por su facilidad de implelentación y comprensión, su estabilidad y su relación entre la exploración y la explotación.\n",
    "\n",
    "Por esa razón te propongo resolverlo usando ese algoritmo, aunque dejo a tu criterio si quieres resolverlo con otro algoritmo de tu elección. Siempre estaré a favor de que investigues, y expandas las habilidades propuestas por tu cuenta.\n",
    "\n",
    "### Descripción del Laberinto:\n",
    "\n",
    "El laberinto se representa como una matriz de dos dimensiones, donde cada elemento puede ser:\n",
    "+ un camino libre (0)\n",
    "+ un obstáculo (1)\n",
    "+ el objetivo (G)\n",
    "\n",
    "La tarea es desarrollar un agente que pueda aprender a encontrar el camino desde un punto de inicio hasta el objetivo evitando obstáculos.\n",
    "\n",
    "\n",
    "### Creación del Laberinto\n",
    "\n",
    "Debido a que el desafío de hoy es bastante complejo, y que el objetivo final no se trata de que sepas desarrollar laberintos, sino sistemas para resolverlos, voy a facilitar la tarea entregando en este cuaderno el código para generar nuestros laberintos.\n",
    "\n",
    "Tu parte será la siguiente, que es diseñar y entrenar un modelo de Q-Learning para resolver el laberinto de la manera mpas eficiente, y luego mostrar una visualización sobre cómo lo ha hecho.\n",
    "\n",
    "Te deseo toda la suerte del mundo, y sobre todo, que te diviertas de a montones."
   ]
  },
  {
   "cell_type": "code",
   "execution_count": 1,
   "id": "3e7ecc11",
   "metadata": {},
   "outputs": [],
   "source": [
    "# Librerías necesarias para todo el ejercicio\n",
    "import numpy as np\n",
    "import matplotlib.pyplot as plt\n",
    "import random"
   ]
  },
  {
   "cell_type": "code",
   "execution_count": 2,
   "id": "6370346d",
   "metadata": {},
   "outputs": [],
   "source": [
    "# Función para crear el laberinto\n",
    "def crear_laberinto(tamanio, porcentaje_paredes=20, inicio=(0, 0), meta=None):\n",
    "    laberinto = np.zeros((tamanio, tamanio)) #inicializo laberinto en con ceros\n",
    "    numero_paredes = int((tamanio * tamanio) * porcentaje_paredes / 100) #determino la cantidad de paredes que habran\n",
    "    \n",
    "    # Ubicar paredes\n",
    "    for pared in range(numero_paredes):\n",
    "        x, y = random.randint(0, tamanio-1), random.randint(0, tamanio-1)\n",
    "        \n",
    "        # Cuidar que inicio y meta no sean paredes\n",
    "        if (x, y) != inicio and (meta is None or (x, y) != meta):\n",
    "            laberinto[x, y] = 1\n",
    "            \n",
    "    # Ubicar la meta\n",
    "    if meta:\n",
    "        laberinto[meta] = 9  # Representa la meta con 9\n",
    "    else:\n",
    "        # Ubicar la meta aleatoriamente si no está especificado\n",
    "        while True:\n",
    "            x, y = random.randint(0, tamanio-1), random.randint(0, tamanio-1)\n",
    "            if laberinto[x, y] == 0 and (x, y) != inicio:\n",
    "                laberinto[x, y] = 9\n",
    "                break\n",
    "    \n",
    "    return laberinto"
   ]
  },
  {
   "cell_type": "code",
   "execution_count": 3,
   "id": "6c648cc8",
   "metadata": {},
   "outputs": [],
   "source": [
    "# Función para visualizar el laberinto\n",
    "def ver_laberinto(laberinto):\n",
    "    plt.figure(figsize=(5, 5))\n",
    "    plt.imshow(laberinto, cmap='hot', interpolation='nearest')\n",
    "    plt.colorbar();"
   ]
  },
  {
   "cell_type": "code",
   "execution_count": 4,
   "id": "10e052cc",
   "metadata": {},
   "outputs": [
    {
     "data": {
      "image/png": "[encoded data removed]",
      "text/plain": [
       "<Figure size 500x500 with 2 Axes>"
      ]
     },
     "metadata": {},
     "output_type": "display_data"
    }
   ],
   "source": [
    "# Ejemplo de crear y mostrar laberintos\n",
    "laberinto = crear_laberinto(10, 20, inicio=(0, 0), meta=(9, 9))\n",
    "ver_laberinto(laberinto)"
   ]
  },
  {
   "cell_type": "markdown",
   "id": "7f986ed5",
   "metadata": {},
   "source": [
    "### Ahora te toca a ti\n",
    "\n",
    "Lo que sigue es implementar todo el código para que un algoritmo de Q-Learning encuentre la manera más eficiente de llegar a la meta. Voy a dejarte los pasos que considero que son los necesarios para lograrlo\n",
    "\n",
    "##### 1. Parámetros para el algoritmo Q-Learning"
   ]
  },
  {
   "cell_type": "code",
   "execution_count": 5,
   "id": "234853df",
   "metadata": {},
   "outputs": [
    {
     "data": {
      "text/plain": [
       "array([[0., 0., 0., 0.],\n",
       "       [0., 0., 0., 0.],\n",
       "       [0., 0., 0., 0.],\n",
       "       [0., 0., 0., 0.],\n",
       "       [0., 0., 0., 0.],\n",
       "       [0., 0., 0., 0.],\n",
       "       [0., 0., 0., 0.],\n",
       "       [0., 0., 0., 0.],\n",
       "       [0., 0., 0., 0.],\n",
       "       [0., 0., 0., 0.],\n",
       "       [0., 0., 0., 0.],\n",
       "       [0., 0., 0., 0.],\n",
       "       [0., 0., 0., 0.],\n",
       "       [0., 0., 0., 0.],\n",
       "       [0., 0., 0., 0.],\n",
       "       [0., 0., 0., 0.],\n",
       "       [0., 0., 0., 0.],\n",
       "       [0., 0., 0., 0.],\n",
       "       [0., 0., 0., 0.],\n",
       "       [0., 0., 0., 0.],\n",
       "       [0., 0., 0., 0.],\n",
       "       [0., 0., 0., 0.],\n",
       "       [0., 0., 0., 0.],\n",
       "       [0., 0., 0., 0.],\n",
       "       [0., 0., 0., 0.],\n",
       "       [0., 0., 0., 0.],\n",
       "       [0., 0., 0., 0.],\n",
       "       [0., 0., 0., 0.],\n",
       "       [0., 0., 0., 0.],\n",
       "       [0., 0., 0., 0.],\n",
       "       [0., 0., 0., 0.],\n",
       "       [0., 0., 0., 0.],\n",
       "       [0., 0., 0., 0.],\n",
       "       [0., 0., 0., 0.],\n",
       "       [0., 0., 0., 0.],\n",
       "       [0., 0., 0., 0.],\n",
       "       [0., 0., 0., 0.],\n",
       "       [0., 0., 0., 0.],\n",
       "       [0., 0., 0., 0.],\n",
       "       [0., 0., 0., 0.],\n",
       "       [0., 0., 0., 0.],\n",
       "       [0., 0., 0., 0.],\n",
       "       [0., 0., 0., 0.],\n",
       "       [0., 0., 0., 0.],\n",
       "       [0., 0., 0., 0.],\n",
       "       [0., 0., 0., 0.],\n",
       "       [0., 0., 0., 0.],\n",
       "       [0., 0., 0., 0.],\n",
       "       [0., 0., 0., 0.],\n",
       "       [0., 0., 0., 0.],\n",
       "       [0., 0., 0., 0.],\n",
       "       [0., 0., 0., 0.],\n",
       "       [0., 0., 0., 0.],\n",
       "       [0., 0., 0., 0.],\n",
       "       [0., 0., 0., 0.],\n",
       "       [0., 0., 0., 0.],\n",
       "       [0., 0., 0., 0.],\n",
       "       [0., 0., 0., 0.],\n",
       "       [0., 0., 0., 0.],\n",
       "       [0., 0., 0., 0.],\n",
       "       [0., 0., 0., 0.],\n",
       "       [0., 0., 0., 0.],\n",
       "       [0., 0., 0., 0.],\n",
       "       [0., 0., 0., 0.],\n",
       "       [0., 0., 0., 0.],\n",
       "       [0., 0., 0., 0.],\n",
       "       [0., 0., 0., 0.],\n",
       "       [0., 0., 0., 0.],\n",
       "       [0., 0., 0., 0.],\n",
       "       [0., 0., 0., 0.],\n",
       "       [0., 0., 0., 0.],\n",
       "       [0., 0., 0., 0.],\n",
       "       [0., 0., 0., 0.],\n",
       "       [0., 0., 0., 0.],\n",
       "       [0., 0., 0., 0.],\n",
       "       [0., 0., 0., 0.],\n",
       "       [0., 0., 0., 0.],\n",
       "       [0., 0., 0., 0.],\n",
       "       [0., 0., 0., 0.],\n",
       "       [0., 0., 0., 0.],\n",
       "       [0., 0., 0., 0.],\n",
       "       [0., 0., 0., 0.],\n",
       "       [0., 0., 0., 0.],\n",
       "       [0., 0., 0., 0.],\n",
       "       [0., 0., 0., 0.],\n",
       "       [0., 0., 0., 0.],\n",
       "       [0., 0., 0., 0.],\n",
       "       [0., 0., 0., 0.],\n",
       "       [0., 0., 0., 0.],\n",
       "       [0., 0., 0., 0.],\n",
       "       [0., 0., 0., 0.],\n",
       "       [0., 0., 0., 0.],\n",
       "       [0., 0., 0., 0.],\n",
       "       [0., 0., 0., 0.],\n",
       "       [0., 0., 0., 0.],\n",
       "       [0., 0., 0., 0.],\n",
       "       [0., 0., 0., 0.],\n",
       "       [0., 0., 0., 0.],\n",
       "       [0., 0., 0., 0.],\n",
       "       [0., 0., 0., 0.]])"
      ]
     },
     "execution_count": 5,
     "metadata": {},
     "output_type": "execute_result"
    }
   ],
   "source": [
    "dimensiones = (laberinto.shape[0], laberinto.shape[1])\n",
    "estado_inicial = (0,0)\n",
    "movimientos = [(0,1),(0,-1),(1,0),(-1,0)] #Derecha, Izquierda, Abajo, Arriba\n",
    "num_estados = dimensiones[0] * dimensiones[1]\n",
    "num_acciones = len(movimientos)\n",
    "estado_final = ()\n",
    "obstaculos = []\n",
    "for i in range(len(laberinto)):\n",
    "    for j in range(len(laberinto[i])):\n",
    "        if laberinto[i][j] == 9:\n",
    "            estado_final = (i,j)\n",
    "        if laberinto[i][j] == 1:\n",
    "            obstaculos.append((i,j))\n",
    "\n",
    "Q = np.zeros((num_estados, num_acciones))\n",
    "Q"
   ]
  },
  {
   "cell_type": "markdown",
   "id": "125709aa",
   "metadata": {},
   "source": [
    "##### 2. Función para elegir acciones equilibrando entre explotación y exploración"
   ]
  },
  {
   "cell_type": "code",
   "execution_count": 6,
   "id": "abbd3e3c",
   "metadata": {},
   "outputs": [],
   "source": [
    "alpha = 0.1\n",
    "gamma = 0.9\n",
    "epsilon = 0.2\n",
    "episodios = 100\n",
    "\n",
    "def estado_a_indice(estado):\n",
    "    return estado[0] * dimensiones[1] + estado[1]\n",
    "\n",
    "def elegir_accion(estado):\n",
    "    if random.uniform(0, 1) < epsilon:\n",
    "        return random.choice(range(num_acciones))\n",
    "    else:\n",
    "        return np.argmax(Q[estado_a_indice(estado)])"
   ]
  },
  {
   "cell_type": "markdown",
   "id": "003a6550",
   "metadata": {},
   "source": [
    "##### 3. Función para simular la acción en el laberinto"
   ]
  },
  {
   "cell_type": "code",
   "execution_count": 12,
   "id": "f719b2e4",
   "metadata": {},
   "outputs": [],
   "source": [
    "def aplicar_accion(estado, accion_idx):\n",
    "    accion = movimientos[accion_idx]\n",
    "    nuevo_estado = tuple(np.add(estado, accion) % dimensiones)\n",
    "\n",
    "    if nuevo_estado == obstaculos or nuevo_estado == estado:\n",
    "        return estado, -100, False\n",
    "\n",
    "    if nuevo_estado == estado_final:\n",
    "        return nuevo_estado, 100, True\n",
    "    \n",
    "    return nuevo_estado, -1, False"
   ]
  },
  {
   "cell_type": "markdown",
   "id": "24c3dc48",
   "metadata": {},
   "source": [
    "##### 4. Función principal para ejecutar el algoritmo Q-Learning"
   ]
  },
  {
   "cell_type": "code",
   "execution_count": 13,
   "id": "5ee5259c",
   "metadata": {},
   "outputs": [],
   "source": [
    "for episodio in range(episodios):\n",
    "    estado = estado_inicial\n",
    "    terminado = False\n",
    "\n",
    "    while not terminado:\n",
    "        idx_estado = estado_a_indice(estado)\n",
    "        accion_idx = elegir_accion(estado)\n",
    "        nuevo_estado, recompensa, terminado = aplicar_accion(estado, accion_idx)\n",
    "        idx_nuevo_estado = estado_a_indice(nuevo_estado)\n",
    "\n",
    "        Q[idx_estado, accion_idx] = Q[idx_estado, accion_idx] + alpha * (recompensa + gamma * np.max(Q[idx_nuevo_estado]) - Q[idx_estado, accion_idx])\n",
    "        \n",
    "        estado = nuevo_estado"
   ]
  },
  {
   "cell_type": "markdown",
   "id": "bac97336",
   "metadata": {},
   "source": [
    "##### 5. Función para convertir coordenadas a índice lineal"
   ]
  },
  {
   "cell_type": "code",
   "execution_count": 15,
   "id": "b5311d5e",
   "metadata": {},
   "outputs": [
    {
     "data": {
      "text/plain": [
       "array([[0, 0, 0, 0, 0, 0, 0, 0, 0, 0],\n",
       "       [0, 0, 0, 0, 0, 0, 0, 0, 0, 0],\n",
       "       [0, 0, 0, 0, 0, 0, 0, 0, 0, 0],\n",
       "       [0, 0, 0, 0, 0, 0, 0, 0, 0, 0],\n",
       "       [0, 0, 0, 0, 0, 0, 0, 0, 0, 0],\n",
       "       [0, 0, 0, 0, 0, 0, 0, 0, 0, 0],\n",
       "       [0, 0, 0, 0, 0, 0, 0, 0, 0, 0],\n",
       "       [0, 0, 0, 0, 0, 0, 0, 0, 0, 0],\n",
       "       [0, 0, 0, 0, 0, 0, 0, 0, 0, 0],\n",
       "       [0, 0, 0, 0, 0, 0, 0, 0, 0, 0]])"
      ]
     },
     "execution_count": 15,
     "metadata": {},
     "output_type": "execute_result"
    }
   ],
   "source": [
    "politica = np.zeros(dimensiones, dtype=int)\n",
    "politica"
   ]
  },
  {
   "cell_type": "markdown",
   "id": "f60f0d38",
   "metadata": {},
   "source": [
    "##### 6. Iniciar el laberinto y configurar el algoritmo Q-Learning"
   ]
  },
  {
   "cell_type": "code",
   "execution_count": 17,
   "id": "2355b8a2",
   "metadata": {},
   "outputs": [],
   "source": [
    "for i in range(dimensiones[0]):\n",
    "    for j in range(dimensiones[1]):\n",
    "        estado = (i,j)\n",
    "        idx_estado = estado_a_indice(estado)\n",
    "        mejor_accion = np.argmax(Q[idx_estado])\n",
    "        politica[i, j] = mejor_accion"
   ]
  },
  {
   "cell_type": "markdown",
   "id": "addf32a0",
   "metadata": {},
   "source": [
    "##### 7. Función para mostrar el aprendizaje del agente"
   ]
  },
  {
   "cell_type": "code",
   "execution_count": 18,
   "id": "e42f818e",
   "metadata": {},
   "outputs": [
    {
     "name": "stdout",
     "output_type": "stream",
     "text": [
      "Política aprendida (0: arriba, 1: abajo, 2: izquierda, 3: derecha)\n",
      "[[3 1 2 0 3 0 3 3 3 3]\n",
      " [3 0 0 3 0 0 3 1 1 0]\n",
      " [2 1 1 3 1 2 2 3 0 0]\n",
      " [3 0 1 1 1 1 1 1 0 0]\n",
      " [0 0 0 2 0 0 0 0 3 0]\n",
      " [2 0 0 2 3 0 0 3 0 0]\n",
      " [3 2 0 2 3 0 3 1 1 0]\n",
      " [2 2 0 3 2 1 0 0 0 3]\n",
      " [1 3 0 0 2 0 2 0 0 2]\n",
      " [1 1 1 1 3 1 3 2 0 0]]\n"
     ]
    }
   ],
   "source": [
    "print(\"Política aprendida (0: arriba, 1: abajo, 2: izquierda, 3: derecha)\")\n",
    "print(politica)"
   ]
  },
  {
   "cell_type": "markdown",
   "id": "060cb8db",
   "metadata": {},
   "source": [
    "##### 8. Visualizar el resultado"
   ]
  },
  {
   "cell_type": "code",
   "execution_count": null,
   "id": "a38f1228",
   "metadata": {},
   "outputs": [],
   "source": []
  }
 ],
 "metadata": {
  "kernelspec": {
   "display_name": "venv",
   "language": "python",
   "name": "python3"
  },
  "language_info": {
   "codemirror_mode": {
    "name": "ipython",
    "version": 3
   },
   "file_extension": ".py",
   "mimetype": "text/x-python",
   "name": "python",
   "nbconvert_exporter": "python",
   "pygments_lexer": "ipython3",
   "version": "3.10.0"
  }
 },
 "nbformat": 4,
 "nbformat_minor": 5
}
