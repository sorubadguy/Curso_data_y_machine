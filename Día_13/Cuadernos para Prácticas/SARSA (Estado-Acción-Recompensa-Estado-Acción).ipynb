{
 "cells": [
  {
   "cell_type": "markdown",
   "id": "15e0be80",
   "metadata": {},
   "source": [
    "![](SARSA.png)"
   ]
  },
  {
   "cell_type": "code",
   "execution_count": 1,
   "id": "5a78d740",
   "metadata": {},
   "outputs": [],
   "source": [
    "import numpy as np\n",
    "import random\n",
    "import matplotlib.pyplot as plt"
   ]
  },
  {
   "cell_type": "code",
   "execution_count": 2,
   "id": "44da8a23",
   "metadata": {},
   "outputs": [],
   "source": [
    "dimensiones = (4,4)\n",
    "estado_inicial = (0,0)\n",
    "estado_objetibo = (3,3)\n",
    "acciones = [(0,-1),(0,1),(-1,0),(1,0)]\n",
    "acciones_simbolos = ('←','→','↑','↓')"
   ]
  },
  {
   "cell_type": "code",
   "execution_count": 3,
   "id": "4f064e36",
   "metadata": {},
   "outputs": [
    {
     "data": {
      "text/plain": [
       "16"
      ]
     },
     "execution_count": 3,
     "metadata": {},
     "output_type": "execute_result"
    }
   ],
   "source": [
    "num_estados = dimensiones[0] * dimensiones[1]\n",
    "num_estados"
   ]
  },
  {
   "cell_type": "code",
   "execution_count": 4,
   "id": "b364fdaa",
   "metadata": {},
   "outputs": [
    {
     "data": {
      "text/plain": [
       "4"
      ]
     },
     "execution_count": 4,
     "metadata": {},
     "output_type": "execute_result"
    }
   ],
   "source": [
    "num_acciones = len(acciones)\n",
    "num_acciones"
   ]
  },
  {
   "cell_type": "code",
   "execution_count": 5,
   "id": "fe03cef1",
   "metadata": {},
   "outputs": [
    {
     "data": {
      "text/plain": [
       "array([[0., 0., 0., 0.],\n",
       "       [0., 0., 0., 0.],\n",
       "       [0., 0., 0., 0.],\n",
       "       [0., 0., 0., 0.],\n",
       "       [0., 0., 0., 0.],\n",
       "       [0., 0., 0., 0.],\n",
       "       [0., 0., 0., 0.],\n",
       "       [0., 0., 0., 0.],\n",
       "       [0., 0., 0., 0.],\n",
       "       [0., 0., 0., 0.],\n",
       "       [0., 0., 0., 0.],\n",
       "       [0., 0., 0., 0.],\n",
       "       [0., 0., 0., 0.],\n",
       "       [0., 0., 0., 0.],\n",
       "       [0., 0., 0., 0.],\n",
       "       [0., 0., 0., 0.]])"
      ]
     },
     "execution_count": 5,
     "metadata": {},
     "output_type": "execute_result"
    }
   ],
   "source": [
    "Q = np.zeros((num_estados, num_acciones))\n",
    "Q"
   ]
  },
  {
   "cell_type": "code",
   "execution_count": 6,
   "id": "839f9105",
   "metadata": {},
   "outputs": [],
   "source": [
    "alpha = 0.1\n",
    "gamma = 0.99\n",
    "epsilon = 0.2\n",
    "episodios = 1000"
   ]
  },
  {
   "cell_type": "code",
   "execution_count": 7,
   "id": "9eaf0e89",
   "metadata": {},
   "outputs": [],
   "source": [
    "def estado_a_indice(estado):\n",
    "    return estado[0] * dimensiones[1] + estado[1]"
   ]
  },
  {
   "cell_type": "code",
   "execution_count": 8,
   "id": "baba6cd7",
   "metadata": {},
   "outputs": [
    {
     "data": {
      "text/plain": [
       "11"
      ]
     },
     "execution_count": 8,
     "metadata": {},
     "output_type": "execute_result"
    }
   ],
   "source": [
    "estado_a_indice((2,3))"
   ]
  },
  {
   "cell_type": "code",
   "execution_count": 9,
   "id": "8810175d",
   "metadata": {},
   "outputs": [],
   "source": [
    "def elegir_accion(estado):\n",
    "    if random.uniform(0,1) < epsilon:\n",
    "        return random.randint(0, num_acciones - 1)\n",
    "    else:\n",
    "        return np.argmax(Q[estado_a_indice(estado)])"
   ]
  },
  {
   "cell_type": "code",
   "execution_count": 10,
   "id": "398116e9",
   "metadata": {},
   "outputs": [],
   "source": [
    "def aplicar_accion(estado, accion_idx):\n",
    "    accion = acciones[accion_idx]\n",
    "    nuevo_estado = tuple(np.add(estado, accion) % np.array(dimensiones))\n",
    "\n",
    "    if nuevo_estado == estado_objetibo:\n",
    "        recompensa = 1\n",
    "    else:\n",
    "        recompensa = -1\n",
    "    \n",
    "    return nuevo_estado, recompensa, nuevo_estado == estado_objetibo"
   ]
  },
  {
   "cell_type": "code",
   "execution_count": 11,
   "id": "1025ef38",
   "metadata": {},
   "outputs": [],
   "source": [
    "for episodio in range(episodios):\n",
    "    estado = estado_inicial\n",
    "    terminado = False\n",
    "\n",
    "    while not terminado:\n",
    "        idx_estado = estado_a_indice(estado)\n",
    "        accion_idx = elegir_accion(estado)\n",
    "        nuevo_estado, recompensa, terminado = aplicar_accion(estado, accion_idx)\n",
    "        idx_nuevo_estado = estado_a_indice(nuevo_estado)\n",
    "\n",
    "        Q[idx_estado, accion_idx] = Q[idx_estado, accion_idx] + alpha + (recompensa + gamma * np.max(Q[idx_nuevo_estado]) - Q[idx_estado, accion_idx])\n",
    "        estado = nuevo_estado   "
   ]
  },
  {
   "cell_type": "code",
   "execution_count": 12,
   "id": "a8cf9631",
   "metadata": {},
   "outputs": [
    {
     "data": {
      "text/plain": [
       "array([[0, 0, 0, 0],\n",
       "       [0, 0, 0, 0],\n",
       "       [0, 0, 0, 0],\n",
       "       [0, 0, 0, 0]])"
      ]
     },
     "execution_count": 12,
     "metadata": {},
     "output_type": "execute_result"
    }
   ],
   "source": [
    "politica = np.zeros(dimensiones, dtype=int)\n",
    "politica"
   ]
  },
  {
   "cell_type": "code",
   "execution_count": 13,
   "id": "f2718292",
   "metadata": {},
   "outputs": [
    {
     "name": "stdout",
     "output_type": "stream",
     "text": [
      "Politica Aprendida: (0: arriba, 1: abajo, 2: izquierda, 3: derecha)\n"
     ]
    },
    {
     "data": {
      "text/plain": [
       "array([[0, 2, 1, 2],\n",
       "       [0, 0, 1, 2],\n",
       "       [3, 3, 3, 3],\n",
       "       [0, 0, 1, 0]])"
      ]
     },
     "execution_count": 13,
     "metadata": {},
     "output_type": "execute_result"
    }
   ],
   "source": [
    "for i in range(dimensiones[0]):\n",
    "    for j in range(dimensiones[1]):\n",
    "        estado = (i, j)\n",
    "        idx_estado = estado_a_indice(estado)\n",
    "        mejor_accion = np.argmax(Q[idx_estado])\n",
    "        politica[i][j] = mejor_accion\n",
    "\n",
    "print(\"Politica Aprendida: (0: arriba, 1: abajo, 2: izquierda, 3: derecha)\")\n",
    "politica"
   ]
  },
  {
   "cell_type": "code",
   "execution_count": 14,
   "id": "b2c4a8f7",
   "metadata": {},
   "outputs": [],
   "source": [
    "for episodio in range(episodios):\n",
    "    estado = estado_inicial\n",
    "    accion_idx = elegir_accion(estado)\n",
    "    terminado = False\n",
    "\n",
    "    while not terminado:\n",
    "        nuevo_estado, recompensa, terminado = aplicar_accion(estado, accion_idx)\n",
    "        nueva_accion_idx = elegir_accion(nuevo_estado)\n",
    "\n",
    "        indice = estado_a_indice(estado)\n",
    "        Q[indice, accion_idx] += alpha * (recompensa + gamma * Q[estado_a_indice(nuevo_estado), nueva_accion_idx] - Q[indice, accion_idx])\n",
    "\n",
    "        estado, accion_idx = nuevo_estado, nueva_accion_idx"
   ]
  },
  {
   "cell_type": "code",
   "execution_count": 15,
   "id": "b02309af",
   "metadata": {},
   "outputs": [
    {
     "data": {
      "text/plain": [
       "array([['', '', '', ''],\n",
       "       ['', '', '', ''],\n",
       "       ['', '', '', ''],\n",
       "       ['', '', '', '']], dtype='<U2')"
      ]
     },
     "execution_count": 15,
     "metadata": {},
     "output_type": "execute_result"
    }
   ],
   "source": [
    "politicas_simbolos = np.empty(dimensiones, dtype='<U2')\n",
    "politicas_simbolos"
   ]
  },
  {
   "cell_type": "code",
   "execution_count": 18,
   "id": "2cd12873",
   "metadata": {},
   "outputs": [
    {
     "data": {
      "text/plain": [
       "array([['←', '←', '→', '↑'],\n",
       "       ['↓', '←', '↓', '↓'],\n",
       "       ['↓', '←', '↓', '↓'],\n",
       "       ['←', '→', '→', '←']], dtype='<U2')"
      ]
     },
     "execution_count": 18,
     "metadata": {},
     "output_type": "execute_result"
    }
   ],
   "source": [
    "for i in range(dimensiones[0]):\n",
    "    for j in range(dimensiones[1]):\n",
    "        estado = (i,j)\n",
    "        mejor_accion = np.argmax(Q[estado_a_indice(estado)])\n",
    "        politicas_simbolos[i,j] = acciones_simbolos[mejor_accion]\n",
    "\n",
    "politicas_simbolos"
   ]
  },
  {
   "cell_type": "code",
   "execution_count": null,
   "id": "21963d7e",
   "metadata": {},
   "outputs": [],
   "source": []
  }
 ],
 "metadata": {
  "kernelspec": {
   "display_name": "venv",
   "language": "python",
   "name": "python3"
  },
  "language_info": {
   "codemirror_mode": {
    "name": "ipython",
    "version": 3
   },
   "file_extension": ".py",
   "mimetype": "text/x-python",
   "name": "python",
   "nbconvert_exporter": "python",
   "pygments_lexer": "ipython3",
   "version": "3.10.0"
  }
 },
 "nbformat": 4,
 "nbformat_minor": 5
}
