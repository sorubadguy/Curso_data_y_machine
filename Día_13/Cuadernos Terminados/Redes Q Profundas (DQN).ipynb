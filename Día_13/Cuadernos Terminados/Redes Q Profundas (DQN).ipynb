{
 "cells": [
  {
   "attachments": {},
   "cell_type": "markdown",
   "id": "f039d0e2",
   "metadata": {},
   "source": [
    "# Redes Q Profundas\n",
    "\n",
    "Ahora vamos a conocer el tercer algoritmo de **Aprendizaje por Reforzamiento** en Machine Learning, que se llama **Redes Q Profundas**, y quiero aclarar, antes de explicarlo, que en su nombre tenemos una pista del tipo de modelo que utilizaremos. ***REDES* Q Profundas**, es un modelo que utiliza ***REDES* neuronales**, ese esquema de aprendizaje que te expliqué ayer, y que hoy veremos en la práctica al conocer este algoritmo.\n",
    "\n",
    "Las Redes Q Profundas (o **DQN**, por sus siglas en inglés de *Deep Q-Networks*) son una técnica de **Aprendizaje por Refuerzo** que combina por un lado *redes neuronales*, y por otro *Q-learning*, que es este algoritmo que hemos visto hace algunas lecciones atrás.\n",
    "\n",
    "La idea es que la **red neuronal profunda** prediga los **valores Q**, que se encargan de estimar cuán buena es cada acción dada una situación particular del entorno.\n",
    "\n",
    "En pocas palabras, el funcionamiento de las DQNs se puede describir así:\n",
    "+ Primero se dedica a **entender el estado del entorno**. Imagina que estás jugando un videojuego. La red neuronal ve todo lo que está pasando en el entorno del juego (como por ejemplo dónde están los enemigos, qué tan saludable estás, etc.) y eso es lo que llamamos el \"estado\" del entorno.\n",
    "+ En segundo lugar aprende a **puntuar las acciones posibles**. Es decir que intenta predecir qué tan bueno será realizar tal acción, o tal otra, en ese momento del juego. A cada acción posible le asigna \"puntos\". Esos \"puntos\" son los **valores Q**, y la red intenta adivinarlos para saber qué tan buena será cada posible movida.\n",
    "+ Tercero, va a intentar **elegir la mejor movida**, es decir que basándose en los puntos que calculó antes, la red decide cuál es la mejor acción a tomar. Por ejemplo, si disparar a un enemigo te dará más puntos que esconderte o huir, eso es lo que la red te dirá que hagas.\n",
    "+ El cuarto paso es **aprender de las consecuencias**. Después de que hagas una acción, verás qué pasa en el juego (por ejemplo, si conseguiste puntos o si el enemigo te dañó). Esta nueva información ayuda a la red a ajustar sus cálculos para mejorar sus predicciones la próxima vez.\n",
    "+ Y el quinto y último paso es **explorar nuevas estrategias**. A veces, la red decide probar algo nuevo en lugar de siempre hacer lo que cree que es mejor. Esto es como si decidieras explorar una parte desconocida del mapa en lugar de seguir el mismo camino. Esto ayuda a la red a aprender nuevas estrategias que podrían ser útiles en el futuro.\n",
    "\n",
    "Muy bien, suficiente teoría, ahora veamos cómo programamos una **Red Q Profunda** con un ejemplo muy sencillo.\n",
    "\n",
    "\n",
    "### Parte Práctica\n",
    "\n",
    "Para este ejercicio vamos a usar una base de datos llamada **MNIST**, que es un conjunto de datos muy utilizado en el campo del aprendizaje automático, y que consiste en *imágenes de dígitos* escritos a mano, del **0** al **9**, tal como `Digits`, que hemos usado el día de ayer para aprender **autoencoders**. Son imágenes en blanco y negro y su tamaño es de **28**x**28** píxeles, o sea que son imágenes más definidas que digits, que eran de **8**x**8**. \n",
    "\n",
    "Y lo que vamos a hacer es usar las **Redes Q Profundas** para aprender a clasificar dígitos escritos a mano del conjunto de datos **MNIST**, mejorando la precisión del modelo a medida que entrena y ajusta sus predicciones basadas en los errores cometidos previamente.\n",
    "\n",
    "Aquí tenemos las bibliotecas que vamos a usar en este ejercicio, que tienen varios jugadores nuevos que vamos a ir conociendo en esta lección."
   ]
  },
  {
   "cell_type": "code",
   "execution_count": 1,
   "id": "ac5e1e8d",
   "metadata": {},
   "outputs": [],
   "source": [
    "import matplotlib.pyplot as plt\n",
    "import numpy as np\n",
    "from keras.datasets import mnist\n",
    "from keras.models import Sequential\n",
    "from keras.layers import Dense, Flatten\n",
    "from keras.utils import to_categorical"
   ]
  },
  {
   "attachments": {},
   "cell_type": "markdown",
   "id": "2671eb2e",
   "metadata": {},
   "source": [
    "Observa que `mnist` es básicamente una **tupla**, que contiene **dos grandes tuplas**. En cada una de esas tuplas hay conjuntos de arrays, que se organizan de la siguiente manera:"
   ]
  },
  {
   "cell_type": "code",
   "execution_count": 2,
   "id": "54e15d2e",
   "metadata": {},
   "outputs": [],
   "source": [
    "(imagenes_entrenamiento, etiquetas_entrenamiento), (imagenes_prueba, etiquetas_prueba) = mnist.load_data()"
   ]
  },
  {
   "attachments": {},
   "cell_type": "markdown",
   "id": "37c593a0",
   "metadata": {},
   "source": [
    "Si quieres puedes explorar qué es lo que contiene cada una de estas variables y cómo se ven, para que te quede bien claro su contenido. Yo por ahora voy a ir avanzando porque ya sé lo que contienen, y es lo que he descripto en los nombres de las variables.\n",
    "\n",
    "Ahora vamos a **normalizar los valores** que tenemos. Recuerda que una medida ideal para el procesamiento de datos variados, es escalar todos los valores dentro de un rango que vaya del `0` al `1`. Como los valores que contienen estos arrays van entre `0` y `255`, los voy a dividir por `255` para que queden entre `0` y `1`."
   ]
  },
  {
   "cell_type": "code",
   "execution_count": 3,
   "id": "688dd37c",
   "metadata": {},
   "outputs": [],
   "source": [
    "imagenes_entrenamiento = imagenes_entrenamiento / 255.0\n",
    "imagenes_prueba = imagenes_prueba / 255.0"
   ]
  },
  {
   "attachments": {},
   "cell_type": "markdown",
   "id": "27d7e0ee",
   "metadata": {},
   "source": [
    "Ahora quiero normalizar los valores de las *etiquetas*, y lo voy a hacer de un modo muy particular. Primero te muestro lo que contienen."
   ]
  },
  {
   "cell_type": "code",
   "execution_count": 4,
   "id": "22558197",
   "metadata": {},
   "outputs": [
    {
     "data": {
      "text/plain": [
       "5"
      ]
     },
     "execution_count": 4,
     "metadata": {},
     "output_type": "execute_result"
    }
   ],
   "source": [
    "etiquetas_entrenamiento[0]"
   ]
  },
  {
   "attachments": {},
   "cell_type": "markdown",
   "id": "7db5a89c",
   "metadata": {},
   "source": [
    "Las etiquetas son simples valores de números enteros que van de `0`a `9`, porque de hecho estas etiquetas son las que indican qué número está representado en cada imagen. Para **normalizar estas etiquetas** les voy a aplicar el método `to_categorical()` que hemos importado, y que va a transformar a estas etiquetas en un **array de 10 números**, donde solo uno de ellos es `1` y todos los demás son `0`."
   ]
  },
  {
   "cell_type": "code",
   "execution_count": 5,
   "id": "2aca0b1d",
   "metadata": {},
   "outputs": [],
   "source": [
    "etiquetas_entrenamiento = to_categorical(etiquetas_entrenamiento)\n",
    "etiquetas_prueba = to_categorical(etiquetas_prueba)"
   ]
  },
  {
   "cell_type": "code",
   "execution_count": 6,
   "id": "77e0d12c",
   "metadata": {},
   "outputs": [
    {
     "data": {
      "text/plain": [
       "array([0., 0., 0., 0., 0., 1., 0., 0., 0., 0.])"
      ]
     },
     "execution_count": 6,
     "metadata": {},
     "output_type": "execute_result"
    }
   ],
   "source": [
    "etiquetas_entrenamiento[0]"
   ]
  },
  {
   "attachments": {},
   "cell_type": "markdown",
   "id": "a3ba28ce",
   "metadata": {},
   "source": [
    "Los datos ya están preparados. El siguiente paso va a ser **definir el modelo**.\n",
    "\n",
    "Entonces el siguiente bloque va a definir la estructura de un modelo de red neuronal utilizando `keras`, que ya hemos usado antes, y es una biblioteca de aprendizaje profundo en Python, de la cual hemos importado a este cuaderno el modelo `Sequential`."
   ]
  },
  {
   "cell_type": "code",
   "execution_count": 7,
   "id": "e413f408",
   "metadata": {},
   "outputs": [
    {
     "name": "stderr",
     "output_type": "stream",
     "text": [
      "C:\\Users\\Federico\\anaconda3\\Lib\\site-packages\\keras\\src\\layers\\reshaping\\flatten.py:37: UserWarning: Do not pass an `input_shape`/`input_dim` argument to a layer. When using Sequential models, prefer using an `Input(shape)` object as the first layer in the model instead.\n",
      "  super().__init__(**kwargs)\n"
     ]
    }
   ],
   "source": [
    "modelo = Sequential([\n",
    "    Flatten(input_shape=(28, 28)),\n",
    "    Dense(128, activation='relu'),\n",
    "    Dense(10, activation='softmax')\n",
    "])"
   ]
  },
  {
   "attachments": {},
   "cell_type": "markdown",
   "id": "7cbd0c6d",
   "metadata": {},
   "source": [
    "Los modelos secuenciales son una **pila lineal de capas** donde cada capa tiene exactamente un *tensor de entrada* y un *tensor de salida*. Por esa razón el contenido que le he asignado a `Sequential()` es una serie de capas que se van apilando una tras otra en este modelo.\n",
    "\n",
    "+ La primera capa es de tipo `Flatten`, que es una capa que no tiene parámetros y simplemente reformatea los datos de entrada. Aquí, transforma las imágenes de entrada de **28**x**28** píxeles en un vector de **784** píxeles (que es el resultado de multiplicar 28x28). Esto es necesario porque la siguiente capa, que va a ser una capa densa, va a necesitar un solo vector de entrada y no una matriz de dos dimensiones.\n",
    "+ La segunda es una capa `Dense` (densa o completamente conectada) que tiene **128 neuronas**. Cada neurona en esta capa está conectada a todas las entradas de la capa anterior (las 784 unidades de información del vector aplanado). La función de activación `relu` (Rectified Linear Unit), que ya hemos usado antes, se va a estar aplicando a la salida de cada neurona. Es muy común que usemos `relu`, porque ayuda a evitar problemas en el proceso de aprendizaje y porque generalmente permite que el modelo aprenda más rápido.\n",
    "+ La tercera y última capa, tambien es `Dense`, y funciona como capa de salida del modelo. Esta capa tiene **10 neuronas**, que se corresponden con las 10 clases de dígitos (que van del `0` al `9`). La función de activación `softmax` se utiliza aquí para convertir los valores de las neuronas en probabilidades que suman 1. ¿Qué sería esto? Que cada salida puede interpretarse como la probabilidad de que la entrada pertenezca a una de las 10 clases.\n",
    "\n",
    "Ok. Entonces el modelo está definido, ahora toca **compilarlo**. Compilar un modelo de aprendizaje consiste en configurarlo para el entrenamiento, e implica definir varias piezas clave que el modelo necesita para entrenarse de manera efectiva."
   ]
  },
  {
   "cell_type": "code",
   "execution_count": 8,
   "id": "0008b283",
   "metadata": {},
   "outputs": [],
   "source": [
    "modelo.compile(optimizer='adam',\n",
    "              loss='categorical_crossentropy',\n",
    "              metrics=['accuracy'])"
   ]
  },
  {
   "attachments": {},
   "cell_type": "markdown",
   "id": "7cbabd8d",
   "metadata": {},
   "source": [
    "Aquí estamos definiendo los **3 elementos** fundamentales del entrenamiento, que son el **optimizador**, la **función de pérdida** y las **métricas**.\n",
    "\n",
    "Lo comparemos con el entrenamiento en un gimnasio:\n",
    "+ El `optimizer` (optimizador) sería como la **rutina de ejercicios**. Dependiendo de tus objetivos (perder peso, ganar músculo), el entrenador ajusta tu plan de ejercicios, la intensidad y el volumen para optimizar los resultados. Eso hace el optimizador. Ajusta los pesos de la red para minimizar la función de pérdida. Es como un plan que guía el entrenamiento, y que va decidiendo cómo y cuándo ajustar los pesos para mejorar el modelo. Aquí hemos elegido el optimizador `adam` que es una opción muy popular en muchos problemas de aprendizaje profundo debido a su adaptabilidad, su eeficiencia en diferentes condiciones y a que requiere poca configuración manual.\n",
    "+ El parámetro `loss` (o función de pérdida) sería como los **objetivos de fitness**, que puede ser alcanzar un cierto peso corporal o levantar una cantidad específica de peso. Tus entrenamientos van a diseñarse para reducir la \"pérdida\" entre tu estado actual y tus metas. En un modelo, la función de pérdida mide qué tan bien el modelo está prediciendo los resultados esperados. El objetivo es reducir esta pérdida a lo largo del tiempo, lo que, si sucede, indicaría que el modelo está mejorando en su aprendizaje. En este caso hemos elegido `categorical_crossentropy` porque compara la distribución de las predicciones del modelo con las etiquetas reales, y de esta manera optimiza el modelo minimizando esta diferencia de probabilidad.\n",
    "+ Las `metrics` (métricas) vienen a ser como la forma en que **mides el avance** del proceso. En el gimnasio podrían ser las medidas de tu cuerpo, el peso que levantas, o el tiempo que corres. Estas métricas te ayudan a ver si estás acercándote a tus objetivos de fitness o si tu plan necesita ajustes. En un modelo, las métricas como la precisión o la exactitud se usan para evaluar el rendimiento del modelo, y te dan una idea clara de cómo está progresando el modelo. Elegimos `accuracy` porque es una métrica que proporciona una evaluación muy clara y directa del rendimiento general en tareas de clasificación.\n",
    "\n",
    "Bueno, y ahora sí, con el modelo ya creado y ya compilado, vamos a entrenarlo:"
   ]
  },
  {
   "cell_type": "code",
   "execution_count": 9,
   "id": "3e234586",
   "metadata": {},
   "outputs": [
    {
     "name": "stdout",
     "output_type": "stream",
     "text": [
      "Epoch 1/5\n",
      "\u001b[1m1875/1875\u001b[0m \u001b[32m━━━━━━━━━━━━━━━━━━━━\u001b[0m\u001b[37m\u001b[0m \u001b[1m10s\u001b[0m 4ms/step - accuracy: 0.8749 - loss: 0.4372 - val_accuracy: 0.9569 - val_loss: 0.1393\n",
      "Epoch 2/5\n",
      "\u001b[1m1875/1875\u001b[0m \u001b[32m━━━━━━━━━━━━━━━━━━━━\u001b[0m\u001b[37m\u001b[0m \u001b[1m7s\u001b[0m 4ms/step - accuracy: 0.9639 - loss: 0.1242 - val_accuracy: 0.9690 - val_loss: 0.0996\n",
      "Epoch 3/5\n",
      "\u001b[1m1875/1875\u001b[0m \u001b[32m━━━━━━━━━━━━━━━━━━━━\u001b[0m\u001b[37m\u001b[0m \u001b[1m7s\u001b[0m 4ms/step - accuracy: 0.9752 - loss: 0.0839 - val_accuracy: 0.9710 - val_loss: 0.0912\n",
      "Epoch 4/5\n",
      "\u001b[1m1875/1875\u001b[0m \u001b[32m━━━━━━━━━━━━━━━━━━━━\u001b[0m\u001b[37m\u001b[0m \u001b[1m8s\u001b[0m 4ms/step - accuracy: 0.9822 - loss: 0.0577 - val_accuracy: 0.9749 - val_loss: 0.0751\n",
      "Epoch 5/5\n",
      "\u001b[1m1875/1875\u001b[0m \u001b[32m━━━━━━━━━━━━━━━━━━━━\u001b[0m\u001b[37m\u001b[0m \u001b[1m8s\u001b[0m 4ms/step - accuracy: 0.9862 - loss: 0.0454 - val_accuracy: 0.9771 - val_loss: 0.0759\n"
     ]
    },
    {
     "data": {
      "text/plain": [
       "<keras.src.callbacks.history.History at 0x2880e3a2910>"
      ]
     },
     "execution_count": 9,
     "metadata": {},
     "output_type": "execute_result"
    }
   ],
   "source": [
    "modelo.fit(imagenes_entrenamiento,\n",
    "          etiquetas_entrenamiento,\n",
    "          epochs=5,\n",
    "          validation_data=(imagenes_prueba, etiquetas_prueba))"
   ]
  },
  {
   "attachments": {},
   "cell_type": "markdown",
   "id": "1ad17376",
   "metadata": {},
   "source": [
    "Nuestro modelo ha sido entrenado, y ya es capaz de predecir con buenas chances qué número es el que hay en cada imagen. Es decir, ha aprendido a ver las imágenes de 28 x 28 que forman números usando valores de grises, y asociarlas con etiquetas que dicen qué números están representados en esas imágenes.\n",
    "\n",
    "Entonces ahora, nuestro modelo puede recibir una nueva imagen, y decir *\"eso es un 9\"*, por ejemplo.\n",
    "\n",
    "Lo vamos a comprobar generando unas **visualizaciones** que nos permitan ver esto en acción.\n",
    "\n",
    "Para eso primero vamos a generar unas predicciones del conjunto de datos de prueba."
   ]
  },
  {
   "cell_type": "code",
   "execution_count": 10,
   "id": "60cdce8f",
   "metadata": {},
   "outputs": [
    {
     "name": "stdout",
     "output_type": "stream",
     "text": [
      "\u001b[1m313/313\u001b[0m \u001b[32m━━━━━━━━━━━━━━━━━━━━\u001b[0m\u001b[37m\u001b[0m \u001b[1m1s\u001b[0m 3ms/step\n"
     ]
    }
   ],
   "source": [
    "predicciones = modelo.predict(imagenes_prueba)"
   ]
  },
  {
   "attachments": {},
   "cell_type": "markdown",
   "id": "2b95ba41",
   "metadata": {},
   "source": [
    "Y ahora vamos a definir una función para visualizar:\n",
    "+ una imagen\n",
    "+ la etiqueta que el modelo ha predicho\n",
    "+ la etiqueta real"
   ]
  },
  {
   "cell_type": "code",
   "execution_count": 11,
   "id": "308b8817",
   "metadata": {},
   "outputs": [],
   "source": [
    "def ver_imagen(array_predicciones, etiqueta_real, img):\n",
    "    etiqueta_real, img = etiqueta_real.argmax(), img.squeeze()\n",
    "    plt.grid(False)\n",
    "    plt.xticks([])\n",
    "    plt.yticks([])\n",
    "    \n",
    "    plt.imshow(img, cmap=plt.cm.binary)\n",
    "    \n",
    "    etiqueta_predicha = np.argmax(array_predicciones)\n",
    "    if etiqueta_predicha == etiqueta_real:\n",
    "        color = 'blue'\n",
    "    else:\n",
    "        color = 'red'\n",
    "    \n",
    "    plt.xlabel(f'Pred: {etiqueta_predicha} Real: {etiqueta_real}', color=color)"
   ]
  },
  {
   "attachments": {},
   "cell_type": "markdown",
   "id": "c582184c",
   "metadata": {},
   "source": [
    "Y por último, vamos a usar la función `ver_imagen()` en un **loop** para representar un grupo de imágenes y ver qué tan bien está prediciendo nuestro modelo."
   ]
  },
  {
   "cell_type": "code",
   "execution_count": 12,
   "id": "ac40f969",
   "metadata": {},
   "outputs": [
    {
     "data": {
      "image/png": "[encoded data removed]",
      "text/plain": [
       "<Figure size 1200x1000 with 15 Axes>"
      ]
     },
     "metadata": {},
     "output_type": "display_data"
    }
   ],
   "source": [
    "filas = 5\n",
    "columnas = 3\n",
    "numero_imagenes = filas * columnas\n",
    "plt.figure(figsize=(2*2*columnas, 2*filas))\n",
    "\n",
    "for i in range(numero_imagenes):\n",
    "    plt.subplot(filas, 2*columnas, 2*i+1)\n",
    "    ver_imagen(predicciones[i], etiquetas_prueba[i], imagenes_prueba[i]);"
   ]
  },
  {
   "attachments": {},
   "cell_type": "markdown",
   "id": "4feb0c7e",
   "metadata": {},
   "source": [
    "Este ha sido un ejemplo bastante claro de cómo funcionan las **Redes Q Profundas**, y el día se va acercando a su fin, pero todavía quedan algunas cosas más por aprender.\n",
    "\n",
    "No nos detengamos ahora."
   ]
  },
  {
   "cell_type": "code",
   "execution_count": null,
   "id": "1217eb61",
   "metadata": {},
   "outputs": [],
   "source": []
  }
 ],
 "metadata": {
  "kernelspec": {
   "display_name": "Python 3 (ipykernel)",
   "language": "python",
   "name": "python3"
  },
  "language_info": {
   "codemirror_mode": {
    "name": "ipython",
    "version": 3
   },
   "file_extension": ".py",
   "mimetype": "text/x-python",
   "name": "python",
   "nbconvert_exporter": "python",
   "pygments_lexer": "ipython3",
   "version": "3.11.5"
  }
 },
 "nbformat": 4,
 "nbformat_minor": 5
}
