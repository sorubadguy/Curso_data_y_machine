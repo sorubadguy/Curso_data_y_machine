{
 "cells": [
  {
   "cell_type": "code",
   "execution_count": 9,
   "id": "ad1a90a8",
   "metadata": {},
   "outputs": [],
   "source": [
    "import requests\n",
    "\n",
    "url = \"https://jsonplaceholder.typicode.com/posts/1\"\n",
    "url2 = 'https://jsonplaceholder.typicode.com/postsasd/1'\n",
    "respuesta = requests.get(url)"
   ]
  },
  {
   "cell_type": "code",
   "execution_count": 2,
   "id": "11c0d969",
   "metadata": {},
   "outputs": [
    {
     "data": {
      "text/plain": [
       "requests.models.Response"
      ]
     },
     "execution_count": 2,
     "metadata": {},
     "output_type": "execute_result"
    }
   ],
   "source": [
    "type(respuesta)"
   ]
  },
  {
   "cell_type": "code",
   "execution_count": 4,
   "id": "a0dab082",
   "metadata": {},
   "outputs": [
    {
     "data": {
      "text/plain": [
       "200"
      ]
     },
     "execution_count": 4,
     "metadata": {},
     "output_type": "execute_result"
    }
   ],
   "source": [
    "respuesta.status_code"
   ]
  },
  {
   "cell_type": "code",
   "execution_count": 10,
   "id": "5d9018fc",
   "metadata": {},
   "outputs": [
    {
     "name": "stdout",
     "output_type": "stream",
     "text": [
      "{'userId': 1, 'id': 1, 'title': 'sunt aut facere repellat provident occaecati excepturi optio reprehenderit', 'body': 'quia et suscipit\\nsuscipit recusandae consequuntur expedita et cum\\nreprehenderit molestiae ut ut quas totam\\nnostrum rerum est autem sunt rem eveniet architecto'}\n"
     ]
    }
   ],
   "source": [
    "if respuesta.status_code == 200:\n",
    "    data = respuesta.json()\n",
    "    print(data)\n",
    "else:\n",
    "    print(f'Error {respuesta.status_code}: no disponemos de esa informacion')"
   ]
  },
  {
   "cell_type": "code",
   "execution_count": null,
   "id": "701680bd",
   "metadata": {},
   "outputs": [],
   "source": []
  }
 ],
 "metadata": {
  "kernelspec": {
   "display_name": "venv",
   "language": "python",
   "name": "python3"
  },
  "language_info": {
   "codemirror_mode": {
    "name": "ipython",
    "version": 3
   },
   "file_extension": ".py",
   "mimetype": "text/x-python",
   "name": "python",
   "nbconvert_exporter": "python",
   "pygments_lexer": "ipython3",
   "version": "3.10.0"
  }
 },
 "nbformat": 4,
 "nbformat_minor": 5
}
