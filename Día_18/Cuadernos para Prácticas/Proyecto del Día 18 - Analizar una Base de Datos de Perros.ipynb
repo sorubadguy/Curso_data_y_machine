{
 "cells": [
  {
   "cell_type": "markdown",
   "id": "5e2326e5",
   "metadata": {},
   "source": [
    "# Proyecto del Día 18 - Analizar una Base de Datos de Perros\n",
    "\n",
    "Hoy vamos a realizar un proyecto muy entretenido, que consiste en conseguir un dataset sobre razas de perros, que se encuentra alojada en el sitio [The Dog Api](https://thedogapi.com/).\n",
    "\n",
    "Tu misión consiste en lograr obtener un dataset que contiene información sobre razas de perro (\"breeds\"), y crear visualizaciones que permitan responder algunas preguntas sobre la **expectativa de vida**, y el **temperamento** más frecuente entre todas las **razas**.\n",
    "\n",
    "\n",
    "### Preguntas a responder\n",
    "1. ¿Cuál es la esperanza de vida (en años) más frecuente entre todas las razas de perro?\n",
    "2. ¿Cuál es el temperamento más frecuente entre todas las razas de perros?\n",
    "\n",
    "\n",
    "### Pasos sugeridos para llegar hasta la respuesta\n",
    "1. Descarga las **librerías** necesarias.\n",
    "2. Explora el sitio [https://thedogapi.com/](https://thedogapi.com/) para identificar dónde y cómo se describe el funcionamiento de su API. Identifica la **API específica** con información sobre **razas** (\"breeds\"). Una vez que lo hagas, implementa la API y guarda esos datos en un **DataFrame** de Pandas.\n",
    "*Nota: como todo sitio nuevo al que enfrentes, deberás resolver desafíos particulares. En este caso presta atención a las instrucciones que mencionan algo sobre cómo usar los mismos protocolos que se utilizan en la API de gatos de la misma organización*.\n",
    "3. Realiza un **análisis exploratorio** para conocer la estrucutra y calidad de tus datos.\n",
    "4. Implementa la **limpieza de datos** que consideres necesaria.\n",
    "5. Crea los **gráficos** que creas necesarios para poder visualizar con claridad la respuesta a las preguntas.\n",
    "\n",
    "Te deseo mucho aprendizaje, pero sobre todo, mucha diversión.\n",
    "¡Adelante!"
   ]
  },
  {
   "cell_type": "code",
   "execution_count": null,
   "id": "fe6517f6",
   "metadata": {},
   "outputs": [],
   "source": []
  }
 ],
 "metadata": {
  "kernelspec": {
   "display_name": "Python 3 (ipykernel)",
   "language": "python",
   "name": "python3"
  },
  "language_info": {
   "codemirror_mode": {
    "name": "ipython",
    "version": 3
   },
   "file_extension": ".py",
   "mimetype": "text/x-python",
   "name": "python",
   "nbconvert_exporter": "python",
   "pygments_lexer": "ipython3",
   "version": "3.11.5"
  }
 },
 "nbformat": 4,
 "nbformat_minor": 5
}
