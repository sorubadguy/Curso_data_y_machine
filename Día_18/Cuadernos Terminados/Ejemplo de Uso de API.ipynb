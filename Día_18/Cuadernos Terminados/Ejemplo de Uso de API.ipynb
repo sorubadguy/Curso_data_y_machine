{
 "cells": [
  {
   "attachments": {},
   "cell_type": "markdown",
   "id": "6d2693d0",
   "metadata": {},
   "source": [
    "# Ejemplo de Uso de API\n",
    "\n",
    "Vamos a implementar un ejemplo muy simple de una **API**.\n",
    "\n",
    "La librería de python que nos va a permitir hacer pedidos a través de la **API** de los diferentes sitios web que nos interesen, se llama `requests`.\n",
    "\n",
    "Voy a comenzar importándola a mi cuaderno"
   ]
  },
  {
   "cell_type": "code",
   "execution_count": 1,
   "id": "5faf38ab",
   "metadata": {},
   "outputs": [],
   "source": [
    "import requests"
   ]
  },
  {
   "attachments": {},
   "cell_type": "markdown",
   "id": "724d6fed",
   "metadata": {},
   "source": [
    "Para este ejemplo vamos a usar un sitio web llamado [openweathermap](https://openweathermap.org/), que es un sitio con información mundial sobre el **clima**.\n",
    "\n",
    "***Nota**: Ten en cuenta que al momento en que tu hagas el curso este sitio puede haber modificado su presentación, y tal vez las cosas hayan cambiado de lugar. En ese caso tendrás que hacer el esfuerzo adicional de navegar por el sitio para encontrar lo que te estoy voy a mostrar ahora.*\n",
    "\n",
    "Imaginemos que me gustaría extraer información sobre el clima de **Madrid**, para poder hacer luego análisis de datos sobre esa información. Por ahora, reservemos ese dato en una variable."
   ]
  },
  {
   "cell_type": "code",
   "execution_count": 2,
   "id": "55f9e04e",
   "metadata": {},
   "outputs": [],
   "source": [
    "ciudad = \"madrid\""
   ]
  },
  {
   "attachments": {},
   "cell_type": "markdown",
   "id": "3914cc14",
   "metadata": {},
   "source": [
    "Lo primero que tienes que hacer para pedirle información a cualquier sitio, es obtener una **clave API**, que el sitio te va a proporcionar si te suscribes. La clave API es una especie de *llave* o *password* secreto, que vas a usar durante la petición, y que le dice al sitio quién eres.\n",
    "\n",
    "Cada sitio funciona diferente, por supuesto, y no todos los sitios brindan una API, pero todos aquellos sitios que sí la brinden, te van a permitir crear **tus propias claves API**. Cada vez que quieras extraer información de un nuevo sitio, tendrás que navegar en ese sitio para encontrar su API, si es que la tiene.\n",
    "\n",
    "En el caso del sitio de nuestro ejemplo, la vamos a encontrar haciendo click en la información de nuestra **cuenta** (tendrás que loguearte o registrarte antes), y haciendo clik en `My API Keys`.\n",
    "\n",
    "Una vez que ingreses a `My API Keys` verás que ya tienes una **clave API** generada por defecto, pero también puedes generar otras claves extra si te hiciera falta. Puedes usar diferentes claves para hacer diferentes pedidos.\n",
    "\n",
    "***Nota:** Es importante que protejas tus claves API, y es por eso que en esta lección no muestro mis claves propias.*\n",
    "\n",
    "Por ahora, lo único que debes hacer es copiar tu clave, y guardarla en una variable."
   ]
  },
  {
   "cell_type": "code",
   "execution_count": 3,
   "id": "1cb142d0",
   "metadata": {},
   "outputs": [],
   "source": [
    "api_key= \"TU-CLAVE\""
   ]
  },
  {
   "attachments": {},
   "cell_type": "markdown",
   "id": "123af765",
   "metadata": {},
   "source": [
    "Ahora lo que sigue es averiguar cómo se implementa la API de este sitio en particular. Esto también implica navegar por el sitio hasta encontrar la **documentación de su API**, que en este caso está bien a nuestro alcance en la barra superior, donde dice [API](https://openweathermap.org/api).\n",
    "\n",
    "Allí encontrarás toda la información necesaria para aprender cómo funciona la API de este sitio. Hay muchísimo para leer porque este sitio brinda muchos servicios de información muy variada sobre el clima. Algunos de sus servicios incluso son de pago.\n",
    "\n",
    "PAra este ejemplo vamos a usar uno de sus servicios gratuitos que es **\"Current Weather Data\"**, que significa *Datos Actuales del Clima*, hago clic en la [documentación de la API](https://openweathermap.org/current) de este servicio.\n",
    "\n",
    "Ahí encontrarás una explicación de **cómo hacer el pedido**. Básicamente nos brinda una *dirección web*, que tiene varios **parámetros** para personalizar nuestro pedido.\n",
    "\n",
    "Como puedes ver, esa url se puede personalizar usando los parámetros que brinda esta API. Algunas se realizan pasando la *latitud* y la *longitud* del lugar del que queremos averiguar el clima actual, en otras te pide el nombre de la *ciudad*, o un *código especial*.\n",
    "\n",
    "Para simplificarlo, en una variable llamada `url`, voy a modificar esta llamada a la API, usando la información que yo ya conozco, para hacerlo aún más directo. Voy a modificar los parámetros `q` y `appid`."
   ]
  },
  {
   "cell_type": "code",
   "execution_count": 4,
   "id": "b205e26e",
   "metadata": {},
   "outputs": [],
   "source": [
    "url = f\"https://api.openweathermap.org/data/2.5/weather?q={ciudad}&appid={api_key}\""
   ]
  },
  {
   "attachments": {},
   "cell_type": "markdown",
   "id": "18ff618e",
   "metadata": {},
   "source": [
    "En este momento ya dispongo de todas las variables que necesito para hacer mi pedido. Lo que sigue es usar `requests` para hacer ese pedido.\n",
    "\n",
    "¿Recuerdas que en la lección anterior te mencioné que hay varios métodos para hacer pedidos? Vamos a usar **GET** que es el que sirve para **pedir** información. Voy a guardar la respuesta que reciba en una variable llamada `respuesta`."
   ]
  },
  {
   "cell_type": "code",
   "execution_count": 5,
   "id": "5a84be2b",
   "metadata": {},
   "outputs": [],
   "source": [
    "respuesta = requests.get(url)"
   ]
  },
  {
   "cell_type": "markdown",
   "id": "c532348d",
   "metadata": {},
   "source": [
    "Ahora tengo la respuesta guardada en `respuesta`. ¿Quieres ver qué tipo de datos hemos recibido?"
   ]
  },
  {
   "cell_type": "code",
   "execution_count": 6,
   "id": "d7f28194",
   "metadata": {},
   "outputs": [
    {
     "data": {
      "text/plain": [
       "requests.models.Response"
      ]
     },
     "execution_count": 6,
     "metadata": {},
     "output_type": "execute_result"
    }
   ],
   "source": [
    "type(respuesta)"
   ]
  },
  {
   "attachments": {},
   "cell_type": "markdown",
   "id": "f3d73f53",
   "metadata": {},
   "source": [
    "`requests.models.Response` es un objeto python que contiene información proveniente de un sitio externo. La información recibida en `respuesta` va a venir en un formato de información llamado `json`, por lo tanto voy a usar el método `json()` de `requests` para poder leer esa información."
   ]
  },
  {
   "cell_type": "code",
   "execution_count": 7,
   "id": "b0e7ce1b",
   "metadata": {},
   "outputs": [],
   "source": [
    "data = respuesta.json()"
   ]
  },
  {
   "attachments": {},
   "cell_type": "markdown",
   "id": "e866dec6",
   "metadata": {},
   "source": [
    "Antes de ver el contenido de `data`, me gustaria saber qué **clase de dato** es `data`."
   ]
  },
  {
   "cell_type": "code",
   "execution_count": 8,
   "id": "df0c03bc",
   "metadata": {},
   "outputs": [
    {
     "data": {
      "text/plain": [
       "dict"
      ]
     },
     "execution_count": 8,
     "metadata": {},
     "output_type": "execute_result"
    }
   ],
   "source": [
    "type(data)"
   ]
  },
  {
   "attachments": {},
   "cell_type": "markdown",
   "id": "5f3613b3",
   "metadata": {},
   "source": [
    "Finalmente, tenemos información en un formato que sabemos cómo manipular en python. Y ahora veamos qué información concreta contiene `data`."
   ]
  },
  {
   "cell_type": "code",
   "execution_count": 9,
   "id": "8ce3a9c4",
   "metadata": {},
   "outputs": [
    {
     "data": {
      "text/plain": [
       "{'coord': {'lon': -3.7026, 'lat': 40.4165},\n",
       " 'weather': [{'id': 800,\n",
       "   'main': 'Clear',\n",
       "   'description': 'clear sky',\n",
       "   'icon': '01d'}],\n",
       " 'base': 'stations',\n",
       " 'main': {'temp': 298.8,\n",
       "  'feels_like': 298.07,\n",
       "  'temp_min': 296.49,\n",
       "  'temp_max': 299.87,\n",
       "  'pressure': 1000,\n",
       "  'humidity': 25},\n",
       " 'visibility': 10000,\n",
       " 'wind': {'speed': 5.66, 'deg': 40},\n",
       " 'clouds': {'all': 0},\n",
       " 'dt': 1717183275,\n",
       " 'sys': {'type': 2,\n",
       "  'id': 2007545,\n",
       "  'country': 'ES',\n",
       "  'sunrise': 1717130837,\n",
       "  'sunset': 1717184289},\n",
       " 'timezone': 7200,\n",
       " 'id': 3117735,\n",
       " 'name': 'Madrid',\n",
       " 'cod': 200}"
      ]
     },
     "execution_count": 9,
     "metadata": {},
     "output_type": "execute_result"
    }
   ],
   "source": [
    "data"
   ]
  },
  {
   "attachments": {},
   "cell_type": "markdown",
   "id": "5d5c3257",
   "metadata": {},
   "source": [
    "Entonces este ha sido un ejemplo específico y guiado de cómo encontramos la **API** de un determinado sitio, y cómo la utilizamos para comunicarnos con ese sitio y pedirle información.\n",
    "\n",
    "A lo largo de este día vas a aprender mucho más acerca de este poderoso recurso, y te invito a continuar ese camino en la próxima lección."
   ]
  },
  {
   "cell_type": "code",
   "execution_count": null,
   "id": "865595f0",
   "metadata": {},
   "outputs": [],
   "source": []
  }
 ],
 "metadata": {
  "kernelspec": {
   "display_name": "Python 3 (ipykernel)",
   "language": "python",
   "name": "python3"
  },
  "language_info": {
   "codemirror_mode": {
    "name": "ipython",
    "version": 3
   },
   "file_extension": ".py",
   "mimetype": "text/x-python",
   "name": "python",
   "nbconvert_exporter": "python",
   "pygments_lexer": "ipython3",
   "version": "3.11.5"
  }
 },
 "nbformat": 4,
 "nbformat_minor": 5
}
