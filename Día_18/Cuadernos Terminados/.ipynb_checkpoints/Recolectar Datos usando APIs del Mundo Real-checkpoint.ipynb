{
 "cells": [
  {
   "cell_type": "markdown",
   "id": "721bc33b",
   "metadata": {},
   "source": [
    "# Recolectar Datos usando APIs del Mundo Real\n",
    "\n",
    "Ahora ya tenemos una idea general sobre el mundo de las APIs, pero que está basada más bien en ejemplos controlados por sitios de prueba. Por lo tanto ha llegado el momento de llevar nuestros conocimientos al **mundo real** para que veamos una implementación completa, desde cero, que comienza viendo un sitio web, y que termine con una visualización basada en los datos extraídos.\n",
    "\n",
    "En este caso vamos a trabajar con datos de la nasa, por lo que te presento [este sitio](https://api.nasa.gov/) más que interesante y lleno de recursos que te va a fascinar.\n",
    "\n",
    "![](nasa_api_1.png)\n",
    "\n",
    "\n",
    "Quiero volver a aclarar que cuando trabajamos con sitios externos, siempre estamos expuestos a que el diseño de los sitios vaya cambiando con el tiempo, por lo que puede que al momento en que tu estés haciendo este curso, este sitio web se vea distinto a cómo se muestra en esta lección. En ese caso deberías explorar por tu cuenta dónde se encuentra cada cosa, porque justamente **de eso se trata el trabajo con APIs**: de conocer cada sitio, y explorar qué te ofrece y aprender a interpretarlo e implementarlo. Cada aplicación con la que te quieras comunicar es un mundo aparte.\n",
    "\n",
    "Volviendo al sitio de la nasa para APIs, la primera vez que ingreses te va a pedir que cargues **tus datos**, y te van a enviar una **clave API por email**.\n",
    "\n",
    "Ahora investiguemos qué recursos nos ofrece la nasa. Sigamos bajando, y luego de unas instrucciones muy sencillas, encontramos que la nasa tiene todas estas APIs para que podamos comunicarnos con su servidor y extraer información de todo tipo. Este es el Disneylandia de los científicos de datos dedicados a la astronomía y la ciencia espacial.\n",
    "\n",
    "![](nasa_api_2.png)\n",
    "\n",
    "Voy a intentar comunicarme con una o dos APIs de las que nos ofrece la Nasa, y luego tu puedes seguir jugando con las demás si quieres afilar tus habilidades para aprender a trabajar con APIs.\n",
    "\n",
    "## API 1\n",
    "\n",
    "Voy a comenzar explorando la primera API de la nasa que se llama **APOD**, que significa *Foto Astronómica del Día*.\n",
    "\n",
    "Parece que esta API contiene imágenes astronómicas para cada día. Por supuesto que ahí disponemos de toda la **documentación completa**, y debajo tenemos un resumen bastante claro de cómo implementar una **solicitud HTTP** para esta API.\n",
    "\n",
    "Aquí podemos ver la **url** que deberíamos usar, y tenemos los **parámetros** que nos permiten especificar mejor nuestra búsqueda.\n",
    "\n",
    "![](nasa_api_3.png)\n",
    "\n",
    "Perfecto. Vamos a Jupyter y comencemos un cuaderno desde cero.\n",
    "\n",
    "Por ahora, voy a comenzar importando a `requests`, y dos librerías más que voy a necesitar más adelante."
   ]
  },
  {
   "cell_type": "code",
   "execution_count": 1,
   "id": "79b43e3a",
   "metadata": {},
   "outputs": [],
   "source": [
    "import requests\n",
    "import pandas as pd\n",
    "from IPython.display import Image, display"
   ]
  },
  {
   "cell_type": "markdown",
   "id": "60f6aa6c",
   "metadata": {},
   "source": [
    "También voy a necesitar configurar dos variables básicas: mi **clave api** y la **url**:"
   ]
  },
  {
   "cell_type": "code",
   "execution_count": 2,
   "id": "ff405f3b",
   "metadata": {},
   "outputs": [],
   "source": [
    "url = \"https://api.nasa.gov/planetary/apod\"\n",
    "api_key = \"TU-API-KEY\""
   ]
  },
  {
   "cell_type": "markdown",
   "id": "567d00a0",
   "metadata": {},
   "source": [
    "Ahora intentemos hacer el pedido con esta información (recuerda reemplazar [TU-API-KEY] con la cñave api que te ha enviado el sitio de la Nasa a tu email)."
   ]
  },
  {
   "cell_type": "code",
   "execution_count": 3,
   "id": "f099ef78",
   "metadata": {},
   "outputs": [
    {
     "data": {
      "text/plain": [
       "{'error': {'code': 'API_KEY_MISSING',\n",
       "  'message': 'No api_key was supplied. Get one at https://api.nasa.gov:443'}}"
      ]
     },
     "execution_count": 3,
     "metadata": {},
     "output_type": "execute_result"
    }
   ],
   "source": [
    "respuesta = requests.get(url)\n",
    "data = respuesta.json()\n",
    "data"
   ]
  },
  {
   "cell_type": "markdown",
   "id": "269b3929",
   "metadata": {},
   "source": [
    "Lo que me devuelve `data` ciertamente no es lo que esperaba, y por lo que podemos ver aquí, es porque no ha recibido **ninguna clave API**.\n",
    "\n",
    "### ¿Cómo le pasamos la clave api?\n",
    "\n",
    "Cada sitio funciona de manera diferente. Voy a intentar resolverlo usando el *sentido común*, para que veas que eso también puede fallar.\n",
    "\n",
    "Verifiquemos si la documentación de la Nasa me dice cómo pasar ese parámetro.\n",
    "\n",
    "![](nasa_api_4.png)\n",
    "\n",
    "Bueno, parece que la **clave API** se puede pasar usando el parámetro `api_key`. Intentemos eso."
   ]
  },
  {
   "cell_type": "code",
   "execution_count": 4,
   "id": "6247a55d",
   "metadata": {},
   "outputs": [
    {
     "ename": "TypeError",
     "evalue": "Session.request() got an unexpected keyword argument 'apy_key'",
     "output_type": "error",
     "traceback": [
      "\u001b[1;31m---------------------------------------------------------------------------\u001b[0m",
      "\u001b[1;31mTypeError\u001b[0m                                 Traceback (most recent call last)",
      "Cell \u001b[1;32mIn[4], line 1\u001b[0m\n\u001b[1;32m----> 1\u001b[0m respuesta \u001b[38;5;241m=\u001b[39m requests\u001b[38;5;241m.\u001b[39mget(url, apy_key\u001b[38;5;241m=\u001b[39mapi_key)\n\u001b[0;32m      2\u001b[0m data \u001b[38;5;241m=\u001b[39m respuesta\u001b[38;5;241m.\u001b[39mjson()\n\u001b[0;32m      3\u001b[0m data\n",
      "File \u001b[1;32m~\\anaconda3\\Lib\\site-packages\\requests\\api.py:73\u001b[0m, in \u001b[0;36mget\u001b[1;34m(url, params, **kwargs)\u001b[0m\n\u001b[0;32m     62\u001b[0m \u001b[38;5;28;01mdef\u001b[39;00m \u001b[38;5;21mget\u001b[39m(url, params\u001b[38;5;241m=\u001b[39m\u001b[38;5;28;01mNone\u001b[39;00m, \u001b[38;5;241m*\u001b[39m\u001b[38;5;241m*\u001b[39mkwargs):\n\u001b[0;32m     63\u001b[0m \u001b[38;5;250m    \u001b[39m\u001b[38;5;124mr\u001b[39m\u001b[38;5;124;03m\"\"\"Sends a GET request.\u001b[39;00m\n\u001b[0;32m     64\u001b[0m \n\u001b[0;32m     65\u001b[0m \u001b[38;5;124;03m    :param url: URL for the new :class:`Request` object.\u001b[39;00m\n\u001b[1;32m   (...)\u001b[0m\n\u001b[0;32m     70\u001b[0m \u001b[38;5;124;03m    :rtype: requests.Response\u001b[39;00m\n\u001b[0;32m     71\u001b[0m \u001b[38;5;124;03m    \"\"\"\u001b[39;00m\n\u001b[1;32m---> 73\u001b[0m     \u001b[38;5;28;01mreturn\u001b[39;00m request(\u001b[38;5;124m\"\u001b[39m\u001b[38;5;124mget\u001b[39m\u001b[38;5;124m\"\u001b[39m, url, params\u001b[38;5;241m=\u001b[39mparams, \u001b[38;5;241m*\u001b[39m\u001b[38;5;241m*\u001b[39mkwargs)\n",
      "File \u001b[1;32m~\\anaconda3\\Lib\\site-packages\\requests\\api.py:59\u001b[0m, in \u001b[0;36mrequest\u001b[1;34m(method, url, **kwargs)\u001b[0m\n\u001b[0;32m     55\u001b[0m \u001b[38;5;66;03m# By using the 'with' statement we are sure the session is closed, thus we\u001b[39;00m\n\u001b[0;32m     56\u001b[0m \u001b[38;5;66;03m# avoid leaving sockets open which can trigger a ResourceWarning in some\u001b[39;00m\n\u001b[0;32m     57\u001b[0m \u001b[38;5;66;03m# cases, and look like a memory leak in others.\u001b[39;00m\n\u001b[0;32m     58\u001b[0m \u001b[38;5;28;01mwith\u001b[39;00m sessions\u001b[38;5;241m.\u001b[39mSession() \u001b[38;5;28;01mas\u001b[39;00m session:\n\u001b[1;32m---> 59\u001b[0m     \u001b[38;5;28;01mreturn\u001b[39;00m session\u001b[38;5;241m.\u001b[39mrequest(method\u001b[38;5;241m=\u001b[39mmethod, url\u001b[38;5;241m=\u001b[39murl, \u001b[38;5;241m*\u001b[39m\u001b[38;5;241m*\u001b[39mkwargs)\n",
      "\u001b[1;31mTypeError\u001b[0m: Session.request() got an unexpected keyword argument 'apy_key'"
     ]
    }
   ],
   "source": [
    "respuesta = requests.get(url, apy_key=api_key)\n",
    "data = respuesta.json()\n",
    "data"
   ]
  },
  {
   "cell_type": "markdown",
   "id": "5552e4c8",
   "metadata": {},
   "source": [
    "Ahora me devuelve un error, diciendo que no conoce a este parámetro. La razón por la que esto no funciona, es porque una cosa es **lo que pide la API**, y otra cosa es **cómo funciona `requests`**.\n",
    "\n",
    "Para pasarle parámetros especiales a `requests`, esta librería nos brinda un parámetro llamado `params` (te recomiendo usar la ayuda contextual para conocer la documentación sobre ese parámetro)."
   ]
  },
  {
   "cell_type": "code",
   "execution_count": 5,
   "id": "afbe44c7",
   "metadata": {},
   "outputs": [],
   "source": [
    "params = {\n",
    "    \"api_key\": api_key,\n",
    "    \"date\": \"2002-03-20\"\n",
    "}"
   ]
  },
  {
   "attachments": {},
   "cell_type": "markdown",
   "id": "753d78b9",
   "metadata": {},
   "source": [
    "Y ahora sí, completamos los parámetros de `requests.get()` apropiadamente."
   ]
  },
  {
   "cell_type": "code",
   "execution_count": 6,
   "id": "b4b3c4a3",
   "metadata": {},
   "outputs": [
    {
     "data": {
      "text/plain": [
       "{'copyright': '\\nRobert Schwarz \\n(U. Wisconsin)\\n',\n",
       " 'date': '2002-03-20',\n",
       " 'explanation': 'Looking out from the bottom of the world, strange and spectacular sights are sometimes observed.  Such was the case during the long Antarctic night of 1998, as awesome aurora sub-storms were photographed above scientific outposts.  Visible in the left foreground of the above photograph is the Martin A. Pomerantz Observatory while the now defunct SPIREX telescope canvas dome is visible to its right.  The outside temperature at the time this photograph was taken was about -73 Celsius (-100 Fahrenheit), although a slightly heated box sheltered the camera.',\n",
       " 'hdurl': 'https://apod.nasa.gov/apod/image/0203/spaurora1_schwarz.jpg',\n",
       " 'media_type': 'image',\n",
       " 'service_version': 'v1',\n",
       " 'title': 'Aurora Over Antarctica',\n",
       " 'url': 'https://apod.nasa.gov/apod/image/0203/spaurora1_schwarz.jpg'}"
      ]
     },
     "execution_count": 6,
     "metadata": {},
     "output_type": "execute_result"
    }
   ],
   "source": [
    "respuesta = requests.get(url, params=params)\n",
    "data = respuesta.json()\n",
    "data"
   ]
  },
  {
   "attachments": {},
   "cell_type": "markdown",
   "id": "7f998565",
   "metadata": {},
   "source": [
    "Esto nos ha traido información positiva, entre la que tenemos aquí una clave llamada `url` que parece llevar a una imagen en formato `jpg`.\n",
    "\n",
    "¿Vamos a verla dentro de mi cuaderno? Para eso voy a usar a `display` y a `Image` que son librerías que he importado oprtunamente al comienzo de este cuaderno."
   ]
  },
  {
   "cell_type": "code",
   "execution_count": 7,
   "id": "86c64e63",
   "metadata": {},
   "outputs": [
    {
     "data": {
      "text/html": [
       "<img src=\"https://apod.nasa.gov/apod/image/0203/spaurora1_schwarz.jpg\"/>"
      ],
      "text/plain": [
       "<IPython.core.display.Image object>"
      ]
     },
     "metadata": {},
     "output_type": "display_data"
    }
   ],
   "source": [
    "display(Image(url=data['url']))"
   ]
  },
  {
   "attachments": {},
   "cell_type": "markdown",
   "id": "f3ef1440",
   "metadata": {},
   "source": [
    "## API 2\n",
    "\n",
    "Volvamos al sitio de APIs de la nasa, y probemos otra más, a ver si nos proporciona información para hacer **análisis de datos**.\n",
    "\n",
    "Aquí tenemos una que se llama **DONKI**, y parece que su sigla nos dice que es la **Base de Datos de Notificaciones, Conocimiento e Información del Clima Espacial**. Parece interesante.\n",
    "\n",
    "![](nasa_api_5.png)\n",
    "\n",
    "Al abrir esta solapa vemos que aquí hay una API para **cada evento climático cósmico** diferente, como *tormentas geomagnéticas*, *ráfagas solares*, etc. Voy a elegir la que trata sobre **Shock Interplanetario (IPS)**. ¡Qué miedo! ¡Quiero saber más!\n",
    "\n",
    "![](nasa_api_6.png)\n",
    "\n",
    "Bueno, todo lo que nos brinda aquí es una **url de ejemplo**, con algunos **parámetros** ya cargados.\n",
    "\n",
    "Por lo que vemos, si no configuramos sus parámetros, los valores por defecto van a devolver todos los eventos de todas las locaciones y de todo el catálogo, de los últimos 30 días hasta la fecha. \n",
    "\n",
    "Entonces voy a **copiar esta url de ejemplo**, y voy a cambiar algunos de sus parámetros y a otros los voy a dejar como vienen por defecto."
   ]
  },
  {
   "cell_type": "code",
   "execution_count": 8,
   "id": "24c0ce59",
   "metadata": {},
   "outputs": [],
   "source": [
    "url = \"https://api.nasa.gov/DONKI/IPS?\""
   ]
  },
  {
   "attachments": {},
   "cell_type": "markdown",
   "id": "2cd85b01",
   "metadata": {},
   "source": [
    "Y ahora voy a crear una **función** que transforme esos datos en un **dataframe** (por eso he importado Pandas al principio del cuaderno)."
   ]
  },
  {
   "cell_type": "code",
   "execution_count": 9,
   "id": "234d906c",
   "metadata": {},
   "outputs": [],
   "source": [
    "def obtener_donki(fecha_inicio, fecha_fin):\n",
    "    params = {\n",
    "        \"api_key\": api_key,\n",
    "        \"startDate\": fecha_inicio,\n",
    "        \"endDate\": fecha_fin\n",
    "    }\n",
    "    respuesta = requests.get(url, params=params)\n",
    "    data = respuesta.json()\n",
    "    return pd.DataFrame(data)"
   ]
  },
  {
   "attachments": {},
   "cell_type": "markdown",
   "id": "f34079f5",
   "metadata": {},
   "source": [
    "Hagamos una petición cualquiera."
   ]
  },
  {
   "cell_type": "code",
   "execution_count": 10,
   "id": "8e05c2dd",
   "metadata": {},
   "outputs": [
    {
     "data": {
      "text/html": [
       "<div>\n",
       "<style scoped>\n",
       "    .dataframe tbody tr th:only-of-type {\n",
       "        vertical-align: middle;\n",
       "    }\n",
       "\n",
       "    .dataframe tbody tr th {\n",
       "        vertical-align: top;\n",
       "    }\n",
       "\n",
       "    .dataframe thead th {\n",
       "        text-align: right;\n",
       "    }\n",
       "</style>\n",
       "<table border=\"1\" class=\"dataframe\">\n",
       "  <thead>\n",
       "    <tr style=\"text-align: right;\">\n",
       "      <th></th>\n",
       "      <th>catalog</th>\n",
       "      <th>activityID</th>\n",
       "      <th>location</th>\n",
       "      <th>eventTime</th>\n",
       "      <th>link</th>\n",
       "      <th>instruments</th>\n",
       "      <th>submissionTime</th>\n",
       "    </tr>\n",
       "  </thead>\n",
       "  <tbody>\n",
       "    <tr>\n",
       "      <th>0</th>\n",
       "      <td>M2M_CATALOG</td>\n",
       "      <td>2023-12-01T00:11:00-IPS-001</td>\n",
       "      <td>STEREO A</td>\n",
       "      <td>2023-12-01T00:11Z</td>\n",
       "      <td>https://webtools.ccmc.gsfc.nasa.gov/DONKI/view...</td>\n",
       "      <td>[{'displayName': 'STEREO A: IMPACT'}, {'displa...</td>\n",
       "      <td>2023-12-06T02:01Z</td>\n",
       "    </tr>\n",
       "    <tr>\n",
       "      <th>1</th>\n",
       "      <td>M2M_CATALOG</td>\n",
       "      <td>2023-12-01T08:15:00-IPS-001</td>\n",
       "      <td>STEREO A</td>\n",
       "      <td>2023-12-01T08:15Z</td>\n",
       "      <td>https://webtools.ccmc.gsfc.nasa.gov/DONKI/view...</td>\n",
       "      <td>[{'displayName': 'STEREO A: IMPACT'}, {'displa...</td>\n",
       "      <td>2023-12-06T02:52Z</td>\n",
       "    </tr>\n",
       "    <tr>\n",
       "      <th>2</th>\n",
       "      <td>M2M_CATALOG</td>\n",
       "      <td>2023-12-01T08:48:00-IPS-001</td>\n",
       "      <td>Earth</td>\n",
       "      <td>2023-12-01T08:48Z</td>\n",
       "      <td>https://webtools.ccmc.gsfc.nasa.gov/DONKI/view...</td>\n",
       "      <td>[{'displayName': 'DSCOVR: PLASMAG'}, {'display...</td>\n",
       "      <td>2023-12-06T03:58Z</td>\n",
       "    </tr>\n",
       "    <tr>\n",
       "      <th>3</th>\n",
       "      <td>M2M_CATALOG</td>\n",
       "      <td>2023-12-04T04:30:00-IPS-001</td>\n",
       "      <td>Earth</td>\n",
       "      <td>2023-12-04T04:30Z</td>\n",
       "      <td>https://webtools.ccmc.gsfc.nasa.gov/DONKI/view...</td>\n",
       "      <td>[{'displayName': 'DSCOVR: PLASMAG'}, {'display...</td>\n",
       "      <td>2023-12-05T17:02Z</td>\n",
       "    </tr>\n",
       "    <tr>\n",
       "      <th>4</th>\n",
       "      <td>M2M_CATALOG</td>\n",
       "      <td>2023-12-04T08:09:00-IPS-001</td>\n",
       "      <td>STEREO A</td>\n",
       "      <td>2023-12-04T08:09Z</td>\n",
       "      <td>https://webtools.ccmc.gsfc.nasa.gov/DONKI/view...</td>\n",
       "      <td>[{'displayName': 'STEREO A: IMPACT'}, {'displa...</td>\n",
       "      <td>2023-12-05T18:23Z</td>\n",
       "    </tr>\n",
       "    <tr>\n",
       "      <th>5</th>\n",
       "      <td>M2M_CATALOG</td>\n",
       "      <td>2023-12-09T19:27:00-IPS-001</td>\n",
       "      <td>Mars</td>\n",
       "      <td>2023-12-09T19:27Z</td>\n",
       "      <td>https://webtools.ccmc.gsfc.nasa.gov/DONKI/view...</td>\n",
       "      <td>[{'displayName': 'MAVEN: SEP'}, {'displayName'...</td>\n",
       "      <td>2024-01-10T17:22Z</td>\n",
       "    </tr>\n",
       "    <tr>\n",
       "      <th>6</th>\n",
       "      <td>M2M_CATALOG</td>\n",
       "      <td>2023-12-12T11:26:00-IPS-001</td>\n",
       "      <td>Earth</td>\n",
       "      <td>2023-12-12T11:26Z</td>\n",
       "      <td>https://webtools.ccmc.gsfc.nasa.gov/DONKI/view...</td>\n",
       "      <td>[{'displayName': 'DSCOVR: PLASMAG'}, {'display...</td>\n",
       "      <td>2023-12-13T02:20Z</td>\n",
       "    </tr>\n",
       "    <tr>\n",
       "      <th>7</th>\n",
       "      <td>M2M_CATALOG</td>\n",
       "      <td>2023-12-13T00:00:00-IPS-001</td>\n",
       "      <td>STEREO A</td>\n",
       "      <td>2023-12-13T00:00Z</td>\n",
       "      <td>https://webtools.ccmc.gsfc.nasa.gov/DONKI/view...</td>\n",
       "      <td>[{'displayName': 'STEREO A: IMPACT'}, {'displa...</td>\n",
       "      <td>2023-12-13T22:17Z</td>\n",
       "    </tr>\n",
       "    <tr>\n",
       "      <th>8</th>\n",
       "      <td>M2M_CATALOG</td>\n",
       "      <td>2023-12-13T21:54:00-IPS-001</td>\n",
       "      <td>Earth</td>\n",
       "      <td>2023-12-13T21:54Z</td>\n",
       "      <td>https://webtools.ccmc.gsfc.nasa.gov/DONKI/view...</td>\n",
       "      <td>[{'displayName': 'DSCOVR: PLASMAG'}]</td>\n",
       "      <td>2023-12-20T18:14Z</td>\n",
       "    </tr>\n",
       "    <tr>\n",
       "      <th>9</th>\n",
       "      <td>M2M_CATALOG</td>\n",
       "      <td>2023-12-15T10:57:00-IPS-001</td>\n",
       "      <td>Earth</td>\n",
       "      <td>2023-12-15T10:57Z</td>\n",
       "      <td>https://webtools.ccmc.gsfc.nasa.gov/DONKI/view...</td>\n",
       "      <td>[{'displayName': 'DSCOVR: PLASMAG'}, {'display...</td>\n",
       "      <td>2023-12-15T17:21Z</td>\n",
       "    </tr>\n",
       "    <tr>\n",
       "      <th>10</th>\n",
       "      <td>M2M_CATALOG</td>\n",
       "      <td>2023-12-15T12:41:00-IPS-001</td>\n",
       "      <td>STEREO A</td>\n",
       "      <td>2023-12-15T12:41Z</td>\n",
       "      <td>https://webtools.ccmc.gsfc.nasa.gov/DONKI/view...</td>\n",
       "      <td>[{'displayName': 'STEREO A: IMPACT'}, {'displa...</td>\n",
       "      <td>2023-12-15T17:15Z</td>\n",
       "    </tr>\n",
       "    <tr>\n",
       "      <th>11</th>\n",
       "      <td>M2M_CATALOG</td>\n",
       "      <td>2023-12-17T00:30:00-IPS-001</td>\n",
       "      <td>STEREO A</td>\n",
       "      <td>2023-12-17T00:30Z</td>\n",
       "      <td>https://webtools.ccmc.gsfc.nasa.gov/DONKI/view...</td>\n",
       "      <td>[{'displayName': 'STEREO A: IMPACT'}, {'displa...</td>\n",
       "      <td>2023-12-17T13:44Z</td>\n",
       "    </tr>\n",
       "    <tr>\n",
       "      <th>12</th>\n",
       "      <td>M2M_CATALOG</td>\n",
       "      <td>2023-12-17T07:32:00-IPS-001</td>\n",
       "      <td>Earth</td>\n",
       "      <td>2023-12-17T07:32Z</td>\n",
       "      <td>https://webtools.ccmc.gsfc.nasa.gov/DONKI/view...</td>\n",
       "      <td>[{'displayName': 'DSCOVR: PLASMAG'}, {'display...</td>\n",
       "      <td>2023-12-18T19:56Z</td>\n",
       "    </tr>\n",
       "    <tr>\n",
       "      <th>13</th>\n",
       "      <td>M2M_CATALOG</td>\n",
       "      <td>2023-12-20T00:26:00-IPS-001</td>\n",
       "      <td>Earth</td>\n",
       "      <td>2023-12-20T00:26Z</td>\n",
       "      <td>https://webtools.ccmc.gsfc.nasa.gov/DONKI/view...</td>\n",
       "      <td>[{'displayName': 'DSCOVR: PLASMAG'}, {'display...</td>\n",
       "      <td>2023-12-20T19:04Z</td>\n",
       "    </tr>\n",
       "    <tr>\n",
       "      <th>14</th>\n",
       "      <td>M2M_CATALOG</td>\n",
       "      <td>2023-12-27T08:26:00-IPS-001</td>\n",
       "      <td>Earth</td>\n",
       "      <td>2023-12-27T08:26Z</td>\n",
       "      <td>https://webtools.ccmc.gsfc.nasa.gov/DONKI/view...</td>\n",
       "      <td>[{'displayName': 'DSCOVR: PLASMAG'}, {'display...</td>\n",
       "      <td>2023-12-28T16:25Z</td>\n",
       "    </tr>\n",
       "    <tr>\n",
       "      <th>15</th>\n",
       "      <td>M2M_CATALOG</td>\n",
       "      <td>2023-12-29T11:34:00-IPS-001</td>\n",
       "      <td>Earth</td>\n",
       "      <td>2023-12-29T11:34Z</td>\n",
       "      <td>https://webtools.ccmc.gsfc.nasa.gov/DONKI/view...</td>\n",
       "      <td>[{'displayName': 'DSCOVR: PLASMAG'}, {'display...</td>\n",
       "      <td>2023-12-30T20:06Z</td>\n",
       "    </tr>\n",
       "  </tbody>\n",
       "</table>\n",
       "</div>"
      ],
      "text/plain": [
       "        catalog                   activityID  location          eventTime  \\\n",
       "0   M2M_CATALOG  2023-12-01T00:11:00-IPS-001  STEREO A  2023-12-01T00:11Z   \n",
       "1   M2M_CATALOG  2023-12-01T08:15:00-IPS-001  STEREO A  2023-12-01T08:15Z   \n",
       "2   M2M_CATALOG  2023-12-01T08:48:00-IPS-001     Earth  2023-12-01T08:48Z   \n",
       "3   M2M_CATALOG  2023-12-04T04:30:00-IPS-001     Earth  2023-12-04T04:30Z   \n",
       "4   M2M_CATALOG  2023-12-04T08:09:00-IPS-001  STEREO A  2023-12-04T08:09Z   \n",
       "5   M2M_CATALOG  2023-12-09T19:27:00-IPS-001      Mars  2023-12-09T19:27Z   \n",
       "6   M2M_CATALOG  2023-12-12T11:26:00-IPS-001     Earth  2023-12-12T11:26Z   \n",
       "7   M2M_CATALOG  2023-12-13T00:00:00-IPS-001  STEREO A  2023-12-13T00:00Z   \n",
       "8   M2M_CATALOG  2023-12-13T21:54:00-IPS-001     Earth  2023-12-13T21:54Z   \n",
       "9   M2M_CATALOG  2023-12-15T10:57:00-IPS-001     Earth  2023-12-15T10:57Z   \n",
       "10  M2M_CATALOG  2023-12-15T12:41:00-IPS-001  STEREO A  2023-12-15T12:41Z   \n",
       "11  M2M_CATALOG  2023-12-17T00:30:00-IPS-001  STEREO A  2023-12-17T00:30Z   \n",
       "12  M2M_CATALOG  2023-12-17T07:32:00-IPS-001     Earth  2023-12-17T07:32Z   \n",
       "13  M2M_CATALOG  2023-12-20T00:26:00-IPS-001     Earth  2023-12-20T00:26Z   \n",
       "14  M2M_CATALOG  2023-12-27T08:26:00-IPS-001     Earth  2023-12-27T08:26Z   \n",
       "15  M2M_CATALOG  2023-12-29T11:34:00-IPS-001     Earth  2023-12-29T11:34Z   \n",
       "\n",
       "                                                 link  \\\n",
       "0   https://webtools.ccmc.gsfc.nasa.gov/DONKI/view...   \n",
       "1   https://webtools.ccmc.gsfc.nasa.gov/DONKI/view...   \n",
       "2   https://webtools.ccmc.gsfc.nasa.gov/DONKI/view...   \n",
       "3   https://webtools.ccmc.gsfc.nasa.gov/DONKI/view...   \n",
       "4   https://webtools.ccmc.gsfc.nasa.gov/DONKI/view...   \n",
       "5   https://webtools.ccmc.gsfc.nasa.gov/DONKI/view...   \n",
       "6   https://webtools.ccmc.gsfc.nasa.gov/DONKI/view...   \n",
       "7   https://webtools.ccmc.gsfc.nasa.gov/DONKI/view...   \n",
       "8   https://webtools.ccmc.gsfc.nasa.gov/DONKI/view...   \n",
       "9   https://webtools.ccmc.gsfc.nasa.gov/DONKI/view...   \n",
       "10  https://webtools.ccmc.gsfc.nasa.gov/DONKI/view...   \n",
       "11  https://webtools.ccmc.gsfc.nasa.gov/DONKI/view...   \n",
       "12  https://webtools.ccmc.gsfc.nasa.gov/DONKI/view...   \n",
       "13  https://webtools.ccmc.gsfc.nasa.gov/DONKI/view...   \n",
       "14  https://webtools.ccmc.gsfc.nasa.gov/DONKI/view...   \n",
       "15  https://webtools.ccmc.gsfc.nasa.gov/DONKI/view...   \n",
       "\n",
       "                                          instruments     submissionTime  \n",
       "0   [{'displayName': 'STEREO A: IMPACT'}, {'displa...  2023-12-06T02:01Z  \n",
       "1   [{'displayName': 'STEREO A: IMPACT'}, {'displa...  2023-12-06T02:52Z  \n",
       "2   [{'displayName': 'DSCOVR: PLASMAG'}, {'display...  2023-12-06T03:58Z  \n",
       "3   [{'displayName': 'DSCOVR: PLASMAG'}, {'display...  2023-12-05T17:02Z  \n",
       "4   [{'displayName': 'STEREO A: IMPACT'}, {'displa...  2023-12-05T18:23Z  \n",
       "5   [{'displayName': 'MAVEN: SEP'}, {'displayName'...  2024-01-10T17:22Z  \n",
       "6   [{'displayName': 'DSCOVR: PLASMAG'}, {'display...  2023-12-13T02:20Z  \n",
       "7   [{'displayName': 'STEREO A: IMPACT'}, {'displa...  2023-12-13T22:17Z  \n",
       "8                [{'displayName': 'DSCOVR: PLASMAG'}]  2023-12-20T18:14Z  \n",
       "9   [{'displayName': 'DSCOVR: PLASMAG'}, {'display...  2023-12-15T17:21Z  \n",
       "10  [{'displayName': 'STEREO A: IMPACT'}, {'displa...  2023-12-15T17:15Z  \n",
       "11  [{'displayName': 'STEREO A: IMPACT'}, {'displa...  2023-12-17T13:44Z  \n",
       "12  [{'displayName': 'DSCOVR: PLASMAG'}, {'display...  2023-12-18T19:56Z  \n",
       "13  [{'displayName': 'DSCOVR: PLASMAG'}, {'display...  2023-12-20T19:04Z  \n",
       "14  [{'displayName': 'DSCOVR: PLASMAG'}, {'display...  2023-12-28T16:25Z  \n",
       "15  [{'displayName': 'DSCOVR: PLASMAG'}, {'display...  2023-12-30T20:06Z  "
      ]
     },
     "execution_count": 10,
     "metadata": {},
     "output_type": "execute_result"
    }
   ],
   "source": [
    "df = obtener_donki(\"2023-12-01\", \"2023-12-31\")\n",
    "df"
   ]
  },
  {
   "attachments": {},
   "cell_type": "markdown",
   "id": "f4253759",
   "metadata": {},
   "source": [
    "Por lo que vemos, ahora `df` es un **dataframe** que contiene los datos de las ocurrencias de los eventos que se han dado en las fechas que hemos pedido.\n",
    "\n",
    "Entonces ahora, con las habilidades que has desarrollado a lo largo de todo el curso, puedes tomar este **dataframe**, inspeccionarlo, hacer limpieza de datos, transformaciones, etc, y por supuesto, finalmente visualizaciones basadas en información que has recolectaso usando APIs.\n",
    "\n",
    "Espero que esta lección te haya resultado esclarecedora, porque a continuación se viene el **desafío del día**, que va a ser bastante parecido a lo que hicimos en esta lección, pero ahora por tu cuenta.\n",
    "\n",
    "Nos vemos ahí."
   ]
  },
  {
   "cell_type": "code",
   "execution_count": null,
   "id": "afb35a24",
   "metadata": {},
   "outputs": [],
   "source": []
  }
 ],
 "metadata": {
  "kernelspec": {
   "display_name": "Python 3 (ipykernel)",
   "language": "python",
   "name": "python3"
  },
  "language_info": {
   "codemirror_mode": {
    "name": "ipython",
    "version": 3
   },
   "file_extension": ".py",
   "mimetype": "text/x-python",
   "name": "python",
   "nbconvert_exporter": "python",
   "pygments_lexer": "ipython3",
   "version": "3.11.5"
  }
 },
 "nbformat": 4,
 "nbformat_minor": 5
}
