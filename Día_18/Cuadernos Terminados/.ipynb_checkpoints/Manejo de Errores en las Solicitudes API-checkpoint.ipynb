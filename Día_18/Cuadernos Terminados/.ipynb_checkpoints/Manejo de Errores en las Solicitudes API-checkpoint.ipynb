{
 "cells": [
  {
   "attachments": {},
   "cell_type": "markdown",
   "id": "9fe883c4",
   "metadata": {},
   "source": [
    "# Manejo de Errores en las Solicitudes API\n",
    "\n",
    "Aunque no nos guste, muchas veces nuestras solicitudes API no van a devolvernos la información que esperamos. Es muy común cuando trabajas con la comunicación entre servidores, que a veces recibas **mensajes de error**, sea por la razón que sea.\n",
    "\n",
    "Si no sabemos cómo manejar esos posibles errores, nuestro programa se va a caer en medio de su ejecución, y eso es lo que vamos a aprender a manejar en esta lección. Vamos a ver cómo escribir nuestro código para **manejar errores sin que nuestro programa se caiga**.\n",
    "\n",
    "En la primera celda de este cuaderno tenemos todo preparado para capturar el **primer post** del [sitio que te mostré](https://jsonplaceholder.typicode.com/posts/1) en la lección anterior."
   ]
  },
  {
   "cell_type": "code",
   "execution_count": 9,
   "id": "ad1a90a8",
   "metadata": {},
   "outputs": [],
   "source": [
    "import requests\n",
    "\n",
    "url = \"https://jsonplaceholder.typicode.com/posts/1\"\n",
    "respuesta = requests.get(url)"
   ]
  },
  {
   "cell_type": "code",
   "execution_count": 10,
   "id": "e0f8df89",
   "metadata": {},
   "outputs": [
    {
     "data": {
      "text/plain": [
       "requests.models.Response"
      ]
     },
     "execution_count": 10,
     "metadata": {},
     "output_type": "execute_result"
    }
   ],
   "source": [
    "type(respuesta)"
   ]
  },
  {
   "cell_type": "markdown",
   "id": "cc8f6a11",
   "metadata": {},
   "source": [
    "Como te dije antes, los objetos `Response` no solo contienen los datos que le hemos pedido, sino que también traen alguna **información adicional**.\n",
    "\n",
    "En este caso, en vez de pedirle a `respuesta` que nos muestre los datos que le pedí, le voy a pedir que me muestre el **estado de la respuesta**, usando la propiedad `status_code`."
   ]
  },
  {
   "cell_type": "code",
   "execution_count": 11,
   "id": "579fb098",
   "metadata": {},
   "outputs": [
    {
     "data": {
      "text/plain": [
       "200"
      ]
     },
     "execution_count": 11,
     "metadata": {},
     "output_type": "execute_result"
    }
   ],
   "source": [
    "respuesta.status_code"
   ]
  },
  {
   "attachments": {},
   "cell_type": "markdown",
   "id": "df824e9c",
   "metadata": {},
   "source": [
    "El número `200` es un código que representa en qué estado ha llegado la respuesta.\n",
    "\n",
    "Hay muchos códigos posibles que podemos recibir, pero los más importantes son `200`, que significa \"*respuesta exitosa*\", y `400` que significa *error*.\n",
    "\n",
    "Todas las respuestas que comienzan con `200` (como `201` 0 `204`) son respuestas positivas, mientras que las que comienzan con `400` (como `401`, `403` o `404`) representan algún tipo de error.\n",
    "\n",
    "En [este cuaderno](Códigos%20de%20Estado%20para%20las%20Respuestas%20HTTP.ipynb) encontrarás la lista completa de códigos de estado que puedes recibir al aplicar el método `get()`.\n",
    "\n",
    "¿De qué me sirve esta información? Bueno, ahora puedo crear **bloques de decisión** en mi código para establecer cómo debe comportarse mi programa si recibe un mensaje de error.\n",
    "\n",
    "Veamos un ejemplo."
   ]
  },
  {
   "cell_type": "code",
   "execution_count": 12,
   "id": "0d7833cd",
   "metadata": {},
   "outputs": [
    {
     "name": "stdout",
     "output_type": "stream",
     "text": [
      "{'userId': 1, 'id': 1, 'title': 'sunt aut facere repellat provident occaecati excepturi optio reprehenderit', 'body': 'quia et suscipit\\nsuscipit recusandae consequuntur expedita et cum\\nreprehenderit molestiae ut ut quas totam\\nnostrum rerum est autem sunt rem eveniet architecto'}\n"
     ]
    }
   ],
   "source": [
    "if respuesta.status_code == 200:\n",
    "    data = respuesta.json()\n",
    "    print(data)\n",
    "else:\n",
    "    print(f\"Error {respuesta.status_code}: no disponemos de esa información\")"
   ]
  },
  {
   "attachments": {},
   "cell_type": "markdown",
   "id": "1abe040c",
   "metadata": {},
   "source": [
    "En este caso me muestra correctamente la información solicitada, porque la declaración `if` comprobó que el `status_code` es `200`, por lo que puede proceder a imprimir la información en pantalla.\n",
    "\n",
    "Pero ahora voy a repetir este mismo ejemplo de manera completa, pero modificando la url para introducir un error intencional, cambiando el número `1` por la letra `a`, provocando así que la petición no pueda encontrar ninguna información debido a que esa url no existe. Estas situacipnes se pueden dar con frecuencia en el mundo real si construimos mal la orl o si el dueño del sitio web ha cambiado algo."
   ]
  },
  {
   "cell_type": "code",
   "execution_count": 14,
   "id": "eceb2fa4",
   "metadata": {},
   "outputs": [
    {
     "name": "stdout",
     "output_type": "stream",
     "text": [
      "Error 404: no disponemos de esa información\n",
      "¡El programa sigue vivo!\n"
     ]
    }
   ],
   "source": [
    "url = \"https://jsonplaceholder.typicode.com/posts/a\" #url modificada\n",
    "respuesta = requests.get(url)\n",
    "\n",
    "if respuesta.status_code == 200:\n",
    "    data = respuesta.json()\n",
    "    print(data)\n",
    "else:\n",
    "    print(f\"Error {respuesta.status_code}: no disponemos de esa información\")\n",
    "    \n",
    "# mensaje final para comprobar que el código se sigue ejecutando\n",
    "print(\"¡El programa sigue vivo!\")"
   ]
  },
  {
   "cell_type": "markdown",
   "id": "45e6aee3",
   "metadata": {},
   "source": [
    "En este caso, mi programa me da información del error, pero la ejecución de mi código no se ha interrumpido, y ha continuado su curso. El error ha sido contenido dentro del código python.\n",
    "\n",
    "Entonces ahora sabes que dispones de la propiedad `status_code`, para hacer que tu código sea robusto y sepa qué hacer en diferentes situaciones.\n",
    "\n",
    "¿Hay más que aprender sobre APIs para data science? Sí. Mucho más. Así que te espero en la siguiente lección."
   ]
  },
  {
   "cell_type": "code",
   "execution_count": null,
   "id": "11c0d969",
   "metadata": {},
   "outputs": [],
   "source": []
  }
 ],
 "metadata": {
  "kernelspec": {
   "display_name": "Python 3 (ipykernel)",
   "language": "python",
   "name": "python3"
  },
  "language_info": {
   "codemirror_mode": {
    "name": "ipython",
    "version": 3
   },
   "file_extension": ".py",
   "mimetype": "text/x-python",
   "name": "python",
   "nbconvert_exporter": "python",
   "pygments_lexer": "ipython3",
   "version": "3.11.5"
  }
 },
 "nbformat": 4,
 "nbformat_minor": 5
}
