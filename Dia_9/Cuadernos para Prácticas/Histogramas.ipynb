{
 "cells": [
  {
   "cell_type": "code",
   "execution_count": 1,
   "id": "e14c64b8",
   "metadata": {},
   "outputs": [],
   "source": [
    "import pandas as pd\n",
    "import numpy as np\n",
    "import matplotlib.pyplot as plt\n",
    "%matplotlib inline"
   ]
  },
  {
   "cell_type": "code",
   "execution_count": 2,
   "id": "d06b6c71",
   "metadata": {},
   "outputs": [
    {
     "data": {
      "text/html": [
       "<div>\n",
       "<style scoped>\n",
       "    .dataframe tbody tr th:only-of-type {\n",
       "        vertical-align: middle;\n",
       "    }\n",
       "\n",
       "    .dataframe tbody tr th {\n",
       "        vertical-align: top;\n",
       "    }\n",
       "\n",
       "    .dataframe thead th {\n",
       "        text-align: right;\n",
       "    }\n",
       "</style>\n",
       "<table border=\"1\" class=\"dataframe\">\n",
       "  <thead>\n",
       "    <tr style=\"text-align: right;\">\n",
       "      <th></th>\n",
       "      <th>Fecha</th>\n",
       "      <th>Producto</th>\n",
       "      <th>Cantidad</th>\n",
       "      <th>Precio Unitario</th>\n",
       "      <th>Total Venta</th>\n",
       "    </tr>\n",
       "  </thead>\n",
       "  <tbody>\n",
       "    <tr>\n",
       "      <th>0</th>\n",
       "      <td>1/17/2023</td>\n",
       "      <td>Electrónic</td>\n",
       "      <td>7</td>\n",
       "      <td>200</td>\n",
       "      <td>1400</td>\n",
       "    </tr>\n",
       "    <tr>\n",
       "      <th>1</th>\n",
       "      <td>9/1/2023</td>\n",
       "      <td>Electrónic</td>\n",
       "      <td>8</td>\n",
       "      <td>200</td>\n",
       "      <td>1600</td>\n",
       "    </tr>\n",
       "    <tr>\n",
       "      <th>2</th>\n",
       "      <td>7/29/2023</td>\n",
       "      <td>Juguetes</td>\n",
       "      <td>3</td>\n",
       "      <td>30</td>\n",
       "      <td>90</td>\n",
       "    </tr>\n",
       "    <tr>\n",
       "      <th>3</th>\n",
       "      <td>10/4/2023</td>\n",
       "      <td>Alimentos</td>\n",
       "      <td>4</td>\n",
       "      <td>10</td>\n",
       "      <td>40</td>\n",
       "    </tr>\n",
       "    <tr>\n",
       "      <th>4</th>\n",
       "      <td>2/28/2023</td>\n",
       "      <td>Electrónic</td>\n",
       "      <td>6</td>\n",
       "      <td>200</td>\n",
       "      <td>1200</td>\n",
       "    </tr>\n",
       "    <tr>\n",
       "      <th>...</th>\n",
       "      <td>...</td>\n",
       "      <td>...</td>\n",
       "      <td>...</td>\n",
       "      <td>...</td>\n",
       "      <td>...</td>\n",
       "    </tr>\n",
       "    <tr>\n",
       "      <th>995</th>\n",
       "      <td>4/27/2023</td>\n",
       "      <td>Alimentos</td>\n",
       "      <td>2</td>\n",
       "      <td>10</td>\n",
       "      <td>20</td>\n",
       "    </tr>\n",
       "    <tr>\n",
       "      <th>996</th>\n",
       "      <td>6/9/2023</td>\n",
       "      <td>Ropa</td>\n",
       "      <td>10</td>\n",
       "      <td>50</td>\n",
       "      <td>500</td>\n",
       "    </tr>\n",
       "    <tr>\n",
       "      <th>997</th>\n",
       "      <td>8/21/2023</td>\n",
       "      <td>Alimentos</td>\n",
       "      <td>8</td>\n",
       "      <td>10</td>\n",
       "      <td>80</td>\n",
       "    </tr>\n",
       "    <tr>\n",
       "      <th>998</th>\n",
       "      <td>3/28/2023</td>\n",
       "      <td>Electrónic</td>\n",
       "      <td>6</td>\n",
       "      <td>200</td>\n",
       "      <td>1200</td>\n",
       "    </tr>\n",
       "    <tr>\n",
       "      <th>999</th>\n",
       "      <td>3/7/2023</td>\n",
       "      <td>Electrónic</td>\n",
       "      <td>4</td>\n",
       "      <td>200</td>\n",
       "      <td>800</td>\n",
       "    </tr>\n",
       "  </tbody>\n",
       "</table>\n",
       "<p>1000 rows × 5 columns</p>\n",
       "</div>"
      ],
      "text/plain": [
       "         Fecha    Producto  Cantidad  Precio Unitario  Total Venta\n",
       "0    1/17/2023  Electrónic         7              200         1400\n",
       "1     9/1/2023  Electrónic         8              200         1600\n",
       "2    7/29/2023    Juguetes         3               30           90\n",
       "3    10/4/2023   Alimentos         4               10           40\n",
       "4    2/28/2023  Electrónic         6              200         1200\n",
       "..         ...         ...       ...              ...          ...\n",
       "995  4/27/2023   Alimentos         2               10           20\n",
       "996   6/9/2023        Ropa        10               50          500\n",
       "997  8/21/2023   Alimentos         8               10           80\n",
       "998  3/28/2023  Electrónic         6              200         1200\n",
       "999   3/7/2023  Electrónic         4              200          800\n",
       "\n",
       "[1000 rows x 5 columns]"
      ]
     },
     "execution_count": 2,
     "metadata": {},
     "output_type": "execute_result"
    }
   ],
   "source": [
    "df = pd.read_csv(\"Ventas.csv\")\n",
    "df"
   ]
  },
  {
   "cell_type": "code",
   "execution_count": 8,
   "id": "4808a0fa",
   "metadata": {},
   "outputs": [
    {
     "data": {
      "image/png": "[encoded data removed]",
      "text/plain": [
       "<Figure size 640x480 with 1 Axes>"
      ]
     },
     "metadata": {},
     "output_type": "display_data"
    }
   ],
   "source": [
    "plt.hist(df['Producto']);"
   ]
  },
  {
   "cell_type": "code",
   "execution_count": 5,
   "id": "2b405b4b",
   "metadata": {},
   "outputs": [
    {
     "data": {
      "text/plain": [
       "array([-8.44586668e-02, -2.42997157e-01,  7.18524947e-01,  1.54777462e+00,\n",
       "       -6.83574028e-02, -2.46632704e+00,  4.08135468e-02,  5.20876734e-01,\n",
       "       -1.12599575e+00,  3.83713734e-01,  1.45401911e+00,  2.95519299e-01,\n",
       "        1.01272181e+00, -1.60594085e+00,  2.91818818e-01,  8.61996554e-01,\n",
       "       -6.83838124e-01,  5.31119985e-01,  8.45559355e-02, -6.04048093e-02,\n",
       "       -4.49822488e-01,  1.14025026e+00, -3.76310837e-02,  7.54646504e-01,\n",
       "       -4.72667973e-01,  3.97251070e-01, -4.98604550e-01,  2.22075945e-01,\n",
       "       -5.66672505e-01,  7.64061427e-01, -1.73221668e-01, -4.75742419e-01,\n",
       "       -6.00748694e-01, -8.38227164e-01, -5.68550731e-01, -5.56728681e-01,\n",
       "        5.73535091e-01,  1.09756466e+00,  3.26210653e-01,  3.72201997e-01,\n",
       "       -1.17871646e+00,  7.22378785e-01, -1.20248274e+00, -2.00371239e-02,\n",
       "       -5.50768175e-01, -8.03776964e-01,  7.17457412e-01, -5.79052732e-01,\n",
       "       -9.46528192e-01,  1.28445332e+00,  8.64978012e-01,  5.49922042e-01,\n",
       "        3.31302072e-01,  1.26345284e+00, -8.03812672e-01,  1.30670879e+00,\n",
       "       -8.01322165e-01, -7.40758632e-01, -4.37260136e-01,  7.76177794e-02,\n",
       "       -1.25948258e+00, -4.25650135e-01,  8.03239956e-01,  8.49767923e-02,\n",
       "       -6.41613736e-02,  9.75503651e-02,  2.18929421e-01, -3.91931028e-01,\n",
       "        1.62935710e-01,  2.49449259e-01, -1.76755662e+00, -3.53930270e-01,\n",
       "        6.27424105e-01,  7.84708284e-01, -6.22299684e-01,  1.17241904e+00,\n",
       "        1.21525543e+00,  4.72495040e-01,  7.19818746e-01, -1.48818160e+00,\n",
       "       -1.13713549e+00, -9.41245750e-02, -2.93073429e-01, -5.86893208e-02,\n",
       "       -1.54890156e+00,  3.06887639e-02, -3.92961054e-01,  4.98980540e-01,\n",
       "       -1.55328658e+00,  1.11936241e+00, -7.65220632e-01,  1.21761711e+00,\n",
       "        7.49210337e-01, -6.85524751e-01, -2.53081750e-01, -1.08915366e+00,\n",
       "       -5.34032643e-01,  9.42853521e-01, -2.60364970e-01, -1.18874237e+00,\n",
       "       -1.84563154e+00, -5.68651096e-01,  5.39180180e-02,  3.47969809e-01,\n",
       "       -9.56339068e-01, -8.42377080e-01,  1.56566408e+00, -6.75462828e-01,\n",
       "        4.76313398e-01, -4.55691275e-01,  6.84251357e-01, -5.25301544e-02,\n",
       "       -8.72307743e-01, -6.86833215e-01, -3.05238680e-01, -2.75067136e-01,\n",
       "        5.97804263e-01, -1.30558088e+00,  5.32524971e-01,  1.43359661e+00,\n",
       "        6.40556499e-02, -2.75926297e+00, -4.20613441e-01, -7.22109200e-01,\n",
       "       -6.50797836e-01, -3.64818789e-01, -3.94295197e-01, -5.40583325e-01,\n",
       "        8.98960867e-01,  9.05749586e-01, -7.92700844e-01, -1.42466899e+00,\n",
       "       -1.44020683e-01,  2.09451619e+00,  1.85930150e+00,  3.52311946e-01,\n",
       "        1.40423838e-01, -2.13506179e+00, -1.18579478e+00, -8.95621572e-02,\n",
       "       -3.89438664e-01, -9.33045273e-01,  5.74464844e-01,  3.69483337e-01,\n",
       "        1.16115967e+00,  1.08041139e+00, -1.50418117e+00,  5.43394974e-01,\n",
       "        8.23274071e-01, -9.30911409e-01, -8.68019641e-01, -4.03138362e-01,\n",
       "        1.39480255e+00,  1.07178392e+00, -1.39182957e+00, -4.64382148e-01,\n",
       "       -1.18882942e+00,  3.29697575e-01,  6.28143816e-01,  1.80284364e+00,\n",
       "        2.01098289e+00,  4.75643695e-01,  9.95478575e-01, -6.60199720e-01,\n",
       "       -1.21808472e+00, -4.17955378e-01,  1.13160727e+00, -8.64971544e-01,\n",
       "       -2.76763319e-01, -1.17853243e+00, -8.90630738e-02, -1.55435762e+00,\n",
       "       -5.08435630e-02,  6.01862103e-01, -7.71929845e-01,  1.89207001e+00,\n",
       "        1.99884952e-01,  2.41740188e+00,  3.45660721e-01, -7.37492648e-01,\n",
       "        1.88201167e-01,  1.12983639e+00,  7.74794154e-01,  1.90056681e-01,\n",
       "       -5.53659959e-01,  1.33058774e-01, -1.02529749e-01, -5.16424138e-01,\n",
       "       -8.94832182e-02, -1.63978988e-01,  3.43803844e-02, -2.67336776e+00,\n",
       "        1.39903845e+00, -1.20979890e+00, -1.70556202e+00, -4.13639940e-01,\n",
       "       -5.87953267e-01,  5.56323913e-01,  1.11417508e+00,  9.12783612e-01,\n",
       "       -5.85105178e-01,  1.06643516e+00, -4.50472969e-01, -1.51010337e+00,\n",
       "        2.36866215e-01,  9.59633458e-01,  1.38911018e+00,  2.54096097e+00,\n",
       "        6.46393986e-01, -1.02450350e+00, -1.24155916e-01, -6.08754157e-02,\n",
       "       -2.14449494e-01,  1.36453186e+00, -5.03376925e-01,  2.69465303e-01,\n",
       "       -8.92851347e-02,  1.25242263e+00,  1.39899464e+00, -2.07203049e+00,\n",
       "        3.92482892e-01, -3.72698318e-02,  7.45921299e-01,  3.66561731e-01,\n",
       "       -3.35826021e-01, -1.15762169e+00,  9.66934102e-01,  2.40680631e-01,\n",
       "        2.97555808e-01,  9.58364360e-01, -4.18317040e-01, -4.88725532e-01,\n",
       "       -6.57964300e-01,  1.64204236e+00, -3.41849651e-02,  1.44023313e+00,\n",
       "       -7.15691464e-02, -1.66063837e+00, -1.07917571e+00,  1.15480229e+00,\n",
       "       -5.08216328e-01,  9.23692238e-02, -2.08045000e+00, -2.04374331e-01,\n",
       "        8.61457754e-01,  8.10531611e-01, -6.13956041e-01, -3.69871674e-02,\n",
       "        2.12771192e+00,  1.50461117e-01, -2.64292823e-01, -9.96099911e-01,\n",
       "        1.66778042e-01, -5.97417833e-01,  1.21021488e+00, -1.09671806e+00,\n",
       "       -1.09690866e+00,  9.87621066e-01, -5.48422118e-01, -1.07540088e+00,\n",
       "       -4.32120797e-01,  3.64672636e-01, -9.42157374e-01,  1.36771007e-01,\n",
       "        7.51061121e-01,  1.83313240e+00, -7.75394703e-01,  8.20622120e-02,\n",
       "        1.39002468e+00,  8.48204272e-01, -1.64764818e+00,  3.16690274e-01,\n",
       "       -6.22629797e-01, -9.81981749e-01, -2.13703696e+00, -1.45554745e+00,\n",
       "        5.81539247e-01,  1.54830908e+00,  6.48651232e-01,  4.97060372e-03,\n",
       "        9.66047118e-01,  6.48839259e-01, -4.59050467e-02,  5.07314524e-01,\n",
       "       -1.00302047e+00,  1.33759432e+00, -2.14352177e+00, -6.41415008e-01,\n",
       "       -1.16452821e-02,  3.05934944e-01, -1.58381645e+00, -1.26933841e+00,\n",
       "       -1.65370859e-01,  2.72269289e+00,  1.56422064e+00, -1.81677886e-01,\n",
       "        1.94799303e+00, -4.20111878e-01, -3.06253442e-01,  6.74798104e-01,\n",
       "        1.27837497e+00,  2.57793211e-01,  1.39728369e+00,  8.76094017e-03,\n",
       "       -8.24665603e-01, -2.37999756e+00,  1.40488893e+00,  5.28959429e-01,\n",
       "        1.92923597e-01,  1.23902007e-01,  1.33026124e+00,  1.91256364e+00,\n",
       "       -1.82919524e+00, -1.88459868e+00,  2.86962174e-02, -2.96200783e-02,\n",
       "        4.87088648e-01, -7.64232992e-01, -1.30864124e+00,  8.37175366e-02,\n",
       "       -2.59230171e-01, -6.23792000e-01,  3.46732745e-01,  1.13959400e+00,\n",
       "       -1.69746899e-01,  2.19272590e+00, -4.17754757e-01, -1.86470987e-01,\n",
       "       -7.48908036e-01,  3.15048799e-01, -1.88665280e-01, -6.69744344e-01,\n",
       "        5.74481752e-01, -9.51411171e-02, -1.33224370e-01,  5.13350659e-01,\n",
       "        1.64016795e-01, -1.11441010e+00,  3.60552125e-01, -2.06918195e+00,\n",
       "       -1.54988179e-01,  8.08775829e-01,  1.33610733e+00,  1.28216153e+00,\n",
       "       -2.63648385e-01,  7.33391033e-01, -3.28983687e-01,  3.04098808e-01,\n",
       "       -1.24563405e-01,  1.20302912e+00, -4.73755320e-01,  8.80855380e-01,\n",
       "       -5.07459839e-01, -7.81627545e-01, -1.34376056e+00, -4.10351831e-02,\n",
       "       -1.55611857e-01, -1.19860387e+00,  4.02720360e-01,  1.97107333e+00,\n",
       "        7.49719553e-01,  8.88726551e-02, -2.29601306e+00, -2.46255263e+00,\n",
       "        8.06882728e-01, -1.97063843e-01, -1.81099806e+00, -1.38818046e+00,\n",
       "       -1.08402848e+00,  4.46541436e-01, -1.07898301e+00,  3.48144222e-01,\n",
       "       -4.43033268e-01, -5.26939454e-01, -4.45363858e-02, -2.25561038e-01,\n",
       "       -4.48235929e-01, -9.27801983e-01,  2.00457134e+00, -1.09796787e+00,\n",
       "       -5.08481774e-01, -2.25795825e-01, -5.15619654e-01, -4.36020821e-02,\n",
       "       -9.80360239e-01,  1.69514980e+00,  5.20297792e-01, -2.55625947e-01,\n",
       "       -4.46306629e-01, -4.16330085e-01, -4.49149008e-01, -9.20454038e-01,\n",
       "        7.51161745e-01,  6.84823483e-01, -4.16024280e-01,  3.53891083e-01,\n",
       "        1.87778222e+00,  1.35703513e+00, -7.90749676e-01, -1.33942628e+00,\n",
       "        1.57349074e+00,  8.74551305e-01, -2.34447985e+00, -1.12501419e+00,\n",
       "        1.23547550e+00, -3.55103385e-01, -5.23430596e-01,  1.24060928e-01,\n",
       "       -1.82061350e+00, -1.93644023e-01, -4.16887865e-01,  3.27384725e-01,\n",
       "       -2.31729704e-01,  8.98222178e-01, -1.69643075e+00,  5.33583525e-01,\n",
       "        1.26433771e+00,  4.52598557e-01, -1.44286703e+00, -1.49475426e+00,\n",
       "       -4.65755308e-01, -4.44980014e-01,  1.70323576e-01, -9.44273348e-01,\n",
       "        1.33390299e+00, -2.80563409e-01,  3.43829222e-01,  3.82681776e-01,\n",
       "       -1.86034618e-01,  5.67154902e-02, -7.95386316e-01,  7.53421651e-01,\n",
       "        9.19220139e-01,  2.19359937e-02, -1.66122174e+00, -6.12110622e-01,\n",
       "       -4.31915326e-01,  1.06051853e+00, -1.25057443e+00, -5.31982549e-01,\n",
       "       -1.03076458e+00, -1.51420679e+00,  5.31904328e-01, -2.43229842e-01,\n",
       "       -1.09128107e+00,  1.18475710e+00, -6.18038747e-01,  6.72213201e-02,\n",
       "        3.08537880e-01, -1.06150338e+00, -6.73082242e-01,  1.60336974e+00,\n",
       "        1.35555030e-01, -1.04097357e+00,  3.50861256e-01, -2.37382238e+00,\n",
       "       -4.65769925e-01,  8.42775784e-01, -2.62759845e-01, -1.47280123e+00,\n",
       "       -2.40451604e+00, -2.64106062e-01, -1.54154805e+00,  8.49545801e-01,\n",
       "        4.89655107e-01,  1.18498541e+00, -1.65596768e+00,  3.09336283e-01,\n",
       "        5.61430962e-01,  9.47876067e-02,  6.55183841e-01, -1.18194652e+00,\n",
       "        2.98198216e-01, -5.38905272e-01, -3.84076522e-01,  1.68179148e+00,\n",
       "       -4.13602694e-01,  2.35700875e+00, -1.52404919e-01, -6.93411528e-03,\n",
       "       -2.65544663e-01, -9.48381352e-01,  2.74876109e+00, -2.72501902e-01,\n",
       "        6.99510778e-01, -1.77661732e+00, -8.96246506e-01, -9.54077260e-01,\n",
       "        1.30318003e-01,  1.32248240e+00,  9.99947032e-02, -4.85546918e-01,\n",
       "       -1.10585779e+00, -1.03272523e+00, -1.06447410e-02, -9.61689085e-01,\n",
       "       -5.57957166e-01,  3.81185606e-01, -1.50530524e+00, -7.25998418e-01,\n",
       "       -1.44018151e-01, -7.75359171e-01, -8.61542513e-01,  2.40084937e+00,\n",
       "       -1.43949263e-01,  6.75385049e-01, -2.86814313e-01,  2.17317189e+00,\n",
       "        4.84979972e-01,  5.81562592e-01, -3.99421173e-01,  1.05984420e+00,\n",
       "        1.82813487e+00, -8.94214862e-01, -2.76532887e-01,  1.29915031e+00,\n",
       "       -7.86566732e-01,  1.36659823e+00,  1.03120920e+00, -1.08406793e+00,\n",
       "       -1.06236358e-01, -5.44788219e-01,  2.30384452e+00, -1.05518092e+00,\n",
       "        7.21660936e-01,  2.17381596e-01, -5.97977017e-02, -3.55459200e-01,\n",
       "        1.93166765e+00, -1.92669009e-01, -6.38328648e-01,  6.59317557e-01,\n",
       "       -9.89757735e-01, -2.07973026e-01, -4.59198882e-01, -1.37753129e+00,\n",
       "        5.12130453e-01,  4.73654995e-01,  2.70351703e-01, -9.48207223e-01,\n",
       "       -2.06708877e+00,  9.02367732e-01,  1.67216634e+00, -5.75440117e-02,\n",
       "        2.72856121e-01, -2.49811363e-01, -1.03350976e+00,  5.51425528e-01,\n",
       "       -1.30011766e+00,  5.72995033e-01, -5.77346256e-01, -3.56050176e-01,\n",
       "       -2.56260274e+00, -9.62062101e-02, -1.01977417e+00,  3.47072608e-02,\n",
       "        1.48844834e+00, -7.78212437e-01, -1.98201379e+00,  6.19832291e-01,\n",
       "       -8.07575398e-01,  8.19460983e-01,  1.23569222e-02,  1.68346147e+00,\n",
       "       -6.40702247e-01,  1.11707530e+00, -4.42200943e-01, -2.51678070e-01,\n",
       "        3.79679226e-02,  9.00940708e-01, -2.56577486e-01, -8.52483958e-02,\n",
       "       -1.46203063e+00,  7.05561700e-02, -1.77286236e+00, -4.24099961e-01,\n",
       "        1.77909127e+00,  9.30707927e-02,  1.30798682e-02,  3.61246221e-01,\n",
       "        1.58390597e+00,  9.63399641e-01, -9.90011827e-01,  7.99939828e-01,\n",
       "       -2.13203786e-01,  1.86731402e-01,  7.40722268e-01, -1.25279006e-01,\n",
       "        1.39438450e+00, -1.50177203e+00, -1.14919711e+00, -8.28019190e-02,\n",
       "        4.98091788e-01, -1.16408370e+00,  2.69468139e-01,  5.71579011e-01,\n",
       "        7.86685250e-01, -4.74284264e-01,  3.24589881e-01,  7.02801149e-01,\n",
       "       -8.61742308e-01,  2.07298987e-01, -6.09299083e-01, -9.03093938e-01,\n",
       "       -1.08873293e+00,  1.41652719e+00, -9.66613999e-01, -7.40360919e-01,\n",
       "       -4.16570243e-01, -4.24838408e-01,  9.68340715e-01,  3.83575992e-02,\n",
       "        1.98684662e-01, -2.19162009e-01, -5.72407569e-01,  3.61248908e-01,\n",
       "        3.65186157e-01, -1.15203696e+00,  2.11921296e+00,  1.87010032e+00,\n",
       "       -2.01746700e+00, -3.37855914e-01,  1.04947351e+00, -2.22030013e+00,\n",
       "       -5.87542015e-01, -7.59132163e-01,  1.15555907e+00, -4.84319426e-01,\n",
       "        3.39306544e-01,  1.37084375e-01,  1.57444972e+00,  5.20779536e-02,\n",
       "        1.06611681e+00,  7.78266286e-01,  8.32815740e-01,  1.72090537e+00,\n",
       "       -1.08855454e+00, -7.32687422e-01, -9.64604974e-01,  1.73801533e-01,\n",
       "        9.12690651e-01,  2.98147324e-01, -1.36788521e+00,  1.09585374e+00,\n",
       "       -1.37656203e+00,  6.57304725e-01, -5.29449431e-01,  2.35250449e-01,\n",
       "       -8.61430587e-01, -2.49978554e-01,  4.90207111e-01, -2.02302277e-01,\n",
       "        1.61365819e+00,  7.09769027e-01,  1.51685115e+00,  4.19151566e-01,\n",
       "        5.81604294e-01,  1.21357672e+00,  6.38593609e-04,  7.18042432e-01,\n",
       "       -9.04925500e-01, -8.61087049e-01, -7.28366987e-01, -7.96827993e-02,\n",
       "        1.15974262e+00, -4.31853437e-01, -2.22582675e+00, -5.34317452e-01,\n",
       "       -9.18915973e-02,  1.68718415e+00,  6.88114441e-01, -8.25903317e-01,\n",
       "        5.20089396e-01,  4.68023360e-01, -4.81252038e-01,  6.34347968e-01,\n",
       "       -1.13008073e+00,  6.18139004e-01,  1.18725169e-01,  9.38017184e-01,\n",
       "        1.16310088e+00, -5.91621033e-02, -1.03132669e+00,  1.77785425e+00,\n",
       "       -2.60688737e-01,  5.60366171e-01,  1.37091393e+00, -5.54561649e-01,\n",
       "        7.13627819e-03, -3.38934651e-01,  9.58701410e-02, -6.09177947e-01,\n",
       "       -1.64197428e+00,  1.27655422e-01,  5.78328147e-01,  1.12074944e+00,\n",
       "        1.46061455e+00, -4.05558316e-01,  3.17541814e-01,  6.59388634e-01,\n",
       "       -6.06175578e-01, -1.97311611e+00, -2.02633388e+00,  5.33856227e-01,\n",
       "       -8.84649722e-01, -2.72862416e-01, -6.51722809e-02,  5.68999067e-01,\n",
       "       -3.78213113e-01, -1.56530470e+00,  1.34694130e+00, -2.29648935e-01,\n",
       "       -5.08643274e-01,  1.13459161e+00,  1.41465698e+00, -1.21021640e+00,\n",
       "       -6.20300721e-01,  1.61110543e+00, -1.15490035e+00,  1.59694532e+00,\n",
       "       -1.54517441e+00,  6.23174372e-01, -4.70762187e-01,  1.66729691e-02,\n",
       "       -9.50582600e-01,  4.28123348e-01,  2.23958874e-01, -4.27089686e-01,\n",
       "       -1.75128086e-01, -1.41358820e+00, -7.41933961e-01,  5.61424525e-01,\n",
       "       -1.19050502e+00, -1.72594857e+00, -7.32648115e-01, -9.45989683e-01,\n",
       "       -1.61997092e+00,  2.06906915e+00,  7.79444602e-01, -9.26893936e-01,\n",
       "        6.83576017e-01,  1.48790791e+00,  8.54529452e-02,  1.40462991e+00,\n",
       "       -7.63751473e-02,  8.00938076e-02, -1.22385018e+00,  2.11748133e+00,\n",
       "       -9.18404146e-01, -1.49485744e-01, -1.37665551e+00, -1.38877059e-01,\n",
       "       -1.30247163e+00,  5.82865972e-01, -8.09851150e-01,  5.00452651e-01,\n",
       "       -5.48448912e-01, -2.60853741e+00, -1.02842020e+00, -1.34945014e-01,\n",
       "        2.52573348e-02, -3.92649731e-01,  1.04548946e-01,  6.88834144e-01,\n",
       "       -2.30053799e+00,  1.46287926e-01,  1.77334829e-01, -1.69521123e+00,\n",
       "        1.40014910e-01,  6.91025412e-01,  2.07118926e-01, -3.77418714e-01,\n",
       "       -4.55398028e-01, -1.49387574e+00, -1.65747456e+00, -1.06992433e+00,\n",
       "        1.14488433e-01, -1.79070244e+00,  4.62913787e-01, -6.09491679e-01,\n",
       "        2.31212093e+00, -1.09633063e+00,  1.87719236e+00, -1.59263798e+00,\n",
       "        1.54576594e+00, -1.26772789e+00, -1.53248676e+00,  1.75029435e-01,\n",
       "        5.05391338e-01, -1.12524390e+00, -8.47806646e-01,  7.53261369e-01,\n",
       "        5.77601210e-01, -1.44683489e+00, -1.06195932e+00,  6.27501234e-01,\n",
       "        1.04685941e+00, -5.01365435e-01,  5.83439323e-03,  1.43516157e+00,\n",
       "       -7.70211321e-01, -1.41016210e+00, -2.45129908e-01, -4.78434808e-01,\n",
       "       -2.99111910e+00,  1.47359401e+00,  4.51746437e-01,  2.10654490e+00,\n",
       "        3.63707594e-01,  1.15248763e+00, -9.55223573e-02,  9.47261073e-01,\n",
       "       -7.11753830e-01,  1.62157692e-01,  4.72475744e-01, -5.95517009e-02,\n",
       "        9.13071909e-02,  1.17670477e+00,  7.61964955e-01,  8.40495387e-01,\n",
       "       -1.02274820e+00, -9.28655374e-01,  1.65885262e-01,  9.49172676e-01,\n",
       "       -1.08823784e+00, -1.95679676e-01, -1.52323920e+00, -2.90927993e-01,\n",
       "        1.41900410e+00,  1.78098261e-01, -4.51840594e-01,  1.39087640e-01,\n",
       "        5.71961267e-01,  8.30227700e-01, -4.85884413e-01,  2.68041324e-02,\n",
       "        2.63040483e-01, -8.42852416e-01, -7.84763731e-01, -7.34619649e-01,\n",
       "        4.08142312e-01, -5.87647168e-01, -3.46681527e-02,  2.66879127e-02,\n",
       "        9.08130342e-02, -1.49145347e-01,  1.32452778e+00, -6.11954773e-01,\n",
       "        5.64120371e-01, -7.89499458e-01,  9.66959977e-01,  1.56697908e-01,\n",
       "        4.52044254e-01, -1.48567378e-01, -7.55313399e-01,  1.09526828e+00,\n",
       "       -2.00051823e-01,  1.20666065e-01,  1.69241545e+00,  2.09245977e+00,\n",
       "       -8.61235387e-01,  6.72649665e-01,  1.80810232e+00, -3.81619355e-01,\n",
       "        1.76923804e+00, -2.37305860e-01, -4.55989458e-01,  5.51309232e-01,\n",
       "       -1.33124820e-01, -2.77269428e-01,  5.96735861e-01,  5.27388101e-01,\n",
       "       -1.64243770e+00,  4.75499013e-01, -1.58798281e+00,  1.07009852e+00,\n",
       "        5.02998298e-01, -8.98135340e-01,  1.36659169e+00, -2.46164205e+00,\n",
       "        8.32272250e-01,  6.74793353e-01,  4.15324223e-01,  1.56622678e+00,\n",
       "       -4.26070072e-01,  1.69988257e-01,  5.09546490e-01,  6.96081838e-01,\n",
       "        2.20354532e-02, -2.10084454e+00,  4.71354122e-02, -7.96246345e-02,\n",
       "       -5.38460559e-01, -2.40603583e-01, -4.38942381e-01, -8.27076418e-01,\n",
       "       -1.02650638e+00, -1.30322456e+00, -8.13042852e-01,  1.03123121e+00,\n",
       "       -8.95650314e-01, -3.47323414e-01, -1.19296376e-01,  4.46426710e-01,\n",
       "        1.04068225e+00, -1.57063049e+00, -4.46828484e-01,  3.00315121e-01,\n",
       "        5.55859987e-01, -7.89720586e-02, -1.52331872e+00,  1.60861857e-01,\n",
       "       -1.33340396e+00,  1.23699436e+00, -9.48327428e-02,  3.94535553e-01,\n",
       "       -1.17823031e+00,  8.31729869e-01, -6.60999178e-01, -1.21746053e+00,\n",
       "        1.11773198e+00, -2.97569665e-01,  1.07197680e+00,  1.26941393e-01,\n",
       "       -1.65619060e+00,  1.30768053e+00, -8.89390163e-01,  9.17481266e-01,\n",
       "        1.31845529e-02, -9.56362069e-01,  2.37780480e-01,  1.32726025e+00,\n",
       "        5.01586262e-01, -4.77417834e-01,  3.60399420e-01,  5.55191201e-01,\n",
       "        4.31686534e-01, -8.35764500e-01, -4.31619967e-01,  3.58588929e-01,\n",
       "        1.64460303e+00,  4.08468164e-02, -1.24373861e+00, -4.59459204e-01,\n",
       "       -4.75318933e-02, -4.21475332e-01, -7.08011231e-01, -3.65606302e-01,\n",
       "        1.51100134e+00,  1.78966426e-01,  9.47404963e-01, -2.32477196e-01,\n",
       "        4.56040562e-01, -6.47204503e-01, -2.09287480e-01, -2.48719304e+00,\n",
       "        1.86963595e+00,  9.36696843e-01,  7.11630279e-01,  1.09324383e+00,\n",
       "       -1.36899540e+00,  1.61172555e+00, -4.41389140e-01, -6.25227904e-01,\n",
       "       -4.72796667e-01,  5.41506893e-01, -4.84420444e-01,  4.72784583e-01,\n",
       "        1.32997927e+00,  2.53708585e+00, -5.35750336e-01, -6.26020483e-01,\n",
       "        5.56489769e-01,  3.79274178e-01, -2.57394247e+00,  7.05435417e-01,\n",
       "        1.89755161e+00,  2.84514870e-03, -2.47660236e-01, -6.20288924e-01,\n",
       "       -4.75780142e-02,  1.31317092e+00, -8.94002150e-02, -1.59084313e-01,\n",
       "       -2.16267452e-01,  7.56586219e-01, -5.66241438e-02, -6.95388778e-01,\n",
       "       -3.86394243e-01,  7.85623240e-01, -9.08105203e-01, -1.35168237e+00,\n",
       "        6.04815954e-01,  1.05435698e+00,  5.13527640e-01,  5.53856063e-01,\n",
       "       -9.73268082e-01, -5.33596735e-01, -2.01717758e-01, -1.53173088e+00])"
      ]
     },
     "execution_count": 5,
     "metadata": {},
     "output_type": "execute_result"
    }
   ],
   "source": [
    "numeros = np.random.randn(1000)\n",
    "numeros"
   ]
  },
  {
   "cell_type": "code",
   "execution_count": 7,
   "id": "979041c8",
   "metadata": {},
   "outputs": [
    {
     "data": {
      "image/png": "[encoded data removed]",
      "text/plain": [
       "<Figure size 640x480 with 1 Axes>"
      ]
     },
     "metadata": {},
     "output_type": "display_data"
    }
   ],
   "source": [
    "plt.hist(numeros);"
   ]
  },
  {
   "cell_type": "code",
   "execution_count": 11,
   "id": "f62e8d1b",
   "metadata": {},
   "outputs": [
    {
     "data": {
      "image/png": "[encoded data removed]",
      "text/plain": [
       "<Figure size 640x480 with 1 Axes>"
      ]
     },
     "metadata": {},
     "output_type": "display_data"
    }
   ],
   "source": [
    "plt.hist(numeros, bins=50);"
   ]
  },
  {
   "cell_type": "code",
   "execution_count": 12,
   "id": "cd293fab",
   "metadata": {},
   "outputs": [
    {
     "data": {
      "image/png": "[encoded data removed]",
      "text/plain": [
       "<Figure size 640x480 with 1 Axes>"
      ]
     },
     "metadata": {},
     "output_type": "display_data"
    }
   ],
   "source": [
    "plt.hist(numeros, bins=50, alpha=0.5 );"
   ]
  },
  {
   "cell_type": "code",
   "execution_count": 13,
   "id": "1e1c6ed4",
   "metadata": {},
   "outputs": [
    {
     "data": {
      "image/png": "[encoded data removed]",
      "text/plain": [
       "<Figure size 640x480 with 1 Axes>"
      ]
     },
     "metadata": {},
     "output_type": "display_data"
    }
   ],
   "source": [
    "plt.hist(numeros, bins=50, alpha=0.5, color= 'red'); #queda color rosa por el alpha q lo hace mas clarito"
   ]
  },
  {
   "cell_type": "code",
   "execution_count": 14,
   "id": "c6b70d86",
   "metadata": {},
   "outputs": [
    {
     "data": {
      "image/png": "[encoded data removed]",
      "text/plain": [
       "<Figure size 640x480 with 1 Axes>"
      ]
     },
     "metadata": {},
     "output_type": "display_data"
    }
   ],
   "source": [
    "plt.hist(numeros, bins=50, alpha=0.5, color= 'red', edgecolor='black');"
   ]
  },
  {
   "cell_type": "code",
   "execution_count": 17,
   "id": "91e7536f",
   "metadata": {},
   "outputs": [
    {
     "data": {
      "image/png": "[encoded data removed]",
      "text/plain": [
       "<Figure size 640x480 with 1 Axes>"
      ]
     },
     "metadata": {},
     "output_type": "display_data"
    }
   ],
   "source": [
    "plt.hist(numeros, bins=50, alpha=0.5, color= 'red', edgecolor='black', histtype='step');"
   ]
  },
  {
   "cell_type": "code",
   "execution_count": 18,
   "id": "0c4aeb18",
   "metadata": {},
   "outputs": [],
   "source": [
    "x1 = np.random.randn(1000)\n",
    "x2 = np.random.randn(500)\n",
    "x3 = np.random.randn(100)"
   ]
  },
  {
   "cell_type": "code",
   "execution_count": 20,
   "id": "993efe27",
   "metadata": {},
   "outputs": [
    {
     "data": {
      "image/png": "[encoded data removed]",
      "text/plain": [
       "<Figure size 640x480 with 1 Axes>"
      ]
     },
     "metadata": {},
     "output_type": "display_data"
    }
   ],
   "source": [
    "plt.hist(x1, bins=50, alpha=0.3, color= 'red', )\n",
    "plt.hist(x2, bins=50, alpha=0.5, color= 'green')\n",
    "plt.hist(x3, bins=50, alpha=0.7, color= 'blue');"
   ]
  },
  {
   "cell_type": "code",
   "execution_count": null,
   "id": "fde3f084",
   "metadata": {},
   "outputs": [],
   "source": []
  }
 ],
 "metadata": {
  "kernelspec": {
   "display_name": "Python 3 (ipykernel)",
   "language": "python",
   "name": "python3"
  },
  "language_info": {
   "codemirror_mode": {
    "name": "ipython",
    "version": 3
   },
   "file_extension": ".py",
   "mimetype": "text/x-python",
   "name": "python",
   "nbconvert_exporter": "python",
   "pygments_lexer": "ipython3",
   "version": "3.11.9"
  }
 },
 "nbformat": 4,
 "nbformat_minor": 5
}
