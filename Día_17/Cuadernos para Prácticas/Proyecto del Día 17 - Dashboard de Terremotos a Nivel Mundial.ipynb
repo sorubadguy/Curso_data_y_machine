{
 "cells": [
  {
   "cell_type": "markdown",
   "id": "5bcf50b1",
   "metadata": {},
   "source": [
    "# Proyecto del Día 17: Dashboard de Terremotos a Nivel Mundial\n",
    "\n",
    "Bienvenido al proyecto del día de hoy, donde vas a crear un **dashboard interactivo utilizando Plotly y Dash**. En este proyecto, trabajarás con datos reales de terremotos, que podrás descargar de los archivos adjuntos de esta lección.\n",
    "\n",
    "Con esa información vas a desarrollar un conjunto de visualizaciones interactivas que proporcionen una comprensión profunda de los patrones y tendencias de los terremotos. Este ejercicio te permitirá aplicar tus conocimientos adquiridos sobre visualización de datos y desarrollo de dashboards con herramientas de Python.\n",
    "\n",
    "El dataset contiene información detallada sobre terremotos, incluyendo:\n",
    "+ fecha y hora del evento\n",
    "+ magnitud\n",
    "+ profundidad\n",
    "+ país en el que ocurrió.\n",
    "\n",
    "Utilizarás esta información para crear varios gráficos interactivos que te ayudarán a explorar y presentar los datos de manera efectiva.\n",
    "\n",
    "### Consigna\n",
    "\n",
    "Tu tarea es desarrollar un dashboard interactivo utilizando **Plotly** y **Dash** para visualizar los datos de terremotos proporcionados en el archivo `earthquake data.csv`. \n",
    "\n",
    "Asegúrate de que el dashboard tenga un diseño limpio y organizado, con títulos claros y descripciones para cada gráfico.\n",
    "\n",
    "### Pasos para Completar el Proyecto\n",
    "\n",
    "1. **Cargar y Preparar los Datos**: Carga el archivo `earthquake data.csv` y realiza las transformaciones necesarias, como convertir la columna de fecha y hora al formato datetime.\n",
    "\n",
    "2. **Creación de Gráficos**: Crea los siguientes gráficos usando plotly:\n",
    "    + **Mapa Coroplético**: Un mapa coroplético que muestre la densidad de terremotos por región.\n",
    "    + **Gráfico de Barras**: Un gráfico de barras que muestre el número de terremotos por magnitud.\n",
    "    + **Gráfico de Líneas**: Un gráfico de líneas que muestre la tendencia de la magnitud de los terremotos a lo largo del tiempo.\n",
    "    + **Gráfico de Dispersión**: Un gráfico de dispersión que muestre la relación entre la magnitud de los terremotos y su profundidad.\n",
    "    + **Gráfico 3D**: Un gráfico 3D que visualice la relación entre magnitud, profundidad y tiempo.\n",
    "\n",
    "3. **Diseño de la Aplicación**: Usando Dash, crea la aplicación con el Layout del Dashboard, en el que deben desplegarse todos los gráficos que has preparado. Finalmente ejecuta la aplicación.\n",
    "\n",
    "\n",
    "Ten en cuenta que la información entra por los ojos, por lo que sería bueno que agregues parámetros de formato a cada gráfico para mejorar su apariencia y usabilidad. Piensa en colores, tamaños de marcadores, etiquetas de texto y cualquier otra personalización que haga los gráficos más informativos y atractivos. No te limites a lo enseñado en las lecciones y atrévete a explorar parámetros adicionales.\n",
    "\n",
    "**¡Buena suerte y diviértete creando tu dashboard interactivo de terremotos!**"
   ]
  },
  {
   "cell_type": "code",
   "execution_count": null,
   "id": "e8bd9ce5",
   "metadata": {},
   "outputs": [],
   "source": []
  }
 ],
 "metadata": {
  "kernelspec": {
   "display_name": "Python 3 (ipykernel)",
   "language": "python",
   "name": "python3"
  },
  "language_info": {
   "codemirror_mode": {
    "name": "ipython",
    "version": 3
   },
   "file_extension": ".py",
   "mimetype": "text/x-python",
   "name": "python",
   "nbconvert_exporter": "python",
   "pygments_lexer": "ipython3",
   "version": "3.11.5"
  }
 },
 "nbformat": 4,
 "nbformat_minor": 5
}
