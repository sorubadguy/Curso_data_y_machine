{
 "cells": [
  {
   "cell_type": "code",
   "execution_count": 1,
   "id": "174b61ef",
   "metadata": {},
   "outputs": [],
   "source": [
    "import dash\n",
    "from dash import dcc, html"
   ]
  },
  {
   "cell_type": "code",
   "execution_count": 2,
   "id": "08a0fad2",
   "metadata": {},
   "outputs": [],
   "source": [
    "app = dash.Dash(__name__)"
   ]
  },
  {
   "cell_type": "code",
   "execution_count": null,
   "id": "2f6cf049",
   "metadata": {},
   "outputs": [],
   "source": [
    "app.layout = html.Div(children=[\n",
    "    html.H1(children='Hola Dash'),\n",
    "    html.Div(children='Este es un Subtitulo'),\n",
    "    dcc.Graph(id='grafico-ejemplo',\n",
    "              figure={\n",
    "                  'data' : [\n",
    "                      {'x' : [1,2,3], 'y' : [4,1,2], 'type' : 'bar', 'name' : 'bogota'},\n",
    "                      {'x' : [1,2,3], 'y' : [2,4,5], 'type' : 'bar', 'name' : 'buenos aires'}\n",
    "                  ],\n",
    "                  'layout' : {'title' : 'Visualisacion con Dash'}\n",
    "              })\n",
    "])"
   ]
  },
  {
   "cell_type": "code",
   "execution_count": null,
   "id": "f10fca86",
   "metadata": {},
   "outputs": [],
   "source": [
    "if __name__ == '__main__':\n",
    "    app.run(debug = True)"
   ]
  },
  {
   "cell_type": "code",
   "execution_count": null,
   "id": "6c216c3c",
   "metadata": {},
   "outputs": [],
   "source": [
    "app = dash.Dash(__name__) "
   ]
  },
  {
   "cell_type": "code",
   "execution_count": 3,
   "id": "7665f477",
   "metadata": {},
   "outputs": [],
   "source": [
    "app.layout = html.Div(children=[\n",
    "    dcc.Input(id='caja-texto', type = 'text', value = ''),\n",
    "    html.Button('Enviar', id = 'boton'),\n",
    "    html.Div(id = 'salida-boton', children = '')\n",
    "])"
   ]
  },
  {
   "cell_type": "code",
   "execution_count": null,
   "id": "c10a2b68",
   "metadata": {},
   "outputs": [],
   "source": [
    "if __name__ == '__main__':\n",
    "    app.run(debug = True)"
   ]
  },
  {
   "cell_type": "code",
   "execution_count": 4,
   "id": "7da70feb",
   "metadata": {},
   "outputs": [],
   "source": [
    "@app.callback(\n",
    "    dash.Output('salida-boton', 'children'),\n",
    "    [dash.Input('boton', 'n_clicks')],\n",
    "    [dash.State('caja-texto', 'value')])\n",
    "def actualizar_salida(n_clicks, valor):\n",
    "    if n_clicks == None:\n",
    "        return 'Introduzca un valor y presione el boton'\n",
    "    else:\n",
    "        return f'El valor ingresado es {valor}, y el valor fue presionado {n_clicks} veces'"
   ]
  },
  {
   "cell_type": "code",
   "execution_count": 5,
   "id": "256a95d0",
   "metadata": {},
   "outputs": [
    {
     "data": {
      "text/html": [
       "\n",
       "        <iframe\n",
       "            width=\"100%\"\n",
       "            height=\"650\"\n",
       "            src=\"http://127.0.0.1:8050/\"\n",
       "            frameborder=\"0\"\n",
       "            allowfullscreen\n",
       "            \n",
       "        ></iframe>\n",
       "        "
      ],
      "text/plain": [
       "<IPython.lib.display.IFrame at 0x1ea7b189300>"
      ]
     },
     "metadata": {},
     "output_type": "display_data"
    }
   ],
   "source": [
    "if __name__ == '__main__':\n",
    "    app.run(debug = True)"
   ]
  },
  {
   "cell_type": "code",
   "execution_count": 7,
   "id": "18e39693",
   "metadata": {},
   "outputs": [
    {
     "data": {
      "text/html": [
       "\n",
       "        <iframe\n",
       "            width=\"100%\"\n",
       "            height=\"650\"\n",
       "            src=\"http://127.0.0.1:8050/\"\n",
       "            frameborder=\"0\"\n",
       "            allowfullscreen\n",
       "            \n",
       "        ></iframe>\n",
       "        "
      ],
      "text/plain": [
       "<IPython.lib.display.IFrame at 0x1ea0b587880>"
      ]
     },
     "metadata": {},
     "output_type": "display_data"
    }
   ],
   "source": [
    "import dash\n",
    "from dash import dcc, html\n",
    "import pandas as pd\n",
    "import plotly.express as px\n",
    "\n",
    "# Crear un DataFrame de ejemplo\n",
    "df = pd.DataFrame({\n",
    "    \"Fruta\": [\"Manzanas\", \"Naranjas\", \"Bananas\", \"Manzanas\", \"Naranjas\", \"Bananas\"],\n",
    "    \"Cantidad\": [4, 1, 2, 2, 4, 5],\n",
    "    \"Ciudad\": [\"BG\", \"BG\", \"BG\", \"BCN\", \"BCN\", \"BCN\"]})\n",
    "\n",
    "# Crear la aplicación Dash\n",
    "app = dash.Dash(__name__)\n",
    "\n",
    "# Definir el layout de la aplicación\n",
    "app.layout = html.Div(children=[\n",
    "    html.H1(children='Dashboard Interactivo Avanzado'),\n",
    "    dcc.Dropdown(\n",
    "        id='desplegable',\n",
    "        options=[{'label': 'Bogotá', 'value': 'BG'},\n",
    "                 {'label': 'Barcelona', 'value': 'BCN'}],\n",
    "        value='BG'),\n",
    "    dcc.Graph(id='grafico'),\n",
    "])\n",
    "\n",
    "# Callback para actualizar el gráfico basado en la selección del dropdown\n",
    "@app.callback(\n",
    "    dash.Output('grafico', 'figure'),\n",
    "    [dash.Input('desplegable', 'value')]\n",
    ")\n",
    "def actualizar_grafico(ciudad_seleccionada):\n",
    "    df_filtrado = df[df['Ciudad'] == ciudad_seleccionada]\n",
    "    fig = px.bar(df_filtrado, x='Fruta', y='Cantidad', color='Fruta')\n",
    "    return fig\n",
    "\n",
    "# Ejecutar la aplicación\n",
    "if __name__ == '__main__':\n",
    "    app.run(debug=True)\n"
   ]
  },
  {
   "cell_type": "code",
   "execution_count": null,
   "id": "c72f7746",
   "metadata": {},
   "outputs": [],
   "source": []
  }
 ],
 "metadata": {
  "kernelspec": {
   "display_name": "venv",
   "language": "python",
   "name": "python3"
  },
  "language_info": {
   "codemirror_mode": {
    "name": "ipython",
    "version": 3
   },
   "file_extension": ".py",
   "mimetype": "text/x-python",
   "name": "python",
   "nbconvert_exporter": "python",
   "pygments_lexer": "ipython3",
   "version": "3.10.0"
  }
 },
 "nbformat": 4,
 "nbformat_minor": 5
}
