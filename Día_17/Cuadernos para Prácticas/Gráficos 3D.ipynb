{
 "cells": [
  {
   "cell_type": "code",
   "execution_count": 1,
   "id": "315bc075",
   "metadata": {},
   "outputs": [],
   "source": [
    "import plotly.graph_objects as go\n",
    "import numpy as np"
   ]
  },
  {
   "cell_type": "code",
   "execution_count": 13,
   "id": "46be3209",
   "metadata": {},
   "outputs": [
    {
     "data": {
      "application/vnd.plotly.v1+json": {
       "config": {
        "plotlyServerURL": "https://plot.ly"
       },
       "data": [
        {
         "marker": {
          "color": [
           10,
           20,
           30,
           40,
           50,
           60
          ],
          "colorscale": [
           [
            0,
            "#440154"
           ],
           [
            0.1111111111111111,
            "#482878"
           ],
           [
            0.2222222222222222,
            "#3e4989"
           ],
           [
            0.3333333333333333,
            "#31688e"
           ],
           [
            0.4444444444444444,
            "#26828e"
           ],
           [
            0.5555555555555556,
            "#1f9e89"
           ],
           [
            0.6666666666666666,
            "#35b779"
           ],
           [
            0.7777777777777778,
            "#6ece58"
           ],
           [
            0.8888888888888888,
            "#b5de2b"
           ],
           [
            1,
            "#fde725"
           ]
          ],
          "opacity": 0.8,
          "size": 10
         },
         "mode": "markers",
         "type": "scatter3d",
         "x": [
          1,
          2,
          3,
          4,
          5,
          6
         ],
         "y": [
          10,
          11,
          12,
          13,
          14,
          15
         ],
         "z": [
          1,
          1,
          3,
          5,
          8,
          13
         ]
        }
       ],
       "layout": {
        "scene": {
         "xaxis": {
          "title": {
           "text": "Eje X"
          }
         },
         "yaxis": {
          "title": {
           "text": "Eje Y"
          }
         },
         "zaxis": {
          "title": {
           "text": "Eje Z"
          }
         }
        },
        "template": {
         "data": {
          "bar": [
           {
            "error_x": {
             "color": "#2a3f5f"
            },
            "error_y": {
             "color": "#2a3f5f"
            },
            "marker": {
             "line": {
              "color": "#E5ECF6",
              "width": 0.5
             },
             "pattern": {
              "fillmode": "overlay",
              "size": 10,
              "solidity": 0.2
             }
            },
            "type": "bar"
           }
          ],
          "barpolar": [
           {
            "marker": {
             "line": {
              "color": "#E5ECF6",
              "width": 0.5
             },
             "pattern": {
              "fillmode": "overlay",
              "size": 10,
              "solidity": 0.2
             }
            },
            "type": "barpolar"
           }
          ],
          "carpet": [
           {
            "aaxis": {
             "endlinecolor": "#2a3f5f",
             "gridcolor": "white",
             "linecolor": "white",
             "minorgridcolor": "white",
             "startlinecolor": "#2a3f5f"
            },
            "baxis": {
             "endlinecolor": "#2a3f5f",
             "gridcolor": "white",
             "linecolor": "white",
             "minorgridcolor": "white",
             "startlinecolor": "#2a3f5f"
            },
            "type": "carpet"
           }
          ],
          "choropleth": [
           {
            "colorbar": {
             "outlinewidth": 0,
             "ticks": ""
            },
            "type": "choropleth"
           }
          ],
          "contour": [
           {
            "colorbar": {
             "outlinewidth": 0,
             "ticks": ""
            },
            "colorscale": [
             [
              0,
              "#0d0887"
             ],
             [
              0.1111111111111111,
              "#46039f"
             ],
             [
              0.2222222222222222,
              "#7201a8"
             ],
             [
              0.3333333333333333,
              "#9c179e"
             ],
             [
              0.4444444444444444,
              "#bd3786"
             ],
             [
              0.5555555555555556,
              "#d8576b"
             ],
             [
              0.6666666666666666,
              "#ed7953"
             ],
             [
              0.7777777777777778,
              "#fb9f3a"
             ],
             [
              0.8888888888888888,
              "#fdca26"
             ],
             [
              1,
              "#f0f921"
             ]
            ],
            "type": "contour"
           }
          ],
          "contourcarpet": [
           {
            "colorbar": {
             "outlinewidth": 0,
             "ticks": ""
            },
            "type": "contourcarpet"
           }
          ],
          "heatmap": [
           {
            "colorbar": {
             "outlinewidth": 0,
             "ticks": ""
            },
            "colorscale": [
             [
              0,
              "#0d0887"
             ],
             [
              0.1111111111111111,
              "#46039f"
             ],
             [
              0.2222222222222222,
              "#7201a8"
             ],
             [
              0.3333333333333333,
              "#9c179e"
             ],
             [
              0.4444444444444444,
              "#bd3786"
             ],
             [
              0.5555555555555556,
              "#d8576b"
             ],
             [
              0.6666666666666666,
              "#ed7953"
             ],
             [
              0.7777777777777778,
              "#fb9f3a"
             ],
             [
              0.8888888888888888,
              "#fdca26"
             ],
             [
              1,
              "#f0f921"
             ]
            ],
            "type": "heatmap"
           }
          ],
          "histogram": [
           {
            "marker": {
             "pattern": {
              "fillmode": "overlay",
              "size": 10,
              "solidity": 0.2
             }
            },
            "type": "histogram"
           }
          ],
          "histogram2d": [
           {
            "colorbar": {
             "outlinewidth": 0,
             "ticks": ""
            },
            "colorscale": [
             [
              0,
              "#0d0887"
             ],
             [
              0.1111111111111111,
              "#46039f"
             ],
             [
              0.2222222222222222,
              "#7201a8"
             ],
             [
              0.3333333333333333,
              "#9c179e"
             ],
             [
              0.4444444444444444,
              "#bd3786"
             ],
             [
              0.5555555555555556,
              "#d8576b"
             ],
             [
              0.6666666666666666,
              "#ed7953"
             ],
             [
              0.7777777777777778,
              "#fb9f3a"
             ],
             [
              0.8888888888888888,
              "#fdca26"
             ],
             [
              1,
              "#f0f921"
             ]
            ],
            "type": "histogram2d"
           }
          ],
          "histogram2dcontour": [
           {
            "colorbar": {
             "outlinewidth": 0,
             "ticks": ""
            },
            "colorscale": [
             [
              0,
              "#0d0887"
             ],
             [
              0.1111111111111111,
              "#46039f"
             ],
             [
              0.2222222222222222,
              "#7201a8"
             ],
             [
              0.3333333333333333,
              "#9c179e"
             ],
             [
              0.4444444444444444,
              "#bd3786"
             ],
             [
              0.5555555555555556,
              "#d8576b"
             ],
             [
              0.6666666666666666,
              "#ed7953"
             ],
             [
              0.7777777777777778,
              "#fb9f3a"
             ],
             [
              0.8888888888888888,
              "#fdca26"
             ],
             [
              1,
              "#f0f921"
             ]
            ],
            "type": "histogram2dcontour"
           }
          ],
          "mesh3d": [
           {
            "colorbar": {
             "outlinewidth": 0,
             "ticks": ""
            },
            "type": "mesh3d"
           }
          ],
          "parcoords": [
           {
            "line": {
             "colorbar": {
              "outlinewidth": 0,
              "ticks": ""
             }
            },
            "type": "parcoords"
           }
          ],
          "pie": [
           {
            "automargin": true,
            "type": "pie"
           }
          ],
          "scatter": [
           {
            "fillpattern": {
             "fillmode": "overlay",
             "size": 10,
             "solidity": 0.2
            },
            "type": "scatter"
           }
          ],
          "scatter3d": [
           {
            "line": {
             "colorbar": {
              "outlinewidth": 0,
              "ticks": ""
             }
            },
            "marker": {
             "colorbar": {
              "outlinewidth": 0,
              "ticks": ""
             }
            },
            "type": "scatter3d"
           }
          ],
          "scattercarpet": [
           {
            "marker": {
             "colorbar": {
              "outlinewidth": 0,
              "ticks": ""
             }
            },
            "type": "scattercarpet"
           }
          ],
          "scattergeo": [
           {
            "marker": {
             "colorbar": {
              "outlinewidth": 0,
              "ticks": ""
             }
            },
            "type": "scattergeo"
           }
          ],
          "scattergl": [
           {
            "marker": {
             "colorbar": {
              "outlinewidth": 0,
              "ticks": ""
             }
            },
            "type": "scattergl"
           }
          ],
          "scattermap": [
           {
            "marker": {
             "colorbar": {
              "outlinewidth": 0,
              "ticks": ""
             }
            },
            "type": "scattermap"
           }
          ],
          "scattermapbox": [
           {
            "marker": {
             "colorbar": {
              "outlinewidth": 0,
              "ticks": ""
             }
            },
            "type": "scattermapbox"
           }
          ],
          "scatterpolar": [
           {
            "marker": {
             "colorbar": {
              "outlinewidth": 0,
              "ticks": ""
             }
            },
            "type": "scatterpolar"
           }
          ],
          "scatterpolargl": [
           {
            "marker": {
             "colorbar": {
              "outlinewidth": 0,
              "ticks": ""
             }
            },
            "type": "scatterpolargl"
           }
          ],
          "scatterternary": [
           {
            "marker": {
             "colorbar": {
              "outlinewidth": 0,
              "ticks": ""
             }
            },
            "type": "scatterternary"
           }
          ],
          "surface": [
           {
            "colorbar": {
             "outlinewidth": 0,
             "ticks": ""
            },
            "colorscale": [
             [
              0,
              "#0d0887"
             ],
             [
              0.1111111111111111,
              "#46039f"
             ],
             [
              0.2222222222222222,
              "#7201a8"
             ],
             [
              0.3333333333333333,
              "#9c179e"
             ],
             [
              0.4444444444444444,
              "#bd3786"
             ],
             [
              0.5555555555555556,
              "#d8576b"
             ],
             [
              0.6666666666666666,
              "#ed7953"
             ],
             [
              0.7777777777777778,
              "#fb9f3a"
             ],
             [
              0.8888888888888888,
              "#fdca26"
             ],
             [
              1,
              "#f0f921"
             ]
            ],
            "type": "surface"
           }
          ],
          "table": [
           {
            "cells": {
             "fill": {
              "color": "#EBF0F8"
             },
             "line": {
              "color": "white"
             }
            },
            "header": {
             "fill": {
              "color": "#C8D4E3"
             },
             "line": {
              "color": "white"
             }
            },
            "type": "table"
           }
          ]
         },
         "layout": {
          "annotationdefaults": {
           "arrowcolor": "#2a3f5f",
           "arrowhead": 0,
           "arrowwidth": 1
          },
          "autotypenumbers": "strict",
          "coloraxis": {
           "colorbar": {
            "outlinewidth": 0,
            "ticks": ""
           }
          },
          "colorscale": {
           "diverging": [
            [
             0,
             "#8e0152"
            ],
            [
             0.1,
             "#c51b7d"
            ],
            [
             0.2,
             "#de77ae"
            ],
            [
             0.3,
             "#f1b6da"
            ],
            [
             0.4,
             "#fde0ef"
            ],
            [
             0.5,
             "#f7f7f7"
            ],
            [
             0.6,
             "#e6f5d0"
            ],
            [
             0.7,
             "#b8e186"
            ],
            [
             0.8,
             "#7fbc41"
            ],
            [
             0.9,
             "#4d9221"
            ],
            [
             1,
             "#276419"
            ]
           ],
           "sequential": [
            [
             0,
             "#0d0887"
            ],
            [
             0.1111111111111111,
             "#46039f"
            ],
            [
             0.2222222222222222,
             "#7201a8"
            ],
            [
             0.3333333333333333,
             "#9c179e"
            ],
            [
             0.4444444444444444,
             "#bd3786"
            ],
            [
             0.5555555555555556,
             "#d8576b"
            ],
            [
             0.6666666666666666,
             "#ed7953"
            ],
            [
             0.7777777777777778,
             "#fb9f3a"
            ],
            [
             0.8888888888888888,
             "#fdca26"
            ],
            [
             1,
             "#f0f921"
            ]
           ],
           "sequentialminus": [
            [
             0,
             "#0d0887"
            ],
            [
             0.1111111111111111,
             "#46039f"
            ],
            [
             0.2222222222222222,
             "#7201a8"
            ],
            [
             0.3333333333333333,
             "#9c179e"
            ],
            [
             0.4444444444444444,
             "#bd3786"
            ],
            [
             0.5555555555555556,
             "#d8576b"
            ],
            [
             0.6666666666666666,
             "#ed7953"
            ],
            [
             0.7777777777777778,
             "#fb9f3a"
            ],
            [
             0.8888888888888888,
             "#fdca26"
            ],
            [
             1,
             "#f0f921"
            ]
           ]
          },
          "colorway": [
           "#636efa",
           "#EF553B",
           "#00cc96",
           "#ab63fa",
           "#FFA15A",
           "#19d3f3",
           "#FF6692",
           "#B6E880",
           "#FF97FF",
           "#FECB52"
          ],
          "font": {
           "color": "#2a3f5f"
          },
          "geo": {
           "bgcolor": "white",
           "lakecolor": "white",
           "landcolor": "#E5ECF6",
           "showlakes": true,
           "showland": true,
           "subunitcolor": "white"
          },
          "hoverlabel": {
           "align": "left"
          },
          "hovermode": "closest",
          "mapbox": {
           "style": "light"
          },
          "paper_bgcolor": "white",
          "plot_bgcolor": "#E5ECF6",
          "polar": {
           "angularaxis": {
            "gridcolor": "white",
            "linecolor": "white",
            "ticks": ""
           },
           "bgcolor": "#E5ECF6",
           "radialaxis": {
            "gridcolor": "white",
            "linecolor": "white",
            "ticks": ""
           }
          },
          "scene": {
           "xaxis": {
            "backgroundcolor": "#E5ECF6",
            "gridcolor": "white",
            "gridwidth": 2,
            "linecolor": "white",
            "showbackground": true,
            "ticks": "",
            "zerolinecolor": "white"
           },
           "yaxis": {
            "backgroundcolor": "#E5ECF6",
            "gridcolor": "white",
            "gridwidth": 2,
            "linecolor": "white",
            "showbackground": true,
            "ticks": "",
            "zerolinecolor": "white"
           },
           "zaxis": {
            "backgroundcolor": "#E5ECF6",
            "gridcolor": "white",
            "gridwidth": 2,
            "linecolor": "white",
            "showbackground": true,
            "ticks": "",
            "zerolinecolor": "white"
           }
          },
          "shapedefaults": {
           "line": {
            "color": "#2a3f5f"
           }
          },
          "ternary": {
           "aaxis": {
            "gridcolor": "white",
            "linecolor": "white",
            "ticks": ""
           },
           "baxis": {
            "gridcolor": "white",
            "linecolor": "white",
            "ticks": ""
           },
           "bgcolor": "#E5ECF6",
           "caxis": {
            "gridcolor": "white",
            "linecolor": "white",
            "ticks": ""
           }
          },
          "title": {
           "x": 0.05
          },
          "xaxis": {
           "automargin": true,
           "gridcolor": "white",
           "linecolor": "white",
           "ticks": "",
           "title": {
            "standoff": 15
           },
           "zerolinecolor": "white",
           "zerolinewidth": 2
          },
          "yaxis": {
           "automargin": true,
           "gridcolor": "white",
           "linecolor": "white",
           "ticks": "",
           "title": {
            "standoff": 15
           },
           "zerolinecolor": "white",
           "zerolinewidth": 2
          }
         }
        },
        "title": {
         "text": "Gráfico 3D"
        }
       }
      }
     },
     "metadata": {},
     "output_type": "display_data"
    }
   ],
   "source": [
    "fig = go.Figure(data=[go.Scatter3d(x=[1,2,3,4,5,6],\n",
    "                           y=[10,11,12,13,14,15],\n",
    "                           z=[1,1,3,5,8,13],\n",
    "                           mode= 'markers',\n",
    "                           marker=dict(size=10,\n",
    "                                       color=[10,20,30,40,50,60],\n",
    "                                       colorscale='Viridis',\n",
    "                                       opacity=0.8))])\n",
    "fig.update_layout(title='Gráfico 3D',\n",
    "                  scene=dict(xaxis_title='Eje X',\n",
    "                             yaxis_title='Eje Y',\n",
    "                             zaxis_title='Eje Z'))\n",
    "fig"
   ]
  },
  {
   "cell_type": "code",
   "execution_count": 14,
   "id": "2f5e47e7",
   "metadata": {},
   "outputs": [],
   "source": [
    "x = np.linspace(-5, 5, 50)\n",
    "y = np.linspace(-5, 5, 50)\n",
    "\n",
    "x, y = np.meshgrid(x, y)\n",
    "z = np.sin(np.sqrt(x**2 + y**2))"
   ]
  },
  {
   "cell_type": "code",
   "execution_count": 16,
   "id": "cc983211",
   "metadata": {},
   "outputs": [
    {
     "data": {
      "application/vnd.plotly.v1+json": {
       "config": {
        "plotlyServerURL": "https://plot.ly"
       },
       "data": [
        {
         "colorscale": [
          [
           0,
           "#440154"
          ],
          [
           0.1111111111111111,
           "#482878"
          ],
          [
           0.2222222222222222,
           "#3e4989"
          ],
          [
           0.3333333333333333,
           "#31688e"
          ],
          [
           0.4444444444444444,
           "#26828e"
          ],
          [
           0.5555555555555556,
           "#1f9e89"
          ],
          [
           0.6666666666666666,
           "#35b779"
          ],
          [
           0.7777777777777778,
           "#6ece58"
          ],
          [
           0.8888888888888888,
           "#b5de2b"
          ],
          [
           1,
           "#fde725"
          ]
         ],
         "type": "surface",
         "x": {
          "bdata": "AAAAAAAAFMDMKXg5BS8TwJhT8HIKXhLAY31orA+NEcAvp+DlFLwQwPahsT401g/AjfWhsT40DsAkSZIkSZIMwLycgpdT8ArAVPByCl5OCcDrQ2N9aKwHwIKXU/ByCgbAGutDY31oBMCyPjTWh8YCwEmSJEmSJAHAwMspeDkF/7/wcgpeTsH7vyAa60Njffi/TsHLKXg59b98aKwPjfXxv1gfGutDY+2/uG3btm3b5r8QvJyCl1Pgv+AUvJyCl9O/gMb60Fgfur+AxvrQWB+6P+AUvJyCl9M/GLycgpdT4D+4bdu2bdvmP1gfGutDY+0/gGisD4318T9QwcspeDn1PyAa60Njffg/8HIKXk7B+z/Ayyl4OQX/P0qSJEmSJAFAsj401ofGAkAa60NjfWgEQISXU/ByCgZA7ENjfWisB0BU8HIKXk4JQLycgpdT8ApAJEmSJEmSDECM9aGxPjQOQPihsT401g9AMKfg5RS8EEBkfWisD40RQJhT8HIKXhJAzCl4OQUvE0AAAAAAAAAUQAAAAAAAABTAzCl4OQUvE8CYU/ByCl4SwGN9aKwPjRHAL6fg5RS8EMD2obE+NNYPwI31obE+NA7AJEmSJEmSDMC8nIKXU/AKwFTwcgpeTgnA60NjfWisB8CCl1PwcgoGwBrrQ2N9aATAsj401ofGAsBJkiRJkiQBwMDLKXg5Bf+/8HIKXk7B+78gGutDY334v07Byyl4OfW/fGisD4318b9YHxrrQ2Ptv7ht27Zt2+a/ELycgpdT4L/gFLycgpfTv4DG+tBYH7q/gMb60Fgfuj/gFLycgpfTPxi8nIKXU+A/uG3btm3b5j9YHxrrQ2PtP4BorA+N9fE/UMHLKXg59T8gGutDY334P/ByCl5Owfs/wMspeDkF/z9KkiRJkiQBQLI+NNaHxgJAGutDY31oBECEl1PwcgoGQOxDY31orAdAVPByCl5OCUC8nIKXU/AKQCRJkiRJkgxAjPWhsT40DkD4obE+NNYPQDCn4OUUvBBAZH1orA+NEUCYU/ByCl4SQMwpeDkFLxNAAAAAAAAAFEAAAAAAAAAUwMwpeDkFLxPAmFPwcgpeEsBjfWisD40RwC+n4OUUvBDA9qGxPjTWD8CN9aGxPjQOwCRJkiRJkgzAvJyCl1PwCsBU8HIKXk4JwOtDY31orAfAgpdT8HIKBsAa60NjfWgEwLI+NNaHxgLASZIkSZIkAcDAyyl4OQX/v/ByCl5Owfu/IBrrQ2N9+L9OwcspeDn1v3xorA+N9fG/WB8a60Nj7b+4bdu2bdvmvxC8nIKXU+C/4BS8nIKX07+AxvrQWB+6v4DG+tBYH7o/4BS8nIKX0z8YvJyCl1PgP7ht27Zt2+Y/WB8a60Nj7T+AaKwPjfXxP1DByyl4OfU/IBrrQ2N9+D/wcgpeTsH7P8DLKXg5Bf8/SpIkSZIkAUCyPjTWh8YCQBrrQ2N9aARAhJdT8HIKBkDsQ2N9aKwHQFTwcgpeTglAvJyCl1PwCkAkSZIkSZIMQIz1obE+NA5A+KGxPjTWD0Awp+DlFLwQQGR9aKwPjRFAmFPwcgpeEkDMKXg5BS8TQAAAAAAAABRAAAAAAAAAFMDMKXg5BS8TwJhT8HIKXhLAY31orA+NEcAvp+DlFLwQwPahsT401g/AjfWhsT40DsAkSZIkSZIMwLycgpdT8ArAVPByCl5OCcDrQ2N9aKwHwIKXU/ByCgbAGutDY31oBMCyPjTWh8YCwEmSJEmSJAHAwMspeDkF/7/wcgpeTsH7vyAa60Njffi/TsHLKXg59b98aKwPjfXxv1gfGutDY+2/uG3btm3b5r8QvJyCl1Pgv+AUvJyCl9O/gMb60Fgfur+AxvrQWB+6P+AUvJyCl9M/GLycgpdT4D+4bdu2bdvmP1gfGutDY+0/gGisD4318T9QwcspeDn1PyAa60Njffg/8HIKXk7B+z/Ayyl4OQX/P0qSJEmSJAFAsj401ofGAkAa60NjfWgEQISXU/ByCgZA7ENjfWisB0BU8HIKXk4JQLycgpdT8ApAJEmSJEmSDECM9aGxPjQOQPihsT401g9AMKfg5RS8EEBkfWisD40RQJhT8HIKXhJAzCl4OQUvE0AAAAAAAAAUQAAAAAAAABTAzCl4OQUvE8CYU/ByCl4SwGN9aKwPjRHAL6fg5RS8EMD2obE+NNYPwI31obE+NA7AJEmSJEmSDMC8nIKXU/AKwFTwcgpeTgnA60NjfWisB8CCl1PwcgoGwBrrQ2N9aATAsj401ofGAsBJkiRJkiQBwMDLKXg5Bf+/8HIKXk7B+78gGutDY334v07Byyl4OfW/fGisD4318b9YHxrrQ2Ptv7ht27Zt2+a/ELycgpdT4L/gFLycgpfTv4DG+tBYH7q/gMb60Fgfuj/gFLycgpfTPxi8nIKXU+A/uG3btm3b5j9YHxrrQ2PtP4BorA+N9fE/UMHLKXg59T8gGutDY334P/ByCl5Owfs/wMspeDkF/z9KkiRJkiQBQLI+NNaHxgJAGutDY31oBECEl1PwcgoGQOxDY31orAdAVPByCl5OCUC8nIKXU/AKQCRJkiRJkgxAjPWhsT40DkD4obE+NNYPQDCn4OUUvBBAZH1orA+NEUCYU/ByCl4SQMwpeDkFLxNAAAAAAAAAFEAAAAAAAAAUwMwpeDkFLxPAmFPwcgpeEsBjfWisD40RwC+n4OUUvBDA9qGxPjTWD8CN9aGxPjQOwCRJkiRJkgzAvJyCl1PwCsBU8HIKXk4JwOtDY31orAfAgpdT8HIKBsAa60NjfWgEwLI+NNaHxgLASZIkSZIkAcDAyyl4OQX/v/ByCl5Owfu/IBrrQ2N9+L9OwcspeDn1v3xorA+N9fG/WB8a60Nj7b+4bdu2bdvmvxC8nIKXU+C/4BS8nIKX07+AxvrQWB+6v4DG+tBYH7o/4BS8nIKX0z8YvJyCl1PgP7ht27Zt2+Y/WB8a60Nj7T+AaKwPjfXxP1DByyl4OfU/IBrrQ2N9+D/wcgpeTsH7P8DLKXg5Bf8/SpIkSZIkAUCyPjTWh8YCQBrrQ2N9aARAhJdT8HIKBkDsQ2N9aKwHQFTwcgpeTglAvJyCl1PwCkAkSZIkSZIMQIz1obE+NA5A+KGxPjTWD0Awp+DlFLwQQGR9aKwPjRFAmFPwcgpeEkDMKXg5BS8TQAAAAAAAABRAAAAAAAAAFMDMKXg5BS8TwJhT8HIKXhLAY31orA+NEcAvp+DlFLwQwPahsT401g/AjfWhsT40DsAkSZIkSZIMwLycgpdT8ArAVPByCl5OCcDrQ2N9aKwHwIKXU/ByCgbAGutDY31oBMCyPjTWh8YCwEmSJEmSJAHAwMspeDkF/7/wcgpeTsH7vyAa60Njffi/TsHLKXg59b98aKwPjfXxv1gfGutDY+2/uG3btm3b5r8QvJyCl1Pgv+AUvJyCl9O/gMb60Fgfur+AxvrQWB+6P+AUvJyCl9M/GLycgpdT4D+4bdu2bdvmP1gfGutDY+0/gGisD4318T9QwcspeDn1PyAa60Njffg/8HIKXk7B+z/Ayyl4OQX/P0qSJEmSJAFAsj401ofGAkAa60NjfWgEQISXU/ByCgZA7ENjfWisB0BU8HIKXk4JQLycgpdT8ApAJEmSJEmSDECM9aGxPjQOQPihsT401g9AMKfg5RS8EEBkfWisD40RQJhT8HIKXhJAzCl4OQUvE0AAAAAAAAAUQAAAAAAAABTAzCl4OQUvE8CYU/ByCl4SwGN9aKwPjRHAL6fg5RS8EMD2obE+NNYPwI31obE+NA7AJEmSJEmSDMC8nIKXU/AKwFTwcgpeTgnA60NjfWisB8CCl1PwcgoGwBrrQ2N9aATAsj401ofGAsBJkiRJkiQBwMDLKXg5Bf+/8HIKXk7B+78gGutDY334v07Byyl4OfW/fGisD4318b9YHxrrQ2Ptv7ht27Zt2+a/ELycgpdT4L/gFLycgpfTv4DG+tBYH7q/gMb60Fgfuj/gFLycgpfTPxi8nIKXU+A/uG3btm3b5j9YHxrrQ2PtP4BorA+N9fE/UMHLKXg59T8gGutDY334P/ByCl5Owfs/wMspeDkF/z9KkiRJkiQBQLI+NNaHxgJAGutDY31oBECEl1PwcgoGQOxDY31orAdAVPByCl5OCUC8nIKXU/AKQCRJkiRJkgxAjPWhsT40DkD4obE+NNYPQDCn4OUUvBBAZH1orA+NEUCYU/ByCl4SQMwpeDkFLxNAAAAAAAAAFEAAAAAAAAAUwMwpeDkFLxPAmFPwcgpeEsBjfWisD40RwC+n4OUUvBDA9qGxPjTWD8CN9aGxPjQOwCRJkiRJkgzAvJyCl1PwCsBU8HIKXk4JwOtDY31orAfAgpdT8HIKBsAa60NjfWgEwLI+NNaHxgLASZIkSZIkAcDAyyl4OQX/v/ByCl5Owfu/IBrrQ2N9+L9OwcspeDn1v3xorA+N9fG/WB8a60Nj7b+4bdu2bdvmvxC8nIKXU+C/4BS8nIKX07+AxvrQWB+6v4DG+tBYH7o/4BS8nIKX0z8YvJyCl1PgP7ht27Zt2+Y/WB8a60Nj7T+AaKwPjfXxP1DByyl4OfU/IBrrQ2N9+D/wcgpeTsH7P8DLKXg5Bf8/SpIkSZIkAUCyPjTWh8YCQBrrQ2N9aARAhJdT8HIKBkDsQ2N9aKwHQFTwcgpeTglAvJyCl1PwCkAkSZIkSZIMQIz1obE+NA5A+KGxPjTWD0Awp+DlFLwQQGR9aKwPjRFAmFPwcgpeEkDMKXg5BS8TQAAAAAAAABRAAAAAAAAAFMDMKXg5BS8TwJhT8HIKXhLAY31orA+NEcAvp+DlFLwQwPahsT401g/AjfWhsT40DsAkSZIkSZIMwLycgpdT8ArAVPByCl5OCcDrQ2N9aKwHwIKXU/ByCgbAGutDY31oBMCyPjTWh8YCwEmSJEmSJAHAwMspeDkF/7/wcgpeTsH7vyAa60Njffi/TsHLKXg59b98aKwPjfXxv1gfGutDY+2/uG3btm3b5r8QvJyCl1Pgv+AUvJyCl9O/gMb60Fgfur+AxvrQWB+6P+AUvJyCl9M/GLycgpdT4D+4bdu2bdvmP1gfGutDY+0/gGisD4318T9QwcspeDn1PyAa60Njffg/8HIKXk7B+z/Ayyl4OQX/P0qSJEmSJAFAsj401ofGAkAa60NjfWgEQISXU/ByCgZA7ENjfWisB0BU8HIKXk4JQLycgpdT8ApAJEmSJEmSDECM9aGxPjQOQPihsT401g9AMKfg5RS8EEBkfWisD40RQJhT8HIKXhJAzCl4OQUvE0AAAAAAAAAUQAAAAAAAABTAzCl4OQUvE8CYU/ByCl4SwGN9aKwPjRHAL6fg5RS8EMD2obE+NNYPwI31obE+NA7AJEmSJEmSDMC8nIKXU/AKwFTwcgpeTgnA60NjfWisB8CCl1PwcgoGwBrrQ2N9aATAsj401ofGAsBJkiRJkiQBwMDLKXg5Bf+/8HIKXk7B+78gGutDY334v07Byyl4OfW/fGisD4318b9YHxrrQ2Ptv7ht27Zt2+a/ELycgpdT4L/gFLycgpfTv4DG+tBYH7q/gMb60Fgfuj/gFLycgpfTPxi8nIKXU+A/uG3btm3b5j9YHxrrQ2PtP4BorA+N9fE/UMHLKXg59T8gGutDY334P/ByCl5Owfs/wMspeDkF/z9KkiRJkiQBQLI+NNaHxgJAGutDY31oBECEl1PwcgoGQOxDY31orAdAVPByCl5OCUC8nIKXU/AKQCRJkiRJkgxAjPWhsT40DkD4obE+NNYPQDCn4OUUvBBAZH1orA+NEUCYU/ByCl4SQMwpeDkFLxNAAAAAAAAAFEAAAAAAAAAUwMwpeDkFLxPAmFPwcgpeEsBjfWisD40RwC+n4OUUvBDA9qGxPjTWD8CN9aGxPjQOwCRJkiRJkgzAvJyCl1PwCsBU8HIKXk4JwOtDY31orAfAgpdT8HIKBsAa60NjfWgEwLI+NNaHxgLASZIkSZIkAcDAyyl4OQX/v/ByCl5Owfu/IBrrQ2N9+L9OwcspeDn1v3xorA+N9fG/WB8a60Nj7b+4bdu2bdvmvxC8nIKXU+C/4BS8nIKX07+AxvrQWB+6v4DG+tBYH7o/4BS8nIKX0z8YvJyCl1PgP7ht27Zt2+Y/WB8a60Nj7T+AaKwPjfXxP1DByyl4OfU/IBrrQ2N9+D/wcgpeTsH7P8DLKXg5Bf8/SpIkSZIkAUCyPjTWh8YCQBrrQ2N9aARAhJdT8HIKBkDsQ2N9aKwHQFTwcgpeTglAvJyCl1PwCkAkSZIkSZIMQIz1obE+NA5A+KGxPjTWD0Awp+DlFLwQQGR9aKwPjRFAmFPwcgpeEkDMKXg5BS8TQAAAAAAAABRAAAAAAAAAFMDMKXg5BS8TwJhT8HIKXhLAY31orA+NEcAvp+DlFLwQwPahsT401g/AjfWhsT40DsAkSZIkSZIMwLycgpdT8ArAVPByCl5OCcDrQ2N9aKwHwIKXU/ByCgbAGutDY31oBMCyPjTWh8YCwEmSJEmSJAHAwMspeDkF/7/wcgpeTsH7vyAa60Njffi/TsHLKXg59b98aKwPjfXxv1gfGutDY+2/uG3btm3b5r8QvJyCl1Pgv+AUvJyCl9O/gMb60Fgfur+AxvrQWB+6P+AUvJyCl9M/GLycgpdT4D+4bdu2bdvmP1gfGutDY+0/gGisD4318T9QwcspeDn1PyAa60Njffg/8HIKXk7B+z/Ayyl4OQX/P0qSJEmSJAFAsj401ofGAkAa60NjfWgEQISXU/ByCgZA7ENjfWisB0BU8HIKXk4JQLycgpdT8ApAJEmSJEmSDECM9aGxPjQOQPihsT401g9AMKfg5RS8EEBkfWisD40RQJhT8HIKXhJAzCl4OQUvE0AAAAAAAAAUQAAAAAAAABTAzCl4OQUvE8CYU/ByCl4SwGN9aKwPjRHAL6fg5RS8EMD2obE+NNYPwI31obE+NA7AJEmSJEmSDMC8nIKXU/AKwFTwcgpeTgnA60NjfWisB8CCl1PwcgoGwBrrQ2N9aATAsj401ofGAsBJkiRJkiQBwMDLKXg5Bf+/8HIKXk7B+78gGutDY334v07Byyl4OfW/fGisD4318b9YHxrrQ2Ptv7ht27Zt2+a/ELycgpdT4L/gFLycgpfTv4DG+tBYH7q/gMb60Fgfuj/gFLycgpfTPxi8nIKXU+A/uG3btm3b5j9YHxrrQ2PtP4BorA+N9fE/UMHLKXg59T8gGutDY334P/ByCl5Owfs/wMspeDkF/z9KkiRJkiQBQLI+NNaHxgJAGutDY31oBECEl1PwcgoGQOxDY31orAdAVPByCl5OCUC8nIKXU/AKQCRJkiRJkgxAjPWhsT40DkD4obE+NNYPQDCn4OUUvBBAZH1orA+NEUCYU/ByCl4SQMwpeDkFLxNAAAAAAAAAFEAAAAAAAAAUwMwpeDkFLxPAmFPwcgpeEsBjfWisD40RwC+n4OUUvBDA9qGxPjTWD8CN9aGxPjQOwCRJkiRJkgzAvJyCl1PwCsBU8HIKXk4JwOtDY31orAfAgpdT8HIKBsAa60NjfWgEwLI+NNaHxgLASZIkSZIkAcDAyyl4OQX/v/ByCl5Owfu/IBrrQ2N9+L9OwcspeDn1v3xorA+N9fG/WB8a60Nj7b+4bdu2bdvmvxC8nIKXU+C/4BS8nIKX07+AxvrQWB+6v4DG+tBYH7o/4BS8nIKX0z8YvJyCl1PgP7ht27Zt2+Y/WB8a60Nj7T+AaKwPjfXxP1DByyl4OfU/IBrrQ2N9+D/wcgpeTsH7P8DLKXg5Bf8/SpIkSZIkAUCyPjTWh8YCQBrrQ2N9aARAhJdT8HIKBkDsQ2N9aKwHQFTwcgpeTglAvJyCl1PwCkAkSZIkSZIMQIz1obE+NA5A+KGxPjTWD0Awp+DlFLwQQGR9aKwPjRFAmFPwcgpeEkDMKXg5BS8TQAAAAAAAABRAAAAAAAAAFMDMKXg5BS8TwJhT8HIKXhLAY31orA+NEcAvp+DlFLwQwPahsT401g/AjfWhsT40DsAkSZIkSZIMwLycgpdT8ArAVPByCl5OCcDrQ2N9aKwHwIKXU/ByCgbAGutDY31oBMCyPjTWh8YCwEmSJEmSJAHAwMspeDkF/7/wcgpeTsH7vyAa60Njffi/TsHLKXg59b98aKwPjfXxv1gfGutDY+2/uG3btm3b5r8QvJyCl1Pgv+AUvJyCl9O/gMb60Fgfur+AxvrQWB+6P+AUvJyCl9M/GLycgpdT4D+4bdu2bdvmP1gfGutDY+0/gGisD4318T9QwcspeDn1PyAa60Njffg/8HIKXk7B+z/Ayyl4OQX/P0qSJEmSJAFAsj401ofGAkAa60NjfWgEQISXU/ByCgZA7ENjfWisB0BU8HIKXk4JQLycgpdT8ApAJEmSJEmSDECM9aGxPjQOQPihsT401g9AMKfg5RS8EEBkfWisD40RQJhT8HIKXhJAzCl4OQUvE0AAAAAAAAAUQAAAAAAAABTAzCl4OQUvE8CYU/ByCl4SwGN9aKwPjRHAL6fg5RS8EMD2obE+NNYPwI31obE+NA7AJEmSJEmSDMC8nIKXU/AKwFTwcgpeTgnA60NjfWisB8CCl1PwcgoGwBrrQ2N9aATAsj401ofGAsBJkiRJkiQBwMDLKXg5Bf+/8HIKXk7B+78gGutDY334v07Byyl4OfW/fGisD4318b9YHxrrQ2Ptv7ht27Zt2+a/ELycgpdT4L/gFLycgpfTv4DG+tBYH7q/gMb60Fgfuj/gFLycgpfTPxi8nIKXU+A/uG3btm3b5j9YHxrrQ2PtP4BorA+N9fE/UMHLKXg59T8gGutDY334P/ByCl5Owfs/wMspeDkF/z9KkiRJkiQBQLI+NNaHxgJAGutDY31oBECEl1PwcgoGQOxDY31orAdAVPByCl5OCUC8nIKXU/AKQCRJkiRJkgxAjPWhsT40DkD4obE+NNYPQDCn4OUUvBBAZH1orA+NEUCYU/ByCl4SQMwpeDkFLxNAAAAAAAAAFEAAAAAAAAAUwMwpeDkFLxPAmFPwcgpeEsBjfWisD40RwC+n4OUUvBDA9qGxPjTWD8CN9aGxPjQOwCRJkiRJkgzAvJyCl1PwCsBU8HIKXk4JwOtDY31orAfAgpdT8HIKBsAa60NjfWgEwLI+NNaHxgLASZIkSZIkAcDAyyl4OQX/v/ByCl5Owfu/IBrrQ2N9+L9OwcspeDn1v3xorA+N9fG/WB8a60Nj7b+4bdu2bdvmvxC8nIKXU+C/4BS8nIKX07+AxvrQWB+6v4DG+tBYH7o/4BS8nIKX0z8YvJyCl1PgP7ht27Zt2+Y/WB8a60Nj7T+AaKwPjfXxP1DByyl4OfU/IBrrQ2N9+D/wcgpeTsH7P8DLKXg5Bf8/SpIkSZIkAUCyPjTWh8YCQBrrQ2N9aARAhJdT8HIKBkDsQ2N9aKwHQFTwcgpeTglAvJyCl1PwCkAkSZIkSZIMQIz1obE+NA5A+KGxPjTWD0Awp+DlFLwQQGR9aKwPjRFAmFPwcgpeEkDMKXg5BS8TQAAAAAAAABRAAAAAAAAAFMDMKXg5BS8TwJhT8HIKXhLAY31orA+NEcAvp+DlFLwQwPahsT401g/AjfWhsT40DsAkSZIkSZIMwLycgpdT8ArAVPByCl5OCcDrQ2N9aKwHwIKXU/ByCgbAGutDY31oBMCyPjTWh8YCwEmSJEmSJAHAwMspeDkF/7/wcgpeTsH7vyAa60Njffi/TsHLKXg59b98aKwPjfXxv1gfGutDY+2/uG3btm3b5r8QvJyCl1Pgv+AUvJyCl9O/gMb60Fgfur+AxvrQWB+6P+AUvJyCl9M/GLycgpdT4D+4bdu2bdvmP1gfGutDY+0/gGisD4318T9QwcspeDn1PyAa60Njffg/8HIKXk7B+z/Ayyl4OQX/P0qSJEmSJAFAsj401ofGAkAa60NjfWgEQISXU/ByCgZA7ENjfWisB0BU8HIKXk4JQLycgpdT8ApAJEmSJEmSDECM9aGxPjQOQPihsT401g9AMKfg5RS8EEBkfWisD40RQJhT8HIKXhJAzCl4OQUvE0AAAAAAAAAUQAAAAAAAABTAzCl4OQUvE8CYU/ByCl4SwGN9aKwPjRHAL6fg5RS8EMD2obE+NNYPwI31obE+NA7AJEmSJEmSDMC8nIKXU/AKwFTwcgpeTgnA60NjfWisB8CCl1PwcgoGwBrrQ2N9aATAsj401ofGAsBJkiRJkiQBwMDLKXg5Bf+/8HIKXk7B+78gGutDY334v07Byyl4OfW/fGisD4318b9YHxrrQ2Ptv7ht27Zt2+a/ELycgpdT4L/gFLycgpfTv4DG+tBYH7q/gMb60Fgfuj/gFLycgpfTPxi8nIKXU+A/uG3btm3b5j9YHxrrQ2PtP4BorA+N9fE/UMHLKXg59T8gGutDY334P/ByCl5Owfs/wMspeDkF/z9KkiRJkiQBQLI+NNaHxgJAGutDY31oBECEl1PwcgoGQOxDY31orAdAVPByCl5OCUC8nIKXU/AKQCRJkiRJkgxAjPWhsT40DkD4obE+NNYPQDCn4OUUvBBAZH1orA+NEUCYU/ByCl4SQMwpeDkFLxNAAAAAAAAAFEAAAAAAAAAUwMwpeDkFLxPAmFPwcgpeEsBjfWisD40RwC+n4OUUvBDA9qGxPjTWD8CN9aGxPjQOwCRJkiRJkgzAvJyCl1PwCsBU8HIKXk4JwOtDY31orAfAgpdT8HIKBsAa60NjfWgEwLI+NNaHxgLASZIkSZIkAcDAyyl4OQX/v/ByCl5Owfu/IBrrQ2N9+L9OwcspeDn1v3xorA+N9fG/WB8a60Nj7b+4bdu2bdvmvxC8nIKXU+C/4BS8nIKX07+AxvrQWB+6v4DG+tBYH7o/4BS8nIKX0z8YvJyCl1PgP7ht27Zt2+Y/WB8a60Nj7T+AaKwPjfXxP1DByyl4OfU/IBrrQ2N9+D/wcgpeTsH7P8DLKXg5Bf8/SpIkSZIkAUCyPjTWh8YCQBrrQ2N9aARAhJdT8HIKBkDsQ2N9aKwHQFTwcgpeTglAvJyCl1PwCkAkSZIkSZIMQIz1obE+NA5A+KGxPjTWD0Awp+DlFLwQQGR9aKwPjRFAmFPwcgpeEkDMKXg5BS8TQAAAAAAAABRAAAAAAAAAFMDMKXg5BS8TwJhT8HIKXhLAY31orA+NEcAvp+DlFLwQwPahsT401g/AjfWhsT40DsAkSZIkSZIMwLycgpdT8ArAVPByCl5OCcDrQ2N9aKwHwIKXU/ByCgbAGutDY31oBMCyPjTWh8YCwEmSJEmSJAHAwMspeDkF/7/wcgpeTsH7vyAa60Njffi/TsHLKXg59b98aKwPjfXxv1gfGutDY+2/uG3btm3b5r8QvJyCl1Pgv+AUvJyCl9O/gMb60Fgfur+AxvrQWB+6P+AUvJyCl9M/GLycgpdT4D+4bdu2bdvmP1gfGutDY+0/gGisD4318T9QwcspeDn1PyAa60Njffg/8HIKXk7B+z/Ayyl4OQX/P0qSJEmSJAFAsj401ofGAkAa60NjfWgEQISXU/ByCgZA7ENjfWisB0BU8HIKXk4JQLycgpdT8ApAJEmSJEmSDECM9aGxPjQOQPihsT401g9AMKfg5RS8EEBkfWisD40RQJhT8HIKXhJAzCl4OQUvE0AAAAAAAAAUQAAAAAAAABTAzCl4OQUvE8CYU/ByCl4SwGN9aKwPjRHAL6fg5RS8EMD2obE+NNYPwI31obE+NA7AJEmSJEmSDMC8nIKXU/AKwFTwcgpeTgnA60NjfWisB8CCl1PwcgoGwBrrQ2N9aATAsj401ofGAsBJkiRJkiQBwMDLKXg5Bf+/8HIKXk7B+78gGutDY334v07Byyl4OfW/fGisD4318b9YHxrrQ2Ptv7ht27Zt2+a/ELycgpdT4L/gFLycgpfTv4DG+tBYH7q/gMb60Fgfuj/gFLycgpfTPxi8nIKXU+A/uG3btm3b5j9YHxrrQ2PtP4BorA+N9fE/UMHLKXg59T8gGutDY334P/ByCl5Owfs/wMspeDkF/z9KkiRJkiQBQLI+NNaHxgJAGutDY31oBECEl1PwcgoGQOxDY31orAdAVPByCl5OCUC8nIKXU/AKQCRJkiRJkgxAjPWhsT40DkD4obE+NNYPQDCn4OUUvBBAZH1orA+NEUCYU/ByCl4SQMwpeDkFLxNAAAAAAAAAFEAAAAAAAAAUwMwpeDkFLxPAmFPwcgpeEsBjfWisD40RwC+n4OUUvBDA9qGxPjTWD8CN9aGxPjQOwCRJkiRJkgzAvJyCl1PwCsBU8HIKXk4JwOtDY31orAfAgpdT8HIKBsAa60NjfWgEwLI+NNaHxgLASZIkSZIkAcDAyyl4OQX/v/ByCl5Owfu/IBrrQ2N9+L9OwcspeDn1v3xorA+N9fG/WB8a60Nj7b+4bdu2bdvmvxC8nIKXU+C/4BS8nIKX07+AxvrQWB+6v4DG+tBYH7o/4BS8nIKX0z8YvJyCl1PgP7ht27Zt2+Y/WB8a60Nj7T+AaKwPjfXxP1DByyl4OfU/IBrrQ2N9+D/wcgpeTsH7P8DLKXg5Bf8/SpIkSZIkAUCyPjTWh8YCQBrrQ2N9aARAhJdT8HIKBkDsQ2N9aKwHQFTwcgpeTglAvJyCl1PwCkAkSZIkSZIMQIz1obE+NA5A+KGxPjTWD0Awp+DlFLwQQGR9aKwPjRFAmFPwcgpeEkDMKXg5BS8TQAAAAAAAABRAAAAAAAAAFMDMKXg5BS8TwJhT8HIKXhLAY31orA+NEcAvp+DlFLwQwPahsT401g/AjfWhsT40DsAkSZIkSZIMwLycgpdT8ArAVPByCl5OCcDrQ2N9aKwHwIKXU/ByCgbAGutDY31oBMCyPjTWh8YCwEmSJEmSJAHAwMspeDkF/7/wcgpeTsH7vyAa60Njffi/TsHLKXg59b98aKwPjfXxv1gfGutDY+2/uG3btm3b5r8QvJyCl1Pgv+AUvJyCl9O/gMb60Fgfur+AxvrQWB+6P+AUvJyCl9M/GLycgpdT4D+4bdu2bdvmP1gfGutDY+0/gGisD4318T9QwcspeDn1PyAa60Njffg/8HIKXk7B+z/Ayyl4OQX/P0qSJEmSJAFAsj401ofGAkAa60NjfWgEQISXU/ByCgZA7ENjfWisB0BU8HIKXk4JQLycgpdT8ApAJEmSJEmSDECM9aGxPjQOQPihsT401g9AMKfg5RS8EEBkfWisD40RQJhT8HIKXhJAzCl4OQUvE0AAAAAAAAAUQAAAAAAAABTAzCl4OQUvE8CYU/ByCl4SwGN9aKwPjRHAL6fg5RS8EMD2obE+NNYPwI31obE+NA7AJEmSJEmSDMC8nIKXU/AKwFTwcgpeTgnA60NjfWisB8CCl1PwcgoGwBrrQ2N9aATAsj401ofGAsBJkiRJkiQBwMDLKXg5Bf+/8HIKXk7B+78gGutDY334v07Byyl4OfW/fGisD4318b9YHxrrQ2Ptv7ht27Zt2+a/ELycgpdT4L/gFLycgpfTv4DG+tBYH7q/gMb60Fgfuj/gFLycgpfTPxi8nIKXU+A/uG3btm3b5j9YHxrrQ2PtP4BorA+N9fE/UMHLKXg59T8gGutDY334P/ByCl5Owfs/wMspeDkF/z9KkiRJkiQBQLI+NNaHxgJAGutDY31oBECEl1PwcgoGQOxDY31orAdAVPByCl5OCUC8nIKXU/AKQCRJkiRJkgxAjPWhsT40DkD4obE+NNYPQDCn4OUUvBBAZH1orA+NEUCYU/ByCl4SQMwpeDkFLxNAAAAAAAAAFEAAAAAAAAAUwMwpeDkFLxPAmFPwcgpeEsBjfWisD40RwC+n4OUUvBDA9qGxPjTWD8CN9aGxPjQOwCRJkiRJkgzAvJyCl1PwCsBU8HIKXk4JwOtDY31orAfAgpdT8HIKBsAa60NjfWgEwLI+NNaHxgLASZIkSZIkAcDAyyl4OQX/v/ByCl5Owfu/IBrrQ2N9+L9OwcspeDn1v3xorA+N9fG/WB8a60Nj7b+4bdu2bdvmvxC8nIKXU+C/4BS8nIKX07+AxvrQWB+6v4DG+tBYH7o/4BS8nIKX0z8YvJyCl1PgP7ht27Zt2+Y/WB8a60Nj7T+AaKwPjfXxP1DByyl4OfU/IBrrQ2N9+D/wcgpeTsH7P8DLKXg5Bf8/SpIkSZIkAUCyPjTWh8YCQBrrQ2N9aARAhJdT8HIKBkDsQ2N9aKwHQFTwcgpeTglAvJyCl1PwCkAkSZIkSZIMQIz1obE+NA5A+KGxPjTWD0Awp+DlFLwQQGR9aKwPjRFAmFPwcgpeEkDMKXg5BS8TQAAAAAAAABRAAAAAAAAAFMDMKXg5BS8TwJhT8HIKXhLAY31orA+NEcAvp+DlFLwQwPahsT401g/AjfWhsT40DsAkSZIkSZIMwLycgpdT8ArAVPByCl5OCcDrQ2N9aKwHwIKXU/ByCgbAGutDY31oBMCyPjTWh8YCwEmSJEmSJAHAwMspeDkF/7/wcgpeTsH7vyAa60Njffi/TsHLKXg59b98aKwPjfXxv1gfGutDY+2/uG3btm3b5r8QvJyCl1Pgv+AUvJyCl9O/gMb60Fgfur+AxvrQWB+6P+AUvJyCl9M/GLycgpdT4D+4bdu2bdvmP1gfGutDY+0/gGisD4318T9QwcspeDn1PyAa60Njffg/8HIKXk7B+z/Ayyl4OQX/P0qSJEmSJAFAsj401ofGAkAa60NjfWgEQISXU/ByCgZA7ENjfWisB0BU8HIKXk4JQLycgpdT8ApAJEmSJEmSDECM9aGxPjQOQPihsT401g9AMKfg5RS8EEBkfWisD40RQJhT8HIKXhJAzCl4OQUvE0AAAAAAAAAUQAAAAAAAABTAzCl4OQUvE8CYU/ByCl4SwGN9aKwPjRHAL6fg5RS8EMD2obE+NNYPwI31obE+NA7AJEmSJEmSDMC8nIKXU/AKwFTwcgpeTgnA60NjfWisB8CCl1PwcgoGwBrrQ2N9aATAsj401ofGAsBJkiRJkiQBwMDLKXg5Bf+/8HIKXk7B+78gGutDY334v07Byyl4OfW/fGisD4318b9YHxrrQ2Ptv7ht27Zt2+a/ELycgpdT4L/gFLycgpfTv4DG+tBYH7q/gMb60Fgfuj/gFLycgpfTPxi8nIKXU+A/uG3btm3b5j9YHxrrQ2PtP4BorA+N9fE/UMHLKXg59T8gGutDY334P/ByCl5Owfs/wMspeDkF/z9KkiRJkiQBQLI+NNaHxgJAGutDY31oBECEl1PwcgoGQOxDY31orAdAVPByCl5OCUC8nIKXU/AKQCRJkiRJkgxAjPWhsT40DkD4obE+NNYPQDCn4OUUvBBAZH1orA+NEUCYU/ByCl4SQMwpeDkFLxNAAAAAAAAAFEAAAAAAAAAUwMwpeDkFLxPAmFPwcgpeEsBjfWisD40RwC+n4OUUvBDA9qGxPjTWD8CN9aGxPjQOwCRJkiRJkgzAvJyCl1PwCsBU8HIKXk4JwOtDY31orAfAgpdT8HIKBsAa60NjfWgEwLI+NNaHxgLASZIkSZIkAcDAyyl4OQX/v/ByCl5Owfu/IBrrQ2N9+L9OwcspeDn1v3xorA+N9fG/WB8a60Nj7b+4bdu2bdvmvxC8nIKXU+C/4BS8nIKX07+AxvrQWB+6v4DG+tBYH7o/4BS8nIKX0z8YvJyCl1PgP7ht27Zt2+Y/WB8a60Nj7T+AaKwPjfXxP1DByyl4OfU/IBrrQ2N9+D/wcgpeTsH7P8DLKXg5Bf8/SpIkSZIkAUCyPjTWh8YCQBrrQ2N9aARAhJdT8HIKBkDsQ2N9aKwHQFTwcgpeTglAvJyCl1PwCkAkSZIkSZIMQIz1obE+NA5A+KGxPjTWD0Awp+DlFLwQQGR9aKwPjRFAmFPwcgpeEkDMKXg5BS8TQAAAAAAAABRAAAAAAAAAFMDMKXg5BS8TwJhT8HIKXhLAY31orA+NEcAvp+DlFLwQwPahsT401g/AjfWhsT40DsAkSZIkSZIMwLycgpdT8ArAVPByCl5OCcDrQ2N9aKwHwIKXU/ByCgbAGutDY31oBMCyPjTWh8YCwEmSJEmSJAHAwMspeDkF/7/wcgpeTsH7vyAa60Njffi/TsHLKXg59b98aKwPjfXxv1gfGutDY+2/uG3btm3b5r8QvJyCl1Pgv+AUvJyCl9O/gMb60Fgfur+AxvrQWB+6P+AUvJyCl9M/GLycgpdT4D+4bdu2bdvmP1gfGutDY+0/gGisD4318T9QwcspeDn1PyAa60Njffg/8HIKXk7B+z/Ayyl4OQX/P0qSJEmSJAFAsj401ofGAkAa60NjfWgEQISXU/ByCgZA7ENjfWisB0BU8HIKXk4JQLycgpdT8ApAJEmSJEmSDECM9aGxPjQOQPihsT401g9AMKfg5RS8EEBkfWisD40RQJhT8HIKXhJAzCl4OQUvE0AAAAAAAAAUQAAAAAAAABTAzCl4OQUvE8CYU/ByCl4SwGN9aKwPjRHAL6fg5RS8EMD2obE+NNYPwI31obE+NA7AJEmSJEmSDMC8nIKXU/AKwFTwcgpeTgnA60NjfWisB8CCl1PwcgoGwBrrQ2N9aATAsj401ofGAsBJkiRJkiQBwMDLKXg5Bf+/8HIKXk7B+78gGutDY334v07Byyl4OfW/fGisD4318b9YHxrrQ2Ptv7ht27Zt2+a/ELycgpdT4L/gFLycgpfTv4DG+tBYH7q/gMb60Fgfuj/gFLycgpfTPxi8nIKXU+A/uG3btm3b5j9YHxrrQ2PtP4BorA+N9fE/UMHLKXg59T8gGutDY334P/ByCl5Owfs/wMspeDkF/z9KkiRJkiQBQLI+NNaHxgJAGutDY31oBECEl1PwcgoGQOxDY31orAdAVPByCl5OCUC8nIKXU/AKQCRJkiRJkgxAjPWhsT40DkD4obE+NNYPQDCn4OUUvBBAZH1orA+NEUCYU/ByCl4SQMwpeDkFLxNAAAAAAAAAFEAAAAAAAAAUwMwpeDkFLxPAmFPwcgpeEsBjfWisD40RwC+n4OUUvBDA9qGxPjTWD8CN9aGxPjQOwCRJkiRJkgzAvJyCl1PwCsBU8HIKXk4JwOtDY31orAfAgpdT8HIKBsAa60NjfWgEwLI+NNaHxgLASZIkSZIkAcDAyyl4OQX/v/ByCl5Owfu/IBrrQ2N9+L9OwcspeDn1v3xorA+N9fG/WB8a60Nj7b+4bdu2bdvmvxC8nIKXU+C/4BS8nIKX07+AxvrQWB+6v4DG+tBYH7o/4BS8nIKX0z8YvJyCl1PgP7ht27Zt2+Y/WB8a60Nj7T+AaKwPjfXxP1DByyl4OfU/IBrrQ2N9+D/wcgpeTsH7P8DLKXg5Bf8/SpIkSZIkAUCyPjTWh8YCQBrrQ2N9aARAhJdT8HIKBkDsQ2N9aKwHQFTwcgpeTglAvJyCl1PwCkAkSZIkSZIMQIz1obE+NA5A+KGxPjTWD0Awp+DlFLwQQGR9aKwPjRFAmFPwcgpeEkDMKXg5BS8TQAAAAAAAABRAAAAAAAAAFMDMKXg5BS8TwJhT8HIKXhLAY31orA+NEcAvp+DlFLwQwPahsT401g/AjfWhsT40DsAkSZIkSZIMwLycgpdT8ArAVPByCl5OCcDrQ2N9aKwHwIKXU/ByCgbAGutDY31oBMCyPjTWh8YCwEmSJEmSJAHAwMspeDkF/7/wcgpeTsH7vyAa60Njffi/TsHLKXg59b98aKwPjfXxv1gfGutDY+2/uG3btm3b5r8QvJyCl1Pgv+AUvJyCl9O/gMb60Fgfur+AxvrQWB+6P+AUvJyCl9M/GLycgpdT4D+4bdu2bdvmP1gfGutDY+0/gGisD4318T9QwcspeDn1PyAa60Njffg/8HIKXk7B+z/Ayyl4OQX/P0qSJEmSJAFAsj401ofGAkAa60NjfWgEQISXU/ByCgZA7ENjfWisB0BU8HIKXk4JQLycgpdT8ApAJEmSJEmSDECM9aGxPjQOQPihsT401g9AMKfg5RS8EEBkfWisD40RQJhT8HIKXhJAzCl4OQUvE0AAAAAAAAAUQAAAAAAAABTAzCl4OQUvE8CYU/ByCl4SwGN9aKwPjRHAL6fg5RS8EMD2obE+NNYPwI31obE+NA7AJEmSJEmSDMC8nIKXU/AKwFTwcgpeTgnA60NjfWisB8CCl1PwcgoGwBrrQ2N9aATAsj401ofGAsBJkiRJkiQBwMDLKXg5Bf+/8HIKXk7B+78gGutDY334v07Byyl4OfW/fGisD4318b9YHxrrQ2Ptv7ht27Zt2+a/ELycgpdT4L/gFLycgpfTv4DG+tBYH7q/gMb60Fgfuj/gFLycgpfTPxi8nIKXU+A/uG3btm3b5j9YHxrrQ2PtP4BorA+N9fE/UMHLKXg59T8gGutDY334P/ByCl5Owfs/wMspeDkF/z9KkiRJkiQBQLI+NNaHxgJAGutDY31oBECEl1PwcgoGQOxDY31orAdAVPByCl5OCUC8nIKXU/AKQCRJkiRJkgxAjPWhsT40DkD4obE+NNYPQDCn4OUUvBBAZH1orA+NEUCYU/ByCl4SQMwpeDkFLxNAAAAAAAAAFEAAAAAAAAAUwMwpeDkFLxPAmFPwcgpeEsBjfWisD40RwC+n4OUUvBDA9qGxPjTWD8CN9aGxPjQOwCRJkiRJkgzAvJyCl1PwCsBU8HIKXk4JwOtDY31orAfAgpdT8HIKBsAa60NjfWgEwLI+NNaHxgLASZIkSZIkAcDAyyl4OQX/v/ByCl5Owfu/IBrrQ2N9+L9OwcspeDn1v3xorA+N9fG/WB8a60Nj7b+4bdu2bdvmvxC8nIKXU+C/4BS8nIKX07+AxvrQWB+6v4DG+tBYH7o/4BS8nIKX0z8YvJyCl1PgP7ht27Zt2+Y/WB8a60Nj7T+AaKwPjfXxP1DByyl4OfU/IBrrQ2N9+D/wcgpeTsH7P8DLKXg5Bf8/SpIkSZIkAUCyPjTWh8YCQBrrQ2N9aARAhJdT8HIKBkDsQ2N9aKwHQFTwcgpeTglAvJyCl1PwCkAkSZIkSZIMQIz1obE+NA5A+KGxPjTWD0Awp+DlFLwQQGR9aKwPjRFAmFPwcgpeEkDMKXg5BS8TQAAAAAAAABRAAAAAAAAAFMDMKXg5BS8TwJhT8HIKXhLAY31orA+NEcAvp+DlFLwQwPahsT401g/AjfWhsT40DsAkSZIkSZIMwLycgpdT8ArAVPByCl5OCcDrQ2N9aKwHwIKXU/ByCgbAGutDY31oBMCyPjTWh8YCwEmSJEmSJAHAwMspeDkF/7/wcgpeTsH7vyAa60Njffi/TsHLKXg59b98aKwPjfXxv1gfGutDY+2/uG3btm3b5r8QvJyCl1Pgv+AUvJyCl9O/gMb60Fgfur+AxvrQWB+6P+AUvJyCl9M/GLycgpdT4D+4bdu2bdvmP1gfGutDY+0/gGisD4318T9QwcspeDn1PyAa60Njffg/8HIKXk7B+z/Ayyl4OQX/P0qSJEmSJAFAsj401ofGAkAa60NjfWgEQISXU/ByCgZA7ENjfWisB0BU8HIKXk4JQLycgpdT8ApAJEmSJEmSDECM9aGxPjQOQPihsT401g9AMKfg5RS8EEBkfWisD40RQJhT8HIKXhJAzCl4OQUvE0AAAAAAAAAUQAAAAAAAABTAzCl4OQUvE8CYU/ByCl4SwGN9aKwPjRHAL6fg5RS8EMD2obE+NNYPwI31obE+NA7AJEmSJEmSDMC8nIKXU/AKwFTwcgpeTgnA60NjfWisB8CCl1PwcgoGwBrrQ2N9aATAsj401ofGAsBJkiRJkiQBwMDLKXg5Bf+/8HIKXk7B+78gGutDY334v07Byyl4OfW/fGisD4318b9YHxrrQ2Ptv7ht27Zt2+a/ELycgpdT4L/gFLycgpfTv4DG+tBYH7q/gMb60Fgfuj/gFLycgpfTPxi8nIKXU+A/uG3btm3b5j9YHxrrQ2PtP4BorA+N9fE/UMHLKXg59T8gGutDY334P/ByCl5Owfs/wMspeDkF/z9KkiRJkiQBQLI+NNaHxgJAGutDY31oBECEl1PwcgoGQOxDY31orAdAVPByCl5OCUC8nIKXU/AKQCRJkiRJkgxAjPWhsT40DkD4obE+NNYPQDCn4OUUvBBAZH1orA+NEUCYU/ByCl4SQMwpeDkFLxNAAAAAAAAAFEAAAAAAAAAUwMwpeDkFLxPAmFPwcgpeEsBjfWisD40RwC+n4OUUvBDA9qGxPjTWD8CN9aGxPjQOwCRJkiRJkgzAvJyCl1PwCsBU8HIKXk4JwOtDY31orAfAgpdT8HIKBsAa60NjfWgEwLI+NNaHxgLASZIkSZIkAcDAyyl4OQX/v/ByCl5Owfu/IBrrQ2N9+L9OwcspeDn1v3xorA+N9fG/WB8a60Nj7b+4bdu2bdvmvxC8nIKXU+C/4BS8nIKX07+AxvrQWB+6v4DG+tBYH7o/4BS8nIKX0z8YvJyCl1PgP7ht27Zt2+Y/WB8a60Nj7T+AaKwPjfXxP1DByyl4OfU/IBrrQ2N9+D/wcgpeTsH7P8DLKXg5Bf8/SpIkSZIkAUCyPjTWh8YCQBrrQ2N9aARAhJdT8HIKBkDsQ2N9aKwHQFTwcgpeTglAvJyCl1PwCkAkSZIkSZIMQIz1obE+NA5A+KGxPjTWD0Awp+DlFLwQQGR9aKwPjRFAmFPwcgpeEkDMKXg5BS8TQAAAAAAAABRAAAAAAAAAFMDMKXg5BS8TwJhT8HIKXhLAY31orA+NEcAvp+DlFLwQwPahsT401g/AjfWhsT40DsAkSZIkSZIMwLycgpdT8ArAVPByCl5OCcDrQ2N9aKwHwIKXU/ByCgbAGutDY31oBMCyPjTWh8YCwEmSJEmSJAHAwMspeDkF/7/wcgpeTsH7vyAa60Njffi/TsHLKXg59b98aKwPjfXxv1gfGutDY+2/uG3btm3b5r8QvJyCl1Pgv+AUvJyCl9O/gMb60Fgfur+AxvrQWB+6P+AUvJyCl9M/GLycgpdT4D+4bdu2bdvmP1gfGutDY+0/gGisD4318T9QwcspeDn1PyAa60Njffg/8HIKXk7B+z/Ayyl4OQX/P0qSJEmSJAFAsj401ofGAkAa60NjfWgEQISXU/ByCgZA7ENjfWisB0BU8HIKXk4JQLycgpdT8ApAJEmSJEmSDECM9aGxPjQOQPihsT401g9AMKfg5RS8EEBkfWisD40RQJhT8HIKXhJAzCl4OQUvE0AAAAAAAAAUQAAAAAAAABTAzCl4OQUvE8CYU/ByCl4SwGN9aKwPjRHAL6fg5RS8EMD2obE+NNYPwI31obE+NA7AJEmSJEmSDMC8nIKXU/AKwFTwcgpeTgnA60NjfWisB8CCl1PwcgoGwBrrQ2N9aATAsj401ofGAsBJkiRJkiQBwMDLKXg5Bf+/8HIKXk7B+78gGutDY334v07Byyl4OfW/fGisD4318b9YHxrrQ2Ptv7ht27Zt2+a/ELycgpdT4L/gFLycgpfTv4DG+tBYH7q/gMb60Fgfuj/gFLycgpfTPxi8nIKXU+A/uG3btm3b5j9YHxrrQ2PtP4BorA+N9fE/UMHLKXg59T8gGutDY334P/ByCl5Owfs/wMspeDkF/z9KkiRJkiQBQLI+NNaHxgJAGutDY31oBECEl1PwcgoGQOxDY31orAdAVPByCl5OCUC8nIKXU/AKQCRJkiRJkgxAjPWhsT40DkD4obE+NNYPQDCn4OUUvBBAZH1orA+NEUCYU/ByCl4SQMwpeDkFLxNAAAAAAAAAFEAAAAAAAAAUwMwpeDkFLxPAmFPwcgpeEsBjfWisD40RwC+n4OUUvBDA9qGxPjTWD8CN9aGxPjQOwCRJkiRJkgzAvJyCl1PwCsBU8HIKXk4JwOtDY31orAfAgpdT8HIKBsAa60NjfWgEwLI+NNaHxgLASZIkSZIkAcDAyyl4OQX/v/ByCl5Owfu/IBrrQ2N9+L9OwcspeDn1v3xorA+N9fG/WB8a60Nj7b+4bdu2bdvmvxC8nIKXU+C/4BS8nIKX07+AxvrQWB+6v4DG+tBYH7o/4BS8nIKX0z8YvJyCl1PgP7ht27Zt2+Y/WB8a60Nj7T+AaKwPjfXxP1DByyl4OfU/IBrrQ2N9+D/wcgpeTsH7P8DLKXg5Bf8/SpIkSZIkAUCyPjTWh8YCQBrrQ2N9aARAhJdT8HIKBkDsQ2N9aKwHQFTwcgpeTglAvJyCl1PwCkAkSZIkSZIMQIz1obE+NA5A+KGxPjTWD0Awp+DlFLwQQGR9aKwPjRFAmFPwcgpeEkDMKXg5BS8TQAAAAAAAABRAAAAAAAAAFMDMKXg5BS8TwJhT8HIKXhLAY31orA+NEcAvp+DlFLwQwPahsT401g/AjfWhsT40DsAkSZIkSZIMwLycgpdT8ArAVPByCl5OCcDrQ2N9aKwHwIKXU/ByCgbAGutDY31oBMCyPjTWh8YCwEmSJEmSJAHAwMspeDkF/7/wcgpeTsH7vyAa60Njffi/TsHLKXg59b98aKwPjfXxv1gfGutDY+2/uG3btm3b5r8QvJyCl1Pgv+AUvJyCl9O/gMb60Fgfur+AxvrQWB+6P+AUvJyCl9M/GLycgpdT4D+4bdu2bdvmP1gfGutDY+0/gGisD4318T9QwcspeDn1PyAa60Njffg/8HIKXk7B+z/Ayyl4OQX/P0qSJEmSJAFAsj401ofGAkAa60NjfWgEQISXU/ByCgZA7ENjfWisB0BU8HIKXk4JQLycgpdT8ApAJEmSJEmSDECM9aGxPjQOQPihsT401g9AMKfg5RS8EEBkfWisD40RQJhT8HIKXhJAzCl4OQUvE0AAAAAAAAAUQAAAAAAAABTAzCl4OQUvE8CYU/ByCl4SwGN9aKwPjRHAL6fg5RS8EMD2obE+NNYPwI31obE+NA7AJEmSJEmSDMC8nIKXU/AKwFTwcgpeTgnA60NjfWisB8CCl1PwcgoGwBrrQ2N9aATAsj401ofGAsBJkiRJkiQBwMDLKXg5Bf+/8HIKXk7B+78gGutDY334v07Byyl4OfW/fGisD4318b9YHxrrQ2Ptv7ht27Zt2+a/ELycgpdT4L/gFLycgpfTv4DG+tBYH7q/gMb60Fgfuj/gFLycgpfTPxi8nIKXU+A/uG3btm3b5j9YHxrrQ2PtP4BorA+N9fE/UMHLKXg59T8gGutDY334P/ByCl5Owfs/wMspeDkF/z9KkiRJkiQBQLI+NNaHxgJAGutDY31oBECEl1PwcgoGQOxDY31orAdAVPByCl5OCUC8nIKXU/AKQCRJkiRJkgxAjPWhsT40DkD4obE+NNYPQDCn4OUUvBBAZH1orA+NEUCYU/ByCl4SQMwpeDkFLxNAAAAAAAAAFEAAAAAAAAAUwMwpeDkFLxPAmFPwcgpeEsBjfWisD40RwC+n4OUUvBDA9qGxPjTWD8CN9aGxPjQOwCRJkiRJkgzAvJyCl1PwCsBU8HIKXk4JwOtDY31orAfAgpdT8HIKBsAa60NjfWgEwLI+NNaHxgLASZIkSZIkAcDAyyl4OQX/v/ByCl5Owfu/IBrrQ2N9+L9OwcspeDn1v3xorA+N9fG/WB8a60Nj7b+4bdu2bdvmvxC8nIKXU+C/4BS8nIKX07+AxvrQWB+6v4DG+tBYH7o/4BS8nIKX0z8YvJyCl1PgP7ht27Zt2+Y/WB8a60Nj7T+AaKwPjfXxP1DByyl4OfU/IBrrQ2N9+D/wcgpeTsH7P8DLKXg5Bf8/SpIkSZIkAUCyPjTWh8YCQBrrQ2N9aARAhJdT8HIKBkDsQ2N9aKwHQFTwcgpeTglAvJyCl1PwCkAkSZIkSZIMQIz1obE+NA5A+KGxPjTWD0Awp+DlFLwQQGR9aKwPjRFAmFPwcgpeEkDMKXg5BS8TQAAAAAAAABRAAAAAAAAAFMDMKXg5BS8TwJhT8HIKXhLAY31orA+NEcAvp+DlFLwQwPahsT401g/AjfWhsT40DsAkSZIkSZIMwLycgpdT8ArAVPByCl5OCcDrQ2N9aKwHwIKXU/ByCgbAGutDY31oBMCyPjTWh8YCwEmSJEmSJAHAwMspeDkF/7/wcgpeTsH7vyAa60Njffi/TsHLKXg59b98aKwPjfXxv1gfGutDY+2/uG3btm3b5r8QvJyCl1Pgv+AUvJyCl9O/gMb60Fgfur+AxvrQWB+6P+AUvJyCl9M/GLycgpdT4D+4bdu2bdvmP1gfGutDY+0/gGisD4318T9QwcspeDn1PyAa60Njffg/8HIKXk7B+z/Ayyl4OQX/P0qSJEmSJAFAsj401ofGAkAa60NjfWgEQISXU/ByCgZA7ENjfWisB0BU8HIKXk4JQLycgpdT8ApAJEmSJEmSDECM9aGxPjQOQPihsT401g9AMKfg5RS8EEBkfWisD40RQJhT8HIKXhJAzCl4OQUvE0AAAAAAAAAUQAAAAAAAABTAzCl4OQUvE8CYU/ByCl4SwGN9aKwPjRHAL6fg5RS8EMD2obE+NNYPwI31obE+NA7AJEmSJEmSDMC8nIKXU/AKwFTwcgpeTgnA60NjfWisB8CCl1PwcgoGwBrrQ2N9aATAsj401ofGAsBJkiRJkiQBwMDLKXg5Bf+/8HIKXk7B+78gGutDY334v07Byyl4OfW/fGisD4318b9YHxrrQ2Ptv7ht27Zt2+a/ELycgpdT4L/gFLycgpfTv4DG+tBYH7q/gMb60Fgfuj/gFLycgpfTPxi8nIKXU+A/uG3btm3b5j9YHxrrQ2PtP4BorA+N9fE/UMHLKXg59T8gGutDY334P/ByCl5Owfs/wMspeDkF/z9KkiRJkiQBQLI+NNaHxgJAGutDY31oBECEl1PwcgoGQOxDY31orAdAVPByCl5OCUC8nIKXU/AKQCRJkiRJkgxAjPWhsT40DkD4obE+NNYPQDCn4OUUvBBAZH1orA+NEUCYU/ByCl4SQMwpeDkFLxNAAAAAAAAAFEAAAAAAAAAUwMwpeDkFLxPAmFPwcgpeEsBjfWisD40RwC+n4OUUvBDA9qGxPjTWD8CN9aGxPjQOwCRJkiRJkgzAvJyCl1PwCsBU8HIKXk4JwOtDY31orAfAgpdT8HIKBsAa60NjfWgEwLI+NNaHxgLASZIkSZIkAcDAyyl4OQX/v/ByCl5Owfu/IBrrQ2N9+L9OwcspeDn1v3xorA+N9fG/WB8a60Nj7b+4bdu2bdvmvxC8nIKXU+C/4BS8nIKX07+AxvrQWB+6v4DG+tBYH7o/4BS8nIKX0z8YvJyCl1PgP7ht27Zt2+Y/WB8a60Nj7T+AaKwPjfXxP1DByyl4OfU/IBrrQ2N9+D/wcgpeTsH7P8DLKXg5Bf8/SpIkSZIkAUCyPjTWh8YCQBrrQ2N9aARAhJdT8HIKBkDsQ2N9aKwHQFTwcgpeTglAvJyCl1PwCkAkSZIkSZIMQIz1obE+NA5A+KGxPjTWD0Awp+DlFLwQQGR9aKwPjRFAmFPwcgpeEkDMKXg5BS8TQAAAAAAAABRAAAAAAAAAFMDMKXg5BS8TwJhT8HIKXhLAY31orA+NEcAvp+DlFLwQwPahsT401g/AjfWhsT40DsAkSZIkSZIMwLycgpdT8ArAVPByCl5OCcDrQ2N9aKwHwIKXU/ByCgbAGutDY31oBMCyPjTWh8YCwEmSJEmSJAHAwMspeDkF/7/wcgpeTsH7vyAa60Njffi/TsHLKXg59b98aKwPjfXxv1gfGutDY+2/uG3btm3b5r8QvJyCl1Pgv+AUvJyCl9O/gMb60Fgfur+AxvrQWB+6P+AUvJyCl9M/GLycgpdT4D+4bdu2bdvmP1gfGutDY+0/gGisD4318T9QwcspeDn1PyAa60Njffg/8HIKXk7B+z/Ayyl4OQX/P0qSJEmSJAFAsj401ofGAkAa60NjfWgEQISXU/ByCgZA7ENjfWisB0BU8HIKXk4JQLycgpdT8ApAJEmSJEmSDECM9aGxPjQOQPihsT401g9AMKfg5RS8EEBkfWisD40RQJhT8HIKXhJAzCl4OQUvE0AAAAAAAAAUQAAAAAAAABTAzCl4OQUvE8CYU/ByCl4SwGN9aKwPjRHAL6fg5RS8EMD2obE+NNYPwI31obE+NA7AJEmSJEmSDMC8nIKXU/AKwFTwcgpeTgnA60NjfWisB8CCl1PwcgoGwBrrQ2N9aATAsj401ofGAsBJkiRJkiQBwMDLKXg5Bf+/8HIKXk7B+78gGutDY334v07Byyl4OfW/fGisD4318b9YHxrrQ2Ptv7ht27Zt2+a/ELycgpdT4L/gFLycgpfTv4DG+tBYH7q/gMb60Fgfuj/gFLycgpfTPxi8nIKXU+A/uG3btm3b5j9YHxrrQ2PtP4BorA+N9fE/UMHLKXg59T8gGutDY334P/ByCl5Owfs/wMspeDkF/z9KkiRJkiQBQLI+NNaHxgJAGutDY31oBECEl1PwcgoGQOxDY31orAdAVPByCl5OCUC8nIKXU/AKQCRJkiRJkgxAjPWhsT40DkD4obE+NNYPQDCn4OUUvBBAZH1orA+NEUCYU/ByCl4SQMwpeDkFLxNAAAAAAAAAFEA=",
          "dtype": "f8",
          "shape": "50, 50"
         },
         "y": {
          "bdata": "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",
          "dtype": "f8",
          "shape": "50, 50"
         },
         "z": {
          "bdata": "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",
          "dtype": "f8",
          "shape": "50, 50"
         }
        }
       ],
       "layout": {
        "template": {
         "data": {
          "bar": [
           {
            "error_x": {
             "color": "#2a3f5f"
            },
            "error_y": {
             "color": "#2a3f5f"
            },
            "marker": {
             "line": {
              "color": "#E5ECF6",
              "width": 0.5
             },
             "pattern": {
              "fillmode": "overlay",
              "size": 10,
              "solidity": 0.2
             }
            },
            "type": "bar"
           }
          ],
          "barpolar": [
           {
            "marker": {
             "line": {
              "color": "#E5ECF6",
              "width": 0.5
             },
             "pattern": {
              "fillmode": "overlay",
              "size": 10,
              "solidity": 0.2
             }
            },
            "type": "barpolar"
           }
          ],
          "carpet": [
           {
            "aaxis": {
             "endlinecolor": "#2a3f5f",
             "gridcolor": "white",
             "linecolor": "white",
             "minorgridcolor": "white",
             "startlinecolor": "#2a3f5f"
            },
            "baxis": {
             "endlinecolor": "#2a3f5f",
             "gridcolor": "white",
             "linecolor": "white",
             "minorgridcolor": "white",
             "startlinecolor": "#2a3f5f"
            },
            "type": "carpet"
           }
          ],
          "choropleth": [
           {
            "colorbar": {
             "outlinewidth": 0,
             "ticks": ""
            },
            "type": "choropleth"
           }
          ],
          "contour": [
           {
            "colorbar": {
             "outlinewidth": 0,
             "ticks": ""
            },
            "colorscale": [
             [
              0,
              "#0d0887"
             ],
             [
              0.1111111111111111,
              "#46039f"
             ],
             [
              0.2222222222222222,
              "#7201a8"
             ],
             [
              0.3333333333333333,
              "#9c179e"
             ],
             [
              0.4444444444444444,
              "#bd3786"
             ],
             [
              0.5555555555555556,
              "#d8576b"
             ],
             [
              0.6666666666666666,
              "#ed7953"
             ],
             [
              0.7777777777777778,
              "#fb9f3a"
             ],
             [
              0.8888888888888888,
              "#fdca26"
             ],
             [
              1,
              "#f0f921"
             ]
            ],
            "type": "contour"
           }
          ],
          "contourcarpet": [
           {
            "colorbar": {
             "outlinewidth": 0,
             "ticks": ""
            },
            "type": "contourcarpet"
           }
          ],
          "heatmap": [
           {
            "colorbar": {
             "outlinewidth": 0,
             "ticks": ""
            },
            "colorscale": [
             [
              0,
              "#0d0887"
             ],
             [
              0.1111111111111111,
              "#46039f"
             ],
             [
              0.2222222222222222,
              "#7201a8"
             ],
             [
              0.3333333333333333,
              "#9c179e"
             ],
             [
              0.4444444444444444,
              "#bd3786"
             ],
             [
              0.5555555555555556,
              "#d8576b"
             ],
             [
              0.6666666666666666,
              "#ed7953"
             ],
             [
              0.7777777777777778,
              "#fb9f3a"
             ],
             [
              0.8888888888888888,
              "#fdca26"
             ],
             [
              1,
              "#f0f921"
             ]
            ],
            "type": "heatmap"
           }
          ],
          "histogram": [
           {
            "marker": {
             "pattern": {
              "fillmode": "overlay",
              "size": 10,
              "solidity": 0.2
             }
            },
            "type": "histogram"
           }
          ],
          "histogram2d": [
           {
            "colorbar": {
             "outlinewidth": 0,
             "ticks": ""
            },
            "colorscale": [
             [
              0,
              "#0d0887"
             ],
             [
              0.1111111111111111,
              "#46039f"
             ],
             [
              0.2222222222222222,
              "#7201a8"
             ],
             [
              0.3333333333333333,
              "#9c179e"
             ],
             [
              0.4444444444444444,
              "#bd3786"
             ],
             [
              0.5555555555555556,
              "#d8576b"
             ],
             [
              0.6666666666666666,
              "#ed7953"
             ],
             [
              0.7777777777777778,
              "#fb9f3a"
             ],
             [
              0.8888888888888888,
              "#fdca26"
             ],
             [
              1,
              "#f0f921"
             ]
            ],
            "type": "histogram2d"
           }
          ],
          "histogram2dcontour": [
           {
            "colorbar": {
             "outlinewidth": 0,
             "ticks": ""
            },
            "colorscale": [
             [
              0,
              "#0d0887"
             ],
             [
              0.1111111111111111,
              "#46039f"
             ],
             [
              0.2222222222222222,
              "#7201a8"
             ],
             [
              0.3333333333333333,
              "#9c179e"
             ],
             [
              0.4444444444444444,
              "#bd3786"
             ],
             [
              0.5555555555555556,
              "#d8576b"
             ],
             [
              0.6666666666666666,
              "#ed7953"
             ],
             [
              0.7777777777777778,
              "#fb9f3a"
             ],
             [
              0.8888888888888888,
              "#fdca26"
             ],
             [
              1,
              "#f0f921"
             ]
            ],
            "type": "histogram2dcontour"
           }
          ],
          "mesh3d": [
           {
            "colorbar": {
             "outlinewidth": 0,
             "ticks": ""
            },
            "type": "mesh3d"
           }
          ],
          "parcoords": [
           {
            "line": {
             "colorbar": {
              "outlinewidth": 0,
              "ticks": ""
             }
            },
            "type": "parcoords"
           }
          ],
          "pie": [
           {
            "automargin": true,
            "type": "pie"
           }
          ],
          "scatter": [
           {
            "fillpattern": {
             "fillmode": "overlay",
             "size": 10,
             "solidity": 0.2
            },
            "type": "scatter"
           }
          ],
          "scatter3d": [
           {
            "line": {
             "colorbar": {
              "outlinewidth": 0,
              "ticks": ""
             }
            },
            "marker": {
             "colorbar": {
              "outlinewidth": 0,
              "ticks": ""
             }
            },
            "type": "scatter3d"
           }
          ],
          "scattercarpet": [
           {
            "marker": {
             "colorbar": {
              "outlinewidth": 0,
              "ticks": ""
             }
            },
            "type": "scattercarpet"
           }
          ],
          "scattergeo": [
           {
            "marker": {
             "colorbar": {
              "outlinewidth": 0,
              "ticks": ""
             }
            },
            "type": "scattergeo"
           }
          ],
          "scattergl": [
           {
            "marker": {
             "colorbar": {
              "outlinewidth": 0,
              "ticks": ""
             }
            },
            "type": "scattergl"
           }
          ],
          "scattermap": [
           {
            "marker": {
             "colorbar": {
              "outlinewidth": 0,
              "ticks": ""
             }
            },
            "type": "scattermap"
           }
          ],
          "scattermapbox": [
           {
            "marker": {
             "colorbar": {
              "outlinewidth": 0,
              "ticks": ""
             }
            },
            "type": "scattermapbox"
           }
          ],
          "scatterpolar": [
           {
            "marker": {
             "colorbar": {
              "outlinewidth": 0,
              "ticks": ""
             }
            },
            "type": "scatterpolar"
           }
          ],
          "scatterpolargl": [
           {
            "marker": {
             "colorbar": {
              "outlinewidth": 0,
              "ticks": ""
             }
            },
            "type": "scatterpolargl"
           }
          ],
          "scatterternary": [
           {
            "marker": {
             "colorbar": {
              "outlinewidth": 0,
              "ticks": ""
             }
            },
            "type": "scatterternary"
           }
          ],
          "surface": [
           {
            "colorbar": {
             "outlinewidth": 0,
             "ticks": ""
            },
            "colorscale": [
             [
              0,
              "#0d0887"
             ],
             [
              0.1111111111111111,
              "#46039f"
             ],
             [
              0.2222222222222222,
              "#7201a8"
             ],
             [
              0.3333333333333333,
              "#9c179e"
             ],
             [
              0.4444444444444444,
              "#bd3786"
             ],
             [
              0.5555555555555556,
              "#d8576b"
             ],
             [
              0.6666666666666666,
              "#ed7953"
             ],
             [
              0.7777777777777778,
              "#fb9f3a"
             ],
             [
              0.8888888888888888,
              "#fdca26"
             ],
             [
              1,
              "#f0f921"
             ]
            ],
            "type": "surface"
           }
          ],
          "table": [
           {
            "cells": {
             "fill": {
              "color": "#EBF0F8"
             },
             "line": {
              "color": "white"
             }
            },
            "header": {
             "fill": {
              "color": "#C8D4E3"
             },
             "line": {
              "color": "white"
             }
            },
            "type": "table"
           }
          ]
         },
         "layout": {
          "annotationdefaults": {
           "arrowcolor": "#2a3f5f",
           "arrowhead": 0,
           "arrowwidth": 1
          },
          "autotypenumbers": "strict",
          "coloraxis": {
           "colorbar": {
            "outlinewidth": 0,
            "ticks": ""
           }
          },
          "colorscale": {
           "diverging": [
            [
             0,
             "#8e0152"
            ],
            [
             0.1,
             "#c51b7d"
            ],
            [
             0.2,
             "#de77ae"
            ],
            [
             0.3,
             "#f1b6da"
            ],
            [
             0.4,
             "#fde0ef"
            ],
            [
             0.5,
             "#f7f7f7"
            ],
            [
             0.6,
             "#e6f5d0"
            ],
            [
             0.7,
             "#b8e186"
            ],
            [
             0.8,
             "#7fbc41"
            ],
            [
             0.9,
             "#4d9221"
            ],
            [
             1,
             "#276419"
            ]
           ],
           "sequential": [
            [
             0,
             "#0d0887"
            ],
            [
             0.1111111111111111,
             "#46039f"
            ],
            [
             0.2222222222222222,
             "#7201a8"
            ],
            [
             0.3333333333333333,
             "#9c179e"
            ],
            [
             0.4444444444444444,
             "#bd3786"
            ],
            [
             0.5555555555555556,
             "#d8576b"
            ],
            [
             0.6666666666666666,
             "#ed7953"
            ],
            [
             0.7777777777777778,
             "#fb9f3a"
            ],
            [
             0.8888888888888888,
             "#fdca26"
            ],
            [
             1,
             "#f0f921"
            ]
           ],
           "sequentialminus": [
            [
             0,
             "#0d0887"
            ],
            [
             0.1111111111111111,
             "#46039f"
            ],
            [
             0.2222222222222222,
             "#7201a8"
            ],
            [
             0.3333333333333333,
             "#9c179e"
            ],
            [
             0.4444444444444444,
             "#bd3786"
            ],
            [
             0.5555555555555556,
             "#d8576b"
            ],
            [
             0.6666666666666666,
             "#ed7953"
            ],
            [
             0.7777777777777778,
             "#fb9f3a"
            ],
            [
             0.8888888888888888,
             "#fdca26"
            ],
            [
             1,
             "#f0f921"
            ]
           ]
          },
          "colorway": [
           "#636efa",
           "#EF553B",
           "#00cc96",
           "#ab63fa",
           "#FFA15A",
           "#19d3f3",
           "#FF6692",
           "#B6E880",
           "#FF97FF",
           "#FECB52"
          ],
          "font": {
           "color": "#2a3f5f"
          },
          "geo": {
           "bgcolor": "white",
           "lakecolor": "white",
           "landcolor": "#E5ECF6",
           "showlakes": true,
           "showland": true,
           "subunitcolor": "white"
          },
          "hoverlabel": {
           "align": "left"
          },
          "hovermode": "closest",
          "mapbox": {
           "style": "light"
          },
          "paper_bgcolor": "white",
          "plot_bgcolor": "#E5ECF6",
          "polar": {
           "angularaxis": {
            "gridcolor": "white",
            "linecolor": "white",
            "ticks": ""
           },
           "bgcolor": "#E5ECF6",
           "radialaxis": {
            "gridcolor": "white",
            "linecolor": "white",
            "ticks": ""
           }
          },
          "scene": {
           "xaxis": {
            "backgroundcolor": "#E5ECF6",
            "gridcolor": "white",
            "gridwidth": 2,
            "linecolor": "white",
            "showbackground": true,
            "ticks": "",
            "zerolinecolor": "white"
           },
           "yaxis": {
            "backgroundcolor": "#E5ECF6",
            "gridcolor": "white",
            "gridwidth": 2,
            "linecolor": "white",
            "showbackground": true,
            "ticks": "",
            "zerolinecolor": "white"
           },
           "zaxis": {
            "backgroundcolor": "#E5ECF6",
            "gridcolor": "white",
            "gridwidth": 2,
            "linecolor": "white",
            "showbackground": true,
            "ticks": "",
            "zerolinecolor": "white"
           }
          },
          "shapedefaults": {
           "line": {
            "color": "#2a3f5f"
           }
          },
          "ternary": {
           "aaxis": {
            "gridcolor": "white",
            "linecolor": "white",
            "ticks": ""
           },
           "baxis": {
            "gridcolor": "white",
            "linecolor": "white",
            "ticks": ""
           },
           "bgcolor": "#E5ECF6",
           "caxis": {
            "gridcolor": "white",
            "linecolor": "white",
            "ticks": ""
           }
          },
          "title": {
           "x": 0.05
          },
          "xaxis": {
           "automargin": true,
           "gridcolor": "white",
           "linecolor": "white",
           "ticks": "",
           "title": {
            "standoff": 15
           },
           "zerolinecolor": "white",
           "zerolinewidth": 2
          },
          "yaxis": {
           "automargin": true,
           "gridcolor": "white",
           "linecolor": "white",
           "ticks": "",
           "title": {
            "standoff": 15
           },
           "zerolinecolor": "white",
           "zerolinewidth": 2
          }
         }
        }
       }
      }
     },
     "metadata": {},
     "output_type": "display_data"
    }
   ],
   "source": [
    "fig = go.Figure(data=go.Surface(z=z, x=x, y=y, colorscale='Viridis'))\n",
    "fig"
   ]
  },
  {
   "cell_type": "code",
   "execution_count": 17,
   "id": "a20f287c",
   "metadata": {},
   "outputs": [
    {
     "data": {
      "application/vnd.plotly.v1+json": {
       "config": {
        "plotlyServerURL": "https://plot.ly"
       },
       "data": [
        {
         "line": {
          "color": [
           "blue"
          ],
          "width": 2
         },
         "mode": "lines",
         "type": "scatter3d",
         "x": [
          1,
          2,
          3,
          4,
          5,
          6
         ],
         "y": [
          10,
          11,
          12,
          13,
          14,
          15
         ],
         "z": [
          1,
          1,
          3,
          5,
          8,
          13
         ]
        }
       ],
       "layout": {
        "scene": {
         "xaxis": {
          "title": {
           "text": "Eje X"
          }
         },
         "yaxis": {
          "title": {
           "text": "Eje Y"
          }
         },
         "zaxis": {
          "title": {
           "text": "Eje Z"
          }
         }
        },
        "template": {
         "data": {
          "bar": [
           {
            "error_x": {
             "color": "#2a3f5f"
            },
            "error_y": {
             "color": "#2a3f5f"
            },
            "marker": {
             "line": {
              "color": "#E5ECF6",
              "width": 0.5
             },
             "pattern": {
              "fillmode": "overlay",
              "size": 10,
              "solidity": 0.2
             }
            },
            "type": "bar"
           }
          ],
          "barpolar": [
           {
            "marker": {
             "line": {
              "color": "#E5ECF6",
              "width": 0.5
             },
             "pattern": {
              "fillmode": "overlay",
              "size": 10,
              "solidity": 0.2
             }
            },
            "type": "barpolar"
           }
          ],
          "carpet": [
           {
            "aaxis": {
             "endlinecolor": "#2a3f5f",
             "gridcolor": "white",
             "linecolor": "white",
             "minorgridcolor": "white",
             "startlinecolor": "#2a3f5f"
            },
            "baxis": {
             "endlinecolor": "#2a3f5f",
             "gridcolor": "white",
             "linecolor": "white",
             "minorgridcolor": "white",
             "startlinecolor": "#2a3f5f"
            },
            "type": "carpet"
           }
          ],
          "choropleth": [
           {
            "colorbar": {
             "outlinewidth": 0,
             "ticks": ""
            },
            "type": "choropleth"
           }
          ],
          "contour": [
           {
            "colorbar": {
             "outlinewidth": 0,
             "ticks": ""
            },
            "colorscale": [
             [
              0,
              "#0d0887"
             ],
             [
              0.1111111111111111,
              "#46039f"
             ],
             [
              0.2222222222222222,
              "#7201a8"
             ],
             [
              0.3333333333333333,
              "#9c179e"
             ],
             [
              0.4444444444444444,
              "#bd3786"
             ],
             [
              0.5555555555555556,
              "#d8576b"
             ],
             [
              0.6666666666666666,
              "#ed7953"
             ],
             [
              0.7777777777777778,
              "#fb9f3a"
             ],
             [
              0.8888888888888888,
              "#fdca26"
             ],
             [
              1,
              "#f0f921"
             ]
            ],
            "type": "contour"
           }
          ],
          "contourcarpet": [
           {
            "colorbar": {
             "outlinewidth": 0,
             "ticks": ""
            },
            "type": "contourcarpet"
           }
          ],
          "heatmap": [
           {
            "colorbar": {
             "outlinewidth": 0,
             "ticks": ""
            },
            "colorscale": [
             [
              0,
              "#0d0887"
             ],
             [
              0.1111111111111111,
              "#46039f"
             ],
             [
              0.2222222222222222,
              "#7201a8"
             ],
             [
              0.3333333333333333,
              "#9c179e"
             ],
             [
              0.4444444444444444,
              "#bd3786"
             ],
             [
              0.5555555555555556,
              "#d8576b"
             ],
             [
              0.6666666666666666,
              "#ed7953"
             ],
             [
              0.7777777777777778,
              "#fb9f3a"
             ],
             [
              0.8888888888888888,
              "#fdca26"
             ],
             [
              1,
              "#f0f921"
             ]
            ],
            "type": "heatmap"
           }
          ],
          "histogram": [
           {
            "marker": {
             "pattern": {
              "fillmode": "overlay",
              "size": 10,
              "solidity": 0.2
             }
            },
            "type": "histogram"
           }
          ],
          "histogram2d": [
           {
            "colorbar": {
             "outlinewidth": 0,
             "ticks": ""
            },
            "colorscale": [
             [
              0,
              "#0d0887"
             ],
             [
              0.1111111111111111,
              "#46039f"
             ],
             [
              0.2222222222222222,
              "#7201a8"
             ],
             [
              0.3333333333333333,
              "#9c179e"
             ],
             [
              0.4444444444444444,
              "#bd3786"
             ],
             [
              0.5555555555555556,
              "#d8576b"
             ],
             [
              0.6666666666666666,
              "#ed7953"
             ],
             [
              0.7777777777777778,
              "#fb9f3a"
             ],
             [
              0.8888888888888888,
              "#fdca26"
             ],
             [
              1,
              "#f0f921"
             ]
            ],
            "type": "histogram2d"
           }
          ],
          "histogram2dcontour": [
           {
            "colorbar": {
             "outlinewidth": 0,
             "ticks": ""
            },
            "colorscale": [
             [
              0,
              "#0d0887"
             ],
             [
              0.1111111111111111,
              "#46039f"
             ],
             [
              0.2222222222222222,
              "#7201a8"
             ],
             [
              0.3333333333333333,
              "#9c179e"
             ],
             [
              0.4444444444444444,
              "#bd3786"
             ],
             [
              0.5555555555555556,
              "#d8576b"
             ],
             [
              0.6666666666666666,
              "#ed7953"
             ],
             [
              0.7777777777777778,
              "#fb9f3a"
             ],
             [
              0.8888888888888888,
              "#fdca26"
             ],
             [
              1,
              "#f0f921"
             ]
            ],
            "type": "histogram2dcontour"
           }
          ],
          "mesh3d": [
           {
            "colorbar": {
             "outlinewidth": 0,
             "ticks": ""
            },
            "type": "mesh3d"
           }
          ],
          "parcoords": [
           {
            "line": {
             "colorbar": {
              "outlinewidth": 0,
              "ticks": ""
             }
            },
            "type": "parcoords"
           }
          ],
          "pie": [
           {
            "automargin": true,
            "type": "pie"
           }
          ],
          "scatter": [
           {
            "fillpattern": {
             "fillmode": "overlay",
             "size": 10,
             "solidity": 0.2
            },
            "type": "scatter"
           }
          ],
          "scatter3d": [
           {
            "line": {
             "colorbar": {
              "outlinewidth": 0,
              "ticks": ""
             }
            },
            "marker": {
             "colorbar": {
              "outlinewidth": 0,
              "ticks": ""
             }
            },
            "type": "scatter3d"
           }
          ],
          "scattercarpet": [
           {
            "marker": {
             "colorbar": {
              "outlinewidth": 0,
              "ticks": ""
             }
            },
            "type": "scattercarpet"
           }
          ],
          "scattergeo": [
           {
            "marker": {
             "colorbar": {
              "outlinewidth": 0,
              "ticks": ""
             }
            },
            "type": "scattergeo"
           }
          ],
          "scattergl": [
           {
            "marker": {
             "colorbar": {
              "outlinewidth": 0,
              "ticks": ""
             }
            },
            "type": "scattergl"
           }
          ],
          "scattermap": [
           {
            "marker": {
             "colorbar": {
              "outlinewidth": 0,
              "ticks": ""
             }
            },
            "type": "scattermap"
           }
          ],
          "scattermapbox": [
           {
            "marker": {
             "colorbar": {
              "outlinewidth": 0,
              "ticks": ""
             }
            },
            "type": "scattermapbox"
           }
          ],
          "scatterpolar": [
           {
            "marker": {
             "colorbar": {
              "outlinewidth": 0,
              "ticks": ""
             }
            },
            "type": "scatterpolar"
           }
          ],
          "scatterpolargl": [
           {
            "marker": {
             "colorbar": {
              "outlinewidth": 0,
              "ticks": ""
             }
            },
            "type": "scatterpolargl"
           }
          ],
          "scatterternary": [
           {
            "marker": {
             "colorbar": {
              "outlinewidth": 0,
              "ticks": ""
             }
            },
            "type": "scatterternary"
           }
          ],
          "surface": [
           {
            "colorbar": {
             "outlinewidth": 0,
             "ticks": ""
            },
            "colorscale": [
             [
              0,
              "#0d0887"
             ],
             [
              0.1111111111111111,
              "#46039f"
             ],
             [
              0.2222222222222222,
              "#7201a8"
             ],
             [
              0.3333333333333333,
              "#9c179e"
             ],
             [
              0.4444444444444444,
              "#bd3786"
             ],
             [
              0.5555555555555556,
              "#d8576b"
             ],
             [
              0.6666666666666666,
              "#ed7953"
             ],
             [
              0.7777777777777778,
              "#fb9f3a"
             ],
             [
              0.8888888888888888,
              "#fdca26"
             ],
             [
              1,
              "#f0f921"
             ]
            ],
            "type": "surface"
           }
          ],
          "table": [
           {
            "cells": {
             "fill": {
              "color": "#EBF0F8"
             },
             "line": {
              "color": "white"
             }
            },
            "header": {
             "fill": {
              "color": "#C8D4E3"
             },
             "line": {
              "color": "white"
             }
            },
            "type": "table"
           }
          ]
         },
         "layout": {
          "annotationdefaults": {
           "arrowcolor": "#2a3f5f",
           "arrowhead": 0,
           "arrowwidth": 1
          },
          "autotypenumbers": "strict",
          "coloraxis": {
           "colorbar": {
            "outlinewidth": 0,
            "ticks": ""
           }
          },
          "colorscale": {
           "diverging": [
            [
             0,
             "#8e0152"
            ],
            [
             0.1,
             "#c51b7d"
            ],
            [
             0.2,
             "#de77ae"
            ],
            [
             0.3,
             "#f1b6da"
            ],
            [
             0.4,
             "#fde0ef"
            ],
            [
             0.5,
             "#f7f7f7"
            ],
            [
             0.6,
             "#e6f5d0"
            ],
            [
             0.7,
             "#b8e186"
            ],
            [
             0.8,
             "#7fbc41"
            ],
            [
             0.9,
             "#4d9221"
            ],
            [
             1,
             "#276419"
            ]
           ],
           "sequential": [
            [
             0,
             "#0d0887"
            ],
            [
             0.1111111111111111,
             "#46039f"
            ],
            [
             0.2222222222222222,
             "#7201a8"
            ],
            [
             0.3333333333333333,
             "#9c179e"
            ],
            [
             0.4444444444444444,
             "#bd3786"
            ],
            [
             0.5555555555555556,
             "#d8576b"
            ],
            [
             0.6666666666666666,
             "#ed7953"
            ],
            [
             0.7777777777777778,
             "#fb9f3a"
            ],
            [
             0.8888888888888888,
             "#fdca26"
            ],
            [
             1,
             "#f0f921"
            ]
           ],
           "sequentialminus": [
            [
             0,
             "#0d0887"
            ],
            [
             0.1111111111111111,
             "#46039f"
            ],
            [
             0.2222222222222222,
             "#7201a8"
            ],
            [
             0.3333333333333333,
             "#9c179e"
            ],
            [
             0.4444444444444444,
             "#bd3786"
            ],
            [
             0.5555555555555556,
             "#d8576b"
            ],
            [
             0.6666666666666666,
             "#ed7953"
            ],
            [
             0.7777777777777778,
             "#fb9f3a"
            ],
            [
             0.8888888888888888,
             "#fdca26"
            ],
            [
             1,
             "#f0f921"
            ]
           ]
          },
          "colorway": [
           "#636efa",
           "#EF553B",
           "#00cc96",
           "#ab63fa",
           "#FFA15A",
           "#19d3f3",
           "#FF6692",
           "#B6E880",
           "#FF97FF",
           "#FECB52"
          ],
          "font": {
           "color": "#2a3f5f"
          },
          "geo": {
           "bgcolor": "white",
           "lakecolor": "white",
           "landcolor": "#E5ECF6",
           "showlakes": true,
           "showland": true,
           "subunitcolor": "white"
          },
          "hoverlabel": {
           "align": "left"
          },
          "hovermode": "closest",
          "mapbox": {
           "style": "light"
          },
          "paper_bgcolor": "white",
          "plot_bgcolor": "#E5ECF6",
          "polar": {
           "angularaxis": {
            "gridcolor": "white",
            "linecolor": "white",
            "ticks": ""
           },
           "bgcolor": "#E5ECF6",
           "radialaxis": {
            "gridcolor": "white",
            "linecolor": "white",
            "ticks": ""
           }
          },
          "scene": {
           "xaxis": {
            "backgroundcolor": "#E5ECF6",
            "gridcolor": "white",
            "gridwidth": 2,
            "linecolor": "white",
            "showbackground": true,
            "ticks": "",
            "zerolinecolor": "white"
           },
           "yaxis": {
            "backgroundcolor": "#E5ECF6",
            "gridcolor": "white",
            "gridwidth": 2,
            "linecolor": "white",
            "showbackground": true,
            "ticks": "",
            "zerolinecolor": "white"
           },
           "zaxis": {
            "backgroundcolor": "#E5ECF6",
            "gridcolor": "white",
            "gridwidth": 2,
            "linecolor": "white",
            "showbackground": true,
            "ticks": "",
            "zerolinecolor": "white"
           }
          },
          "shapedefaults": {
           "line": {
            "color": "#2a3f5f"
           }
          },
          "ternary": {
           "aaxis": {
            "gridcolor": "white",
            "linecolor": "white",
            "ticks": ""
           },
           "baxis": {
            "gridcolor": "white",
            "linecolor": "white",
            "ticks": ""
           },
           "bgcolor": "#E5ECF6",
           "caxis": {
            "gridcolor": "white",
            "linecolor": "white",
            "ticks": ""
           }
          },
          "title": {
           "x": 0.05
          },
          "xaxis": {
           "automargin": true,
           "gridcolor": "white",
           "linecolor": "white",
           "ticks": "",
           "title": {
            "standoff": 15
           },
           "zerolinecolor": "white",
           "zerolinewidth": 2
          },
          "yaxis": {
           "automargin": true,
           "gridcolor": "white",
           "linecolor": "white",
           "ticks": "",
           "title": {
            "standoff": 15
           },
           "zerolinecolor": "white",
           "zerolinewidth": 2
          }
         }
        },
        "title": {
         "text": "Gráfico 3D"
        }
       }
      }
     },
     "metadata": {},
     "output_type": "display_data"
    }
   ],
   "source": [
    "fig = go.Figure(data=[go.Scatter3d(x=[1,2,3,4,5,6],\n",
    "                           y=[10,11,12,13,14,15],\n",
    "                           z=[1,1,3,5,8,13],\n",
    "                           mode= 'lines',\n",
    "                           line=dict(color=['blue'],\n",
    "                                       width=2))])\n",
    "fig.update_layout(title='Gráfico 3D',\n",
    "                  scene=dict(xaxis_title='Eje X',\n",
    "                             yaxis_title='Eje Y',\n",
    "                             zaxis_title='Eje Z'))\n",
    "fig"
   ]
  },
  {
   "cell_type": "code",
   "execution_count": null,
   "id": "55d16c13",
   "metadata": {},
   "outputs": [],
   "source": []
  }
 ],
 "metadata": {
  "kernelspec": {
   "display_name": "venv",
   "language": "python",
   "name": "python3"
  },
  "language_info": {
   "codemirror_mode": {
    "name": "ipython",
    "version": 3
   },
   "file_extension": ".py",
   "mimetype": "text/x-python",
   "name": "python",
   "nbconvert_exporter": "python",
   "pygments_lexer": "ipython3",
   "version": "3.10.0"
  }
 },
 "nbformat": 4,
 "nbformat_minor": 5
}
