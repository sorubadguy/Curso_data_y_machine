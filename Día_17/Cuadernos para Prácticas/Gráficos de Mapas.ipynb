{
 "cells": [
  {
   "cell_type": "code",
   "execution_count": 1,
   "id": "bb66b687",
   "metadata": {},
   "outputs": [],
   "source": [
    "import plotly.graph_objects as go"
   ]
  },
  {
   "cell_type": "code",
   "execution_count": 9,
   "id": "02d57710",
   "metadata": {},
   "outputs": [
    {
     "data": {
      "application/vnd.plotly.v1+json": {
       "config": {
        "plotlyServerURL": "https://plot.ly"
       },
       "data": [
        {
         "lat": [
          40.4,
          19.4,
          -12
         ],
         "lon": [
          -3.7,
          -99.1,
          -77
         ],
         "text": [
          "Madrid",
          "Ciudad de México",
          "Lima"
         ],
         "type": "scattergeo"
        }
       ],
       "layout": {
        "geo": {
         "scope": "world"
        },
        "template": {
         "data": {
          "bar": [
           {
            "error_x": {
             "color": "#2a3f5f"
            },
            "error_y": {
             "color": "#2a3f5f"
            },
            "marker": {
             "line": {
              "color": "#E5ECF6",
              "width": 0.5
             },
             "pattern": {
              "fillmode": "overlay",
              "size": 10,
              "solidity": 0.2
             }
            },
            "type": "bar"
           }
          ],
          "barpolar": [
           {
            "marker": {
             "line": {
              "color": "#E5ECF6",
              "width": 0.5
             },
             "pattern": {
              "fillmode": "overlay",
              "size": 10,
              "solidity": 0.2
             }
            },
            "type": "barpolar"
           }
          ],
          "carpet": [
           {
            "aaxis": {
             "endlinecolor": "#2a3f5f",
             "gridcolor": "white",
             "linecolor": "white",
             "minorgridcolor": "white",
             "startlinecolor": "#2a3f5f"
            },
            "baxis": {
             "endlinecolor": "#2a3f5f",
             "gridcolor": "white",
             "linecolor": "white",
             "minorgridcolor": "white",
             "startlinecolor": "#2a3f5f"
            },
            "type": "carpet"
           }
          ],
          "choropleth": [
           {
            "colorbar": {
             "outlinewidth": 0,
             "ticks": ""
            },
            "type": "choropleth"
           }
          ],
          "contour": [
           {
            "colorbar": {
             "outlinewidth": 0,
             "ticks": ""
            },
            "colorscale": [
             [
              0,
              "#0d0887"
             ],
             [
              0.1111111111111111,
              "#46039f"
             ],
             [
              0.2222222222222222,
              "#7201a8"
             ],
             [
              0.3333333333333333,
              "#9c179e"
             ],
             [
              0.4444444444444444,
              "#bd3786"
             ],
             [
              0.5555555555555556,
              "#d8576b"
             ],
             [
              0.6666666666666666,
              "#ed7953"
             ],
             [
              0.7777777777777778,
              "#fb9f3a"
             ],
             [
              0.8888888888888888,
              "#fdca26"
             ],
             [
              1,
              "#f0f921"
             ]
            ],
            "type": "contour"
           }
          ],
          "contourcarpet": [
           {
            "colorbar": {
             "outlinewidth": 0,
             "ticks": ""
            },
            "type": "contourcarpet"
           }
          ],
          "heatmap": [
           {
            "colorbar": {
             "outlinewidth": 0,
             "ticks": ""
            },
            "colorscale": [
             [
              0,
              "#0d0887"
             ],
             [
              0.1111111111111111,
              "#46039f"
             ],
             [
              0.2222222222222222,
              "#7201a8"
             ],
             [
              0.3333333333333333,
              "#9c179e"
             ],
             [
              0.4444444444444444,
              "#bd3786"
             ],
             [
              0.5555555555555556,
              "#d8576b"
             ],
             [
              0.6666666666666666,
              "#ed7953"
             ],
             [
              0.7777777777777778,
              "#fb9f3a"
             ],
             [
              0.8888888888888888,
              "#fdca26"
             ],
             [
              1,
              "#f0f921"
             ]
            ],
            "type": "heatmap"
           }
          ],
          "histogram": [
           {
            "marker": {
             "pattern": {
              "fillmode": "overlay",
              "size": 10,
              "solidity": 0.2
             }
            },
            "type": "histogram"
           }
          ],
          "histogram2d": [
           {
            "colorbar": {
             "outlinewidth": 0,
             "ticks": ""
            },
            "colorscale": [
             [
              0,
              "#0d0887"
             ],
             [
              0.1111111111111111,
              "#46039f"
             ],
             [
              0.2222222222222222,
              "#7201a8"
             ],
             [
              0.3333333333333333,
              "#9c179e"
             ],
             [
              0.4444444444444444,
              "#bd3786"
             ],
             [
              0.5555555555555556,
              "#d8576b"
             ],
             [
              0.6666666666666666,
              "#ed7953"
             ],
             [
              0.7777777777777778,
              "#fb9f3a"
             ],
             [
              0.8888888888888888,
              "#fdca26"
             ],
             [
              1,
              "#f0f921"
             ]
            ],
            "type": "histogram2d"
           }
          ],
          "histogram2dcontour": [
           {
            "colorbar": {
             "outlinewidth": 0,
             "ticks": ""
            },
            "colorscale": [
             [
              0,
              "#0d0887"
             ],
             [
              0.1111111111111111,
              "#46039f"
             ],
             [
              0.2222222222222222,
              "#7201a8"
             ],
             [
              0.3333333333333333,
              "#9c179e"
             ],
             [
              0.4444444444444444,
              "#bd3786"
             ],
             [
              0.5555555555555556,
              "#d8576b"
             ],
             [
              0.6666666666666666,
              "#ed7953"
             ],
             [
              0.7777777777777778,
              "#fb9f3a"
             ],
             [
              0.8888888888888888,
              "#fdca26"
             ],
             [
              1,
              "#f0f921"
             ]
            ],
            "type": "histogram2dcontour"
           }
          ],
          "mesh3d": [
           {
            "colorbar": {
             "outlinewidth": 0,
             "ticks": ""
            },
            "type": "mesh3d"
           }
          ],
          "parcoords": [
           {
            "line": {
             "colorbar": {
              "outlinewidth": 0,
              "ticks": ""
             }
            },
            "type": "parcoords"
           }
          ],
          "pie": [
           {
            "automargin": true,
            "type": "pie"
           }
          ],
          "scatter": [
           {
            "fillpattern": {
             "fillmode": "overlay",
             "size": 10,
             "solidity": 0.2
            },
            "type": "scatter"
           }
          ],
          "scatter3d": [
           {
            "line": {
             "colorbar": {
              "outlinewidth": 0,
              "ticks": ""
             }
            },
            "marker": {
             "colorbar": {
              "outlinewidth": 0,
              "ticks": ""
             }
            },
            "type": "scatter3d"
           }
          ],
          "scattercarpet": [
           {
            "marker": {
             "colorbar": {
              "outlinewidth": 0,
              "ticks": ""
             }
            },
            "type": "scattercarpet"
           }
          ],
          "scattergeo": [
           {
            "marker": {
             "colorbar": {
              "outlinewidth": 0,
              "ticks": ""
             }
            },
            "type": "scattergeo"
           }
          ],
          "scattergl": [
           {
            "marker": {
             "colorbar": {
              "outlinewidth": 0,
              "ticks": ""
             }
            },
            "type": "scattergl"
           }
          ],
          "scattermap": [
           {
            "marker": {
             "colorbar": {
              "outlinewidth": 0,
              "ticks": ""
             }
            },
            "type": "scattermap"
           }
          ],
          "scattermapbox": [
           {
            "marker": {
             "colorbar": {
              "outlinewidth": 0,
              "ticks": ""
             }
            },
            "type": "scattermapbox"
           }
          ],
          "scatterpolar": [
           {
            "marker": {
             "colorbar": {
              "outlinewidth": 0,
              "ticks": ""
             }
            },
            "type": "scatterpolar"
           }
          ],
          "scatterpolargl": [
           {
            "marker": {
             "colorbar": {
              "outlinewidth": 0,
              "ticks": ""
             }
            },
            "type": "scatterpolargl"
           }
          ],
          "scatterternary": [
           {
            "marker": {
             "colorbar": {
              "outlinewidth": 0,
              "ticks": ""
             }
            },
            "type": "scatterternary"
           }
          ],
          "surface": [
           {
            "colorbar": {
             "outlinewidth": 0,
             "ticks": ""
            },
            "colorscale": [
             [
              0,
              "#0d0887"
             ],
             [
              0.1111111111111111,
              "#46039f"
             ],
             [
              0.2222222222222222,
              "#7201a8"
             ],
             [
              0.3333333333333333,
              "#9c179e"
             ],
             [
              0.4444444444444444,
              "#bd3786"
             ],
             [
              0.5555555555555556,
              "#d8576b"
             ],
             [
              0.6666666666666666,
              "#ed7953"
             ],
             [
              0.7777777777777778,
              "#fb9f3a"
             ],
             [
              0.8888888888888888,
              "#fdca26"
             ],
             [
              1,
              "#f0f921"
             ]
            ],
            "type": "surface"
           }
          ],
          "table": [
           {
            "cells": {
             "fill": {
              "color": "#EBF0F8"
             },
             "line": {
              "color": "white"
             }
            },
            "header": {
             "fill": {
              "color": "#C8D4E3"
             },
             "line": {
              "color": "white"
             }
            },
            "type": "table"
           }
          ]
         },
         "layout": {
          "annotationdefaults": {
           "arrowcolor": "#2a3f5f",
           "arrowhead": 0,
           "arrowwidth": 1
          },
          "autotypenumbers": "strict",
          "coloraxis": {
           "colorbar": {
            "outlinewidth": 0,
            "ticks": ""
           }
          },
          "colorscale": {
           "diverging": [
            [
             0,
             "#8e0152"
            ],
            [
             0.1,
             "#c51b7d"
            ],
            [
             0.2,
             "#de77ae"
            ],
            [
             0.3,
             "#f1b6da"
            ],
            [
             0.4,
             "#fde0ef"
            ],
            [
             0.5,
             "#f7f7f7"
            ],
            [
             0.6,
             "#e6f5d0"
            ],
            [
             0.7,
             "#b8e186"
            ],
            [
             0.8,
             "#7fbc41"
            ],
            [
             0.9,
             "#4d9221"
            ],
            [
             1,
             "#276419"
            ]
           ],
           "sequential": [
            [
             0,
             "#0d0887"
            ],
            [
             0.1111111111111111,
             "#46039f"
            ],
            [
             0.2222222222222222,
             "#7201a8"
            ],
            [
             0.3333333333333333,
             "#9c179e"
            ],
            [
             0.4444444444444444,
             "#bd3786"
            ],
            [
             0.5555555555555556,
             "#d8576b"
            ],
            [
             0.6666666666666666,
             "#ed7953"
            ],
            [
             0.7777777777777778,
             "#fb9f3a"
            ],
            [
             0.8888888888888888,
             "#fdca26"
            ],
            [
             1,
             "#f0f921"
            ]
           ],
           "sequentialminus": [
            [
             0,
             "#0d0887"
            ],
            [
             0.1111111111111111,
             "#46039f"
            ],
            [
             0.2222222222222222,
             "#7201a8"
            ],
            [
             0.3333333333333333,
             "#9c179e"
            ],
            [
             0.4444444444444444,
             "#bd3786"
            ],
            [
             0.5555555555555556,
             "#d8576b"
            ],
            [
             0.6666666666666666,
             "#ed7953"
            ],
            [
             0.7777777777777778,
             "#fb9f3a"
            ],
            [
             0.8888888888888888,
             "#fdca26"
            ],
            [
             1,
             "#f0f921"
            ]
           ]
          },
          "colorway": [
           "#636efa",
           "#EF553B",
           "#00cc96",
           "#ab63fa",
           "#FFA15A",
           "#19d3f3",
           "#FF6692",
           "#B6E880",
           "#FF97FF",
           "#FECB52"
          ],
          "font": {
           "color": "#2a3f5f"
          },
          "geo": {
           "bgcolor": "white",
           "lakecolor": "white",
           "landcolor": "#E5ECF6",
           "showlakes": true,
           "showland": true,
           "subunitcolor": "white"
          },
          "hoverlabel": {
           "align": "left"
          },
          "hovermode": "closest",
          "mapbox": {
           "style": "light"
          },
          "paper_bgcolor": "white",
          "plot_bgcolor": "#E5ECF6",
          "polar": {
           "angularaxis": {
            "gridcolor": "white",
            "linecolor": "white",
            "ticks": ""
           },
           "bgcolor": "#E5ECF6",
           "radialaxis": {
            "gridcolor": "white",
            "linecolor": "white",
            "ticks": ""
           }
          },
          "scene": {
           "xaxis": {
            "backgroundcolor": "#E5ECF6",
            "gridcolor": "white",
            "gridwidth": 2,
            "linecolor": "white",
            "showbackground": true,
            "ticks": "",
            "zerolinecolor": "white"
           },
           "yaxis": {
            "backgroundcolor": "#E5ECF6",
            "gridcolor": "white",
            "gridwidth": 2,
            "linecolor": "white",
            "showbackground": true,
            "ticks": "",
            "zerolinecolor": "white"
           },
           "zaxis": {
            "backgroundcolor": "#E5ECF6",
            "gridcolor": "white",
            "gridwidth": 2,
            "linecolor": "white",
            "showbackground": true,
            "ticks": "",
            "zerolinecolor": "white"
           }
          },
          "shapedefaults": {
           "line": {
            "color": "#2a3f5f"
           }
          },
          "ternary": {
           "aaxis": {
            "gridcolor": "white",
            "linecolor": "white",
            "ticks": ""
           },
           "baxis": {
            "gridcolor": "white",
            "linecolor": "white",
            "ticks": ""
           },
           "bgcolor": "#E5ECF6",
           "caxis": {
            "gridcolor": "white",
            "linecolor": "white",
            "ticks": ""
           }
          },
          "title": {
           "x": 0.05
          },
          "xaxis": {
           "automargin": true,
           "gridcolor": "white",
           "linecolor": "white",
           "ticks": "",
           "title": {
            "standoff": 15
           },
           "zerolinecolor": "white",
           "zerolinewidth": 2
          },
          "yaxis": {
           "automargin": true,
           "gridcolor": "white",
           "linecolor": "white",
           "ticks": "",
           "title": {
            "standoff": 15
           },
           "zerolinecolor": "white",
           "zerolinewidth": 2
          }
         }
        },
        "title": {
         "text": "Ciudades en el mapa"
        }
       }
      }
     },
     "metadata": {},
     "output_type": "display_data"
    }
   ],
   "source": [
    "fig = go.Figure(go.Scattergeo(lon = [-3.7, -99.1, -77.0],\n",
    "                              lat = [40.4, 19.4, -12.0],\n",
    "                              text = ['Madrid', 'Ciudad de México', 'Lima']))\n",
    "fig.update_layout(title = 'Ciudades en el mapa',\n",
    "                  geo_scope = 'world')"
   ]
  },
  {
   "cell_type": "code",
   "execution_count": 11,
   "id": "9fc373be",
   "metadata": {},
   "outputs": [
    {
     "data": {
      "application/vnd.plotly.v1+json": {
       "config": {
        "plotlyServerURL": "https://plot.ly"
       },
       "data": [
        {
         "lat": [
          40.4,
          19.4,
          -12
         ],
         "lon": [
          -3.7,
          -99.1,
          -77
         ],
         "marker": {
          "color": [
           10,
           20,
           30
          ],
          "colorscale": [
           [
            0,
            "#440154"
           ],
           [
            0.1111111111111111,
            "#482878"
           ],
           [
            0.2222222222222222,
            "#3e4989"
           ],
           [
            0.3333333333333333,
            "#31688e"
           ],
           [
            0.4444444444444444,
            "#26828e"
           ],
           [
            0.5555555555555556,
            "#1f9e89"
           ],
           [
            0.6666666666666666,
            "#35b779"
           ],
           [
            0.7777777777777778,
            "#6ece58"
           ],
           [
            0.8888888888888888,
            "#b5de2b"
           ],
           [
            1,
            "#fde725"
           ]
          ],
          "showscale": true,
          "size": [
           16,
           44,
           48
          ]
         },
         "mode": "markers",
         "text": [
          "Madrid",
          "Ciudad de México",
          "Lima"
         ],
         "type": "scattergeo"
        }
       ],
       "layout": {
        "template": {
         "data": {
          "bar": [
           {
            "error_x": {
             "color": "#2a3f5f"
            },
            "error_y": {
             "color": "#2a3f5f"
            },
            "marker": {
             "line": {
              "color": "#E5ECF6",
              "width": 0.5
             },
             "pattern": {
              "fillmode": "overlay",
              "size": 10,
              "solidity": 0.2
             }
            },
            "type": "bar"
           }
          ],
          "barpolar": [
           {
            "marker": {
             "line": {
              "color": "#E5ECF6",
              "width": 0.5
             },
             "pattern": {
              "fillmode": "overlay",
              "size": 10,
              "solidity": 0.2
             }
            },
            "type": "barpolar"
           }
          ],
          "carpet": [
           {
            "aaxis": {
             "endlinecolor": "#2a3f5f",
             "gridcolor": "white",
             "linecolor": "white",
             "minorgridcolor": "white",
             "startlinecolor": "#2a3f5f"
            },
            "baxis": {
             "endlinecolor": "#2a3f5f",
             "gridcolor": "white",
             "linecolor": "white",
             "minorgridcolor": "white",
             "startlinecolor": "#2a3f5f"
            },
            "type": "carpet"
           }
          ],
          "choropleth": [
           {
            "colorbar": {
             "outlinewidth": 0,
             "ticks": ""
            },
            "type": "choropleth"
           }
          ],
          "contour": [
           {
            "colorbar": {
             "outlinewidth": 0,
             "ticks": ""
            },
            "colorscale": [
             [
              0,
              "#0d0887"
             ],
             [
              0.1111111111111111,
              "#46039f"
             ],
             [
              0.2222222222222222,
              "#7201a8"
             ],
             [
              0.3333333333333333,
              "#9c179e"
             ],
             [
              0.4444444444444444,
              "#bd3786"
             ],
             [
              0.5555555555555556,
              "#d8576b"
             ],
             [
              0.6666666666666666,
              "#ed7953"
             ],
             [
              0.7777777777777778,
              "#fb9f3a"
             ],
             [
              0.8888888888888888,
              "#fdca26"
             ],
             [
              1,
              "#f0f921"
             ]
            ],
            "type": "contour"
           }
          ],
          "contourcarpet": [
           {
            "colorbar": {
             "outlinewidth": 0,
             "ticks": ""
            },
            "type": "contourcarpet"
           }
          ],
          "heatmap": [
           {
            "colorbar": {
             "outlinewidth": 0,
             "ticks": ""
            },
            "colorscale": [
             [
              0,
              "#0d0887"
             ],
             [
              0.1111111111111111,
              "#46039f"
             ],
             [
              0.2222222222222222,
              "#7201a8"
             ],
             [
              0.3333333333333333,
              "#9c179e"
             ],
             [
              0.4444444444444444,
              "#bd3786"
             ],
             [
              0.5555555555555556,
              "#d8576b"
             ],
             [
              0.6666666666666666,
              "#ed7953"
             ],
             [
              0.7777777777777778,
              "#fb9f3a"
             ],
             [
              0.8888888888888888,
              "#fdca26"
             ],
             [
              1,
              "#f0f921"
             ]
            ],
            "type": "heatmap"
           }
          ],
          "histogram": [
           {
            "marker": {
             "pattern": {
              "fillmode": "overlay",
              "size": 10,
              "solidity": 0.2
             }
            },
            "type": "histogram"
           }
          ],
          "histogram2d": [
           {
            "colorbar": {
             "outlinewidth": 0,
             "ticks": ""
            },
            "colorscale": [
             [
              0,
              "#0d0887"
             ],
             [
              0.1111111111111111,
              "#46039f"
             ],
             [
              0.2222222222222222,
              "#7201a8"
             ],
             [
              0.3333333333333333,
              "#9c179e"
             ],
             [
              0.4444444444444444,
              "#bd3786"
             ],
             [
              0.5555555555555556,
              "#d8576b"
             ],
             [
              0.6666666666666666,
              "#ed7953"
             ],
             [
              0.7777777777777778,
              "#fb9f3a"
             ],
             [
              0.8888888888888888,
              "#fdca26"
             ],
             [
              1,
              "#f0f921"
             ]
            ],
            "type": "histogram2d"
           }
          ],
          "histogram2dcontour": [
           {
            "colorbar": {
             "outlinewidth": 0,
             "ticks": ""
            },
            "colorscale": [
             [
              0,
              "#0d0887"
             ],
             [
              0.1111111111111111,
              "#46039f"
             ],
             [
              0.2222222222222222,
              "#7201a8"
             ],
             [
              0.3333333333333333,
              "#9c179e"
             ],
             [
              0.4444444444444444,
              "#bd3786"
             ],
             [
              0.5555555555555556,
              "#d8576b"
             ],
             [
              0.6666666666666666,
              "#ed7953"
             ],
             [
              0.7777777777777778,
              "#fb9f3a"
             ],
             [
              0.8888888888888888,
              "#fdca26"
             ],
             [
              1,
              "#f0f921"
             ]
            ],
            "type": "histogram2dcontour"
           }
          ],
          "mesh3d": [
           {
            "colorbar": {
             "outlinewidth": 0,
             "ticks": ""
            },
            "type": "mesh3d"
           }
          ],
          "parcoords": [
           {
            "line": {
             "colorbar": {
              "outlinewidth": 0,
              "ticks": ""
             }
            },
            "type": "parcoords"
           }
          ],
          "pie": [
           {
            "automargin": true,
            "type": "pie"
           }
          ],
          "scatter": [
           {
            "fillpattern": {
             "fillmode": "overlay",
             "size": 10,
             "solidity": 0.2
            },
            "type": "scatter"
           }
          ],
          "scatter3d": [
           {
            "line": {
             "colorbar": {
              "outlinewidth": 0,
              "ticks": ""
             }
            },
            "marker": {
             "colorbar": {
              "outlinewidth": 0,
              "ticks": ""
             }
            },
            "type": "scatter3d"
           }
          ],
          "scattercarpet": [
           {
            "marker": {
             "colorbar": {
              "outlinewidth": 0,
              "ticks": ""
             }
            },
            "type": "scattercarpet"
           }
          ],
          "scattergeo": [
           {
            "marker": {
             "colorbar": {
              "outlinewidth": 0,
              "ticks": ""
             }
            },
            "type": "scattergeo"
           }
          ],
          "scattergl": [
           {
            "marker": {
             "colorbar": {
              "outlinewidth": 0,
              "ticks": ""
             }
            },
            "type": "scattergl"
           }
          ],
          "scattermap": [
           {
            "marker": {
             "colorbar": {
              "outlinewidth": 0,
              "ticks": ""
             }
            },
            "type": "scattermap"
           }
          ],
          "scattermapbox": [
           {
            "marker": {
             "colorbar": {
              "outlinewidth": 0,
              "ticks": ""
             }
            },
            "type": "scattermapbox"
           }
          ],
          "scatterpolar": [
           {
            "marker": {
             "colorbar": {
              "outlinewidth": 0,
              "ticks": ""
             }
            },
            "type": "scatterpolar"
           }
          ],
          "scatterpolargl": [
           {
            "marker": {
             "colorbar": {
              "outlinewidth": 0,
              "ticks": ""
             }
            },
            "type": "scatterpolargl"
           }
          ],
          "scatterternary": [
           {
            "marker": {
             "colorbar": {
              "outlinewidth": 0,
              "ticks": ""
             }
            },
            "type": "scatterternary"
           }
          ],
          "surface": [
           {
            "colorbar": {
             "outlinewidth": 0,
             "ticks": ""
            },
            "colorscale": [
             [
              0,
              "#0d0887"
             ],
             [
              0.1111111111111111,
              "#46039f"
             ],
             [
              0.2222222222222222,
              "#7201a8"
             ],
             [
              0.3333333333333333,
              "#9c179e"
             ],
             [
              0.4444444444444444,
              "#bd3786"
             ],
             [
              0.5555555555555556,
              "#d8576b"
             ],
             [
              0.6666666666666666,
              "#ed7953"
             ],
             [
              0.7777777777777778,
              "#fb9f3a"
             ],
             [
              0.8888888888888888,
              "#fdca26"
             ],
             [
              1,
              "#f0f921"
             ]
            ],
            "type": "surface"
           }
          ],
          "table": [
           {
            "cells": {
             "fill": {
              "color": "#EBF0F8"
             },
             "line": {
              "color": "white"
             }
            },
            "header": {
             "fill": {
              "color": "#C8D4E3"
             },
             "line": {
              "color": "white"
             }
            },
            "type": "table"
           }
          ]
         },
         "layout": {
          "annotationdefaults": {
           "arrowcolor": "#2a3f5f",
           "arrowhead": 0,
           "arrowwidth": 1
          },
          "autotypenumbers": "strict",
          "coloraxis": {
           "colorbar": {
            "outlinewidth": 0,
            "ticks": ""
           }
          },
          "colorscale": {
           "diverging": [
            [
             0,
             "#8e0152"
            ],
            [
             0.1,
             "#c51b7d"
            ],
            [
             0.2,
             "#de77ae"
            ],
            [
             0.3,
             "#f1b6da"
            ],
            [
             0.4,
             "#fde0ef"
            ],
            [
             0.5,
             "#f7f7f7"
            ],
            [
             0.6,
             "#e6f5d0"
            ],
            [
             0.7,
             "#b8e186"
            ],
            [
             0.8,
             "#7fbc41"
            ],
            [
             0.9,
             "#4d9221"
            ],
            [
             1,
             "#276419"
            ]
           ],
           "sequential": [
            [
             0,
             "#0d0887"
            ],
            [
             0.1111111111111111,
             "#46039f"
            ],
            [
             0.2222222222222222,
             "#7201a8"
            ],
            [
             0.3333333333333333,
             "#9c179e"
            ],
            [
             0.4444444444444444,
             "#bd3786"
            ],
            [
             0.5555555555555556,
             "#d8576b"
            ],
            [
             0.6666666666666666,
             "#ed7953"
            ],
            [
             0.7777777777777778,
             "#fb9f3a"
            ],
            [
             0.8888888888888888,
             "#fdca26"
            ],
            [
             1,
             "#f0f921"
            ]
           ],
           "sequentialminus": [
            [
             0,
             "#0d0887"
            ],
            [
             0.1111111111111111,
             "#46039f"
            ],
            [
             0.2222222222222222,
             "#7201a8"
            ],
            [
             0.3333333333333333,
             "#9c179e"
            ],
            [
             0.4444444444444444,
             "#bd3786"
            ],
            [
             0.5555555555555556,
             "#d8576b"
            ],
            [
             0.6666666666666666,
             "#ed7953"
            ],
            [
             0.7777777777777778,
             "#fb9f3a"
            ],
            [
             0.8888888888888888,
             "#fdca26"
            ],
            [
             1,
             "#f0f921"
            ]
           ]
          },
          "colorway": [
           "#636efa",
           "#EF553B",
           "#00cc96",
           "#ab63fa",
           "#FFA15A",
           "#19d3f3",
           "#FF6692",
           "#B6E880",
           "#FF97FF",
           "#FECB52"
          ],
          "font": {
           "color": "#2a3f5f"
          },
          "geo": {
           "bgcolor": "white",
           "lakecolor": "white",
           "landcolor": "#E5ECF6",
           "showlakes": true,
           "showland": true,
           "subunitcolor": "white"
          },
          "hoverlabel": {
           "align": "left"
          },
          "hovermode": "closest",
          "mapbox": {
           "style": "light"
          },
          "paper_bgcolor": "white",
          "plot_bgcolor": "#E5ECF6",
          "polar": {
           "angularaxis": {
            "gridcolor": "white",
            "linecolor": "white",
            "ticks": ""
           },
           "bgcolor": "#E5ECF6",
           "radialaxis": {
            "gridcolor": "white",
            "linecolor": "white",
            "ticks": ""
           }
          },
          "scene": {
           "xaxis": {
            "backgroundcolor": "#E5ECF6",
            "gridcolor": "white",
            "gridwidth": 2,
            "linecolor": "white",
            "showbackground": true,
            "ticks": "",
            "zerolinecolor": "white"
           },
           "yaxis": {
            "backgroundcolor": "#E5ECF6",
            "gridcolor": "white",
            "gridwidth": 2,
            "linecolor": "white",
            "showbackground": true,
            "ticks": "",
            "zerolinecolor": "white"
           },
           "zaxis": {
            "backgroundcolor": "#E5ECF6",
            "gridcolor": "white",
            "gridwidth": 2,
            "linecolor": "white",
            "showbackground": true,
            "ticks": "",
            "zerolinecolor": "white"
           }
          },
          "shapedefaults": {
           "line": {
            "color": "#2a3f5f"
           }
          },
          "ternary": {
           "aaxis": {
            "gridcolor": "white",
            "linecolor": "white",
            "ticks": ""
           },
           "baxis": {
            "gridcolor": "white",
            "linecolor": "white",
            "ticks": ""
           },
           "bgcolor": "#E5ECF6",
           "caxis": {
            "gridcolor": "white",
            "linecolor": "white",
            "ticks": ""
           }
          },
          "title": {
           "x": 0.05
          },
          "xaxis": {
           "automargin": true,
           "gridcolor": "white",
           "linecolor": "white",
           "ticks": "",
           "title": {
            "standoff": 15
           },
           "zerolinecolor": "white",
           "zerolinewidth": 2
          },
          "yaxis": {
           "automargin": true,
           "gridcolor": "white",
           "linecolor": "white",
           "ticks": "",
           "title": {
            "standoff": 15
           },
           "zerolinecolor": "white",
           "zerolinewidth": 2
          }
         }
        }
       }
      }
     },
     "metadata": {},
     "output_type": "display_data"
    }
   ],
   "source": [
    "fig2 = go.Figure(go.Scattergeo(lon = [-3.7, -99.1, -77.0],\n",
    "                              lat = [40.4, 19.4, -12.0],\n",
    "                              text = ['Madrid', 'Ciudad de México', 'Lima'],\n",
    "                              mode='markers',\n",
    "                              marker=dict(size=[16, 44, 48],\n",
    "                              color=[10, 20, 30],\n",
    "                              colorscale='Viridis',\n",
    "                              showscale=True)))\n",
    "fig2"
   ]
  },
  {
   "cell_type": "code",
   "execution_count": 12,
   "id": "fe1dfaba",
   "metadata": {},
   "outputs": [],
   "source": [
    "import plotly.express as px"
   ]
  },
  {
   "cell_type": "code",
   "execution_count": 13,
   "id": "1401726f",
   "metadata": {},
   "outputs": [
    {
     "data": {
      "text/html": [
       "<div>\n",
       "<style scoped>\n",
       "    .dataframe tbody tr th:only-of-type {\n",
       "        vertical-align: middle;\n",
       "    }\n",
       "\n",
       "    .dataframe tbody tr th {\n",
       "        vertical-align: top;\n",
       "    }\n",
       "\n",
       "    .dataframe thead th {\n",
       "        text-align: right;\n",
       "    }\n",
       "</style>\n",
       "<table border=\"1\" class=\"dataframe\">\n",
       "  <thead>\n",
       "    <tr style=\"text-align: right;\">\n",
       "      <th></th>\n",
       "      <th>country</th>\n",
       "      <th>continent</th>\n",
       "      <th>year</th>\n",
       "      <th>lifeExp</th>\n",
       "      <th>pop</th>\n",
       "      <th>gdpPercap</th>\n",
       "      <th>iso_alpha</th>\n",
       "      <th>iso_num</th>\n",
       "    </tr>\n",
       "  </thead>\n",
       "  <tbody>\n",
       "    <tr>\n",
       "      <th>0</th>\n",
       "      <td>Afghanistan</td>\n",
       "      <td>Asia</td>\n",
       "      <td>1952</td>\n",
       "      <td>28.801</td>\n",
       "      <td>8425333</td>\n",
       "      <td>779.445314</td>\n",
       "      <td>AFG</td>\n",
       "      <td>4</td>\n",
       "    </tr>\n",
       "    <tr>\n",
       "      <th>1</th>\n",
       "      <td>Afghanistan</td>\n",
       "      <td>Asia</td>\n",
       "      <td>1957</td>\n",
       "      <td>30.332</td>\n",
       "      <td>9240934</td>\n",
       "      <td>820.853030</td>\n",
       "      <td>AFG</td>\n",
       "      <td>4</td>\n",
       "    </tr>\n",
       "    <tr>\n",
       "      <th>2</th>\n",
       "      <td>Afghanistan</td>\n",
       "      <td>Asia</td>\n",
       "      <td>1962</td>\n",
       "      <td>31.997</td>\n",
       "      <td>10267083</td>\n",
       "      <td>853.100710</td>\n",
       "      <td>AFG</td>\n",
       "      <td>4</td>\n",
       "    </tr>\n",
       "    <tr>\n",
       "      <th>3</th>\n",
       "      <td>Afghanistan</td>\n",
       "      <td>Asia</td>\n",
       "      <td>1967</td>\n",
       "      <td>34.020</td>\n",
       "      <td>11537966</td>\n",
       "      <td>836.197138</td>\n",
       "      <td>AFG</td>\n",
       "      <td>4</td>\n",
       "    </tr>\n",
       "    <tr>\n",
       "      <th>4</th>\n",
       "      <td>Afghanistan</td>\n",
       "      <td>Asia</td>\n",
       "      <td>1972</td>\n",
       "      <td>36.088</td>\n",
       "      <td>13079460</td>\n",
       "      <td>739.981106</td>\n",
       "      <td>AFG</td>\n",
       "      <td>4</td>\n",
       "    </tr>\n",
       "  </tbody>\n",
       "</table>\n",
       "</div>"
      ],
      "text/plain": [
       "       country continent  year  lifeExp       pop   gdpPercap iso_alpha  \\\n",
       "0  Afghanistan      Asia  1952   28.801   8425333  779.445314       AFG   \n",
       "1  Afghanistan      Asia  1957   30.332   9240934  820.853030       AFG   \n",
       "2  Afghanistan      Asia  1962   31.997  10267083  853.100710       AFG   \n",
       "3  Afghanistan      Asia  1967   34.020  11537966  836.197138       AFG   \n",
       "4  Afghanistan      Asia  1972   36.088  13079460  739.981106       AFG   \n",
       "\n",
       "   iso_num  \n",
       "0        4  \n",
       "1        4  \n",
       "2        4  \n",
       "3        4  \n",
       "4        4  "
      ]
     },
     "execution_count": 13,
     "metadata": {},
     "output_type": "execute_result"
    }
   ],
   "source": [
    "df = px.data.gapminder()\n",
    "df.head()"
   ]
  },
  {
   "cell_type": "code",
   "execution_count": 16,
   "id": "548235ef",
   "metadata": {},
   "outputs": [
    {
     "data": {
      "application/vnd.plotly.v1+json": {
       "config": {
        "plotlyServerURL": "https://plot.ly"
       },
       "data": [
        {
         "coloraxis": "coloraxis",
         "geo": "geo",
         "hovertemplate": "<b>%{hovertext}</b><br><br>year=1952<br>iso_alpha=%{location}<br>lifeExp=%{z}<extra></extra>",
         "hovertext": [
          "Afghanistan",
          "Albania",
          "Algeria",
          "Angola",
          "Argentina",
          "Australia",
          "Austria",
          "Bahrain",
          "Bangladesh",
          "Belgium",
          "Benin",
          "Bolivia",
          "Bosnia and Herzegovina",
          "Botswana",
          "Brazil",
          "Bulgaria",
          "Burkina Faso",
          "Burundi",
          "Cambodia",
          "Cameroon",
          "Canada",
          "Central African Republic",
          "Chad",
          "Chile",
          "China",
          "Colombia",
          "Comoros",
          "Congo, Dem. Rep.",
          "Congo, Rep.",
          "Costa Rica",
          "Cote d'Ivoire",
          "Croatia",
          "Cuba",
          "Czech Republic",
          "Denmark",
          "Djibouti",
          "Dominican Republic",
          "Ecuador",
          "Egypt",
          "El Salvador",
          "Equatorial Guinea",
          "Eritrea",
          "Ethiopia",
          "Finland",
          "France",
          "Gabon",
          "Gambia",
          "Germany",
          "Ghana",
          "Greece",
          "Guatemala",
          "Guinea",
          "Guinea-Bissau",
          "Haiti",
          "Honduras",
          "Hong Kong, China",
          "Hungary",
          "Iceland",
          "India",
          "Indonesia",
          "Iran",
          "Iraq",
          "Ireland",
          "Israel",
          "Italy",
          "Jamaica",
          "Japan",
          "Jordan",
          "Kenya",
          "Korea, Dem. Rep.",
          "Korea, Rep.",
          "Kuwait",
          "Lebanon",
          "Lesotho",
          "Liberia",
          "Libya",
          "Madagascar",
          "Malawi",
          "Malaysia",
          "Mali",
          "Mauritania",
          "Mauritius",
          "Mexico",
          "Mongolia",
          "Montenegro",
          "Morocco",
          "Mozambique",
          "Myanmar",
          "Namibia",
          "Nepal",
          "Netherlands",
          "New Zealand",
          "Nicaragua",
          "Niger",
          "Nigeria",
          "Norway",
          "Oman",
          "Pakistan",
          "Panama",
          "Paraguay",
          "Peru",
          "Philippines",
          "Poland",
          "Portugal",
          "Puerto Rico",
          "Reunion",
          "Romania",
          "Rwanda",
          "Sao Tome and Principe",
          "Saudi Arabia",
          "Senegal",
          "Serbia",
          "Sierra Leone",
          "Singapore",
          "Slovak Republic",
          "Slovenia",
          "Somalia",
          "South Africa",
          "Spain",
          "Sri Lanka",
          "Sudan",
          "Swaziland",
          "Sweden",
          "Switzerland",
          "Syria",
          "Taiwan",
          "Tanzania",
          "Thailand",
          "Togo",
          "Trinidad and Tobago",
          "Tunisia",
          "Turkey",
          "Uganda",
          "United Kingdom",
          "United States",
          "Uruguay",
          "Venezuela",
          "Vietnam",
          "West Bank and Gaza",
          "Yemen, Rep.",
          "Zambia",
          "Zimbabwe"
         ],
         "locations": [
          "AFG",
          "ALB",
          "DZA",
          "AGO",
          "ARG",
          "AUS",
          "AUT",
          "BHR",
          "BGD",
          "BEL",
          "BEN",
          "BOL",
          "BIH",
          "BWA",
          "BRA",
          "BGR",
          "BFA",
          "BDI",
          "KHM",
          "CMR",
          "CAN",
          "CAF",
          "TCD",
          "CHL",
          "CHN",
          "COL",
          "COM",
          "COD",
          "COG",
          "CRI",
          "CIV",
          "HRV",
          "CUB",
          "CZE",
          "DNK",
          "DJI",
          "DOM",
          "ECU",
          "EGY",
          "SLV",
          "GNQ",
          "ERI",
          "ETH",
          "FIN",
          "FRA",
          "GAB",
          "GMB",
          "DEU",
          "GHA",
          "GRC",
          "GTM",
          "GIN",
          "GNB",
          "HTI",
          "HND",
          "HKG",
          "HUN",
          "ISL",
          "IND",
          "IDN",
          "IRN",
          "IRQ",
          "IRL",
          "ISR",
          "ITA",
          "JAM",
          "JPN",
          "JOR",
          "KEN",
          "KOR",
          "KOR",
          "KWT",
          "LBN",
          "LSO",
          "LBR",
          "LBY",
          "MDG",
          "MWI",
          "MYS",
          "MLI",
          "MRT",
          "MUS",
          "MEX",
          "MNG",
          "MNE",
          "MAR",
          "MOZ",
          "MMR",
          "NAM",
          "NPL",
          "NLD",
          "NZL",
          "NIC",
          "NER",
          "NGA",
          "NOR",
          "OMN",
          "PAK",
          "PAN",
          "PRY",
          "PER",
          "PHL",
          "POL",
          "PRT",
          "PRI",
          "REU",
          "ROU",
          "RWA",
          "STP",
          "SAU",
          "SEN",
          "SRB",
          "SLE",
          "SGP",
          "SVK",
          "SVN",
          "SOM",
          "ZAF",
          "ESP",
          "LKA",
          "SDN",
          "SWZ",
          "SWE",
          "CHE",
          "SYR",
          "TWN",
          "TZA",
          "THA",
          "TGO",
          "TTO",
          "TUN",
          "TUR",
          "UGA",
          "GBR",
          "USA",
          "URY",
          "VEN",
          "VNM",
          "PSE",
          "YEM",
          "ZMB",
          "ZWE"
         ],
         "name": "",
         "type": "choropleth",
         "z": {
          "bdata": "kxgEVg7NPEA9CtejcJ1LQGDl0CLbiUVApHA9CtcDPkCuR+F6FD5PQEjhehSuR1FAMzMzMzOzUEDUeOkmMXhJQMuhRbbzvUJAAAAAAAAAUUAGgZVDixxDQKJFtvP9NERAKVyPwvXoSkBWDi2ync9HQEw3iUFgdUlAzczMzMzMTUCamZmZmfk/QIcW2c73g0NATDeJQWC1Q0Bt5/up8UJDQAAAAAAAMFFAJQaBlUO7QUCyne+nxgtDQI/C9ShcX0tAAAAAAAAARkD8qfHSTVJJQOxRuB6FW0RA/Knx0k2SQ0CR7Xw/NQ5FQO58PzVemkxAkxgEVg49REB7FK5H4ZpOQNrO91PjtU1ASOF6FK63UEBSuB6F67FRQA4tsp3vZ0FAEFg5tMj2RkAEVg4tsi1IQPyp8dJN8kRAqMZLN4mhRkAEVg4tsj1BQBJYObTI9kFARIts5/sJQUAzMzMzM6NQQArXo3A92lBAqvHSTWKAQkAAAAAAAAA+QAAAAAAA4FBAUI2XbhKTRUDXo3A9CndQQG3n+6nxAkVAy6FFtvPNQEAAAAAAAEBAQCcxCKwcykJA2/l+arz0REB7FK5H4XpOQFK4HoXrAVBAj8L1KFwfUkA7tMh2vq9CQJZDi2znu0JArBxaZDtvRkApXI/C9ahGQArXo3A9ulBAKVyPwvVYUEBcj8L1KHxQQKRwPQrXQ01ApHA9CteDT0BOYhBYOZRFQMP1KFyPIkVAukkMAisHSUBEi2zn+7lHQLgehetRyEtAEFg5tMj2S0CNbOf7qRFFQD0K16NwPUNABoGVQ4tcRUC6SQwCK1dCQFTjpZvEIEJAJQaBlUM7SEBI4XoUrtdAQC/dJAaBRURAke18PzV+SUCiRbbz/WRJQKwcWmQ7H0VAokW28/2UTUA7tMh2vm9FQPCnxks3ST9ARrbz/dQoQkDNzMzMzNxEQGq8dJMYFEJAuB6F61EIUkApXI/C9VhRQNR46SYxKEVARrbz/dS4QkC28/3UeClCQHsUrkfhKlJARIts5/vJQkAshxbZzrdFQJzEILBymEtAUI2XbhJTT0D6fmq8dPNFQMdLN4lB4EdASOF6FK6nTkApXI/C9ehNQFK4HoXrEVBA6SYxCKxcSkBmZmZmZoZOQAAAAAAAAERAPzVeukk8R0AAAAAAAPBDQN0kBoGVo0JAc2iR7Xz/TEDb+X5qvFQ+QKabxCCwMk5A16NwPQoXUEAUrkfhemRQQHe+nxovfUBA/dR46SaBRkBcj8L1KDxQQJZDi2zny0xA4XoUrkdRQ0BqvHSTGLREQNejcD0K91FASOF6FK5nUUAbL90kBvFGQAAAAAAAQE1A7FG4HoWbREAGgZVDi2xJQD81XrpJTENAzczMzMyMTUDNzMzMzExGQHsUrkfhykVAd76fGi/9Q0DsUbgehUtRQFyPwvUoHFFABoGVQ4uEUEAlBoGVQ4tLQNv5fmq8NERAFK5H4XqURUCgGi/dJEZAQL6fGi/dBEVAfT81Xro5SEA=",
          "dtype": "f8"
         }
        }
       ],
       "frames": [
        {
         "data": [
          {
           "coloraxis": "coloraxis",
           "geo": "geo",
           "hovertemplate": "<b>%{hovertext}</b><br><br>year=1952<br>iso_alpha=%{location}<br>lifeExp=%{z}<extra></extra>",
           "hovertext": [
            "Afghanistan",
            "Albania",
            "Algeria",
            "Angola",
            "Argentina",
            "Australia",
            "Austria",
            "Bahrain",
            "Bangladesh",
            "Belgium",
            "Benin",
            "Bolivia",
            "Bosnia and Herzegovina",
            "Botswana",
            "Brazil",
            "Bulgaria",
            "Burkina Faso",
            "Burundi",
            "Cambodia",
            "Cameroon",
            "Canada",
            "Central African Republic",
            "Chad",
            "Chile",
            "China",
            "Colombia",
            "Comoros",
            "Congo, Dem. Rep.",
            "Congo, Rep.",
            "Costa Rica",
            "Cote d'Ivoire",
            "Croatia",
            "Cuba",
            "Czech Republic",
            "Denmark",
            "Djibouti",
            "Dominican Republic",
            "Ecuador",
            "Egypt",
            "El Salvador",
            "Equatorial Guinea",
            "Eritrea",
            "Ethiopia",
            "Finland",
            "France",
            "Gabon",
            "Gambia",
            "Germany",
            "Ghana",
            "Greece",
            "Guatemala",
            "Guinea",
            "Guinea-Bissau",
            "Haiti",
            "Honduras",
            "Hong Kong, China",
            "Hungary",
            "Iceland",
            "India",
            "Indonesia",
            "Iran",
            "Iraq",
            "Ireland",
            "Israel",
            "Italy",
            "Jamaica",
            "Japan",
            "Jordan",
            "Kenya",
            "Korea, Dem. Rep.",
            "Korea, Rep.",
            "Kuwait",
            "Lebanon",
            "Lesotho",
            "Liberia",
            "Libya",
            "Madagascar",
            "Malawi",
            "Malaysia",
            "Mali",
            "Mauritania",
            "Mauritius",
            "Mexico",
            "Mongolia",
            "Montenegro",
            "Morocco",
            "Mozambique",
            "Myanmar",
            "Namibia",
            "Nepal",
            "Netherlands",
            "New Zealand",
            "Nicaragua",
            "Niger",
            "Nigeria",
            "Norway",
            "Oman",
            "Pakistan",
            "Panama",
            "Paraguay",
            "Peru",
            "Philippines",
            "Poland",
            "Portugal",
            "Puerto Rico",
            "Reunion",
            "Romania",
            "Rwanda",
            "Sao Tome and Principe",
            "Saudi Arabia",
            "Senegal",
            "Serbia",
            "Sierra Leone",
            "Singapore",
            "Slovak Republic",
            "Slovenia",
            "Somalia",
            "South Africa",
            "Spain",
            "Sri Lanka",
            "Sudan",
            "Swaziland",
            "Sweden",
            "Switzerland",
            "Syria",
            "Taiwan",
            "Tanzania",
            "Thailand",
            "Togo",
            "Trinidad and Tobago",
            "Tunisia",
            "Turkey",
            "Uganda",
            "United Kingdom",
            "United States",
            "Uruguay",
            "Venezuela",
            "Vietnam",
            "West Bank and Gaza",
            "Yemen, Rep.",
            "Zambia",
            "Zimbabwe"
           ],
           "locations": [
            "AFG",
            "ALB",
            "DZA",
            "AGO",
            "ARG",
            "AUS",
            "AUT",
            "BHR",
            "BGD",
            "BEL",
            "BEN",
            "BOL",
            "BIH",
            "BWA",
            "BRA",
            "BGR",
            "BFA",
            "BDI",
            "KHM",
            "CMR",
            "CAN",
            "CAF",
            "TCD",
            "CHL",
            "CHN",
            "COL",
            "COM",
            "COD",
            "COG",
            "CRI",
            "CIV",
            "HRV",
            "CUB",
            "CZE",
            "DNK",
            "DJI",
            "DOM",
            "ECU",
            "EGY",
            "SLV",
            "GNQ",
            "ERI",
            "ETH",
            "FIN",
            "FRA",
            "GAB",
            "GMB",
            "DEU",
            "GHA",
            "GRC",
            "GTM",
            "GIN",
            "GNB",
            "HTI",
            "HND",
            "HKG",
            "HUN",
            "ISL",
            "IND",
            "IDN",
            "IRN",
            "IRQ",
            "IRL",
            "ISR",
            "ITA",
            "JAM",
            "JPN",
            "JOR",
            "KEN",
            "KOR",
            "KOR",
            "KWT",
            "LBN",
            "LSO",
            "LBR",
            "LBY",
            "MDG",
            "MWI",
            "MYS",
            "MLI",
            "MRT",
            "MUS",
            "MEX",
            "MNG",
            "MNE",
            "MAR",
            "MOZ",
            "MMR",
            "NAM",
            "NPL",
            "NLD",
            "NZL",
            "NIC",
            "NER",
            "NGA",
            "NOR",
            "OMN",
            "PAK",
            "PAN",
            "PRY",
            "PER",
            "PHL",
            "POL",
            "PRT",
            "PRI",
            "REU",
            "ROU",
            "RWA",
            "STP",
            "SAU",
            "SEN",
            "SRB",
            "SLE",
            "SGP",
            "SVK",
            "SVN",
            "SOM",
            "ZAF",
            "ESP",
            "LKA",
            "SDN",
            "SWZ",
            "SWE",
            "CHE",
            "SYR",
            "TWN",
            "TZA",
            "THA",
            "TGO",
            "TTO",
            "TUN",
            "TUR",
            "UGA",
            "GBR",
            "USA",
            "URY",
            "VEN",
            "VNM",
            "PSE",
            "YEM",
            "ZMB",
            "ZWE"
           ],
           "name": "",
           "type": "choropleth",
           "z": {
            "bdata": "kxgEVg7NPEA9CtejcJ1LQGDl0CLbiUVApHA9CtcDPkCuR+F6FD5PQEjhehSuR1FAMzMzMzOzUEDUeOkmMXhJQMuhRbbzvUJAAAAAAAAAUUAGgZVDixxDQKJFtvP9NERAKVyPwvXoSkBWDi2ync9HQEw3iUFgdUlAzczMzMzMTUCamZmZmfk/QIcW2c73g0NATDeJQWC1Q0Bt5/up8UJDQAAAAAAAMFFAJQaBlUO7QUCyne+nxgtDQI/C9ShcX0tAAAAAAAAARkD8qfHSTVJJQOxRuB6FW0RA/Knx0k2SQ0CR7Xw/NQ5FQO58PzVemkxAkxgEVg49REB7FK5H4ZpOQNrO91PjtU1ASOF6FK63UEBSuB6F67FRQA4tsp3vZ0FAEFg5tMj2RkAEVg4tsi1IQPyp8dJN8kRAqMZLN4mhRkAEVg4tsj1BQBJYObTI9kFARIts5/sJQUAzMzMzM6NQQArXo3A92lBAqvHSTWKAQkAAAAAAAAA+QAAAAAAA4FBAUI2XbhKTRUDXo3A9CndQQG3n+6nxAkVAy6FFtvPNQEAAAAAAAEBAQCcxCKwcykJA2/l+arz0REB7FK5H4XpOQFK4HoXrAVBAj8L1KFwfUkA7tMh2vq9CQJZDi2znu0JArBxaZDtvRkApXI/C9ahGQArXo3A9ulBAKVyPwvVYUEBcj8L1KHxQQKRwPQrXQ01ApHA9CteDT0BOYhBYOZRFQMP1KFyPIkVAukkMAisHSUBEi2zn+7lHQLgehetRyEtAEFg5tMj2S0CNbOf7qRFFQD0K16NwPUNABoGVQ4tcRUC6SQwCK1dCQFTjpZvEIEJAJQaBlUM7SEBI4XoUrtdAQC/dJAaBRURAke18PzV+SUCiRbbz/WRJQKwcWmQ7H0VAokW28/2UTUA7tMh2vm9FQPCnxks3ST9ARrbz/dQoQkDNzMzMzNxEQGq8dJMYFEJAuB6F61EIUkApXI/C9VhRQNR46SYxKEVARrbz/dS4QkC28/3UeClCQHsUrkfhKlJARIts5/vJQkAshxbZzrdFQJzEILBymEtAUI2XbhJTT0D6fmq8dPNFQMdLN4lB4EdASOF6FK6nTkApXI/C9ehNQFK4HoXrEVBA6SYxCKxcSkBmZmZmZoZOQAAAAAAAAERAPzVeukk8R0AAAAAAAPBDQN0kBoGVo0JAc2iR7Xz/TEDb+X5qvFQ+QKabxCCwMk5A16NwPQoXUEAUrkfhemRQQHe+nxovfUBA/dR46SaBRkBcj8L1KDxQQJZDi2zny0xA4XoUrkdRQ0BqvHSTGLREQNejcD0K91FASOF6FK5nUUAbL90kBvFGQAAAAAAAQE1A7FG4HoWbREAGgZVDi2xJQD81XrpJTENAzczMzMyMTUDNzMzMzExGQHsUrkfhykVAd76fGi/9Q0DsUbgehUtRQFyPwvUoHFFABoGVQ4uEUEAlBoGVQ4tLQNv5fmq8NERAFK5H4XqURUCgGi/dJEZAQL6fGi/dBEVAfT81Xro5SEA=",
            "dtype": "f8"
           }
          }
         ],
         "name": "1952"
        },
        {
         "data": [
          {
           "coloraxis": "coloraxis",
           "geo": "geo",
           "hovertemplate": "<b>%{hovertext}</b><br><br>year=1957<br>iso_alpha=%{location}<br>lifeExp=%{z}<extra></extra>",
           "hovertext": [
            "Afghanistan",
            "Albania",
            "Algeria",
            "Angola",
            "Argentina",
            "Australia",
            "Austria",
            "Bahrain",
            "Bangladesh",
            "Belgium",
            "Benin",
            "Bolivia",
            "Bosnia and Herzegovina",
            "Botswana",
            "Brazil",
            "Bulgaria",
            "Burkina Faso",
            "Burundi",
            "Cambodia",
            "Cameroon",
            "Canada",
            "Central African Republic",
            "Chad",
            "Chile",
            "China",
            "Colombia",
            "Comoros",
            "Congo, Dem. Rep.",
            "Congo, Rep.",
            "Costa Rica",
            "Cote d'Ivoire",
            "Croatia",
            "Cuba",
            "Czech Republic",
            "Denmark",
            "Djibouti",
            "Dominican Republic",
            "Ecuador",
            "Egypt",
            "El Salvador",
            "Equatorial Guinea",
            "Eritrea",
            "Ethiopia",
            "Finland",
            "France",
            "Gabon",
            "Gambia",
            "Germany",
            "Ghana",
            "Greece",
            "Guatemala",
            "Guinea",
            "Guinea-Bissau",
            "Haiti",
            "Honduras",
            "Hong Kong, China",
            "Hungary",
            "Iceland",
            "India",
            "Indonesia",
            "Iran",
            "Iraq",
            "Ireland",
            "Israel",
            "Italy",
            "Jamaica",
            "Japan",
            "Jordan",
            "Kenya",
            "Korea, Dem. Rep.",
            "Korea, Rep.",
            "Kuwait",
            "Lebanon",
            "Lesotho",
            "Liberia",
            "Libya",
            "Madagascar",
            "Malawi",
            "Malaysia",
            "Mali",
            "Mauritania",
            "Mauritius",
            "Mexico",
            "Mongolia",
            "Montenegro",
            "Morocco",
            "Mozambique",
            "Myanmar",
            "Namibia",
            "Nepal",
            "Netherlands",
            "New Zealand",
            "Nicaragua",
            "Niger",
            "Nigeria",
            "Norway",
            "Oman",
            "Pakistan",
            "Panama",
            "Paraguay",
            "Peru",
            "Philippines",
            "Poland",
            "Portugal",
            "Puerto Rico",
            "Reunion",
            "Romania",
            "Rwanda",
            "Sao Tome and Principe",
            "Saudi Arabia",
            "Senegal",
            "Serbia",
            "Sierra Leone",
            "Singapore",
            "Slovak Republic",
            "Slovenia",
            "Somalia",
            "South Africa",
            "Spain",
            "Sri Lanka",
            "Sudan",
            "Swaziland",
            "Sweden",
            "Switzerland",
            "Syria",
            "Taiwan",
            "Tanzania",
            "Thailand",
            "Togo",
            "Trinidad and Tobago",
            "Tunisia",
            "Turkey",
            "Uganda",
            "United Kingdom",
            "United States",
            "Uruguay",
            "Venezuela",
            "Vietnam",
            "West Bank and Gaza",
            "Yemen, Rep.",
            "Zambia",
            "Zimbabwe"
           ],
           "locations": [
            "AFG",
            "ALB",
            "DZA",
            "AGO",
            "ARG",
            "AUS",
            "AUT",
            "BHR",
            "BGD",
            "BEL",
            "BEN",
            "BOL",
            "BIH",
            "BWA",
            "BRA",
            "BGR",
            "BFA",
            "BDI",
            "KHM",
            "CMR",
            "CAN",
            "CAF",
            "TCD",
            "CHL",
            "CHN",
            "COL",
            "COM",
            "COD",
            "COG",
            "CRI",
            "CIV",
            "HRV",
            "CUB",
            "CZE",
            "DNK",
            "DJI",
            "DOM",
            "ECU",
            "EGY",
            "SLV",
            "GNQ",
            "ERI",
            "ETH",
            "FIN",
            "FRA",
            "GAB",
            "GMB",
            "DEU",
            "GHA",
            "GRC",
            "GTM",
            "GIN",
            "GNB",
            "HTI",
            "HND",
            "HKG",
            "HUN",
            "ISL",
            "IND",
            "IDN",
            "IRN",
            "IRQ",
            "IRL",
            "ISR",
            "ITA",
            "JAM",
            "JPN",
            "JOR",
            "KEN",
            "KOR",
            "KOR",
            "KWT",
            "LBN",
            "LSO",
            "LBR",
            "LBY",
            "MDG",
            "MWI",
            "MYS",
            "MLI",
            "MRT",
            "MUS",
            "MEX",
            "MNG",
            "MNE",
            "MAR",
            "MOZ",
            "MMR",
            "NAM",
            "NPL",
            "NLD",
            "NZL",
            "NIC",
            "NER",
            "NGA",
            "NOR",
            "OMN",
            "PAK",
            "PAN",
            "PRY",
            "PER",
            "PHL",
            "POL",
            "PRT",
            "PRI",
            "REU",
            "ROU",
            "RWA",
            "STP",
            "SAU",
            "SEN",
            "SRB",
            "SLE",
            "SGP",
            "SVK",
            "SVN",
            "SOM",
            "ZAF",
            "ESP",
            "LKA",
            "SDN",
            "SWZ",
            "SWE",
            "CHE",
            "SYR",
            "TWN",
            "TZA",
            "THA",
            "TGO",
            "TTO",
            "TUN",
            "TUR",
            "UGA",
            "GBR",
            "USA",
            "URY",
            "VEN",
            "VNM",
            "PSE",
            "YEM",
            "ZMB",
            "ZWE"
           ],
           "name": "",
           "type": "choropleth",
           "z": {
            "bdata": "okW28/1UPkCkcD0K16NNQEjhehSu10ZAObTIdr7/P0Coxks3iRlQQIXrUbgelVFAH4XrUbjeUEDRItv5fupKQAaBlUOLrENAj8L1KFxPUUDn+6nx0i1EQFK4HoXr8URAmpmZmZk5TUDJdr6fGs9IQBSuR+F6pEpA16NwPQqnUECHFtnO93NBQE5iEFg5RERAAyuHFtmuREAQWDm0yDZEQD0K16NwfVFACKwcWmS7QkBU46WbxPBDQLbz/dR4CUxA9Wc/UkRGSUDJdr6fGo9LQHsUrkfhOkVA+n5qvHRTREAQWDm0yIZGQBfZzvdTA05AeekmMQg8RUDhehSuRzFQQJqZmZmZKU9AUrgehetBUUCkcD0K1/NRQESLbOf7qUJARIts5/vpSEAhsHJoka1JQEa28/3UOEZAKVyPwvVISEDp+6nx0v1BQLx0kxgEBkNATDeJQWBVQkCPwvUoXN9QQOxRuB6FO1FAHVpkO99/Q0C4HoXrUQhAQGZmZmZmRlFAwcqhRbZjRkDXo3A9CvdQQBkEVg4tEkZAgZVDi2xHQUA830+Nl75AQAwCK4cWWURAhetRuB5VRkAAAAAAADBQQArXo3A9mlBArkfhehReUkAdWmQ73x9EQC/dJAaB9UNAukkMAiuXR0AOLbKd7zdIQJqZmZmZOVFA9ihcj8L1UECkcD0K1/NQQK5H4XoUTk9AAAAAAABgUEASg8DKodVGQCyHFtnOV0ZA7nw/NV4KS0C6SQwCK1dKQE5iEFg5BE1AO99PjZe+TUC8dJMYBIZGQJHtfD81vkNAokW28/2kRkAfhetRuG5DQNEi2/l+mkJAkxgEVg4NSkCc76fGS6dBQCUGgZVDK0VACKwcWmQLTUC4HoXrUZhLQDu0yHa+n0ZA001iEFi5TkCgGi/dJLZGQMHKoUW240BApHA9CtfzRECxcmiR7ZxGQCuHFtnO10JAj8L1KFw/UkBxPQrXo5BRQJ7vp8ZLt0ZABoGVQ4tMQ0Atsp3vp+ZCQFyPwvUoXFJACtejcD0KRECe76fGS8dGQH0/NV66mU1ADgIrhxaZT0CNbOf7qSFHQJhuEoPAqklA4XoUrkdxUEDhehSuR8FOQMP1KFyPIlFA7FG4HoWLS0BmZmZmZgZQQAAAAAAAwERAKVyPwvV4SEDJdr6fGm9FQCcxCKwcqkNASOF6FK7XTkBSuB6F65E/QPT91Hjplk9AzczMzMzcUEBmZmZmZvZQQJMYBFYOfUFArkfhehT+R0AK16NwPapQQO58PzVeuk5AHVpkO9/PQ0CDwMqhRbZFQI/C9ShcH1JApHA9CtejUUAxCKwcWiRIQDMzMzMzM09A6SYxCKx8RUBxPQrXo9BKQLTIdr6fmkRAZmZmZmbmTkDNzMzMzIxHQCYxCKwcCkhADgIrhxZJRUB7FK5H4ZpRQI/C9ShcX1FAiUFg5dDCUEBqvHSTGPRMQKjGSzeJcUVA2s73U+PVRkBcj8L1KPxAQGDl0CLbCUZAeekmMQg8SUA=",
            "dtype": "f8"
           }
          }
         ],
         "name": "1957"
        },
        {
         "data": [
          {
           "coloraxis": "coloraxis",
           "geo": "geo",
           "hovertemplate": "<b>%{hovertext}</b><br><br>year=1962<br>iso_alpha=%{location}<br>lifeExp=%{z}<extra></extra>",
           "hovertext": [
            "Afghanistan",
            "Albania",
            "Algeria",
            "Angola",
            "Argentina",
            "Australia",
            "Austria",
            "Bahrain",
            "Bangladesh",
            "Belgium",
            "Benin",
            "Bolivia",
            "Bosnia and Herzegovina",
            "Botswana",
            "Brazil",
            "Bulgaria",
            "Burkina Faso",
            "Burundi",
            "Cambodia",
            "Cameroon",
            "Canada",
            "Central African Republic",
            "Chad",
            "Chile",
            "China",
            "Colombia",
            "Comoros",
            "Congo, Dem. Rep.",
            "Congo, Rep.",
            "Costa Rica",
            "Cote d'Ivoire",
            "Croatia",
            "Cuba",
            "Czech Republic",
            "Denmark",
            "Djibouti",
            "Dominican Republic",
            "Ecuador",
            "Egypt",
            "El Salvador",
            "Equatorial Guinea",
            "Eritrea",
            "Ethiopia",
            "Finland",
            "France",
            "Gabon",
            "Gambia",
            "Germany",
            "Ghana",
            "Greece",
            "Guatemala",
            "Guinea",
            "Guinea-Bissau",
            "Haiti",
            "Honduras",
            "Hong Kong, China",
            "Hungary",
            "Iceland",
            "India",
            "Indonesia",
            "Iran",
            "Iraq",
            "Ireland",
            "Israel",
            "Italy",
            "Jamaica",
            "Japan",
            "Jordan",
            "Kenya",
            "Korea, Dem. Rep.",
            "Korea, Rep.",
            "Kuwait",
            "Lebanon",
            "Lesotho",
            "Liberia",
            "Libya",
            "Madagascar",
            "Malawi",
            "Malaysia",
            "Mali",
            "Mauritania",
            "Mauritius",
            "Mexico",
            "Mongolia",
            "Montenegro",
            "Morocco",
            "Mozambique",
            "Myanmar",
            "Namibia",
            "Nepal",
            "Netherlands",
            "New Zealand",
            "Nicaragua",
            "Niger",
            "Nigeria",
            "Norway",
            "Oman",
            "Pakistan",
            "Panama",
            "Paraguay",
            "Peru",
            "Philippines",
            "Poland",
            "Portugal",
            "Puerto Rico",
            "Reunion",
            "Romania",
            "Rwanda",
            "Sao Tome and Principe",
            "Saudi Arabia",
            "Senegal",
            "Serbia",
            "Sierra Leone",
            "Singapore",
            "Slovak Republic",
            "Slovenia",
            "Somalia",
            "South Africa",
            "Spain",
            "Sri Lanka",
            "Sudan",
            "Swaziland",
            "Sweden",
            "Switzerland",
            "Syria",
            "Taiwan",
            "Tanzania",
            "Thailand",
            "Togo",
            "Trinidad and Tobago",
            "Tunisia",
            "Turkey",
            "Uganda",
            "United Kingdom",
            "United States",
            "Uruguay",
            "Venezuela",
            "Vietnam",
            "West Bank and Gaza",
            "Yemen, Rep.",
            "Zambia",
            "Zimbabwe"
           ],
           "locations": [
            "AFG",
            "ALB",
            "DZA",
            "AGO",
            "ARG",
            "AUS",
            "AUT",
            "BHR",
            "BGD",
            "BEL",
            "BEN",
            "BOL",
            "BIH",
            "BWA",
            "BRA",
            "BGR",
            "BFA",
            "BDI",
            "KHM",
            "CMR",
            "CAN",
            "CAF",
            "TCD",
            "CHL",
            "CHN",
            "COL",
            "COM",
            "COD",
            "COG",
            "CRI",
            "CIV",
            "HRV",
            "CUB",
            "CZE",
            "DNK",
            "DJI",
            "DOM",
            "ECU",
            "EGY",
            "SLV",
            "GNQ",
            "ERI",
            "ETH",
            "FIN",
            "FRA",
            "GAB",
            "GMB",
            "DEU",
            "GHA",
            "GRC",
            "GTM",
            "GIN",
            "GNB",
            "HTI",
            "HND",
            "HKG",
            "HUN",
            "ISL",
            "IND",
            "IDN",
            "IRN",
            "IRQ",
            "IRL",
            "ISR",
            "ITA",
            "JAM",
            "JPN",
            "JOR",
            "KEN",
            "KOR",
            "KOR",
            "KWT",
            "LBN",
            "LSO",
            "LBR",
            "LBY",
            "MDG",
            "MWI",
            "MYS",
            "MLI",
            "MRT",
            "MUS",
            "MEX",
            "MNG",
            "MNE",
            "MAR",
            "MOZ",
            "MMR",
            "NAM",
            "NPL",
            "NLD",
            "NZL",
            "NIC",
            "NER",
            "NGA",
            "NOR",
            "OMN",
            "PAK",
            "PAN",
            "PRY",
            "PER",
            "PHL",
            "POL",
            "PRT",
            "PRI",
            "REU",
            "ROU",
            "RWA",
            "STP",
            "SAU",
            "SEN",
            "SRB",
            "SLE",
            "SGP",
            "SVK",
            "SVN",
            "SOM",
            "ZAF",
            "ESP",
            "LKA",
            "SDN",
            "SWZ",
            "SWE",
            "CHE",
            "SYR",
            "TWN",
            "TZA",
            "THA",
            "TGO",
            "TTO",
            "TUN",
            "TUR",
            "UGA",
            "GBR",
            "USA",
            "URY",
            "VEN",
            "VNM",
            "PSE",
            "YEM",
            "ZMB",
            "ZWE"
           ],
           "name": "",
           "type": "choropleth",
           "z": {
            "bdata": "rBxaZDv/P0AUrkfhejRQQBBYObTIJkhAAAAAAAAAQUAMAiuHFklQQOxRuB6Fu1FAw/UoXI9iUUCgGi/dJHZMQM/3U+Olm0RAAAAAAACQUUDJdr6fGk9FQBBYObTItkVA16NwPQr3TkDD9Shcj8JJQIXrUbge1UtAcT0K16NgUUDVeOkmMehCQPYoXI/CBUVAhetRuB61RUD8qfHSTVJFQDMzMzMz01FAzczMzMy8Q0DP91PjpdtEQIPAyqFF9kxA48KBkCxARkBYObTIdu5MQLKd76fGO0ZAVg4tsp0PRUBI4XoUrjdIQLKd76fGa09A16NwPQp3RkC4HoXrUchQQDq0yHa+T1BAmpmZmZl5UUBmZmZmZhZSQGQQWDm02ENAmG4Sg8C6SkBSuB6F61FLQOXQItv5fkdAnu+nxksnSkCuR+F6FL5CQE5iEFg5FERAZDvfT40HREAAAAAAADBRQHE9CtejoFFAO99PjZc+RECmm8QgsPJAQDMzMzMzk1FAYOXQIts5R0BxPQrXo2BRQCYxCKwcekdAqvHSTWLgQUBYObTIdj5BQOxRuB6Fy0VAaJHtfD8FSECamZmZmelQQD0K16Nw/VBA7FG4HoVrUkA9CtejcM1FQPyp8dJNQkVAmpmZmZmpSEDRItv5frpJQMP1KFyPklFAKVyPwvVYUUCPwvUoXE9RQNejcD0KZ1BAH4XrUbguUUDlpZvEIBBIQLbz/dR4+UdAiRbZzvdTTEBMN4lBYKVLQFyPwvUoPE5AeekmMQgMT0BWDi2ynd9HQMdLN4lBQERAgZVDi2znR0AGgZVDi2xEQBSuR+F6NENAdZMYBFbeS0ArhxbZzndCQDu0yHa+H0ZAc2iR7XwfTkCDwMqhRSZNQOWlm8QgIEhAd76fGi/dT0CDwMqhRfZHQPhT46WbFEJA5/up8dKNRkDFILByaDFIQPyp8dJNskNAH4XrUbhOUkCPwvUoXM9RQDeJQWDlUEhAdZMYBFa+Q0CuR+F6FK5DQK5H4XoUXlJAhetRuB6VRUD2KFyPwtVHQH9qvHST6E5AyXa+nxoXUEA/NV66SYxIQDeJQWDlYEtAKVyPwvXoUEApXI/C9RhQQEjhehSuZ1FAaJHtfD/VTEAzMzMzM7NQQAAAAAAAgEVA/Knx0k3ySUCiRbbz/fRGQCYxCKwcukRARIts5/shUEAZBFYOLWJAQFCNl24Sc1BAhetRuB6VUUCamZmZmUlRQCGwcmiRfUJAfT81Xrr5SEBcj8L1KGxRQH9qvHSTGE9Aj8L1KFxvREDl0CLb+X5GQEjhehSuV1JAFK5H4XrUUUDXo3A9CidJQM3MzMzMTFBAc2iR7XwfRkAshxbZzgdMQLx0kxgE9kVAmpmZmZk5UEAmMQisHMpIQAaBlUOLDEpAeekmMQisRkBxPQrXo7BRQD0K16NwjVFA1XjpJjEQUUDD9Shcj2JOQFg5tMh2rkZAx0s3iUEQSEDXo3A9CpdBQG3n+6nxAkdA5/up8dItSkA=",
            "dtype": "f8"
           }
          }
         ],
         "name": "1962"
        },
        {
         "data": [
          {
           "coloraxis": "coloraxis",
           "geo": "geo",
           "hovertemplate": "<b>%{hovertext}</b><br><br>year=1967<br>iso_alpha=%{location}<br>lifeExp=%{z}<extra></extra>",
           "hovertext": [
            "Afghanistan",
            "Albania",
            "Algeria",
            "Angola",
            "Argentina",
            "Australia",
            "Austria",
            "Bahrain",
            "Bangladesh",
            "Belgium",
            "Benin",
            "Bolivia",
            "Bosnia and Herzegovina",
            "Botswana",
            "Brazil",
            "Bulgaria",
            "Burkina Faso",
            "Burundi",
            "Cambodia",
            "Cameroon",
            "Canada",
            "Central African Republic",
            "Chad",
            "Chile",
            "China",
            "Colombia",
            "Comoros",
            "Congo, Dem. Rep.",
            "Congo, Rep.",
            "Costa Rica",
            "Cote d'Ivoire",
            "Croatia",
            "Cuba",
            "Czech Republic",
            "Denmark",
            "Djibouti",
            "Dominican Republic",
            "Ecuador",
            "Egypt",
            "El Salvador",
            "Equatorial Guinea",
            "Eritrea",
            "Ethiopia",
            "Finland",
            "France",
            "Gabon",
            "Gambia",
            "Germany",
            "Ghana",
            "Greece",
            "Guatemala",
            "Guinea",
            "Guinea-Bissau",
            "Haiti",
            "Honduras",
            "Hong Kong, China",
            "Hungary",
            "Iceland",
            "India",
            "Indonesia",
            "Iran",
            "Iraq",
            "Ireland",
            "Israel",
            "Italy",
            "Jamaica",
            "Japan",
            "Jordan",
            "Kenya",
            "Korea, Dem. Rep.",
            "Korea, Rep.",
            "Kuwait",
            "Lebanon",
            "Lesotho",
            "Liberia",
            "Libya",
            "Madagascar",
            "Malawi",
            "Malaysia",
            "Mali",
            "Mauritania",
            "Mauritius",
            "Mexico",
            "Mongolia",
            "Montenegro",
            "Morocco",
            "Mozambique",
            "Myanmar",
            "Namibia",
            "Nepal",
            "Netherlands",
            "New Zealand",
            "Nicaragua",
            "Niger",
            "Nigeria",
            "Norway",
            "Oman",
            "Pakistan",
            "Panama",
            "Paraguay",
            "Peru",
            "Philippines",
            "Poland",
            "Portugal",
            "Puerto Rico",
            "Reunion",
            "Romania",
            "Rwanda",
            "Sao Tome and Principe",
            "Saudi Arabia",
            "Senegal",
            "Serbia",
            "Sierra Leone",
            "Singapore",
            "Slovak Republic",
            "Slovenia",
            "Somalia",
            "South Africa",
            "Spain",
            "Sri Lanka",
            "Sudan",
            "Swaziland",
            "Sweden",
            "Switzerland",
            "Syria",
            "Taiwan",
            "Tanzania",
            "Thailand",
            "Togo",
            "Trinidad and Tobago",
            "Tunisia",
            "Turkey",
            "Uganda",
            "United Kingdom",
            "United States",
            "Uruguay",
            "Venezuela",
            "Vietnam",
            "West Bank and Gaza",
            "Yemen, Rep.",
            "Zambia",
            "Zimbabwe"
           ],
           "locations": [
            "AFG",
            "ALB",
            "DZA",
            "AGO",
            "ARG",
            "AUS",
            "AUT",
            "BHR",
            "BGD",
            "BEL",
            "BEN",
            "BOL",
            "BIH",
            "BWA",
            "BRA",
            "BGR",
            "BFA",
            "BDI",
            "KHM",
            "CMR",
            "CAN",
            "CAF",
            "TCD",
            "CHL",
            "CHN",
            "COL",
            "COM",
            "COD",
            "COG",
            "CRI",
            "CIV",
            "HRV",
            "CUB",
            "CZE",
            "DNK",
            "DJI",
            "DOM",
            "ECU",
            "EGY",
            "SLV",
            "GNQ",
            "ERI",
            "ETH",
            "FIN",
            "FRA",
            "GAB",
            "GMB",
            "DEU",
            "GHA",
            "GRC",
            "GTM",
            "GIN",
            "GNB",
            "HTI",
            "HND",
            "HKG",
            "HUN",
            "ISL",
            "IND",
            "IDN",
            "IRN",
            "IRQ",
            "IRL",
            "ISR",
            "ITA",
            "JAM",
            "JPN",
            "JOR",
            "KEN",
            "KOR",
            "KOR",
            "KWT",
            "LBN",
            "LSO",
            "LBR",
            "LBY",
            "MDG",
            "MWI",
            "MYS",
            "MLI",
            "MRT",
            "MUS",
            "MEX",
            "MNG",
            "MNE",
            "MAR",
            "MOZ",
            "MMR",
            "NAM",
            "NPL",
            "NLD",
            "NZL",
            "NIC",
            "NER",
            "NGA",
            "NOR",
            "OMN",
            "PAK",
            "PAN",
            "PRY",
            "PER",
            "PHL",
            "POL",
            "PRT",
            "PRI",
            "REU",
            "ROU",
            "RWA",
            "STP",
            "SAU",
            "SEN",
            "SRB",
            "SLE",
            "SGP",
            "SVK",
            "SVN",
            "SOM",
            "ZAF",
            "ESP",
            "LKA",
            "SDN",
            "SWZ",
            "SWE",
            "CHE",
            "SYR",
            "TWN",
            "TZA",
            "THA",
            "TGO",
            "TTO",
            "TUN",
            "TUR",
            "UGA",
            "GBR",
            "USA",
            "URY",
            "VEN",
            "VNM",
            "PSE",
            "YEM",
            "ZMB",
            "ZWE"
           ],
           "name": "",
           "type": "choropleth",
           "z": {
            "bdata": "w/UoXI8CQUCuR+F6FI5QQGq8dJMYtElArkfhehT+QUB/arx0k2hQQGZmZmZmxlFAKVyPwvWIUUCgGi/dJPZNQESLbOf7uUVAXI/C9Si8UUDhehSuR3FGQGq8dJMYhEZAw/UoXI8yUECgGi/dJKZKQDeJQWDl0ExAexSuR+GaUUDwp8ZLN1lEQKAaL90kxkVAhetRuB61RkCDwMqhRWZGQLgehetRCFJAd76fGi+9RECxcmiR7cxFQG3n+6nxQk5A/+xHisgwTUAlBoGVQ/tNQCPb+X5qPEdAukkMAisHRkCF61G4HgVKQEFg5dAiW1BAzczMzMysR0AAAAAAACBRQMP1KFyPElFAuB6F61GYUUA9CtejcD1SQLbz/dR4CUVA5aWbxCBgTEAQWDm0yFZMQC/dJAaBpUhAPQrXo3DtS0B1kxgEVn5DQNR46SYxGEVAH4XrUbgORUCF61G4HnVRQDMzMzMz41FABoGVQ4tMRkAEVg4tsu1BQDMzMzMzs1FA8KfGSzcJSEAAAAAAAMBRQDdeukkMAklA8KfGSzeZQkDl0CLb+b5BQMl2vp8aH0dAg8DKoUV2SUAAAAAAAIBRQAAAAAAAYFFAH4XrUbhuUkBkEFg5tJhHQAisHFpk+0ZAeekmMQg8SkCYbhKDwDpLQIXrUbgexVFAAAAAAACwUUCkcD0K18NRQHE9Ctej4FBA7FG4HoXbUUCNl24Sg9BJQMHKoUW2U0lAf2q8dJP4TUDP91PjpdtMQA4tsp3vJ1BAj8L1KFzvT0Dl0CLb+T5IQPhT46WbxERAkxgEVg4dSUBU46WbxHBFQHWTGARWvkNAc2iR7XyvTUB1kxgEVj5DQKJFtvP9JEdAnu+nxkvHTkCuR+F6FA5OQKrx0k1ioElACKwcWmTLUEB7FK5H4SpJQFg5tMh2DkNAjZduEoOwSEAxCKwcWpRJQCPb+X5qvERAFK5H4Xp0UkDhehSuR+FRQP3UeOkm8UlAyXa+nxoPRECF61G4HoVEQIXrUbgehVJAWDm0yHZ+R0BmZmZmZuZIQAaBlUOLBFBAv58aL908UEApXI/C9bhJQPyp8dJNMkxA16NwPQpnUUBmZmZmZqZQQGZmZmZmxlFATDeJQWBFTkAzMzMzM7NQQM3MzMzMDEZAZmZmZmY2S0AX2c73U/NIQPLSTWIQyEVA0SLb+X66UEBYObTIdg5BQAaBlUOL/FBAH4XrUbi+UUDsUbgehUtRQJMYBFYOfUNALbKd76f2SUBcj8L1KNxRQBsv3SQGEVBA5/up8dJtRUAbL90kBlFHQArXo3A9ilJA4XoUrkcxUkCkcD0K19NKQAAAAAAA4FBAN4lBYOXgRkAUrkfheiRNQN9PjZduYkdAmpmZmZlZUEAQWDm0yAZKQGC6SQwCK0tASgwCK4cGSEDXo3A9CtdRQHE9CtejsFFAy6FFtvMdUUBaZDvfT71PQCUGgZVD60dAVOOlm8TQSUDLoUW2831CQPyp8dJN4kdAj8L1KFz/SkA=",
            "dtype": "f8"
           }
          }
         ],
         "name": "1967"
        },
        {
         "data": [
          {
           "coloraxis": "coloraxis",
           "geo": "geo",
           "hovertemplate": "<b>%{hovertext}</b><br><br>year=1972<br>iso_alpha=%{location}<br>lifeExp=%{z}<extra></extra>",
           "hovertext": [
            "Afghanistan",
            "Albania",
            "Algeria",
            "Angola",
            "Argentina",
            "Australia",
            "Austria",
            "Bahrain",
            "Bangladesh",
            "Belgium",
            "Benin",
            "Bolivia",
            "Bosnia and Herzegovina",
            "Botswana",
            "Brazil",
            "Bulgaria",
            "Burkina Faso",
            "Burundi",
            "Cambodia",
            "Cameroon",
            "Canada",
            "Central African Republic",
            "Chad",
            "Chile",
            "China",
            "Colombia",
            "Comoros",
            "Congo, Dem. Rep.",
            "Congo, Rep.",
            "Costa Rica",
            "Cote d'Ivoire",
            "Croatia",
            "Cuba",
            "Czech Republic",
            "Denmark",
            "Djibouti",
            "Dominican Republic",
            "Ecuador",
            "Egypt",
            "El Salvador",
            "Equatorial Guinea",
            "Eritrea",
            "Ethiopia",
            "Finland",
            "France",
            "Gabon",
            "Gambia",
            "Germany",
            "Ghana",
            "Greece",
            "Guatemala",
            "Guinea",
            "Guinea-Bissau",
            "Haiti",
            "Honduras",
            "Hong Kong, China",
            "Hungary",
            "Iceland",
            "India",
            "Indonesia",
            "Iran",
            "Iraq",
            "Ireland",
            "Israel",
            "Italy",
            "Jamaica",
            "Japan",
            "Jordan",
            "Kenya",
            "Korea, Dem. Rep.",
            "Korea, Rep.",
            "Kuwait",
            "Lebanon",
            "Lesotho",
            "Liberia",
            "Libya",
            "Madagascar",
            "Malawi",
            "Malaysia",
            "Mali",
            "Mauritania",
            "Mauritius",
            "Mexico",
            "Mongolia",
            "Montenegro",
            "Morocco",
            "Mozambique",
            "Myanmar",
            "Namibia",
            "Nepal",
            "Netherlands",
            "New Zealand",
            "Nicaragua",
            "Niger",
            "Nigeria",
            "Norway",
            "Oman",
            "Pakistan",
            "Panama",
            "Paraguay",
            "Peru",
            "Philippines",
            "Poland",
            "Portugal",
            "Puerto Rico",
            "Reunion",
            "Romania",
            "Rwanda",
            "Sao Tome and Principe",
            "Saudi Arabia",
            "Senegal",
            "Serbia",
            "Sierra Leone",
            "Singapore",
            "Slovak Republic",
            "Slovenia",
            "Somalia",
            "South Africa",
            "Spain",
            "Sri Lanka",
            "Sudan",
            "Swaziland",
            "Sweden",
            "Switzerland",
            "Syria",
            "Taiwan",
            "Tanzania",
            "Thailand",
            "Togo",
            "Trinidad and Tobago",
            "Tunisia",
            "Turkey",
            "Uganda",
            "United Kingdom",
            "United States",
            "Uruguay",
            "Venezuela",
            "Vietnam",
            "West Bank and Gaza",
            "Yemen, Rep.",
            "Zambia",
            "Zimbabwe"
           ],
           "locations": [
            "AFG",
            "ALB",
            "DZA",
            "AGO",
            "ARG",
            "AUS",
            "AUT",
            "BHR",
            "BGD",
            "BEL",
            "BEN",
            "BOL",
            "BIH",
            "BWA",
            "BRA",
            "BGR",
            "BFA",
            "BDI",
            "KHM",
            "CMR",
            "CAN",
            "CAF",
            "TCD",
            "CHL",
            "CHN",
            "COL",
            "COM",
            "COD",
            "COG",
            "CRI",
            "CIV",
            "HRV",
            "CUB",
            "CZE",
            "DNK",
            "DJI",
            "DOM",
            "ECU",
            "EGY",
            "SLV",
            "GNQ",
            "ERI",
            "ETH",
            "FIN",
            "FRA",
            "GAB",
            "GMB",
            "DEU",
            "GHA",
            "GRC",
            "GTM",
            "GIN",
            "GNB",
            "HTI",
            "HND",
            "HKG",
            "HUN",
            "ISL",
            "IND",
            "IDN",
            "IRN",
            "IRQ",
            "IRL",
            "ISR",
            "ITA",
            "JAM",
            "JPN",
            "JOR",
            "KEN",
            "KOR",
            "KOR",
            "KWT",
            "LBN",
            "LSO",
            "LBR",
            "LBY",
            "MDG",
            "MWI",
            "MYS",
            "MLI",
            "MRT",
            "MUS",
            "MEX",
            "MNG",
            "MNE",
            "MAR",
            "MOZ",
            "MMR",
            "NAM",
            "NPL",
            "NLD",
            "NZL",
            "NIC",
            "NER",
            "NGA",
            "NOR",
            "OMN",
            "PAK",
            "PAN",
            "PRY",
            "PER",
            "PHL",
            "POL",
            "PRT",
            "PRI",
            "REU",
            "ROU",
            "RWA",
            "STP",
            "SAU",
            "SEN",
            "SRB",
            "SLE",
            "SGP",
            "SVK",
            "SVN",
            "SOM",
            "ZAF",
            "ESP",
            "LKA",
            "SDN",
            "SWZ",
            "SWE",
            "CHE",
            "SYR",
            "TWN",
            "TZA",
            "THA",
            "TGO",
            "TTO",
            "TUN",
            "TUR",
            "UGA",
            "GBR",
            "USA",
            "URY",
            "VEN",
            "VNM",
            "PSE",
            "YEM",
            "ZMB",
            "ZWE"
           ],
           "name": "",
           "type": "choropleth",
           "z": {
            "bdata": "JQaBlUMLQkBcj8L1KOxQQPyp8dJNQktAEFg5tMj2QkBcj8L1KMRQQOxRuB6F+1FAuB6F61GoUUBmZmZmZqZPQMdLN4lBoEZAXI/C9SjcUUBvEoPAyoFHQAisHFpkW0dAzczMzMzcUEBQjZduEgNMQI2XbhKDwE1AmpmZmZm5UUDP91PjpctFQJ7vp8ZLB0ZAf2q8dJMoRECDwMqhRYZHQLgehetROFJA0SLb+X66RUBGtvP91MhGQJzEILByuE9AARO4dTePT0A7tMh2vs9OQEa28/3UeEhAO99PjZf+RkBqvHSTGHRLQHSTGARW9lBASgwCK4fmSEDXo3A9CmdRQIPAyqFFrlFAw/UoXI+SUUCuR+F6FF5SQAMrhxbZLkZAVOOlm8TQTUDazvdT42VNQKjGSzeJkUlA0SLb+X4aTUA1XrpJDEJEQBkEVg4tEkZAUrgehevBRUBI4XoUrrdRQLgehetRGFJAuB6F61FYSECBlUOLbCdDQAAAAAAAwFFAAAAAAADwSED2KFyPwhVSQFg5tMh23kpAsp3vp8ZrQ0CR7Xw/NT5CQEw3iUFgBUhA/dR46SbxSkAAAAAAAABSQHE9CtejcFFAPQrXo3CdUkAX2c73U1NJQESLbOf7mUhAy6FFtvOdS0CamZmZmXlMQFK4HoXr0VFAuB6F61HoUUBcj8L1KAxSQAAAAAAAQFFAexSuR+FaUkDdJAaBlUNMQGQ730+Nx0pA5/up8dL9T0B1kxgEVk5PQCGwcmiR7VBAbef7qfFaUEAZBFYOLeJIQDvfT42XTkVAbef7qfFiSkCxcmiR7WxGQDdeukkM4kRA4XoUrkeBT0CTGARWDv1DQA4tsp3vN0hARrbz/dR4T0CR7Xw/NS5PQI2XbhKD4EpAZBBYObSoUUB1kxgEVm5KQESLbOf7KURAKVyPwvWISkDl0CLb+e5KQD81XrpJ/EVAAAAAAABwUkApXI/C9fhRQBfZzvdTk0tA2c73U+NFREAOAiuHFmlFQPYoXI/ClVJA/Knx0k0SSkD0/dR46fZJQOj7qfHSjVBAXI/C9Sh0UEDTTWIQWLlLQLgehetRCE1AZmZmZma2UUBxPQrXo1BRQArXo3A9ClJAqMZLN4kRUEA9CtejcE1RQM3MzMzMTEZAPQrXo3A9TEDFILByaPFKQLgehetR6EZAzczMzMwsUUAzMzMzM7NBQNNNYhBYYVFAZmZmZmaWUUAUrkfhenRRQAaBlUOLfERADgIrhxbZSkCkcD0K10NSQKabxCCwQlBAtMh2vp+KRkAtsp3vp8ZIQK5H4XoUrlJAUrgehetxUkDazvdT46VMQClcj8L1WFFAj8L1KFzPR0CkcD0K1zNOQP3UeOkm4UhAmpmZmZl5UECTGARWDs1LQHE9CtejgExAN166SQyCSUBxPQrXowBSQPYoXI/C1VFAUI2XbhIrUUAhsHJokW1QQI2XbhKDIElAarx0kxhETEAGgZVDi+xDQARWDi2yDUlA4XoUrkfRS0A=",
            "dtype": "f8"
           }
          }
         ],
         "name": "1972"
        },
        {
         "data": [
          {
           "coloraxis": "coloraxis",
           "geo": "geo",
           "hovertemplate": "<b>%{hovertext}</b><br><br>year=1977<br>iso_alpha=%{location}<br>lifeExp=%{z}<extra></extra>",
           "hovertext": [
            "Afghanistan",
            "Albania",
            "Algeria",
            "Angola",
            "Argentina",
            "Australia",
            "Austria",
            "Bahrain",
            "Bangladesh",
            "Belgium",
            "Benin",
            "Bolivia",
            "Bosnia and Herzegovina",
            "Botswana",
            "Brazil",
            "Bulgaria",
            "Burkina Faso",
            "Burundi",
            "Cambodia",
            "Cameroon",
            "Canada",
            "Central African Republic",
            "Chad",
            "Chile",
            "China",
            "Colombia",
            "Comoros",
            "Congo, Dem. Rep.",
            "Congo, Rep.",
            "Costa Rica",
            "Cote d'Ivoire",
            "Croatia",
            "Cuba",
            "Czech Republic",
            "Denmark",
            "Djibouti",
            "Dominican Republic",
            "Ecuador",
            "Egypt",
            "El Salvador",
            "Equatorial Guinea",
            "Eritrea",
            "Ethiopia",
            "Finland",
            "France",
            "Gabon",
            "Gambia",
            "Germany",
            "Ghana",
            "Greece",
            "Guatemala",
            "Guinea",
            "Guinea-Bissau",
            "Haiti",
            "Honduras",
            "Hong Kong, China",
            "Hungary",
            "Iceland",
            "India",
            "Indonesia",
            "Iran",
            "Iraq",
            "Ireland",
            "Israel",
            "Italy",
            "Jamaica",
            "Japan",
            "Jordan",
            "Kenya",
            "Korea, Dem. Rep.",
            "Korea, Rep.",
            "Kuwait",
            "Lebanon",
            "Lesotho",
            "Liberia",
            "Libya",
            "Madagascar",
            "Malawi",
            "Malaysia",
            "Mali",
            "Mauritania",
            "Mauritius",
            "Mexico",
            "Mongolia",
            "Montenegro",
            "Morocco",
            "Mozambique",
            "Myanmar",
            "Namibia",
            "Nepal",
            "Netherlands",
            "New Zealand",
            "Nicaragua",
            "Niger",
            "Nigeria",
            "Norway",
            "Oman",
            "Pakistan",
            "Panama",
            "Paraguay",
            "Peru",
            "Philippines",
            "Poland",
            "Portugal",
            "Puerto Rico",
            "Reunion",
            "Romania",
            "Rwanda",
            "Sao Tome and Principe",
            "Saudi Arabia",
            "Senegal",
            "Serbia",
            "Sierra Leone",
            "Singapore",
            "Slovak Republic",
            "Slovenia",
            "Somalia",
            "South Africa",
            "Spain",
            "Sri Lanka",
            "Sudan",
            "Swaziland",
            "Sweden",
            "Switzerland",
            "Syria",
            "Taiwan",
            "Tanzania",
            "Thailand",
            "Togo",
            "Trinidad and Tobago",
            "Tunisia",
            "Turkey",
            "Uganda",
            "United Kingdom",
            "United States",
            "Uruguay",
            "Venezuela",
            "Vietnam",
            "West Bank and Gaza",
            "Yemen, Rep.",
            "Zambia",
            "Zimbabwe"
           ],
           "locations": [
            "AFG",
            "ALB",
            "DZA",
            "AGO",
            "ARG",
            "AUS",
            "AUT",
            "BHR",
            "BGD",
            "BEL",
            "BEN",
            "BOL",
            "BIH",
            "BWA",
            "BRA",
            "BGR",
            "BFA",
            "BDI",
            "KHM",
            "CMR",
            "CAN",
            "CAF",
            "TCD",
            "CHL",
            "CHN",
            "COL",
            "COM",
            "COD",
            "COG",
            "CRI",
            "CIV",
            "HRV",
            "CUB",
            "CZE",
            "DNK",
            "DJI",
            "DOM",
            "ECU",
            "EGY",
            "SLV",
            "GNQ",
            "ERI",
            "ETH",
            "FIN",
            "FRA",
            "GAB",
            "GMB",
            "DEU",
            "GHA",
            "GRC",
            "GTM",
            "GIN",
            "GNB",
            "HTI",
            "HND",
            "HKG",
            "HUN",
            "ISL",
            "IND",
            "IDN",
            "IRN",
            "IRQ",
            "IRL",
            "ISR",
            "ITA",
            "JAM",
            "JPN",
            "JOR",
            "KEN",
            "KOR",
            "KOR",
            "KWT",
            "LBN",
            "LSO",
            "LBR",
            "LBY",
            "MDG",
            "MWI",
            "MYS",
            "MLI",
            "MRT",
            "MUS",
            "MEX",
            "MNG",
            "MNE",
            "MAR",
            "MOZ",
            "MMR",
            "NAM",
            "NPL",
            "NLD",
            "NZL",
            "NIC",
            "NER",
            "NGA",
            "NOR",
            "OMN",
            "PAK",
            "PAN",
            "PRY",
            "PER",
            "PHL",
            "POL",
            "PRT",
            "PRI",
            "REU",
            "ROU",
            "RWA",
            "STP",
            "SAU",
            "SEN",
            "SRB",
            "SLE",
            "SGP",
            "SVK",
            "SVN",
            "SOM",
            "ZAF",
            "ESP",
            "LKA",
            "SDN",
            "SWZ",
            "SWE",
            "CHE",
            "SYR",
            "TWN",
            "TZA",
            "THA",
            "TGO",
            "TTO",
            "TUN",
            "TUR",
            "UGA",
            "GBR",
            "USA",
            "URY",
            "VEN",
            "VNM",
            "PSE",
            "YEM",
            "ZMB",
            "ZWE"
           ],
           "name": "",
           "type": "choropleth",
           "z": {
            "bdata": "8tJNYhA4Q0DsUbgehTtRQG8Sg8DKAU1A5/up8dK9Q0ARWDm0yB5RQI/C9ShcX1JAexSuR+EKUkDLoUW282VQQKAaL90kdkdAMzMzMzMzUkC4HoXrUZhIQG3n+6nxAklA16NwPQp3UUBGtvP91KhNQDvfT42Xvk5ApHA9CtezUUCoxks3iRFHQBSuR+F69EZAuB6F61E4P0A9CtejcK1IQD0K16NwjVJAMzMzMzNjR0AbL90kBrFHQBbZzvdTw1BAsrrVc9L7T0BCYOXQIutPQNR46SYxeElA9P3UeOnmR0AAAAAAANBLQAAAAAAAsFFAHVpkO98vSkApXI/C9ahRQKjGSzeJKVJAPQrXo3CtUUBcj8L1KKxSQN9PjZduQkdAvp8aL93kTkBI4XoUrqdOQEa28/3UqEpADgIrhxZZTEBQjZduEgNFQBSuR+F6REZA4XoUrkdBRkDhehSuRyFSQIXrUbgedVJAhetRuB5lSkCyne+nxutEQAAAAAAAIFJAVOOlm8TgSUDsUbgehWtSQMHKoUW2A0xAqMZLN4lhREDsUbgehbtCQKAaL90k9khA+n5qvHSzTEBmZmZmZmZSQM3MzMzMfFFA16NwPQoHU0C0yHa+nxpLQGDl0CLbWUpAYOXQItvZTEC+nxov3TROQFK4HoXrAVJApHA9CtdDUkAfhetRuF5SQNejcD0Kh1FAuB6F61HYUkD91HjpJpFOQKRwPQrXE0xAGARWDi3KUEAbL90kBjFQQMuhRbbzVVFAdJMYBFaGUEC0yHa+nxpKQG8Sg8DK4UVAf2q8dJO4TEBU46WbxHBHQBkEVg4t4kVAqvHSTWJQUEAIrBxaZNtEQJMYBFYObUlA7FG4HoU7UEA1XrpJDEJQQAMrhxbZvktATmIQWDlEUkA9CtejcN1LQI/C9ShcP0VAZDvfT40HTEAOLbKd7zdMQDu0yHa+X0dAj8L1KFzPUkCuR+F6FA5SQFyPwvUovExAaJHtfD+lREBvEoPAykFGQEjhehSu11JA5dAi2/muTEAv3SQGgQVLQN0kBoGVK1FAPN9PjZeWUEDwp8ZLNzlNQEjhehSuB05AexSuR+GqUUAK16NwPZpRQFyPwvUoXFJAarx0kxjEUEA9CtejcF1RQAAAAAAAgEZAZmZmZmZGTUC4HoXrUVhNQI2XbhKDcEhAMzMzMzOTUUC+nxov3WRCQHsUrkfhslFAzczMzMycUUCuR+F6FL5RQOkmMQis/ERA+n5qvHTDS0ApXI/C9ZhSQNv5fmq8fFBAZmZmZmbmR0Db+X5qvERKQFyPwvUo3FJAKVyPwvXYUkApXI/C9ZhOQPYoXI/CpVFAEoPAyqH1SECsHFpkOz9PQKjGSzeJcUpAMzMzMzMTUUBCYOXQIutNQDeJQWDlwE1AzczMzMwsSUBxPQrXozBSQLgehetRWFJAEVg5tMheUUB3vp8aL91QQG8Sg8DK4UtAUrgehethTkBmZmZmZhZGQMUgsHJosUlAg8DKoUXWTEA=",
            "dtype": "f8"
           }
          }
         ],
         "name": "1977"
        },
        {
         "data": [
          {
           "coloraxis": "coloraxis",
           "geo": "geo",
           "hovertemplate": "<b>%{hovertext}</b><br><br>year=1982<br>iso_alpha=%{location}<br>lifeExp=%{z}<extra></extra>",
           "hovertext": [
            "Afghanistan",
            "Albania",
            "Algeria",
            "Angola",
            "Argentina",
            "Australia",
            "Austria",
            "Bahrain",
            "Bangladesh",
            "Belgium",
            "Benin",
            "Bolivia",
            "Bosnia and Herzegovina",
            "Botswana",
            "Brazil",
            "Bulgaria",
            "Burkina Faso",
            "Burundi",
            "Cambodia",
            "Cameroon",
            "Canada",
            "Central African Republic",
            "Chad",
            "Chile",
            "China",
            "Colombia",
            "Comoros",
            "Congo, Dem. Rep.",
            "Congo, Rep.",
            "Costa Rica",
            "Cote d'Ivoire",
            "Croatia",
            "Cuba",
            "Czech Republic",
            "Denmark",
            "Djibouti",
            "Dominican Republic",
            "Ecuador",
            "Egypt",
            "El Salvador",
            "Equatorial Guinea",
            "Eritrea",
            "Ethiopia",
            "Finland",
            "France",
            "Gabon",
            "Gambia",
            "Germany",
            "Ghana",
            "Greece",
            "Guatemala",
            "Guinea",
            "Guinea-Bissau",
            "Haiti",
            "Honduras",
            "Hong Kong, China",
            "Hungary",
            "Iceland",
            "India",
            "Indonesia",
            "Iran",
            "Iraq",
            "Ireland",
            "Israel",
            "Italy",
            "Jamaica",
            "Japan",
            "Jordan",
            "Kenya",
            "Korea, Dem. Rep.",
            "Korea, Rep.",
            "Kuwait",
            "Lebanon",
            "Lesotho",
            "Liberia",
            "Libya",
            "Madagascar",
            "Malawi",
            "Malaysia",
            "Mali",
            "Mauritania",
            "Mauritius",
            "Mexico",
            "Mongolia",
            "Montenegro",
            "Morocco",
            "Mozambique",
            "Myanmar",
            "Namibia",
            "Nepal",
            "Netherlands",
            "New Zealand",
            "Nicaragua",
            "Niger",
            "Nigeria",
            "Norway",
            "Oman",
            "Pakistan",
            "Panama",
            "Paraguay",
            "Peru",
            "Philippines",
            "Poland",
            "Portugal",
            "Puerto Rico",
            "Reunion",
            "Romania",
            "Rwanda",
            "Sao Tome and Principe",
            "Saudi Arabia",
            "Senegal",
            "Serbia",
            "Sierra Leone",
            "Singapore",
            "Slovak Republic",
            "Slovenia",
            "Somalia",
            "South Africa",
            "Spain",
            "Sri Lanka",
            "Sudan",
            "Swaziland",
            "Sweden",
            "Switzerland",
            "Syria",
            "Taiwan",
            "Tanzania",
            "Thailand",
            "Togo",
            "Trinidad and Tobago",
            "Tunisia",
            "Turkey",
            "Uganda",
            "United Kingdom",
            "United States",
            "Uruguay",
            "Venezuela",
            "Vietnam",
            "West Bank and Gaza",
            "Yemen, Rep.",
            "Zambia",
            "Zimbabwe"
           ],
           "locations": [
            "AFG",
            "ALB",
            "DZA",
            "AGO",
            "ARG",
            "AUS",
            "AUT",
            "BHR",
            "BGD",
            "BEL",
            "BEN",
            "BOL",
            "BIH",
            "BWA",
            "BRA",
            "BGR",
            "BFA",
            "BDI",
            "KHM",
            "CMR",
            "CAN",
            "CAF",
            "TCD",
            "CHL",
            "CHN",
            "COL",
            "COM",
            "COD",
            "COG",
            "CRI",
            "CIV",
            "HRV",
            "CUB",
            "CZE",
            "DNK",
            "DJI",
            "DOM",
            "ECU",
            "EGY",
            "SLV",
            "GNQ",
            "ERI",
            "ETH",
            "FIN",
            "FRA",
            "GAB",
            "GMB",
            "DEU",
            "GHA",
            "GRC",
            "GTM",
            "GIN",
            "GNB",
            "HTI",
            "HND",
            "HKG",
            "HUN",
            "ISL",
            "IND",
            "IDN",
            "IRN",
            "IRQ",
            "IRL",
            "ISR",
            "ITA",
            "JAM",
            "JPN",
            "JOR",
            "KEN",
            "KOR",
            "KOR",
            "KWT",
            "LBN",
            "LSO",
            "LBR",
            "LBY",
            "MDG",
            "MWI",
            "MYS",
            "MLI",
            "MRT",
            "MUS",
            "MEX",
            "MNG",
            "MNE",
            "MAR",
            "MOZ",
            "MMR",
            "NAM",
            "NPL",
            "NLD",
            "NZL",
            "NIC",
            "NER",
            "NGA",
            "NOR",
            "OMN",
            "PAK",
            "PAN",
            "PRY",
            "PER",
            "PHL",
            "POL",
            "PRT",
            "PRI",
            "REU",
            "ROU",
            "RWA",
            "STP",
            "SAU",
            "SEN",
            "SRB",
            "SLE",
            "SGP",
            "SVK",
            "SVN",
            "SOM",
            "ZAF",
            "ESP",
            "LKA",
            "SDN",
            "SWZ",
            "SWE",
            "CHE",
            "SYR",
            "TWN",
            "TZA",
            "THA",
            "TGO",
            "TTO",
            "TUN",
            "TUR",
            "UGA",
            "GBR",
            "USA",
            "URY",
            "VEN",
            "VNM",
            "PSE",
            "YEM",
            "ZMB",
            "ZWE"
           ],
           "name": "",
           "type": "choropleth",
           "z": {
            "bdata": "WmQ730/tQ0B7FK5H4ZpRQMl2vp8ar05Af2q8dJP4Q0A/NV66SXxRQI/C9Shcr1JA7FG4HoVLUkAW2c73U0NRQP3UeOkmAUlA7FG4HoV7UkDByqFFtnNJQMuhRbbz7UpAXI/C9SisUUDLoUW2871OQGC6SQwCq09AhetRuB7FUUBWDi2ynQ9IQD81XrpJvEdA0SLb+X56SUBgukkMAntKQHE9Ctej8FJA9ihcj8IlSEAZBFYOLcJIQFyPwvUopFFAmpmZmZlhUEBvEoPAyqlQQIGVQ4tsd0pAMQisHFrkR0ApXI/C9VhMQM3MzMzMXFJA5/up8dL9SkA9CtejcJ1RQNnO91PjbVJAPQrXo3C9UUC4HoXrUahSQA4tsp3vZ0hAkxgEVg7dT0DZzvdT4xVQQFTjpZvEAExAWmQ7309NTEDb+X5qvNRFQFK4HoXr8UVAaJHtfD91RkAzMzMzM6NSQClcj8L1uFJA1HjpJjFITEAK16NwPcpGQDMzMzMzc1JArBxaZDvfSkCPwvUoXM9SQKjGSzeJEU1AN166SQxyRUBg5dAi26lDQGC6SQwCu0lAMQisHFp0TkDNzMzMzNxSQClcj8L1WFFAj8L1KFw/U0A/NV66SUxMQDEIrBxaFExAj8L1KFzPTUC+nxov3QRPQGZmZmZmRlJAzczMzMycUkAfhetRuL5SQD0K16NwzVFA16NwPQpHU0A730+Nl95PQDdeukkMYk1AZmZmZmZGUUAdWmQ738dQQLKd76fG01FA9P3UeOm+UEBEi2zn+4lLQJMYBFYObUZApHA9CtcTT0B56SYxCHxIQBkEVg4t0kZAAAAAAAAAUUBoke18P/VFQOkmMQiszEpAL90kBoGtUEBSuB6F69lQQDvfT42XvkxAWDm0yHaGUkAzMzMzM9NNQPYoXI/CZUVAukkMAisHTUCWQ4ts53tNQHnpJjEIzEhAMzMzMzMDU0D2KFyPwnVSQKAaL90kpk1ABoGVQ4tMRUB9PzVeuulGQK5H4XoU/lJAd76fGi9dT0BOYhBYORRMQJHtfD81nlFADi2yne+3UECJFtnO97NOQNEi2/l+Ck9AFK5H4XrUUUDhehSuRzFSQAAAAAAAcFJAcT0K16N4UUAK16NwPWpRQJZDi2znG0dAsXJoke0sTkCoxks3iYFPQI2XbhKDMEpA7Xw/NV6KUUApXI/C9ThDQHE9Ctej8FFAMzMzMzOzUUB56SYxCMRRQArXo3A9ekVA+FPjpZsUTUAzMzMzMxNTQJzEILByMFFAJQaBlUMrSUAshxbZzsdLQHsUrkfhGlNAPQrXo3ANU0D2KFyPwiVQQArXo3A9ClJA5/up8dJNSUCR7Xw/NSZQQD81XrpJvEtAaJHtfD81UUBQjZduEgNQQPhT46WbhE5A6SYxCKzsSEDD9Shcj4JSQJqZmZmZqVJA7FG4HoWzUUDP91PjpSNRQJzEILByaE1ARIts5/sZUEBYObTIdo5IQA4CK4cW6UlAWDm0yHYuTkA=",
            "dtype": "f8"
           }
          }
         ],
         "name": "1982"
        },
        {
         "data": [
          {
           "coloraxis": "coloraxis",
           "geo": "geo",
           "hovertemplate": "<b>%{hovertext}</b><br><br>year=1987<br>iso_alpha=%{location}<br>lifeExp=%{z}<extra></extra>",
           "hovertext": [
            "Afghanistan",
            "Albania",
            "Algeria",
            "Angola",
            "Argentina",
            "Australia",
            "Austria",
            "Bahrain",
            "Bangladesh",
            "Belgium",
            "Benin",
            "Bolivia",
            "Bosnia and Herzegovina",
            "Botswana",
            "Brazil",
            "Bulgaria",
            "Burkina Faso",
            "Burundi",
            "Cambodia",
            "Cameroon",
            "Canada",
            "Central African Republic",
            "Chad",
            "Chile",
            "China",
            "Colombia",
            "Comoros",
            "Congo, Dem. Rep.",
            "Congo, Rep.",
            "Costa Rica",
            "Cote d'Ivoire",
            "Croatia",
            "Cuba",
            "Czech Republic",
            "Denmark",
            "Djibouti",
            "Dominican Republic",
            "Ecuador",
            "Egypt",
            "El Salvador",
            "Equatorial Guinea",
            "Eritrea",
            "Ethiopia",
            "Finland",
            "France",
            "Gabon",
            "Gambia",
            "Germany",
            "Ghana",
            "Greece",
            "Guatemala",
            "Guinea",
            "Guinea-Bissau",
            "Haiti",
            "Honduras",
            "Hong Kong, China",
            "Hungary",
            "Iceland",
            "India",
            "Indonesia",
            "Iran",
            "Iraq",
            "Ireland",
            "Israel",
            "Italy",
            "Jamaica",
            "Japan",
            "Jordan",
            "Kenya",
            "Korea, Dem. Rep.",
            "Korea, Rep.",
            "Kuwait",
            "Lebanon",
            "Lesotho",
            "Liberia",
            "Libya",
            "Madagascar",
            "Malawi",
            "Malaysia",
            "Mali",
            "Mauritania",
            "Mauritius",
            "Mexico",
            "Mongolia",
            "Montenegro",
            "Morocco",
            "Mozambique",
            "Myanmar",
            "Namibia",
            "Nepal",
            "Netherlands",
            "New Zealand",
            "Nicaragua",
            "Niger",
            "Nigeria",
            "Norway",
            "Oman",
            "Pakistan",
            "Panama",
            "Paraguay",
            "Peru",
            "Philippines",
            "Poland",
            "Portugal",
            "Puerto Rico",
            "Reunion",
            "Romania",
            "Rwanda",
            "Sao Tome and Principe",
            "Saudi Arabia",
            "Senegal",
            "Serbia",
            "Sierra Leone",
            "Singapore",
            "Slovak Republic",
            "Slovenia",
            "Somalia",
            "South Africa",
            "Spain",
            "Sri Lanka",
            "Sudan",
            "Swaziland",
            "Sweden",
            "Switzerland",
            "Syria",
            "Taiwan",
            "Tanzania",
            "Thailand",
            "Togo",
            "Trinidad and Tobago",
            "Tunisia",
            "Turkey",
            "Uganda",
            "United Kingdom",
            "United States",
            "Uruguay",
            "Venezuela",
            "Vietnam",
            "West Bank and Gaza",
            "Yemen, Rep.",
            "Zambia",
            "Zimbabwe"
           ],
           "locations": [
            "AFG",
            "ALB",
            "DZA",
            "AGO",
            "ARG",
            "AUS",
            "AUT",
            "BHR",
            "BGD",
            "BEL",
            "BEN",
            "BOL",
            "BIH",
            "BWA",
            "BRA",
            "BGR",
            "BFA",
            "BDI",
            "KHM",
            "CMR",
            "CAN",
            "CAF",
            "TCD",
            "CHL",
            "CHN",
            "COL",
            "COM",
            "COD",
            "COG",
            "CRI",
            "CIV",
            "HRV",
            "CUB",
            "CZE",
            "DNK",
            "DJI",
            "DOM",
            "ECU",
            "EGY",
            "SLV",
            "GNQ",
            "ERI",
            "ETH",
            "FIN",
            "FRA",
            "GAB",
            "GMB",
            "DEU",
            "GHA",
            "GRC",
            "GTM",
            "GIN",
            "GNB",
            "HTI",
            "HND",
            "HKG",
            "HUN",
            "ISL",
            "IND",
            "IDN",
            "IRN",
            "IRQ",
            "IRL",
            "ISR",
            "ITA",
            "JAM",
            "JPN",
            "JOR",
            "KEN",
            "KOR",
            "KOR",
            "KWT",
            "LBN",
            "LSO",
            "LBR",
            "LBY",
            "MDG",
            "MWI",
            "MYS",
            "MLI",
            "MRT",
            "MUS",
            "MEX",
            "MNG",
            "MNE",
            "MAR",
            "MOZ",
            "MMR",
            "NAM",
            "NPL",
            "NLD",
            "NZL",
            "NIC",
            "NER",
            "NGA",
            "NOR",
            "OMN",
            "PAK",
            "PAN",
            "PRY",
            "PER",
            "PHL",
            "POL",
            "PRT",
            "PRI",
            "REU",
            "ROU",
            "RWA",
            "STP",
            "SAU",
            "SEN",
            "SRB",
            "SLE",
            "SGP",
            "SVK",
            "SVN",
            "SOM",
            "ZAF",
            "ESP",
            "LKA",
            "SDN",
            "SWZ",
            "SWE",
            "CHE",
            "SYR",
            "TWN",
            "TZA",
            "THA",
            "TGO",
            "TTO",
            "TUN",
            "TUR",
            "UGA",
            "GBR",
            "USA",
            "URY",
            "VEN",
            "VNM",
            "PSE",
            "YEM",
            "ZMB",
            "ZWE"
           ],
           "name": "",
           "type": "choropleth",
           "z": {
            "bdata": "8KfGSzdpREAAAAAAAABSQEFg5dAic1BAhxbZzvfzQ0Coxks3ibFRQBSuR+F6FFNAXI/C9Si8UkAAAAAAALBRQEa28/3UaEpAZmZmZmbWUkBCYOXQIitKQOWlm8QgoExAKVyPwvXIUUBWDi2ync9PQIXrUbgeTVBA9ihcj8LVUUCe76fGS8dIQGC6SQwCG0hAokW28/30SkCuR+F6FH5LQNejcD0KN1NArkfhehQ+SUBKDAIrh4ZJQHNoke18H1JAqMZLN4nRUED+1HjpJvFQQEoMAiuHdktA2/l+ary0R0Bcj8L1KLxMQOOlm8QgsFJApHA9CtdTS0DhehSuR+FRQEBg5dAii1JAhetRuB7lUUAzMzMzM7NSQIXrUbgeBUlAbef7qfGCUEARWDm0yM5QQLx0kxgE5k1AwcqhRbaTT0CiRbbz/dRGQESLbOf7OUdAZDvfT41XR0CF61G4HrVSQPYoXI/CFVNAuB6F61EYTkBSuB6F66FIQJHtfD81tlJAWmQ730/dS0B7FK5H4SpTQGq8dJMYZE5ALbKd76fGRkCPwvUoXJ9EQMUgsHJo0UpAc2iR7XwfUEDNzMzMzAxTQIXrUbgeZVFAH4XrUbhOU0AQWDm0yEZNQKjGSzeJEU5AhetRuB6FT0CJQWDl0EJQQNejcD0Kl1JAZmZmZmbmUkB7FK5H4RpTQOF6FK5H8VFAexSuR+GqU0BWDi2ynXdQQAisHFpkq01AwyCwcmipUUCkcD0K13NRQEBg5dAii1JAJQaBlUP7UEDXo3A9CpdMQPp+arx0A0dA5dAi2/mOUEDNzMzMzKxIQNEi2/l+ukdAAAAAAABgUUA730+Nly5HQMP1KFyPEkxAj8L1KFwvUUAdWmQ7319RQCPb+X5qHE5Aj8L1KFy3UkAtsp3vp1ZPQJHtfD81bkVACKwcWmQrTUB7FK5H4WpOQNv5fmq8REpAhetRuB41U0AUrkfhepRSQBsv3SQGAU9A16NwPQpHRkDFILByaHFHQClcj8L1+FJA5dAi2/nuUECPwvUoXB9NQLbz/dR44VFA1XjpJjHYUEB/arx0kwhQQIxs5/upCVBAH4XrUbi+UUCkcD0K14NSQLgehetRqFJA30+Nl276UUBSuB6F62FRQMP1KFyPAkZAd76fGi/dTkB7FK5H4ZJQQN9PjZdu4ktAy6FFtvPNUUBU46WbxABEQKRwPQrXY1JAhetRuB7FUUAAAAAAABBSQOWlm8QgQEZAmG4Sg8BqTkCamZmZmTlTQGMQWDm0QFFArBxaZDvfSUAQWDm0yNZMQFyPwvUoTFNACtejcD1aU0B0kxgEVr5QQJqZmZmZWVJAFK5H4XrESUBMN4lBYIVQQJzEILByeExAaJHtfD9lUUDvp8ZLN7lQQOf7qfHSjU9A/dR46SbBSUCcxCCwcsBSQOF6FK5HwVJAmG4Sg8D6UUBcj8L1KIxRQClcj8L1aE9Abef7qfHCUEC8dJMYBHZKQA4CK4cWaUlAsXJoke0sT0A=",
            "dtype": "f8"
           }
          }
         ],
         "name": "1987"
        },
        {
         "data": [
          {
           "coloraxis": "coloraxis",
           "geo": "geo",
           "hovertemplate": "<b>%{hovertext}</b><br><br>year=1992<br>iso_alpha=%{location}<br>lifeExp=%{z}<extra></extra>",
           "hovertext": [
            "Afghanistan",
            "Albania",
            "Algeria",
            "Angola",
            "Argentina",
            "Australia",
            "Austria",
            "Bahrain",
            "Bangladesh",
            "Belgium",
            "Benin",
            "Bolivia",
            "Bosnia and Herzegovina",
            "Botswana",
            "Brazil",
            "Bulgaria",
            "Burkina Faso",
            "Burundi",
            "Cambodia",
            "Cameroon",
            "Canada",
            "Central African Republic",
            "Chad",
            "Chile",
            "China",
            "Colombia",
            "Comoros",
            "Congo, Dem. Rep.",
            "Congo, Rep.",
            "Costa Rica",
            "Cote d'Ivoire",
            "Croatia",
            "Cuba",
            "Czech Republic",
            "Denmark",
            "Djibouti",
            "Dominican Republic",
            "Ecuador",
            "Egypt",
            "El Salvador",
            "Equatorial Guinea",
            "Eritrea",
            "Ethiopia",
            "Finland",
            "France",
            "Gabon",
            "Gambia",
            "Germany",
            "Ghana",
            "Greece",
            "Guatemala",
            "Guinea",
            "Guinea-Bissau",
            "Haiti",
            "Honduras",
            "Hong Kong, China",
            "Hungary",
            "Iceland",
            "India",
            "Indonesia",
            "Iran",
            "Iraq",
            "Ireland",
            "Israel",
            "Italy",
            "Jamaica",
            "Japan",
            "Jordan",
            "Kenya",
            "Korea, Dem. Rep.",
            "Korea, Rep.",
            "Kuwait",
            "Lebanon",
            "Lesotho",
            "Liberia",
            "Libya",
            "Madagascar",
            "Malawi",
            "Malaysia",
            "Mali",
            "Mauritania",
            "Mauritius",
            "Mexico",
            "Mongolia",
            "Montenegro",
            "Morocco",
            "Mozambique",
            "Myanmar",
            "Namibia",
            "Nepal",
            "Netherlands",
            "New Zealand",
            "Nicaragua",
            "Niger",
            "Nigeria",
            "Norway",
            "Oman",
            "Pakistan",
            "Panama",
            "Paraguay",
            "Peru",
            "Philippines",
            "Poland",
            "Portugal",
            "Puerto Rico",
            "Reunion",
            "Romania",
            "Rwanda",
            "Sao Tome and Principe",
            "Saudi Arabia",
            "Senegal",
            "Serbia",
            "Sierra Leone",
            "Singapore",
            "Slovak Republic",
            "Slovenia",
            "Somalia",
            "South Africa",
            "Spain",
            "Sri Lanka",
            "Sudan",
            "Swaziland",
            "Sweden",
            "Switzerland",
            "Syria",
            "Taiwan",
            "Tanzania",
            "Thailand",
            "Togo",
            "Trinidad and Tobago",
            "Tunisia",
            "Turkey",
            "Uganda",
            "United Kingdom",
            "United States",
            "Uruguay",
            "Venezuela",
            "Vietnam",
            "West Bank and Gaza",
            "Yemen, Rep.",
            "Zambia",
            "Zimbabwe"
           ],
           "locations": [
            "AFG",
            "ALB",
            "DZA",
            "AGO",
            "ARG",
            "AUS",
            "AUT",
            "BHR",
            "BGD",
            "BEL",
            "BEN",
            "BOL",
            "BIH",
            "BWA",
            "BRA",
            "BGR",
            "BFA",
            "BDI",
            "KHM",
            "CMR",
            "CAN",
            "CAF",
            "TCD",
            "CHL",
            "CHN",
            "COL",
            "COM",
            "COD",
            "COG",
            "CRI",
            "CIV",
            "HRV",
            "CUB",
            "CZE",
            "DNK",
            "DJI",
            "DOM",
            "ECU",
            "EGY",
            "SLV",
            "GNQ",
            "ERI",
            "ETH",
            "FIN",
            "FRA",
            "GAB",
            "GMB",
            "DEU",
            "GHA",
            "GRC",
            "GTM",
            "GIN",
            "GNB",
            "HTI",
            "HND",
            "HKG",
            "HUN",
            "ISL",
            "IND",
            "IDN",
            "IRN",
            "IRQ",
            "IRL",
            "ISR",
            "ITA",
            "JAM",
            "JPN",
            "JOR",
            "KEN",
            "KOR",
            "KOR",
            "KWT",
            "LBN",
            "LSO",
            "LBR",
            "LBY",
            "MDG",
            "MWI",
            "MYS",
            "MLI",
            "MRT",
            "MUS",
            "MEX",
            "MNG",
            "MNE",
            "MAR",
            "MOZ",
            "MMR",
            "NAM",
            "NPL",
            "NLD",
            "NZL",
            "NIC",
            "NER",
            "NGA",
            "NOR",
            "OMN",
            "PAK",
            "PAN",
            "PRY",
            "PER",
            "PHL",
            "POL",
            "PRT",
            "PRI",
            "REU",
            "ROU",
            "RWA",
            "STP",
            "SAU",
            "SEN",
            "SRB",
            "SLE",
            "SGP",
            "SVK",
            "SVN",
            "SOM",
            "ZAF",
            "ESP",
            "LKA",
            "SDN",
            "SWZ",
            "SWE",
            "CHE",
            "SYR",
            "TWN",
            "TZA",
            "THA",
            "TGO",
            "TTO",
            "TUN",
            "TUR",
            "UGA",
            "GBR",
            "USA",
            "URY",
            "VEN",
            "VNM",
            "PSE",
            "YEM",
            "ZMB",
            "ZWE"
           ],
           "name": "",
           "type": "choropleth",
           "z": {
            "bdata": "g8DKoUXWREB3vp8aL+VRQFYOLbKd71BAiUFg5dBSREBkO99PjfdRQKRwPQrXY1NAw/UoXI8CU0BYObTIdiZSQPyp8dJNAkxAPQrXo3AdU0ASg8DKofVKQNEi2/l++k1ACKwcWmQLUkCPwvUoXF9PQM/3U+Olw1BAXI/C9SjMUUDhehSuRyFJQJHtfD81XkZAEFg5tMjmS0DUeOkmMShLQM3MzMzMfFNAppvEILCySEDpJjEIrNxJQPLSTWIQiFJAXI/C9SgsUUBt5/up8RpRQNR46SYx+ExAoBov3STGRkCBlUOLbDdMQBSDwMqh7VJAEoPAyqEFSkB9PzVeuiFSQNEi2/l+mlJAmpmZmZkZUkCF61G4HtVSQFpkO99PzUlAaJHtfD8dUUCsHFpkO2dRQIPAyqFF1k9AUI2XbhKzUED2KFyPwsVHQAMrhxbZ/khAz/dT46ULSEDNzMzMzOxSQD0K16NwXVNAAyuHFtmuTkDfT42XblJKQBSuR+F6BFNA5aWbxCDATEBSuB6F60FTQDu0yHa+r09AfT81XrpJSEA3XrpJDKJFQAisHFpki0tAqMZLN4mZUEBYObTIdmZTQHsUrkfhSlFA4XoUrkexU0AGgZVDixxOQLpJDAIrV09Ac2iR7XxvUEBgukkMArtNQNnO91Pj3VJA7FG4HoU7U0Bcj8L1KFxTQBsv3SQG8VFA16NwPQrXU0ApXI/C9QBRQBSuR+F6pE1APN9PjZd+UUBWDi2ynQ9SQFyPwvUozFJAppvEILBSUUBI4XoUrtdNQC2yne+nZkRAuB6F61EwUUAIrBxaZBtKQPYoXI/CtUhAMQisHFqsUUCNbOf7qTFIQLTIdr6fKk1ASOF6FK5vUUCF61G4Ht1RQKabxCCwok5ApHA9CtfbUkD+1HjpJllQQDEIrBxaJEZAKVyPwvWoTUAdWmQ73/9OQJMYBFYO3UtAexSuR+FaU0CF61G4HhVTQMuhRbbzdVBAN166SQyyR0Aj2/l+arxHQBSuR+F6VFNA+FPjpZvMUUAlBoGVQ2tOQCGwcmiRHVJAZmZmZmYOUUBaZDvfT51QQFpkO99PnVBAj8L1KFy/UUDXo3A9CrdSQPyp8dJNelJAj8L1KFxnUkDXo3A9CldRQNNNYhBYmTdA5dAi2/leT0D+1HjpJjFRQA4CK4cWGU1AFwRWDi3qUUC0yHa+nypDQN9PjZdu8lJAuB6F61HYUUApXI/C9WhSQE5iEFg51ENAjWzn+6nxTkAUrkfhemRTQMVLN4lBmFFAukkMAivHSkDpJjEIrDxNQArXo3A9ilNAUrgeheuBU0AOLbKd709RQHE9CtejkFJAuB6F61E4SUBQjZduEtNQQCyHFtnOB01AukkMAit3UUDy0k1iEIBRQNNNYhBYiVBAmpmZmZlpSEB7FK5H4RpTQPYoXI/CBVNA46WbxCAwUkCamZmZmclRQO18PzVe6lBAy6FFtvNtUUDpJjEIrMxLQM3MzMzMDEdAx0s3iUEwTkA=",
            "dtype": "f8"
           }
          }
         ],
         "name": "1992"
        },
        {
         "data": [
          {
           "coloraxis": "coloraxis",
           "geo": "geo",
           "hovertemplate": "<b>%{hovertext}</b><br><br>year=1997<br>iso_alpha=%{location}<br>lifeExp=%{z}<extra></extra>",
           "hovertext": [
            "Afghanistan",
            "Albania",
            "Algeria",
            "Angola",
            "Argentina",
            "Australia",
            "Austria",
            "Bahrain",
            "Bangladesh",
            "Belgium",
            "Benin",
            "Bolivia",
            "Bosnia and Herzegovina",
            "Botswana",
            "Brazil",
            "Bulgaria",
            "Burkina Faso",
            "Burundi",
            "Cambodia",
            "Cameroon",
            "Canada",
            "Central African Republic",
            "Chad",
            "Chile",
            "China",
            "Colombia",
            "Comoros",
            "Congo, Dem. Rep.",
            "Congo, Rep.",
            "Costa Rica",
            "Cote d'Ivoire",
            "Croatia",
            "Cuba",
            "Czech Republic",
            "Denmark",
            "Djibouti",
            "Dominican Republic",
            "Ecuador",
            "Egypt",
            "El Salvador",
            "Equatorial Guinea",
            "Eritrea",
            "Ethiopia",
            "Finland",
            "France",
            "Gabon",
            "Gambia",
            "Germany",
            "Ghana",
            "Greece",
            "Guatemala",
            "Guinea",
            "Guinea-Bissau",
            "Haiti",
            "Honduras",
            "Hong Kong, China",
            "Hungary",
            "Iceland",
            "India",
            "Indonesia",
            "Iran",
            "Iraq",
            "Ireland",
            "Israel",
            "Italy",
            "Jamaica",
            "Japan",
            "Jordan",
            "Kenya",
            "Korea, Dem. Rep.",
            "Korea, Rep.",
            "Kuwait",
            "Lebanon",
            "Lesotho",
            "Liberia",
            "Libya",
            "Madagascar",
            "Malawi",
            "Malaysia",
            "Mali",
            "Mauritania",
            "Mauritius",
            "Mexico",
            "Mongolia",
            "Montenegro",
            "Morocco",
            "Mozambique",
            "Myanmar",
            "Namibia",
            "Nepal",
            "Netherlands",
            "New Zealand",
            "Nicaragua",
            "Niger",
            "Nigeria",
            "Norway",
            "Oman",
            "Pakistan",
            "Panama",
            "Paraguay",
            "Peru",
            "Philippines",
            "Poland",
            "Portugal",
            "Puerto Rico",
            "Reunion",
            "Romania",
            "Rwanda",
            "Sao Tome and Principe",
            "Saudi Arabia",
            "Senegal",
            "Serbia",
            "Sierra Leone",
            "Singapore",
            "Slovak Republic",
            "Slovenia",
            "Somalia",
            "South Africa",
            "Spain",
            "Sri Lanka",
            "Sudan",
            "Swaziland",
            "Sweden",
            "Switzerland",
            "Syria",
            "Taiwan",
            "Tanzania",
            "Thailand",
            "Togo",
            "Trinidad and Tobago",
            "Tunisia",
            "Turkey",
            "Uganda",
            "United Kingdom",
            "United States",
            "Uruguay",
            "Venezuela",
            "Vietnam",
            "West Bank and Gaza",
            "Yemen, Rep.",
            "Zambia",
            "Zimbabwe"
           ],
           "locations": [
            "AFG",
            "ALB",
            "DZA",
            "AGO",
            "ARG",
            "AUS",
            "AUT",
            "BHR",
            "BGD",
            "BEL",
            "BEN",
            "BOL",
            "BIH",
            "BWA",
            "BRA",
            "BGR",
            "BFA",
            "BDI",
            "KHM",
            "CMR",
            "CAN",
            "CAF",
            "TCD",
            "CHL",
            "CHN",
            "COL",
            "COM",
            "COD",
            "COG",
            "CRI",
            "CIV",
            "HRV",
            "CUB",
            "CZE",
            "DNK",
            "DJI",
            "DOM",
            "ECU",
            "EGY",
            "SLV",
            "GNQ",
            "ERI",
            "ETH",
            "FIN",
            "FRA",
            "GAB",
            "GMB",
            "DEU",
            "GHA",
            "GRC",
            "GTM",
            "GIN",
            "GNB",
            "HTI",
            "HND",
            "HKG",
            "HUN",
            "ISL",
            "IND",
            "IDN",
            "IRN",
            "IRQ",
            "IRL",
            "ISR",
            "ITA",
            "JAM",
            "JPN",
            "JOR",
            "KEN",
            "KOR",
            "KOR",
            "KWT",
            "LBN",
            "LSO",
            "LBR",
            "LBY",
            "MDG",
            "MWI",
            "MYS",
            "MLI",
            "MRT",
            "MUS",
            "MEX",
            "MNG",
            "MNE",
            "MAR",
            "MOZ",
            "MMR",
            "NAM",
            "NPL",
            "NLD",
            "NZL",
            "NIC",
            "NER",
            "NGA",
            "NOR",
            "OMN",
            "PAK",
            "PAN",
            "PRY",
            "PER",
            "PHL",
            "POL",
            "PRT",
            "PRI",
            "REU",
            "ROU",
            "RWA",
            "STP",
            "SAU",
            "SEN",
            "SRB",
            "SLE",
            "SGP",
            "SVK",
            "SVN",
            "SOM",
            "ZAF",
            "ESP",
            "LKA",
            "SDN",
            "SWZ",
            "SWE",
            "CHE",
            "SYR",
            "TWN",
            "TZA",
            "THA",
            "TGO",
            "TTO",
            "TUN",
            "TUR",
            "UGA",
            "GBR",
            "USA",
            "URY",
            "VEN",
            "VNM",
            "PSE",
            "YEM",
            "ZMB",
            "ZWE"
           ],
           "name": "",
           "type": "choropleth",
           "z": {
            "bdata": "jWzn+6nhREDNzMzMzDxSQH0/NV66SVFAJQaBlUN7RECamZmZmVFSQIXrUbgetVNAcT0K16NgU0AzMzMzM3tSQNv5fmq8tE1AUrgehethU0D6fmq8dGNLQGZmZmZmBk9AVg4tsp1PUkC6SQwCK0dKQEa28/3UWFFAFK5H4XqUUUC28/3UeClJQH0/NV66qUZAMQisHFpETEC28/3UeBlKQNejcD0Kp1NAnMQgsHIIR0DTTWIQWMlJQE5iEFg59FJAJQaBlUObUUB56SYxCJRRQBSuR+F6VE5AQmDl0CJLRUBCYOXQIntKQHE9CtejUFNAAyuHFtn+R0DsUbgehWtSQI1s5/upCVNAcT0K16OAUkDXo3A9CgdTQGq8dJMYlEpAaJHtfD99UUCHFtnO9xNSQNnO91PjzVBACtejcD1iUUCPwvUoXB9IQKrx0k1isEpA+n5qvHSzSEC4HoXrUUhTQClcj8L1qFNAYLpJDAI7TkCR7Xw/Ne5LQPYoXI/CVVNAukkMAitHTUBWDi2ynXdTQPhT46WblFBACtejcD26SUA7tMh2vm9GQNrO91PjVUxAGARWDi3qUEAAAAAAAABUQMP1KFyPwlFAzczMzMy8U0BSuB6F6+FOQLTIdr6fglBAppvEILACUUAshxbZzmdNQCuHFtnOB1NA7qfGSzeRU0AUrkfherRTQFTjpZvEEFJAXI/C9SgsVEDEILByaHFRQGq8dJMYNEtASgwCK4fuUEDDILByaKlSQESLbOf7CVNAKVyPwvWQUUCBlUOLbMdLQD81XrpJHEVA7FG4HoXjUUB3vp8aL31LQI/C9Shcv0dAeekmMQj8UUDdJAaBlfNIQNejcD0KN05AyXa+nxqvUUB7FK5H4WpSQAAAAAAA0E9AFK5H4XrcUkAK16NwPepQQHnpJjEILEdARIts5/spTkAxCKwcWnRNQEoMAiuHtk1AUrgeheuBU0AzMzMzM2NTQCUGgZVDG1FA8tJNYhCoSUAIrBxaZLtHQBSuR+F6lFNADi2yne8fUkBkEFg5tOhOQKwcWmQ7b1JAmpmZmZlZUUBjEFg5tBhRQGq8dJMYJFFAAAAAAAAwUkCuR+F6FP5SQKabxCCwulJAwyCwcmixUkCuR+F6FG5RQEJg5dAiC0JAukkMAiunT0AnMQisHKJRQA4tsp3vF05AAiuHFtkOUkCJQWDl0PJDQCcxCKwcSlNAPQrXo3AtUkC4HoXrUchSQPYoXI/C5UVAke18PzUeTkDhehSuR7FTQGiR7Xw/nVFAO7TIdr6vS0CiRbbz/SRLQClcj8L12FNASOF6FK7XU0B9PzVeuuFRQAAAAAAA0FJAz/dT46U7SEDTTWIQWOFQQFK4HoXrMU1A9ihcj8JdUUCDwMqhRf5RQD0K16NwNVFARIts5/tJRkDLoUW2801TQKRwPQrXM1NAg8DKoUWOUkDTTWIQWAlSQF66SQwCq1FAoBov3STGUUDD9ShcjwJNQFg5tMh2HkRAZDvfT41nR0A=",
            "dtype": "f8"
           }
          }
         ],
         "name": "1997"
        },
        {
         "data": [
          {
           "coloraxis": "coloraxis",
           "geo": "geo",
           "hovertemplate": "<b>%{hovertext}</b><br><br>year=2002<br>iso_alpha=%{location}<br>lifeExp=%{z}<extra></extra>",
           "hovertext": [
            "Afghanistan",
            "Albania",
            "Algeria",
            "Angola",
            "Argentina",
            "Australia",
            "Austria",
            "Bahrain",
            "Bangladesh",
            "Belgium",
            "Benin",
            "Bolivia",
            "Bosnia and Herzegovina",
            "Botswana",
            "Brazil",
            "Bulgaria",
            "Burkina Faso",
            "Burundi",
            "Cambodia",
            "Cameroon",
            "Canada",
            "Central African Republic",
            "Chad",
            "Chile",
            "China",
            "Colombia",
            "Comoros",
            "Congo, Dem. Rep.",
            "Congo, Rep.",
            "Costa Rica",
            "Cote d'Ivoire",
            "Croatia",
            "Cuba",
            "Czech Republic",
            "Denmark",
            "Djibouti",
            "Dominican Republic",
            "Ecuador",
            "Egypt",
            "El Salvador",
            "Equatorial Guinea",
            "Eritrea",
            "Ethiopia",
            "Finland",
            "France",
            "Gabon",
            "Gambia",
            "Germany",
            "Ghana",
            "Greece",
            "Guatemala",
            "Guinea",
            "Guinea-Bissau",
            "Haiti",
            "Honduras",
            "Hong Kong, China",
            "Hungary",
            "Iceland",
            "India",
            "Indonesia",
            "Iran",
            "Iraq",
            "Ireland",
            "Israel",
            "Italy",
            "Jamaica",
            "Japan",
            "Jordan",
            "Kenya",
            "Korea, Dem. Rep.",
            "Korea, Rep.",
            "Kuwait",
            "Lebanon",
            "Lesotho",
            "Liberia",
            "Libya",
            "Madagascar",
            "Malawi",
            "Malaysia",
            "Mali",
            "Mauritania",
            "Mauritius",
            "Mexico",
            "Mongolia",
            "Montenegro",
            "Morocco",
            "Mozambique",
            "Myanmar",
            "Namibia",
            "Nepal",
            "Netherlands",
            "New Zealand",
            "Nicaragua",
            "Niger",
            "Nigeria",
            "Norway",
            "Oman",
            "Pakistan",
            "Panama",
            "Paraguay",
            "Peru",
            "Philippines",
            "Poland",
            "Portugal",
            "Puerto Rico",
            "Reunion",
            "Romania",
            "Rwanda",
            "Sao Tome and Principe",
            "Saudi Arabia",
            "Senegal",
            "Serbia",
            "Sierra Leone",
            "Singapore",
            "Slovak Republic",
            "Slovenia",
            "Somalia",
            "South Africa",
            "Spain",
            "Sri Lanka",
            "Sudan",
            "Swaziland",
            "Sweden",
            "Switzerland",
            "Syria",
            "Taiwan",
            "Tanzania",
            "Thailand",
            "Togo",
            "Trinidad and Tobago",
            "Tunisia",
            "Turkey",
            "Uganda",
            "United Kingdom",
            "United States",
            "Uruguay",
            "Venezuela",
            "Vietnam",
            "West Bank and Gaza",
            "Yemen, Rep.",
            "Zambia",
            "Zimbabwe"
           ],
           "locations": [
            "AFG",
            "ALB",
            "DZA",
            "AGO",
            "ARG",
            "AUS",
            "AUT",
            "BHR",
            "BGD",
            "BEL",
            "BEN",
            "BOL",
            "BIH",
            "BWA",
            "BRA",
            "BGR",
            "BFA",
            "BDI",
            "KHM",
            "CMR",
            "CAN",
            "CAF",
            "TCD",
            "CHL",
            "CHN",
            "COL",
            "COM",
            "COD",
            "COG",
            "CRI",
            "CIV",
            "HRV",
            "CUB",
            "CZE",
            "DNK",
            "DJI",
            "DOM",
            "ECU",
            "EGY",
            "SLV",
            "GNQ",
            "ERI",
            "ETH",
            "FIN",
            "FRA",
            "GAB",
            "GMB",
            "DEU",
            "GHA",
            "GRC",
            "GTM",
            "GIN",
            "GNB",
            "HTI",
            "HND",
            "HKG",
            "HUN",
            "ISL",
            "IND",
            "IDN",
            "IRN",
            "IRQ",
            "IRL",
            "ISR",
            "ITA",
            "JAM",
            "JPN",
            "JOR",
            "KEN",
            "KOR",
            "KOR",
            "KWT",
            "LBN",
            "LSO",
            "LBR",
            "LBY",
            "MDG",
            "MWI",
            "MYS",
            "MLI",
            "MRT",
            "MUS",
            "MEX",
            "MNG",
            "MNE",
            "MAR",
            "MOZ",
            "MMR",
            "NAM",
            "NPL",
            "NLD",
            "NZL",
            "NIC",
            "NER",
            "NGA",
            "NOR",
            "OMN",
            "PAK",
            "PAN",
            "PRY",
            "PER",
            "PHL",
            "POL",
            "PRT",
            "PRI",
            "REU",
            "ROU",
            "RWA",
            "STP",
            "SAU",
            "SEN",
            "SRB",
            "SLE",
            "SGP",
            "SVK",
            "SVN",
            "SOM",
            "ZAF",
            "ESP",
            "LKA",
            "SDN",
            "SWZ",
            "SWE",
            "CHE",
            "SYR",
            "TWN",
            "TZA",
            "THA",
            "TGO",
            "TTO",
            "TUN",
            "TUR",
            "UGA",
            "GBR",
            "USA",
            "URY",
            "VEN",
            "VNM",
            "PSE",
            "YEM",
            "ZMB",
            "ZWE"
           ],
           "name": "",
           "type": "choropleth",
           "z": {
            "bdata": "jZduEoMQRUCNbOf7qelSQFYOLbKdv1FAqvHSTWKARED2KFyPwpVSQEjhehSuF1RAH4XrUbi+U0B7FK5H4bJSQI1s5/upAU9AFK5H4XqUU0CJFtnO9zNLQBsv3SQG8U9A9ihcj8KFUkD91HjpJlFHQKrx0k1iwFFAKVyPwvUIUkAzMzMzM1NJQK5H4XoUrkdAx0s3iUFgTEAhsHJoke1IQOF6FK5H8VNAgZVDi2ynRUAzMzMzM0NJQNejcD0Kd1NAbxKDwMoBUkDP91PjpetRQOkmMQisfE9Az/dT46V7RkBcj8L1KHxKQB1aZDvfh1NA0SLb+X5qR0Dy0k1iELhSQCcxCKwcSlNAcT0K16PgUkDsUbgehUtTQDu0yHa+r0pAke18PzW2UUBQjZduEotSQN0kBoGVc1FA5dAi2/muUUAGgZVDi6xIQB+F61G4nktAzczMzMxcSUBI4XoUrpdTQPYoXI/C5VNAxSCwcmhhTEBoke18PwVNQHsUrkfhqlNARIts5/s5TUCq8dJNYpBTQDzfT42XPlFASgwCK4fWSkCNl24Sg8BGQKjGSzeJEU1AXI/C9SgkUUBI4XoUrl9UQPYoXI/CJVJAAAAAAAAgVECNl24Sg3BPQBODwMqhJVFAv58aL91cUUDazvdT44VMQCcxCKwcclNABoGVQ4vsU0CPwvUoXA9UQF66SQwCA1JAAAAAAACAVEBGtvP91NBRQOXQItv5fklA7Xw/NV6qUEB7FK5H4UJTQGDl0CLbOVNAbxKDwMrBUUCWQ4ts50tGQKrx0k1i4EVAukkMAisvUkD4U+Olm6RMQP3UeOkmgUZAiUFg5dBCUkBkEFg5tOhJQFYOLbKdH09AkxgEVg79UUB9PzVeurlSQCcxCKwcQlBAElg5tMh+UkCPwvUoXGdRQBfZzvdTA0ZATmIQWDn0TUBaZDvfT71JQOxRuB6Fq05AUrgeheuhU0DXo3A9CsdTQC/dJAaBtVFAc2iR7Xw/S0Dn+6nx0k1HQDMzMzMzw1NAMQisHFqMUkCuR+F6FM5PQCGwcmiRrVJAuB6F61GwUUBEi2zn+3lRQAisHFpkk1FAexSuR+GqUkDD9Shcj1JTQG8Sg8DKcVNAVg4tsp3vUkD4U+Olm9RRQL6fGi/dtEVAIbByaJEVUEDy0k1iEOhRQM3MzMzMzE5AFIPAyqFNUkCoxks3iYFEQOF6FK5HsVNAMzMzMzNzUkAK16NwPSpTQCyHFtnO90ZAH4XrUbiuSkBSuB6F6/FTQFyPwvUotFFArBxaZDsvTECsHFpkO+9FQMP1KFyPAlRASOF6FK4nVEAIrBxaZENSQI/C9ShcP1NAF9nO91PTSEBqvHSTGCRRQCyHFtnOx0xAWDm0yHY+UUCmm8QgsEJSQK5H4XoUtlFA8tJNYhDoR0CgGi/dJJ5TQKRwPQrXU1NAz/dT46XTUkAbL90kBjFSQAwCK4cWQVJASOF6FK4XUkCBlUOLbCdOQGQQWDm0mENAO99PjZf+Q0A=",
            "dtype": "f8"
           }
          }
         ],
         "name": "2002"
        },
        {
         "data": [
          {
           "coloraxis": "coloraxis",
           "geo": "geo",
           "hovertemplate": "<b>%{hovertext}</b><br><br>year=2007<br>iso_alpha=%{location}<br>lifeExp=%{z}<extra></extra>",
           "hovertext": [
            "Afghanistan",
            "Albania",
            "Algeria",
            "Angola",
            "Argentina",
            "Australia",
            "Austria",
            "Bahrain",
            "Bangladesh",
            "Belgium",
            "Benin",
            "Bolivia",
            "Bosnia and Herzegovina",
            "Botswana",
            "Brazil",
            "Bulgaria",
            "Burkina Faso",
            "Burundi",
            "Cambodia",
            "Cameroon",
            "Canada",
            "Central African Republic",
            "Chad",
            "Chile",
            "China",
            "Colombia",
            "Comoros",
            "Congo, Dem. Rep.",
            "Congo, Rep.",
            "Costa Rica",
            "Cote d'Ivoire",
            "Croatia",
            "Cuba",
            "Czech Republic",
            "Denmark",
            "Djibouti",
            "Dominican Republic",
            "Ecuador",
            "Egypt",
            "El Salvador",
            "Equatorial Guinea",
            "Eritrea",
            "Ethiopia",
            "Finland",
            "France",
            "Gabon",
            "Gambia",
            "Germany",
            "Ghana",
            "Greece",
            "Guatemala",
            "Guinea",
            "Guinea-Bissau",
            "Haiti",
            "Honduras",
            "Hong Kong, China",
            "Hungary",
            "Iceland",
            "India",
            "Indonesia",
            "Iran",
            "Iraq",
            "Ireland",
            "Israel",
            "Italy",
            "Jamaica",
            "Japan",
            "Jordan",
            "Kenya",
            "Korea, Dem. Rep.",
            "Korea, Rep.",
            "Kuwait",
            "Lebanon",
            "Lesotho",
            "Liberia",
            "Libya",
            "Madagascar",
            "Malawi",
            "Malaysia",
            "Mali",
            "Mauritania",
            "Mauritius",
            "Mexico",
            "Mongolia",
            "Montenegro",
            "Morocco",
            "Mozambique",
            "Myanmar",
            "Namibia",
            "Nepal",
            "Netherlands",
            "New Zealand",
            "Nicaragua",
            "Niger",
            "Nigeria",
            "Norway",
            "Oman",
            "Pakistan",
            "Panama",
            "Paraguay",
            "Peru",
            "Philippines",
            "Poland",
            "Portugal",
            "Puerto Rico",
            "Reunion",
            "Romania",
            "Rwanda",
            "Sao Tome and Principe",
            "Saudi Arabia",
            "Senegal",
            "Serbia",
            "Sierra Leone",
            "Singapore",
            "Slovak Republic",
            "Slovenia",
            "Somalia",
            "South Africa",
            "Spain",
            "Sri Lanka",
            "Sudan",
            "Swaziland",
            "Sweden",
            "Switzerland",
            "Syria",
            "Taiwan",
            "Tanzania",
            "Thailand",
            "Togo",
            "Trinidad and Tobago",
            "Tunisia",
            "Turkey",
            "Uganda",
            "United Kingdom",
            "United States",
            "Uruguay",
            "Venezuela",
            "Vietnam",
            "West Bank and Gaza",
            "Yemen, Rep.",
            "Zambia",
            "Zimbabwe"
           ],
           "locations": [
            "AFG",
            "ALB",
            "DZA",
            "AGO",
            "ARG",
            "AUS",
            "AUT",
            "BHR",
            "BGD",
            "BEL",
            "BEN",
            "BOL",
            "BIH",
            "BWA",
            "BRA",
            "BGR",
            "BFA",
            "BDI",
            "KHM",
            "CMR",
            "CAN",
            "CAF",
            "TCD",
            "CHL",
            "CHN",
            "COL",
            "COM",
            "COD",
            "COG",
            "CRI",
            "CIV",
            "HRV",
            "CUB",
            "CZE",
            "DNK",
            "DJI",
            "DOM",
            "ECU",
            "EGY",
            "SLV",
            "GNQ",
            "ERI",
            "ETH",
            "FIN",
            "FRA",
            "GAB",
            "GMB",
            "DEU",
            "GHA",
            "GRC",
            "GTM",
            "GIN",
            "GNB",
            "HTI",
            "HND",
            "HKG",
            "HUN",
            "ISL",
            "IND",
            "IDN",
            "IRN",
            "IRQ",
            "IRL",
            "ISR",
            "ITA",
            "JAM",
            "JPN",
            "JOR",
            "KEN",
            "KOR",
            "KOR",
            "KWT",
            "LBN",
            "LSO",
            "LBR",
            "LBY",
            "MDG",
            "MWI",
            "MYS",
            "MLI",
            "MRT",
            "MUS",
            "MEX",
            "MNG",
            "MNE",
            "MAR",
            "MOZ",
            "MMR",
            "NAM",
            "NPL",
            "NLD",
            "NZL",
            "NIC",
            "NER",
            "NGA",
            "NOR",
            "OMN",
            "PAK",
            "PAN",
            "PRY",
            "PER",
            "PHL",
            "POL",
            "PRT",
            "PRI",
            "REU",
            "ROU",
            "RWA",
            "STP",
            "SAU",
            "SEN",
            "SRB",
            "SLE",
            "SGP",
            "SVK",
            "SVN",
            "SOM",
            "ZAF",
            "ESP",
            "LKA",
            "SDN",
            "SWZ",
            "SWE",
            "CHE",
            "SYR",
            "TWN",
            "TZA",
            "THA",
            "TGO",
            "TTO",
            "TUN",
            "TUR",
            "UGA",
            "GBR",
            "USA",
            "URY",
            "VEN",
            "VNM",
            "PSE",
            "YEM",
            "ZMB",
            "ZWE"
           ],
           "name": "",
           "type": "choropleth",
           "z": {
            "bdata": "RIts5/vpRUBQjZduEhtTQCUGgZVDE1JAIbByaJFdRUAUrkfhetRSQNejcD0KT1RAkxgEVg71U0BxPQrXo+hSQIcW2c73A1BATmIQWDncU0B3vp8aL11MQPp+arx0Y1BASgwCK4e2UkB3vp8aL11JQClcj8L1GFJAuB6F61FAUkD2KFyPwiVKQArXo3A9ykhABoGVQ4vcTUDXo3A9CjdJQG8Sg8DKKVRAAyuHFtleRkAX2c73U1NJQAisHFpko1NAL90kBoE9UkA3iUFg5ThSQH0/NV66SVBAQmDl0CI7R0Dwp8ZLN6lLQDVeukkMslNARIts5/spSEAdWmQ73+9SQLbz/dR4kVNAyXa+nxofU0Boke18P5VTQGiR7Xw/ZUtA16NwPQoPUkBWDi2ynb9SQBSDwMqh1VFA1XjpJjH4UUAmMQisHMpJQIXrUbgeBU1A8KfGSzd5SkB56SYxCNRTQDVeukkMKlRArkfhehReTEDTTWIQWLlNQESLbOf72VNAiUFg5dACTkD0/dR46d5TQH9qvHSTkFFAN4lBYOUATECNbOf7qTFHQGiR7Xw/dU5A6iYxCKyMUUBaZDvfT41UQBSDwMqhVVJAnMQgsHJwVEDqJjEIrCxQQJqZmZmZqVFABFYOLbK9UUD2KFyPwsVNQHE9CtejuFNASOF6FK4vVEBt5/up8SJUQD81XrpJJFJAO99PjZemVEAK16NwPSJSQK5H4XoUDktAXrpJDALTUEAdWmQ736dTQBSDwMqhZVNAZDvfT43/UUCyne+nxktFQBBYObTI1kZAsHJoke18UkBkEFg5tLhNQBBYObTIJkhAgZVDi2yPUkCyne+nxjtLQNEi2/l+ClBAJQaBlUMzUkAUrkfhegxTQAisHFpks1BAmG4Sg8CiUkDRItv5fspRQNEi2/l+CkVARrbz/dQIT0CJFtnO93NKQBSuR+F65E9AVOOlm8TwU0CTGARWDg1UQKjGSzeJOVJA5dAi2/luTEDLoUW2821HQAaBlUOLDFRAKVyPwvXoUkD0/dR46V5QQOx8PzVe4lJA46WbxCDwUUBt5/up8dpRQHnpJjEI7FFAeekmMQjkUkCDwMqhRYZTQDu0yHa+r1NAPzVeukkcU0BYObTIdh5SQOXQItv5HkdAbxKDwMphUEB9PzVeujFSQA4tsp3vh09A46WbxCCAUkBkEFg5tEhFQJHtfD81/lNA30+Nl26qUkAlBoGVQ3tTQDEIrBxaFEhACKwcWmSrSEBOYhBYOTxUQNNNYhBYGVJAukkMAitHTUBYObTIds5DQH9qvHSTOFRAwJ8aL91sVED+1HjpJolSQJqZmZmZmVNAGQRWDi1CSkCBlUOLbKdRQPYoXI/CNU1AI9v5fmp0UUBQjZduEntSQH0/NV668VFATDeJQWDFSUAzMzMzM9tTQHNoke18j1NAf2q8dJMYU0ArhxbZzm9SQA4tsp3vj1JAXrpJDAJbUkDTTWIQWFlPQP3UeOkmMUVAdZMYBFa+RUA=",
            "dtype": "f8"
           }
          }
         ],
         "name": "2007"
        }
       ],
       "layout": {
        "coloraxis": {
         "colorbar": {
          "title": {
           "text": "lifeExp"
          }
         },
         "colorscale": [
          [
           0,
           "#0d0887"
          ],
          [
           0.1111111111111111,
           "#46039f"
          ],
          [
           0.2222222222222222,
           "#7201a8"
          ],
          [
           0.3333333333333333,
           "#9c179e"
          ],
          [
           0.4444444444444444,
           "#bd3786"
          ],
          [
           0.5555555555555556,
           "#d8576b"
          ],
          [
           0.6666666666666666,
           "#ed7953"
          ],
          [
           0.7777777777777778,
           "#fb9f3a"
          ],
          [
           0.8888888888888888,
           "#fdca26"
          ],
          [
           1,
           "#f0f921"
          ]
         ]
        },
        "geo": {
         "center": {},
         "domain": {
          "x": [
           0,
           1
          ],
          "y": [
           0,
           1
          ]
         }
        },
        "legend": {
         "tracegroupgap": 0
        },
        "margin": {
         "t": 60
        },
        "sliders": [
         {
          "active": 0,
          "currentvalue": {
           "prefix": "year="
          },
          "len": 0.9,
          "pad": {
           "b": 10,
           "t": 60
          },
          "steps": [
           {
            "args": [
             [
              "1952"
             ],
             {
              "frame": {
               "duration": 0,
               "redraw": true
              },
              "fromcurrent": true,
              "mode": "immediate",
              "transition": {
               "duration": 0,
               "easing": "linear"
              }
             }
            ],
            "label": "1952",
            "method": "animate"
           },
           {
            "args": [
             [
              "1957"
             ],
             {
              "frame": {
               "duration": 0,
               "redraw": true
              },
              "fromcurrent": true,
              "mode": "immediate",
              "transition": {
               "duration": 0,
               "easing": "linear"
              }
             }
            ],
            "label": "1957",
            "method": "animate"
           },
           {
            "args": [
             [
              "1962"
             ],
             {
              "frame": {
               "duration": 0,
               "redraw": true
              },
              "fromcurrent": true,
              "mode": "immediate",
              "transition": {
               "duration": 0,
               "easing": "linear"
              }
             }
            ],
            "label": "1962",
            "method": "animate"
           },
           {
            "args": [
             [
              "1967"
             ],
             {
              "frame": {
               "duration": 0,
               "redraw": true
              },
              "fromcurrent": true,
              "mode": "immediate",
              "transition": {
               "duration": 0,
               "easing": "linear"
              }
             }
            ],
            "label": "1967",
            "method": "animate"
           },
           {
            "args": [
             [
              "1972"
             ],
             {
              "frame": {
               "duration": 0,
               "redraw": true
              },
              "fromcurrent": true,
              "mode": "immediate",
              "transition": {
               "duration": 0,
               "easing": "linear"
              }
             }
            ],
            "label": "1972",
            "method": "animate"
           },
           {
            "args": [
             [
              "1977"
             ],
             {
              "frame": {
               "duration": 0,
               "redraw": true
              },
              "fromcurrent": true,
              "mode": "immediate",
              "transition": {
               "duration": 0,
               "easing": "linear"
              }
             }
            ],
            "label": "1977",
            "method": "animate"
           },
           {
            "args": [
             [
              "1982"
             ],
             {
              "frame": {
               "duration": 0,
               "redraw": true
              },
              "fromcurrent": true,
              "mode": "immediate",
              "transition": {
               "duration": 0,
               "easing": "linear"
              }
             }
            ],
            "label": "1982",
            "method": "animate"
           },
           {
            "args": [
             [
              "1987"
             ],
             {
              "frame": {
               "duration": 0,
               "redraw": true
              },
              "fromcurrent": true,
              "mode": "immediate",
              "transition": {
               "duration": 0,
               "easing": "linear"
              }
             }
            ],
            "label": "1987",
            "method": "animate"
           },
           {
            "args": [
             [
              "1992"
             ],
             {
              "frame": {
               "duration": 0,
               "redraw": true
              },
              "fromcurrent": true,
              "mode": "immediate",
              "transition": {
               "duration": 0,
               "easing": "linear"
              }
             }
            ],
            "label": "1992",
            "method": "animate"
           },
           {
            "args": [
             [
              "1997"
             ],
             {
              "frame": {
               "duration": 0,
               "redraw": true
              },
              "fromcurrent": true,
              "mode": "immediate",
              "transition": {
               "duration": 0,
               "easing": "linear"
              }
             }
            ],
            "label": "1997",
            "method": "animate"
           },
           {
            "args": [
             [
              "2002"
             ],
             {
              "frame": {
               "duration": 0,
               "redraw": true
              },
              "fromcurrent": true,
              "mode": "immediate",
              "transition": {
               "duration": 0,
               "easing": "linear"
              }
             }
            ],
            "label": "2002",
            "method": "animate"
           },
           {
            "args": [
             [
              "2007"
             ],
             {
              "frame": {
               "duration": 0,
               "redraw": true
              },
              "fromcurrent": true,
              "mode": "immediate",
              "transition": {
               "duration": 0,
               "easing": "linear"
              }
             }
            ],
            "label": "2007",
            "method": "animate"
           }
          ],
          "x": 0.1,
          "xanchor": "left",
          "y": 0,
          "yanchor": "top"
         }
        ],
        "template": {
         "data": {
          "bar": [
           {
            "error_x": {
             "color": "#2a3f5f"
            },
            "error_y": {
             "color": "#2a3f5f"
            },
            "marker": {
             "line": {
              "color": "#E5ECF6",
              "width": 0.5
             },
             "pattern": {
              "fillmode": "overlay",
              "size": 10,
              "solidity": 0.2
             }
            },
            "type": "bar"
           }
          ],
          "barpolar": [
           {
            "marker": {
             "line": {
              "color": "#E5ECF6",
              "width": 0.5
             },
             "pattern": {
              "fillmode": "overlay",
              "size": 10,
              "solidity": 0.2
             }
            },
            "type": "barpolar"
           }
          ],
          "carpet": [
           {
            "aaxis": {
             "endlinecolor": "#2a3f5f",
             "gridcolor": "white",
             "linecolor": "white",
             "minorgridcolor": "white",
             "startlinecolor": "#2a3f5f"
            },
            "baxis": {
             "endlinecolor": "#2a3f5f",
             "gridcolor": "white",
             "linecolor": "white",
             "minorgridcolor": "white",
             "startlinecolor": "#2a3f5f"
            },
            "type": "carpet"
           }
          ],
          "choropleth": [
           {
            "colorbar": {
             "outlinewidth": 0,
             "ticks": ""
            },
            "type": "choropleth"
           }
          ],
          "contour": [
           {
            "colorbar": {
             "outlinewidth": 0,
             "ticks": ""
            },
            "colorscale": [
             [
              0,
              "#0d0887"
             ],
             [
              0.1111111111111111,
              "#46039f"
             ],
             [
              0.2222222222222222,
              "#7201a8"
             ],
             [
              0.3333333333333333,
              "#9c179e"
             ],
             [
              0.4444444444444444,
              "#bd3786"
             ],
             [
              0.5555555555555556,
              "#d8576b"
             ],
             [
              0.6666666666666666,
              "#ed7953"
             ],
             [
              0.7777777777777778,
              "#fb9f3a"
             ],
             [
              0.8888888888888888,
              "#fdca26"
             ],
             [
              1,
              "#f0f921"
             ]
            ],
            "type": "contour"
           }
          ],
          "contourcarpet": [
           {
            "colorbar": {
             "outlinewidth": 0,
             "ticks": ""
            },
            "type": "contourcarpet"
           }
          ],
          "heatmap": [
           {
            "colorbar": {
             "outlinewidth": 0,
             "ticks": ""
            },
            "colorscale": [
             [
              0,
              "#0d0887"
             ],
             [
              0.1111111111111111,
              "#46039f"
             ],
             [
              0.2222222222222222,
              "#7201a8"
             ],
             [
              0.3333333333333333,
              "#9c179e"
             ],
             [
              0.4444444444444444,
              "#bd3786"
             ],
             [
              0.5555555555555556,
              "#d8576b"
             ],
             [
              0.6666666666666666,
              "#ed7953"
             ],
             [
              0.7777777777777778,
              "#fb9f3a"
             ],
             [
              0.8888888888888888,
              "#fdca26"
             ],
             [
              1,
              "#f0f921"
             ]
            ],
            "type": "heatmap"
           }
          ],
          "histogram": [
           {
            "marker": {
             "pattern": {
              "fillmode": "overlay",
              "size": 10,
              "solidity": 0.2
             }
            },
            "type": "histogram"
           }
          ],
          "histogram2d": [
           {
            "colorbar": {
             "outlinewidth": 0,
             "ticks": ""
            },
            "colorscale": [
             [
              0,
              "#0d0887"
             ],
             [
              0.1111111111111111,
              "#46039f"
             ],
             [
              0.2222222222222222,
              "#7201a8"
             ],
             [
              0.3333333333333333,
              "#9c179e"
             ],
             [
              0.4444444444444444,
              "#bd3786"
             ],
             [
              0.5555555555555556,
              "#d8576b"
             ],
             [
              0.6666666666666666,
              "#ed7953"
             ],
             [
              0.7777777777777778,
              "#fb9f3a"
             ],
             [
              0.8888888888888888,
              "#fdca26"
             ],
             [
              1,
              "#f0f921"
             ]
            ],
            "type": "histogram2d"
           }
          ],
          "histogram2dcontour": [
           {
            "colorbar": {
             "outlinewidth": 0,
             "ticks": ""
            },
            "colorscale": [
             [
              0,
              "#0d0887"
             ],
             [
              0.1111111111111111,
              "#46039f"
             ],
             [
              0.2222222222222222,
              "#7201a8"
             ],
             [
              0.3333333333333333,
              "#9c179e"
             ],
             [
              0.4444444444444444,
              "#bd3786"
             ],
             [
              0.5555555555555556,
              "#d8576b"
             ],
             [
              0.6666666666666666,
              "#ed7953"
             ],
             [
              0.7777777777777778,
              "#fb9f3a"
             ],
             [
              0.8888888888888888,
              "#fdca26"
             ],
             [
              1,
              "#f0f921"
             ]
            ],
            "type": "histogram2dcontour"
           }
          ],
          "mesh3d": [
           {
            "colorbar": {
             "outlinewidth": 0,
             "ticks": ""
            },
            "type": "mesh3d"
           }
          ],
          "parcoords": [
           {
            "line": {
             "colorbar": {
              "outlinewidth": 0,
              "ticks": ""
             }
            },
            "type": "parcoords"
           }
          ],
          "pie": [
           {
            "automargin": true,
            "type": "pie"
           }
          ],
          "scatter": [
           {
            "fillpattern": {
             "fillmode": "overlay",
             "size": 10,
             "solidity": 0.2
            },
            "type": "scatter"
           }
          ],
          "scatter3d": [
           {
            "line": {
             "colorbar": {
              "outlinewidth": 0,
              "ticks": ""
             }
            },
            "marker": {
             "colorbar": {
              "outlinewidth": 0,
              "ticks": ""
             }
            },
            "type": "scatter3d"
           }
          ],
          "scattercarpet": [
           {
            "marker": {
             "colorbar": {
              "outlinewidth": 0,
              "ticks": ""
             }
            },
            "type": "scattercarpet"
           }
          ],
          "scattergeo": [
           {
            "marker": {
             "colorbar": {
              "outlinewidth": 0,
              "ticks": ""
             }
            },
            "type": "scattergeo"
           }
          ],
          "scattergl": [
           {
            "marker": {
             "colorbar": {
              "outlinewidth": 0,
              "ticks": ""
             }
            },
            "type": "scattergl"
           }
          ],
          "scattermap": [
           {
            "marker": {
             "colorbar": {
              "outlinewidth": 0,
              "ticks": ""
             }
            },
            "type": "scattermap"
           }
          ],
          "scattermapbox": [
           {
            "marker": {
             "colorbar": {
              "outlinewidth": 0,
              "ticks": ""
             }
            },
            "type": "scattermapbox"
           }
          ],
          "scatterpolar": [
           {
            "marker": {
             "colorbar": {
              "outlinewidth": 0,
              "ticks": ""
             }
            },
            "type": "scatterpolar"
           }
          ],
          "scatterpolargl": [
           {
            "marker": {
             "colorbar": {
              "outlinewidth": 0,
              "ticks": ""
             }
            },
            "type": "scatterpolargl"
           }
          ],
          "scatterternary": [
           {
            "marker": {
             "colorbar": {
              "outlinewidth": 0,
              "ticks": ""
             }
            },
            "type": "scatterternary"
           }
          ],
          "surface": [
           {
            "colorbar": {
             "outlinewidth": 0,
             "ticks": ""
            },
            "colorscale": [
             [
              0,
              "#0d0887"
             ],
             [
              0.1111111111111111,
              "#46039f"
             ],
             [
              0.2222222222222222,
              "#7201a8"
             ],
             [
              0.3333333333333333,
              "#9c179e"
             ],
             [
              0.4444444444444444,
              "#bd3786"
             ],
             [
              0.5555555555555556,
              "#d8576b"
             ],
             [
              0.6666666666666666,
              "#ed7953"
             ],
             [
              0.7777777777777778,
              "#fb9f3a"
             ],
             [
              0.8888888888888888,
              "#fdca26"
             ],
             [
              1,
              "#f0f921"
             ]
            ],
            "type": "surface"
           }
          ],
          "table": [
           {
            "cells": {
             "fill": {
              "color": "#EBF0F8"
             },
             "line": {
              "color": "white"
             }
            },
            "header": {
             "fill": {
              "color": "#C8D4E3"
             },
             "line": {
              "color": "white"
             }
            },
            "type": "table"
           }
          ]
         },
         "layout": {
          "annotationdefaults": {
           "arrowcolor": "#2a3f5f",
           "arrowhead": 0,
           "arrowwidth": 1
          },
          "autotypenumbers": "strict",
          "coloraxis": {
           "colorbar": {
            "outlinewidth": 0,
            "ticks": ""
           }
          },
          "colorscale": {
           "diverging": [
            [
             0,
             "#8e0152"
            ],
            [
             0.1,
             "#c51b7d"
            ],
            [
             0.2,
             "#de77ae"
            ],
            [
             0.3,
             "#f1b6da"
            ],
            [
             0.4,
             "#fde0ef"
            ],
            [
             0.5,
             "#f7f7f7"
            ],
            [
             0.6,
             "#e6f5d0"
            ],
            [
             0.7,
             "#b8e186"
            ],
            [
             0.8,
             "#7fbc41"
            ],
            [
             0.9,
             "#4d9221"
            ],
            [
             1,
             "#276419"
            ]
           ],
           "sequential": [
            [
             0,
             "#0d0887"
            ],
            [
             0.1111111111111111,
             "#46039f"
            ],
            [
             0.2222222222222222,
             "#7201a8"
            ],
            [
             0.3333333333333333,
             "#9c179e"
            ],
            [
             0.4444444444444444,
             "#bd3786"
            ],
            [
             0.5555555555555556,
             "#d8576b"
            ],
            [
             0.6666666666666666,
             "#ed7953"
            ],
            [
             0.7777777777777778,
             "#fb9f3a"
            ],
            [
             0.8888888888888888,
             "#fdca26"
            ],
            [
             1,
             "#f0f921"
            ]
           ],
           "sequentialminus": [
            [
             0,
             "#0d0887"
            ],
            [
             0.1111111111111111,
             "#46039f"
            ],
            [
             0.2222222222222222,
             "#7201a8"
            ],
            [
             0.3333333333333333,
             "#9c179e"
            ],
            [
             0.4444444444444444,
             "#bd3786"
            ],
            [
             0.5555555555555556,
             "#d8576b"
            ],
            [
             0.6666666666666666,
             "#ed7953"
            ],
            [
             0.7777777777777778,
             "#fb9f3a"
            ],
            [
             0.8888888888888888,
             "#fdca26"
            ],
            [
             1,
             "#f0f921"
            ]
           ]
          },
          "colorway": [
           "#636efa",
           "#EF553B",
           "#00cc96",
           "#ab63fa",
           "#FFA15A",
           "#19d3f3",
           "#FF6692",
           "#B6E880",
           "#FF97FF",
           "#FECB52"
          ],
          "font": {
           "color": "#2a3f5f"
          },
          "geo": {
           "bgcolor": "white",
           "lakecolor": "white",
           "landcolor": "#E5ECF6",
           "showlakes": true,
           "showland": true,
           "subunitcolor": "white"
          },
          "hoverlabel": {
           "align": "left"
          },
          "hovermode": "closest",
          "mapbox": {
           "style": "light"
          },
          "paper_bgcolor": "white",
          "plot_bgcolor": "#E5ECF6",
          "polar": {
           "angularaxis": {
            "gridcolor": "white",
            "linecolor": "white",
            "ticks": ""
           },
           "bgcolor": "#E5ECF6",
           "radialaxis": {
            "gridcolor": "white",
            "linecolor": "white",
            "ticks": ""
           }
          },
          "scene": {
           "xaxis": {
            "backgroundcolor": "#E5ECF6",
            "gridcolor": "white",
            "gridwidth": 2,
            "linecolor": "white",
            "showbackground": true,
            "ticks": "",
            "zerolinecolor": "white"
           },
           "yaxis": {
            "backgroundcolor": "#E5ECF6",
            "gridcolor": "white",
            "gridwidth": 2,
            "linecolor": "white",
            "showbackground": true,
            "ticks": "",
            "zerolinecolor": "white"
           },
           "zaxis": {
            "backgroundcolor": "#E5ECF6",
            "gridcolor": "white",
            "gridwidth": 2,
            "linecolor": "white",
            "showbackground": true,
            "ticks": "",
            "zerolinecolor": "white"
           }
          },
          "shapedefaults": {
           "line": {
            "color": "#2a3f5f"
           }
          },
          "ternary": {
           "aaxis": {
            "gridcolor": "white",
            "linecolor": "white",
            "ticks": ""
           },
           "baxis": {
            "gridcolor": "white",
            "linecolor": "white",
            "ticks": ""
           },
           "bgcolor": "#E5ECF6",
           "caxis": {
            "gridcolor": "white",
            "linecolor": "white",
            "ticks": ""
           }
          },
          "title": {
           "x": 0.05
          },
          "xaxis": {
           "automargin": true,
           "gridcolor": "white",
           "linecolor": "white",
           "ticks": "",
           "title": {
            "standoff": 15
           },
           "zerolinecolor": "white",
           "zerolinewidth": 2
          },
          "yaxis": {
           "automargin": true,
           "gridcolor": "white",
           "linecolor": "white",
           "ticks": "",
           "title": {
            "standoff": 15
           },
           "zerolinecolor": "white",
           "zerolinewidth": 2
          }
         }
        },
        "updatemenus": [
         {
          "buttons": [
           {
            "args": [
             null,
             {
              "frame": {
               "duration": 500,
               "redraw": true
              },
              "fromcurrent": true,
              "mode": "immediate",
              "transition": {
               "duration": 500,
               "easing": "linear"
              }
             }
            ],
            "label": "&#9654;",
            "method": "animate"
           },
           {
            "args": [
             [
              null
             ],
             {
              "frame": {
               "duration": 0,
               "redraw": true
              },
              "fromcurrent": true,
              "mode": "immediate",
              "transition": {
               "duration": 0,
               "easing": "linear"
              }
             }
            ],
            "label": "&#9724;",
            "method": "animate"
           }
          ],
          "direction": "left",
          "pad": {
           "r": 10,
           "t": 70
          },
          "showactive": false,
          "type": "buttons",
          "x": 0.1,
          "xanchor": "right",
          "y": 0,
          "yanchor": "top"
         }
        ]
       }
      }
     },
     "metadata": {},
     "output_type": "display_data"
    }
   ],
   "source": [
    "fig3 = px.choropleth(df,\n",
    "                     locations = 'iso_alpha',\n",
    "                     color = 'lifeExp',\n",
    "                     hover_name = 'country',\n",
    "                     color_continuous_scale= px.colors.sequential.Plasma,\n",
    "                     animation_frame= 'year')\n",
    "fig3"
   ]
  },
  {
   "cell_type": "code",
   "execution_count": null,
   "id": "dc033c5f",
   "metadata": {},
   "outputs": [],
   "source": []
  }
 ],
 "metadata": {
  "kernelspec": {
   "display_name": "venv",
   "language": "python",
   "name": "python3"
  },
  "language_info": {
   "codemirror_mode": {
    "name": "ipython",
    "version": 3
   },
   "file_extension": ".py",
   "mimetype": "text/x-python",
   "name": "python",
   "nbconvert_exporter": "python",
   "pygments_lexer": "ipython3",
   "version": "3.10.0"
  }
 },
 "nbformat": 4,
 "nbformat_minor": 5
}
