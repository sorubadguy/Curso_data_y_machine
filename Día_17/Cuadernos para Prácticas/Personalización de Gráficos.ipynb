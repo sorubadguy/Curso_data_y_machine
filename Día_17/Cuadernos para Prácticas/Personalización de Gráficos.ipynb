{
 "cells": [
  {
   "cell_type": "code",
   "execution_count": null,
   "id": "e2f38c70",
   "metadata": {},
   "outputs": [],
   "source": [
    "import plotly.graph_objects as go"
   ]
  },
  {
   "cell_type": "code",
   "execution_count": null,
   "id": "743e4f28",
   "metadata": {
    "scrolled": true
   },
   "outputs": [],
   "source": [
    "fig = go.Figure()\n",
    "\n",
    "fig.add_trace(go.Bar(x=[1, 2, 3, 4, 5],\n",
    "                 y=[17, 10, 14, 15, 18],\n",
    "                 name='barras'))\n",
    "\n",
    "fig.add_trace(go.Scatter(x=[1, 2, 3, 4, 5],\n",
    "                      y=[16, 12, 11, 18, 19],\n",
    "                      mode='lines',\n",
    "                      name='linea'))\n",
    "\n",
    "layout = go.Layout(title='Gráfico Personalizado',\n",
    "                   xaxis_title='Eje X',\n",
    "                   yaxis_title='Eje Y')\n",
    "\n",
    "fig.update_layout(layout)"
   ]
  },
  {
   "cell_type": "code",
   "execution_count": null,
   "id": "e9367019",
   "metadata": {},
   "outputs": [],
   "source": []
  }
 ],
 "metadata": {
  "kernelspec": {
   "display_name": "Python 3 (ipykernel)",
   "language": "python",
   "name": "python3"
  },
  "language_info": {
   "codemirror_mode": {
    "name": "ipython",
    "version": 3
   },
   "file_extension": ".py",
   "mimetype": "text/x-python",
   "name": "python",
   "nbconvert_exporter": "python",
   "pygments_lexer": "ipython3",
   "version": "3.11.5"
  }
 },
 "nbformat": 4,
 "nbformat_minor": 5
}
