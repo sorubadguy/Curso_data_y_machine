{
 "cells": [
  {
   "attachments": {},
   "cell_type": "markdown",
   "id": "df00c104",
   "metadata": {},
   "source": [
    "# Proyecto del Día 16 - Análisis Logístico de Distribución\n",
    "\n",
    "**Nota importante**: Hoy no vamos a realizar el proyecto sobre un cuaderno Jupyter, sino en el software de Power BI.\n",
    "\n",
    "Hoy serás un analista de una empresa que produce conservas de frutas, que se encuentra en pleno desarrollo. La compañía está en proceso de expansión y requiere nuestro conocimiento y habilidades en **Power BI** para poder tomar decisiones informadas.\n",
    "\n",
    "\n",
    "### Propuesta\n",
    "\n",
    "La empresa se encuentra en la provincia de Río Negro, Argentina, y desde allí, distribuyen sus conservas de frutas a todo el país. No obstante, han vivido un crecimiento exponencial reciente, lo cual presenta un nuevo desafío: el crecimiento ha incrementado los costos de distribución e implicó nuevas dificultades para satisfacer la demanda en las distintas provincias.\n",
    "\n",
    "Por este motivo, se han propuesto la creación de un centro de distribución que centralice todas las actividades logísticas en una región única y estratégica del país. La ubicación actual de su fábrica hace que todos los puntos de consumo queden bastante lejos.\n",
    "\n",
    "Tu trabajo consiste en ayudarles a tomar una decisión basada en datos.\n",
    "\n",
    "\n",
    "\n",
    "### Cosigna\n",
    "\n",
    "1. Descargar la información provista en 2 archivos separados (Excel y CSV), y examinar la información que contiene.\n",
    "\n",
    "2. Cargar esos datos a una sesión de Power BI.\n",
    "\n",
    "3. Combinar las tablas de ventas con las tablas de referencia de provincias y productos, y analizarla de manera integral.\n",
    "\n",
    "4. Realizar las visualizaciones que consideres necesarias para representar la información relevante de manera comprensiva y comunicable.\n",
    "\n",
    "5. Para darle un toque profesional a tu informe, aplica colores y tonos rojos a las diferentes visualizaciones que elabores, ya que son los colores de marca de esta empresa para la que estás trabajando.\n",
    "\n",
    "5. Analizar los resultados de las visualizaciones y en base a ella ofrecer a la empresa una recomendación fundamentada para las siguientes preguntas:\n",
    "    + ¿Dónde debería ubicar la empresa su nuevo centro de distribución para optimizar sus operaciones? (Esta decisión no debería basarse simplemente en ubicar un lugar en el centro del país, sino en los lugares donde se concentran los mayores niveles de consumo)\n",
    "    + ¿Cuál es del producto que concentra las mayores ventas en cantidad de unidades?\n",
    "    + ¿En qué mes se produce la mayor cantidad de ventas?\n",
    "\n",
    "\n",
    "##### ¡A trabajar!"
   ]
  },
  {
   "cell_type": "code",
   "execution_count": null,
   "id": "bf4ec77a",
   "metadata": {},
   "outputs": [],
   "source": []
  }
 ],
 "metadata": {
  "kernelspec": {
   "display_name": "Python 3 (ipykernel)",
   "language": "python",
   "name": "python3"
  },
  "language_info": {
   "codemirror_mode": {
    "name": "ipython",
    "version": 3
   },
   "file_extension": ".py",
   "mimetype": "text/x-python",
   "name": "python",
   "nbconvert_exporter": "python",
   "pygments_lexer": "ipython3",
   "version": "3.11.5"
  }
 },
 "nbformat": 4,
 "nbformat_minor": 5
}
