{
 "cells": [
  {
   "attachments": {},
   "cell_type": "markdown",
   "id": "e055123c",
   "metadata": {},
   "source": [
    "# Balanceo de Datos\n",
    "\n",
    "Supongamos que tenemos un conjunto de datos sobre contrataciones laborales. Como puedes ver, las variables `edad` y `género` pueden introducir sesgos en un modelo predictivo por no estar bien balanceadas. Entonces vamos a aplicar una técnica de balanceo."
   ]
  },
  {
   "cell_type": "code",
   "execution_count": 1,
   "id": "1e89ba8f",
   "metadata": {},
   "outputs": [],
   "source": [
    "import pandas as pd\n",
    "from sklearn.model_selection import train_test_split\n",
    "from sklearn.utils import resample"
   ]
  },
  {
   "cell_type": "code",
   "execution_count": 2,
   "id": "df6ddeae",
   "metadata": {},
   "outputs": [
    {
     "data": {
      "text/html": [
       "<div>\n",
       "<style scoped>\n",
       "    .dataframe tbody tr th:only-of-type {\n",
       "        vertical-align: middle;\n",
       "    }\n",
       "\n",
       "    .dataframe tbody tr th {\n",
       "        vertical-align: top;\n",
       "    }\n",
       "\n",
       "    .dataframe thead th {\n",
       "        text-align: right;\n",
       "    }\n",
       "</style>\n",
       "<table border=\"1\" class=\"dataframe\">\n",
       "  <thead>\n",
       "    <tr style=\"text-align: right;\">\n",
       "      <th></th>\n",
       "      <th>edad</th>\n",
       "      <th>género</th>\n",
       "      <th>contratado</th>\n",
       "    </tr>\n",
       "  </thead>\n",
       "  <tbody>\n",
       "    <tr>\n",
       "      <th>0</th>\n",
       "      <td>22</td>\n",
       "      <td>F</td>\n",
       "      <td>1</td>\n",
       "    </tr>\n",
       "    <tr>\n",
       "      <th>1</th>\n",
       "      <td>45</td>\n",
       "      <td>M</td>\n",
       "      <td>0</td>\n",
       "    </tr>\n",
       "    <tr>\n",
       "      <th>2</th>\n",
       "      <td>36</td>\n",
       "      <td>M</td>\n",
       "      <td>1</td>\n",
       "    </tr>\n",
       "    <tr>\n",
       "      <th>3</th>\n",
       "      <td>29</td>\n",
       "      <td>F</td>\n",
       "      <td>0</td>\n",
       "    </tr>\n",
       "    <tr>\n",
       "      <th>4</th>\n",
       "      <td>58</td>\n",
       "      <td>M</td>\n",
       "      <td>1</td>\n",
       "    </tr>\n",
       "  </tbody>\n",
       "</table>\n",
       "</div>"
      ],
      "text/plain": [
       "   edad género  contratado\n",
       "0    22      F           1\n",
       "1    45      M           0\n",
       "2    36      M           1\n",
       "3    29      F           0\n",
       "4    58      M           1"
      ]
     },
     "execution_count": 2,
     "metadata": {},
     "output_type": "execute_result"
    }
   ],
   "source": [
    "data = pd.DataFrame({\n",
    "    'edad': [22, 45, 36, 29, 58],\n",
    "    'género': ['F', 'M', 'M', 'F', 'M'],\n",
    "    'contratado': [1, 0, 1, 0, 1]\n",
    "})\n",
    "data"
   ]
  },
  {
   "cell_type": "markdown",
   "id": "9f42f490",
   "metadata": {},
   "source": [
    "Voy a comenzar agrupando el DataFrame original por la columna `género`, lo cual va a ser útil para analizar y manejar los datos de manera separada según este atributo. Este paso es crucial cuando los datos muestran, como en este caso, que hay diferentes distribuciones o características basadas en el género, que podrían influir en el análisis o modelo final."
   ]
  },
  {
   "cell_type": "code",
   "execution_count": 3,
   "id": "8bf0f87e",
   "metadata": {},
   "outputs": [],
   "source": [
    "agrupado = data.groupby('género')"
   ]
  },
  {
   "cell_type": "markdown",
   "id": "7f032657",
   "metadata": {},
   "source": [
    "La agrupación ya está hecha, y si sientes curiosidad por saber lo que contiene agrupado, te lo puedo mostrar de esta manera:"
   ]
  },
  {
   "cell_type": "code",
   "execution_count": 4,
   "id": "3bad9051",
   "metadata": {},
   "outputs": [
    {
     "name": "stdout",
     "output_type": "stream",
     "text": [
      "F    edad género  contratado\n",
      "0    22      F           1\n",
      "3    29      F           0\n",
      "M    edad género  contratado\n",
      "1    45      M           0\n",
      "2    36      M           1\n",
      "4    58      M           1\n"
     ]
    }
   ],
   "source": [
    "for nombre, grupo in agrupado:\n",
    "    print(nombre, grupo)"
   ]
  },
  {
   "attachments": {},
   "cell_type": "markdown",
   "id": "689d43a3",
   "metadata": {},
   "source": [
    "Y ahora voy a balancear los Datos. Primero voy a generar un dataframe vacío para almacenar los datos balanceados:"
   ]
  },
  {
   "cell_type": "code",
   "execution_count": 5,
   "id": "fb0e5a5b",
   "metadata": {},
   "outputs": [],
   "source": [
    "data_balanceada = pd.DataFrame()"
   ]
  },
  {
   "attachments": {},
   "cell_type": "markdown",
   "id": "a0ba8602",
   "metadata": {},
   "source": [
    "Y a continuación voy a escribir un **loop for** que itere sobre el grupo que he creado (la variable `agrupado` con los datos agrupados por género), para crear un conjunto de datos balanceado para cada género."
   ]
  },
  {
   "cell_type": "code",
   "execution_count": 6,
   "id": "104b4cc7",
   "metadata": {},
   "outputs": [],
   "source": [
    "for nombre, grupo in agrupado:\n",
    "    grupo_balanceado = resample(grupo, \n",
    "                               replace=True,\n",
    "                               n_samples=10,\n",
    "                               random_state=123)\n",
    "    data_balanceada = pd.concat([data_balanceada, grupo_balanceado])"
   ]
  },
  {
   "attachments": {},
   "cell_type": "markdown",
   "id": "bbc9bdef",
   "metadata": {},
   "source": [
    "Veamos cómo ha quedado conformado el dataframe `data_balanceada`:"
   ]
  },
  {
   "cell_type": "code",
   "execution_count": 7,
   "id": "df6c0789",
   "metadata": {},
   "outputs": [
    {
     "data": {
      "text/html": [
       "<div>\n",
       "<style scoped>\n",
       "    .dataframe tbody tr th:only-of-type {\n",
       "        vertical-align: middle;\n",
       "    }\n",
       "\n",
       "    .dataframe tbody tr th {\n",
       "        vertical-align: top;\n",
       "    }\n",
       "\n",
       "    .dataframe thead th {\n",
       "        text-align: right;\n",
       "    }\n",
       "</style>\n",
       "<table border=\"1\" class=\"dataframe\">\n",
       "  <thead>\n",
       "    <tr style=\"text-align: right;\">\n",
       "      <th></th>\n",
       "      <th>edad</th>\n",
       "      <th>género</th>\n",
       "      <th>contratado</th>\n",
       "    </tr>\n",
       "  </thead>\n",
       "  <tbody>\n",
       "    <tr>\n",
       "      <th>0</th>\n",
       "      <td>22</td>\n",
       "      <td>F</td>\n",
       "      <td>1</td>\n",
       "    </tr>\n",
       "    <tr>\n",
       "      <th>3</th>\n",
       "      <td>29</td>\n",
       "      <td>F</td>\n",
       "      <td>0</td>\n",
       "    </tr>\n",
       "    <tr>\n",
       "      <th>0</th>\n",
       "      <td>22</td>\n",
       "      <td>F</td>\n",
       "      <td>1</td>\n",
       "    </tr>\n",
       "    <tr>\n",
       "      <th>0</th>\n",
       "      <td>22</td>\n",
       "      <td>F</td>\n",
       "      <td>1</td>\n",
       "    </tr>\n",
       "    <tr>\n",
       "      <th>0</th>\n",
       "      <td>22</td>\n",
       "      <td>F</td>\n",
       "      <td>1</td>\n",
       "    </tr>\n",
       "    <tr>\n",
       "      <th>0</th>\n",
       "      <td>22</td>\n",
       "      <td>F</td>\n",
       "      <td>1</td>\n",
       "    </tr>\n",
       "    <tr>\n",
       "      <th>0</th>\n",
       "      <td>22</td>\n",
       "      <td>F</td>\n",
       "      <td>1</td>\n",
       "    </tr>\n",
       "    <tr>\n",
       "      <th>3</th>\n",
       "      <td>29</td>\n",
       "      <td>F</td>\n",
       "      <td>0</td>\n",
       "    </tr>\n",
       "    <tr>\n",
       "      <th>3</th>\n",
       "      <td>29</td>\n",
       "      <td>F</td>\n",
       "      <td>0</td>\n",
       "    </tr>\n",
       "    <tr>\n",
       "      <th>0</th>\n",
       "      <td>22</td>\n",
       "      <td>F</td>\n",
       "      <td>1</td>\n",
       "    </tr>\n",
       "    <tr>\n",
       "      <th>4</th>\n",
       "      <td>58</td>\n",
       "      <td>M</td>\n",
       "      <td>1</td>\n",
       "    </tr>\n",
       "    <tr>\n",
       "      <th>2</th>\n",
       "      <td>36</td>\n",
       "      <td>M</td>\n",
       "      <td>1</td>\n",
       "    </tr>\n",
       "    <tr>\n",
       "      <th>4</th>\n",
       "      <td>58</td>\n",
       "      <td>M</td>\n",
       "      <td>1</td>\n",
       "    </tr>\n",
       "    <tr>\n",
       "      <th>4</th>\n",
       "      <td>58</td>\n",
       "      <td>M</td>\n",
       "      <td>1</td>\n",
       "    </tr>\n",
       "    <tr>\n",
       "      <th>1</th>\n",
       "      <td>45</td>\n",
       "      <td>M</td>\n",
       "      <td>0</td>\n",
       "    </tr>\n",
       "    <tr>\n",
       "      <th>4</th>\n",
       "      <td>58</td>\n",
       "      <td>M</td>\n",
       "      <td>1</td>\n",
       "    </tr>\n",
       "    <tr>\n",
       "      <th>4</th>\n",
       "      <td>58</td>\n",
       "      <td>M</td>\n",
       "      <td>1</td>\n",
       "    </tr>\n",
       "    <tr>\n",
       "      <th>2</th>\n",
       "      <td>36</td>\n",
       "      <td>M</td>\n",
       "      <td>1</td>\n",
       "    </tr>\n",
       "    <tr>\n",
       "      <th>4</th>\n",
       "      <td>58</td>\n",
       "      <td>M</td>\n",
       "      <td>1</td>\n",
       "    </tr>\n",
       "    <tr>\n",
       "      <th>2</th>\n",
       "      <td>36</td>\n",
       "      <td>M</td>\n",
       "      <td>1</td>\n",
       "    </tr>\n",
       "  </tbody>\n",
       "</table>\n",
       "</div>"
      ],
      "text/plain": [
       "   edad género  contratado\n",
       "0    22      F           1\n",
       "3    29      F           0\n",
       "0    22      F           1\n",
       "0    22      F           1\n",
       "0    22      F           1\n",
       "0    22      F           1\n",
       "0    22      F           1\n",
       "3    29      F           0\n",
       "3    29      F           0\n",
       "0    22      F           1\n",
       "4    58      M           1\n",
       "2    36      M           1\n",
       "4    58      M           1\n",
       "4    58      M           1\n",
       "1    45      M           0\n",
       "4    58      M           1\n",
       "4    58      M           1\n",
       "2    36      M           1\n",
       "4    58      M           1\n",
       "2    36      M           1"
      ]
     },
     "execution_count": 7,
     "metadata": {},
     "output_type": "execute_result"
    }
   ],
   "source": [
    "data_balanceada"
   ]
  },
  {
   "attachments": {},
   "cell_type": "markdown",
   "id": "bb394f3e",
   "metadata": {},
   "source": [
    "Este código ha logrado crear un conjunto de datos donde cada género está igualmente representado, mitigando los problemas potenciales causados por el desbalance en el análisis posterior o el modelado predictivo.\n",
    "\n",
    "Este enfoque, a la hora de entrenar el modelo para hacer predicciones, va a mejorar la equidad y la precisión, permitiendo que las decisiones basadas en estos modelos sean más justas y más confiables para todos los grupos representados en los datos."
   ]
  },
  {
   "cell_type": "code",
   "execution_count": null,
   "id": "081c097d",
   "metadata": {},
   "outputs": [],
   "source": []
  }
 ],
 "metadata": {
  "kernelspec": {
   "display_name": "Python 3 (ipykernel)",
   "language": "python",
   "name": "python3"
  },
  "language_info": {
   "codemirror_mode": {
    "name": "ipython",
    "version": 3
   },
   "file_extension": ".py",
   "mimetype": "text/x-python",
   "name": "python",
   "nbconvert_exporter": "python",
   "pygments_lexer": "ipython3",
   "version": "3.11.5"
  }
 },
 "nbformat": 4,
 "nbformat_minor": 5
}
