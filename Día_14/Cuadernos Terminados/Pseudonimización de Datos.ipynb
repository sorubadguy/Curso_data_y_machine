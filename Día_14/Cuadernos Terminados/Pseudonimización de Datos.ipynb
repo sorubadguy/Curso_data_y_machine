{
 "cells": [
  {
   "attachments": {},
   "cell_type": "markdown",
   "id": "b6635497",
   "metadata": {},
   "source": [
    "# Pseudonimización de los Datos\n",
    "\n",
    "En la lección anterior aprendimos a poner en práctica algunas técnicas de **anonimización de datos**, que si bien te serán muy útiles, **no cubren todas las necesidades**.\n",
    "\n",
    "En muchas ocasiones no podrás darte el lujo de perder o distorsionar información relevante para los fines de la investigación, por más sensible que sean esos datos.\n",
    "\n",
    "En esos casos podrás aplicar otro conjunto de técnicas que hacen un proceso parecido pero diferente, llamado **pseudonimización**, que en lugar de hacer que los datos sean anónimos, hace que podamos referirnos a ellos a través de seudónimos, y eso también es efectivo para el objetivo de cuidar la privacidad de los datos.\n",
    "\n",
    "La pseudonimización lo que hace es **reemplazar los datos reales por datos de fantasía** que enmascaran a los datos que debemos proteger. De esa manera podemos seguir usando esos datos, procesando cálculos y relaciones, pero sin revelar la verdadera identidad de esa información.\n",
    "\n",
    "Veamos cómo hacer esto en la práctica. Vamos a utilizar una técnica para reemplazar el nombre de la persona con un identificador único generado de manera aleatoria. Esto nos va a permitir mantener una forma de rastreo sin exponer la identidad real\n",
    "\n",
    "Para facilitar esto, he importado una biblioteca llamada `uuid`, que sirve para crear identificadores únicos. "
   ]
  },
  {
   "cell_type": "code",
   "execution_count": 1,
   "id": "04c28269",
   "metadata": {},
   "outputs": [],
   "source": [
    "import pandas as pd\n",
    "import uuid\n",
    "import hashlib"
   ]
  },
  {
   "cell_type": "code",
   "execution_count": 2,
   "id": "817a9289",
   "metadata": {
    "scrolled": true
   },
   "outputs": [
    {
     "data": {
      "text/html": [
       "<div>\n",
       "<style scoped>\n",
       "    .dataframe tbody tr th:only-of-type {\n",
       "        vertical-align: middle;\n",
       "    }\n",
       "\n",
       "    .dataframe tbody tr th {\n",
       "        vertical-align: top;\n",
       "    }\n",
       "\n",
       "    .dataframe thead th {\n",
       "        text-align: right;\n",
       "    }\n",
       "</style>\n",
       "<table border=\"1\" class=\"dataframe\">\n",
       "  <thead>\n",
       "    <tr style=\"text-align: right;\">\n",
       "      <th></th>\n",
       "      <th>nombre</th>\n",
       "      <th>email</th>\n",
       "      <th>ubicacion</th>\n",
       "    </tr>\n",
       "  </thead>\n",
       "  <tbody>\n",
       "    <tr>\n",
       "      <th>0</th>\n",
       "      <td>Ana</td>\n",
       "      <td>ana@example.com</td>\n",
       "      <td>Ciudad A</td>\n",
       "    </tr>\n",
       "    <tr>\n",
       "      <th>1</th>\n",
       "      <td>Juan</td>\n",
       "      <td>juan@example.com</td>\n",
       "      <td>Ciudad B</td>\n",
       "    </tr>\n",
       "    <tr>\n",
       "      <th>2</th>\n",
       "      <td>Luis</td>\n",
       "      <td>luis@example.com</td>\n",
       "      <td>Ciudad C</td>\n",
       "    </tr>\n",
       "  </tbody>\n",
       "</table>\n",
       "</div>"
      ],
      "text/plain": [
       "  nombre             email ubicacion\n",
       "0    Ana   ana@example.com  Ciudad A\n",
       "1   Juan  juan@example.com  Ciudad B\n",
       "2   Luis  luis@example.com  Ciudad C"
      ]
     },
     "execution_count": 2,
     "metadata": {},
     "output_type": "execute_result"
    }
   ],
   "source": [
    "data = pd.DataFrame({\n",
    "    'nombre': ['Ana', 'Juan', 'Luis'],\n",
    "    'email': ['ana@example.com', 'juan@example.com', 'luis@example.com'],\n",
    "    'ubicacion': ['Ciudad A', 'Ciudad B', 'Ciudad C']\n",
    "})\n",
    "\n",
    "data"
   ]
  },
  {
   "cell_type": "markdown",
   "id": "b294dbbb",
   "metadata": {},
   "source": [
    "Primero voy a generar una **lista** que contenga un identificador para cada elemento de mi dataframe."
   ]
  },
  {
   "cell_type": "code",
   "execution_count": 3,
   "id": "abc48f29",
   "metadata": {},
   "outputs": [],
   "source": [
    "id_pseudo = []"
   ]
  },
  {
   "cell_type": "markdown",
   "id": "77096a23",
   "metadata": {},
   "source": [
    "Y voy a llenar esa lista con valores generados aleatoriamente por `uuid` en un loop for."
   ]
  },
  {
   "cell_type": "code",
   "execution_count": 4,
   "id": "e9bf25c9",
   "metadata": {},
   "outputs": [],
   "source": [
    "for n in range(len(data)):\n",
    "    id_pseudo.append(str(uuid.uuid4()))"
   ]
  },
  {
   "cell_type": "code",
   "execution_count": 5,
   "id": "0f24358e",
   "metadata": {},
   "outputs": [
    {
     "data": {
      "text/plain": [
       "['c1c7ae39-d6c7-4cad-931f-796f5a1ef9b4',\n",
       " 'ce943dd5-2f46-4e32-8c25-de792838c041',\n",
       " '59a7bb18-143f-4480-b160-47570db9abde']"
      ]
     },
     "execution_count": 5,
     "metadata": {},
     "output_type": "execute_result"
    }
   ],
   "source": [
    "id_pseudo"
   ]
  },
  {
   "attachments": {},
   "cell_type": "markdown",
   "id": "1a4cf137",
   "metadata": {},
   "source": [
    "Como último paso voy a incorporar esta nueva información a mi dataframe, y voy a eliminar a la columna de `nombres`, ya que no la voy a necesitar más."
   ]
  },
  {
   "cell_type": "code",
   "execution_count": 6,
   "id": "6d56c6f1",
   "metadata": {},
   "outputs": [
    {
     "data": {
      "text/html": [
       "<div>\n",
       "<style scoped>\n",
       "    .dataframe tbody tr th:only-of-type {\n",
       "        vertical-align: middle;\n",
       "    }\n",
       "\n",
       "    .dataframe tbody tr th {\n",
       "        vertical-align: top;\n",
       "    }\n",
       "\n",
       "    .dataframe thead th {\n",
       "        text-align: right;\n",
       "    }\n",
       "</style>\n",
       "<table border=\"1\" class=\"dataframe\">\n",
       "  <thead>\n",
       "    <tr style=\"text-align: right;\">\n",
       "      <th></th>\n",
       "      <th>email</th>\n",
       "      <th>ubicacion</th>\n",
       "      <th>id_pseudo</th>\n",
       "    </tr>\n",
       "  </thead>\n",
       "  <tbody>\n",
       "    <tr>\n",
       "      <th>0</th>\n",
       "      <td>ana@example.com</td>\n",
       "      <td>Ciudad A</td>\n",
       "      <td>c1c7ae39-d6c7-4cad-931f-796f5a1ef9b4</td>\n",
       "    </tr>\n",
       "    <tr>\n",
       "      <th>1</th>\n",
       "      <td>juan@example.com</td>\n",
       "      <td>Ciudad B</td>\n",
       "      <td>ce943dd5-2f46-4e32-8c25-de792838c041</td>\n",
       "    </tr>\n",
       "    <tr>\n",
       "      <th>2</th>\n",
       "      <td>luis@example.com</td>\n",
       "      <td>Ciudad C</td>\n",
       "      <td>59a7bb18-143f-4480-b160-47570db9abde</td>\n",
       "    </tr>\n",
       "  </tbody>\n",
       "</table>\n",
       "</div>"
      ],
      "text/plain": [
       "              email ubicacion                             id_pseudo\n",
       "0   ana@example.com  Ciudad A  c1c7ae39-d6c7-4cad-931f-796f5a1ef9b4\n",
       "1  juan@example.com  Ciudad B  ce943dd5-2f46-4e32-8c25-de792838c041\n",
       "2  luis@example.com  Ciudad C  59a7bb18-143f-4480-b160-47570db9abde"
      ]
     },
     "execution_count": 6,
     "metadata": {},
     "output_type": "execute_result"
    }
   ],
   "source": [
    "data['id_pseudo'] = id_pseudo\n",
    "data.drop('nombre', axis=1, inplace=True)\n",
    "data"
   ]
  },
  {
   "attachments": {},
   "cell_type": "markdown",
   "id": "63084b8e",
   "metadata": {},
   "source": [
    "Otra estrategia de pseudonimización es el **hashing**, que es una técnica bastante similar, que consiste en usar una función para convertir los valores de datos en una **cadena de caracteres fija** que reemplace a los valores originales."
   ]
  },
  {
   "cell_type": "code",
   "execution_count": 7,
   "id": "33703a8e",
   "metadata": {},
   "outputs": [],
   "source": [
    "def hash_data(data):\n",
    "    return hashlib.sha256(data.encode()).hexdigest()"
   ]
  },
  {
   "cell_type": "code",
   "execution_count": 8,
   "id": "2cc006c2",
   "metadata": {},
   "outputs": [],
   "source": [
    "hash_emails = []"
   ]
  },
  {
   "cell_type": "code",
   "execution_count": 9,
   "id": "900fccc7",
   "metadata": {},
   "outputs": [
    {
     "data": {
      "text/html": [
       "<div>\n",
       "<style scoped>\n",
       "    .dataframe tbody tr th:only-of-type {\n",
       "        vertical-align: middle;\n",
       "    }\n",
       "\n",
       "    .dataframe tbody tr th {\n",
       "        vertical-align: top;\n",
       "    }\n",
       "\n",
       "    .dataframe thead th {\n",
       "        text-align: right;\n",
       "    }\n",
       "</style>\n",
       "<table border=\"1\" class=\"dataframe\">\n",
       "  <thead>\n",
       "    <tr style=\"text-align: right;\">\n",
       "      <th></th>\n",
       "      <th>email</th>\n",
       "      <th>ubicacion</th>\n",
       "      <th>id_pseudo</th>\n",
       "    </tr>\n",
       "  </thead>\n",
       "  <tbody>\n",
       "    <tr>\n",
       "      <th>0</th>\n",
       "      <td>8e43ca37701228e74983efdbd0cff5c16b3b1e5d4e29a7...</td>\n",
       "      <td>Ciudad A</td>\n",
       "      <td>c1c7ae39-d6c7-4cad-931f-796f5a1ef9b4</td>\n",
       "    </tr>\n",
       "    <tr>\n",
       "      <th>1</th>\n",
       "      <td>81b562a0fe2aecc8831e2d7c9942f319736afc2a99415e...</td>\n",
       "      <td>Ciudad B</td>\n",
       "      <td>ce943dd5-2f46-4e32-8c25-de792838c041</td>\n",
       "    </tr>\n",
       "    <tr>\n",
       "      <th>2</th>\n",
       "      <td>861d62c5b964e71b42e61aeb4e876f86908a86300b15b2...</td>\n",
       "      <td>Ciudad C</td>\n",
       "      <td>59a7bb18-143f-4480-b160-47570db9abde</td>\n",
       "    </tr>\n",
       "  </tbody>\n",
       "</table>\n",
       "</div>"
      ],
      "text/plain": [
       "                                               email ubicacion  \\\n",
       "0  8e43ca37701228e74983efdbd0cff5c16b3b1e5d4e29a7...  Ciudad A   \n",
       "1  81b562a0fe2aecc8831e2d7c9942f319736afc2a99415e...  Ciudad B   \n",
       "2  861d62c5b964e71b42e61aeb4e876f86908a86300b15b2...  Ciudad C   \n",
       "\n",
       "                              id_pseudo  \n",
       "0  c1c7ae39-d6c7-4cad-931f-796f5a1ef9b4  \n",
       "1  ce943dd5-2f46-4e32-8c25-de792838c041  \n",
       "2  59a7bb18-143f-4480-b160-47570db9abde  "
      ]
     },
     "execution_count": 9,
     "metadata": {},
     "output_type": "execute_result"
    }
   ],
   "source": [
    "for email in data['email']:\n",
    "    h_email = hash_data(email)\n",
    "    hash_emails.append(h_email)\n",
    "data['email'] = hash_emails\n",
    "\n",
    "data"
   ]
  },
  {
   "attachments": {},
   "cell_type": "markdown",
   "id": "94ff5422",
   "metadata": {},
   "source": [
    "Estos dos mecanismos (la **uuid** y el **hashing**) son bastante similares, y en realidad la principal diferencia radica en que **uuid** genera un valor completamente **al azar**, mientras que el **hashing** genera ese valor **a partir del valor original**, distorsionándolo hasta que se hace irreconocible, pero tiene una raíz en él.\n",
    "\n",
    "De todos modos, ambas transformaciones son **irreversibles**, es decir que una vez eliminada la información original, no puedes volver a obtenerla a partir de los valores de reemplazo.\n",
    "\n",
    "Finalmente vamos a ver una técnica de pseudonimización muy importante, que se llama **tokenización**. Digo que es importante, porque en muchas ocasiones la información privada no puede ser eliminado. Supongamos que tu base de datos corresponde a un centro médico, y que por lo tanto posees mucha información que a pesar de ser privada, es relevante y por lo tanto no solo que no puede ser eliminada, sino que va a ser necesario manipular esa información con frecuencia.\n",
    "\n",
    "En estas situaciones entra en juego la tokenización, que es una técnica que también reemplaza los valores sensibles por valores de fantasía irreconocibles, pero con la diferencia que la tokenización preserva los valores originales, y permite que el usuario manipule los valores falsos, mientras que el programa haga sus cálculos y sus procesos con la información verdadera."
   ]
  },
  {
   "cell_type": "code",
   "execution_count": 10,
   "id": "d2347bad",
   "metadata": {},
   "outputs": [],
   "source": [
    "mis_tokens = {}"
   ]
  },
  {
   "cell_type": "code",
   "execution_count": 11,
   "id": "58ed08e1",
   "metadata": {},
   "outputs": [],
   "source": [
    "def tokenizar(dato):\n",
    "    token = str(uuid.uuid4())\n",
    "    mis_tokens[token] = dato\n",
    "    return token"
   ]
  },
  {
   "cell_type": "code",
   "execution_count": 12,
   "id": "5a886244",
   "metadata": {},
   "outputs": [],
   "source": [
    "def recuperar_dato(token):\n",
    "    return mis_tokens.get(token, \"Token no válido\")"
   ]
  },
  {
   "cell_type": "code",
   "execution_count": 13,
   "id": "c7f941a4",
   "metadata": {},
   "outputs": [],
   "source": [
    "dato_original = \"123-456-789\"\n",
    "token = tokenizar(dato_original)"
   ]
  },
  {
   "cell_type": "code",
   "execution_count": 14,
   "id": "750d47f7",
   "metadata": {},
   "outputs": [
    {
     "name": "stdout",
     "output_type": "stream",
     "text": [
      "Token gerado: d7cb5e96-4708-4c74-9f15-a7eb18d5be39\n",
      "Dato recuperado: 123-456-789\n"
     ]
    }
   ],
   "source": [
    "print(f'Token gerado: {token}')\n",
    "print(f'Dato recuperado: {recuperar_dato(token)}')"
   ]
  },
  {
   "attachments": {},
   "cell_type": "markdown",
   "id": "dabc363b",
   "metadata": {},
   "source": [
    "Esto ha sido lo más importante sobre **pseudonimización**, y junto con la **anonimización** ahora ya sabes que sin importar cuán relevante sea la información que posees, siempre contarás con estrategias para que tu trabajo no ponga en riesgo la privacidad de las personas, ni que te ponga a ti mismo en riesgo de transgredir la ley.\n",
    "\n",
    "Sigamos avanzando con los conceptos fundamentales de la ética en data Science."
   ]
  },
  {
   "cell_type": "code",
   "execution_count": null,
   "id": "c15bcc93",
   "metadata": {},
   "outputs": [],
   "source": []
  }
 ],
 "metadata": {
  "kernelspec": {
   "display_name": "Python 3 (ipykernel)",
   "language": "python",
   "name": "python3"
  },
  "language_info": {
   "codemirror_mode": {
    "name": "ipython",
    "version": 3
   },
   "file_extension": ".py",
   "mimetype": "text/x-python",
   "name": "python",
   "nbconvert_exporter": "python",
   "pygments_lexer": "ipython3",
   "version": "3.11.5"
  }
 },
 "nbformat": 4,
 "nbformat_minor": 5
}
