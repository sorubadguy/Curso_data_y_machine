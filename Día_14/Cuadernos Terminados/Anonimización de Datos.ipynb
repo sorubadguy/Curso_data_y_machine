{
 "cells": [
  {
   "attachments": {},
   "cell_type": "markdown",
   "id": "2691d057",
   "metadata": {},
   "source": [
    "# Anonimización de Datos\n",
    "\n",
    "En la lección anterior explicamos el problema de la **privacidad de los datos**. En esta lección práctica y en la siguiente, vamos a hablar sobre cómo abordar ese problema a través de dos técnicas cruciales para la protección de la información personal: la **anonimización** y la **pseudonimización**. Vamos a ver qué son, por qué son importantes y cómo podemos implementarlas en Python con ejemplos prácticos. Comencemos.\n",
    "\n",
    "La **anonimización** y la **pseudonimización** son dos métodos utilizados para proteger la privacidad de los datos, y son fundamentales para cumplir con regulaciones como la *GDPR* y para asegurar que los datos personales no sean expuestos durante el análisis de datos. Al utilizar la anonimización y la pseudonimización, vamos a poder utilizar datos sensibles de forma más segura para la investigación y el desarrollo.\n",
    "\n",
    "En esta lección conoceremos en profundidad la anonimización, y en la siguiente lección le toca el turno a la pseudonimización.\n",
    "\n",
    "La **anonimización** es la más drástica de ambas, porque directamente elimina permanentemente cualquier información que pueda identificar a una persona, preservando solamente aquellos datos que son necesarios para la investigación pero que no implican ninguna clase de identificación personal. Esto en general es perfectamente válido ya que casi nunca la información que brinda identidad es necesaria para obtener conocimientos generalizables. Datos como el nombre, el número de documento, o de teléfono no suelen ser relevantes para asuntos estadísticos.\n",
    "\n",
    "Vamos a ver algunos ejemplos prácticos de cómo anonimizar un conjunto de datos utilizando Python. Supongamos que tenemos este dataframe que contiene nombres, direcciones de correo electrónico y ubicaciones."
   ]
  },
  {
   "cell_type": "code",
   "execution_count": 1,
   "id": "a1acac88",
   "metadata": {},
   "outputs": [],
   "source": [
    "import pandas as pd\n",
    "import numpy as np"
   ]
  },
  {
   "cell_type": "code",
   "execution_count": 2,
   "id": "8712ec6e",
   "metadata": {},
   "outputs": [
    {
     "data": {
      "text/html": [
       "<div>\n",
       "<style scoped>\n",
       "    .dataframe tbody tr th:only-of-type {\n",
       "        vertical-align: middle;\n",
       "    }\n",
       "\n",
       "    .dataframe tbody tr th {\n",
       "        vertical-align: top;\n",
       "    }\n",
       "\n",
       "    .dataframe thead th {\n",
       "        text-align: right;\n",
       "    }\n",
       "</style>\n",
       "<table border=\"1\" class=\"dataframe\">\n",
       "  <thead>\n",
       "    <tr style=\"text-align: right;\">\n",
       "      <th></th>\n",
       "      <th>nombre</th>\n",
       "      <th>email</th>\n",
       "      <th>edad</th>\n",
       "      <th>ubicacion</th>\n",
       "      <th>salario</th>\n",
       "      <th>banco</th>\n",
       "    </tr>\n",
       "  </thead>\n",
       "  <tbody>\n",
       "    <tr>\n",
       "      <th>0</th>\n",
       "      <td>Ana</td>\n",
       "      <td>ana@ejemplo.com</td>\n",
       "      <td>22</td>\n",
       "      <td>Ciudad A</td>\n",
       "      <td>55000</td>\n",
       "      <td>Banco 1</td>\n",
       "    </tr>\n",
       "    <tr>\n",
       "      <th>1</th>\n",
       "      <td>Juan</td>\n",
       "      <td>juan@ejemplo.com</td>\n",
       "      <td>37</td>\n",
       "      <td>Ciudad B</td>\n",
       "      <td>34000</td>\n",
       "      <td>Banco 3</td>\n",
       "    </tr>\n",
       "    <tr>\n",
       "      <th>2</th>\n",
       "      <td>Luis</td>\n",
       "      <td>luis@ejemplo.com</td>\n",
       "      <td>15</td>\n",
       "      <td>Ciudad C</td>\n",
       "      <td>76000</td>\n",
       "      <td>Banco 1</td>\n",
       "    </tr>\n",
       "    <tr>\n",
       "      <th>3</th>\n",
       "      <td>Pedro</td>\n",
       "      <td>pedro@ejemplo.com</td>\n",
       "      <td>49</td>\n",
       "      <td>Ciudad D</td>\n",
       "      <td>51000</td>\n",
       "      <td>Banco 2</td>\n",
       "    </tr>\n",
       "    <tr>\n",
       "      <th>4</th>\n",
       "      <td>Silvina</td>\n",
       "      <td>silvina@ejemplo.com</td>\n",
       "      <td>63</td>\n",
       "      <td>Ciudad E</td>\n",
       "      <td>62000</td>\n",
       "      <td>Banco 3</td>\n",
       "    </tr>\n",
       "  </tbody>\n",
       "</table>\n",
       "</div>"
      ],
      "text/plain": [
       "    nombre                email  edad ubicacion  salario    banco\n",
       "0      Ana      ana@ejemplo.com    22  Ciudad A    55000  Banco 1\n",
       "1     Juan     juan@ejemplo.com    37  Ciudad B    34000  Banco 3\n",
       "2     Luis     luis@ejemplo.com    15  Ciudad C    76000  Banco 1\n",
       "3    Pedro    pedro@ejemplo.com    49  Ciudad D    51000  Banco 2\n",
       "4  Silvina  silvina@ejemplo.com    63  Ciudad E    62000  Banco 3"
      ]
     },
     "execution_count": 2,
     "metadata": {},
     "output_type": "execute_result"
    }
   ],
   "source": [
    "data = pd.DataFrame({\n",
    "    'nombre': ['Ana', 'Juan', 'Luis', 'Pedro', 'Silvina'],\n",
    "    'email': ['ana@ejemplo.com', 'juan@ejemplo.com', 'luis@ejemplo.com', 'pedro@ejemplo.com', 'silvina@ejemplo.com'],\n",
    "    'edad': [22, 37, 15, 49, 63],\n",
    "    'ubicacion': ['Ciudad A', 'Ciudad B', 'Ciudad C', 'Ciudad D', 'Ciudad E'],\n",
    "    'salario': [55000, 34000, 76000, 51000, 62000],\n",
    "    'banco': ['Banco 1', 'Banco 3', 'Banco 1', 'Banco 2', 'Banco 3']\n",
    "})\n",
    "\n",
    "data"
   ]
  },
  {
   "cell_type": "markdown",
   "id": "14ce5f0d",
   "metadata": {},
   "source": [
    "A través de **pandas** podemos usar la función `drop()` para quitar todas aquellas columnas que afecten la privacidad de los individuos."
   ]
  },
  {
   "cell_type": "code",
   "execution_count": 3,
   "id": "09510203",
   "metadata": {},
   "outputs": [
    {
     "data": {
      "text/html": [
       "<div>\n",
       "<style scoped>\n",
       "    .dataframe tbody tr th:only-of-type {\n",
       "        vertical-align: middle;\n",
       "    }\n",
       "\n",
       "    .dataframe tbody tr th {\n",
       "        vertical-align: top;\n",
       "    }\n",
       "\n",
       "    .dataframe thead th {\n",
       "        text-align: right;\n",
       "    }\n",
       "</style>\n",
       "<table border=\"1\" class=\"dataframe\">\n",
       "  <thead>\n",
       "    <tr style=\"text-align: right;\">\n",
       "      <th></th>\n",
       "      <th>edad</th>\n",
       "      <th>ubicacion</th>\n",
       "      <th>salario</th>\n",
       "      <th>banco</th>\n",
       "    </tr>\n",
       "  </thead>\n",
       "  <tbody>\n",
       "    <tr>\n",
       "      <th>0</th>\n",
       "      <td>22</td>\n",
       "      <td>Ciudad A</td>\n",
       "      <td>55000</td>\n",
       "      <td>Banco 1</td>\n",
       "    </tr>\n",
       "    <tr>\n",
       "      <th>1</th>\n",
       "      <td>37</td>\n",
       "      <td>Ciudad B</td>\n",
       "      <td>34000</td>\n",
       "      <td>Banco 3</td>\n",
       "    </tr>\n",
       "    <tr>\n",
       "      <th>2</th>\n",
       "      <td>15</td>\n",
       "      <td>Ciudad C</td>\n",
       "      <td>76000</td>\n",
       "      <td>Banco 1</td>\n",
       "    </tr>\n",
       "    <tr>\n",
       "      <th>3</th>\n",
       "      <td>49</td>\n",
       "      <td>Ciudad D</td>\n",
       "      <td>51000</td>\n",
       "      <td>Banco 2</td>\n",
       "    </tr>\n",
       "    <tr>\n",
       "      <th>4</th>\n",
       "      <td>63</td>\n",
       "      <td>Ciudad E</td>\n",
       "      <td>62000</td>\n",
       "      <td>Banco 3</td>\n",
       "    </tr>\n",
       "  </tbody>\n",
       "</table>\n",
       "</div>"
      ],
      "text/plain": [
       "   edad ubicacion  salario    banco\n",
       "0    22  Ciudad A    55000  Banco 1\n",
       "1    37  Ciudad B    34000  Banco 3\n",
       "2    15  Ciudad C    76000  Banco 1\n",
       "3    49  Ciudad D    51000  Banco 2\n",
       "4    63  Ciudad E    62000  Banco 3"
      ]
     },
     "execution_count": 3,
     "metadata": {},
     "output_type": "execute_result"
    }
   ],
   "source": [
    "data.drop(['nombre', 'email'], axis=1, inplace=True)\n",
    "data"
   ]
  },
  {
   "attachments": {},
   "cell_type": "markdown",
   "id": "681c3e37",
   "metadata": {},
   "source": [
    "Otro aspecto que se puede anonimizar si se considera necesario, es **redondear números** como edades, fechas o números de documentos.\n",
    "\n",
    "Al redondearlos podemos seguir investigando aspectos generales de la información sin tener información demasiado específica."
   ]
  },
  {
   "cell_type": "code",
   "execution_count": 4,
   "id": "b031fc01",
   "metadata": {},
   "outputs": [
    {
     "data": {
      "text/html": [
       "<div>\n",
       "<style scoped>\n",
       "    .dataframe tbody tr th:only-of-type {\n",
       "        vertical-align: middle;\n",
       "    }\n",
       "\n",
       "    .dataframe tbody tr th {\n",
       "        vertical-align: top;\n",
       "    }\n",
       "\n",
       "    .dataframe thead th {\n",
       "        text-align: right;\n",
       "    }\n",
       "</style>\n",
       "<table border=\"1\" class=\"dataframe\">\n",
       "  <thead>\n",
       "    <tr style=\"text-align: right;\">\n",
       "      <th></th>\n",
       "      <th>edad</th>\n",
       "      <th>ubicacion</th>\n",
       "      <th>salario</th>\n",
       "      <th>banco</th>\n",
       "    </tr>\n",
       "  </thead>\n",
       "  <tbody>\n",
       "    <tr>\n",
       "      <th>0</th>\n",
       "      <td>20</td>\n",
       "      <td>Ciudad A</td>\n",
       "      <td>55000</td>\n",
       "      <td>Banco 1</td>\n",
       "    </tr>\n",
       "    <tr>\n",
       "      <th>1</th>\n",
       "      <td>30</td>\n",
       "      <td>Ciudad B</td>\n",
       "      <td>34000</td>\n",
       "      <td>Banco 3</td>\n",
       "    </tr>\n",
       "    <tr>\n",
       "      <th>2</th>\n",
       "      <td>10</td>\n",
       "      <td>Ciudad C</td>\n",
       "      <td>76000</td>\n",
       "      <td>Banco 1</td>\n",
       "    </tr>\n",
       "    <tr>\n",
       "      <th>3</th>\n",
       "      <td>40</td>\n",
       "      <td>Ciudad D</td>\n",
       "      <td>51000</td>\n",
       "      <td>Banco 2</td>\n",
       "    </tr>\n",
       "    <tr>\n",
       "      <th>4</th>\n",
       "      <td>60</td>\n",
       "      <td>Ciudad E</td>\n",
       "      <td>62000</td>\n",
       "      <td>Banco 3</td>\n",
       "    </tr>\n",
       "  </tbody>\n",
       "</table>\n",
       "</div>"
      ],
      "text/plain": [
       "   edad ubicacion  salario    banco\n",
       "0    20  Ciudad A    55000  Banco 1\n",
       "1    30  Ciudad B    34000  Banco 3\n",
       "2    10  Ciudad C    76000  Banco 1\n",
       "3    40  Ciudad D    51000  Banco 2\n",
       "4    60  Ciudad E    62000  Banco 3"
      ]
     },
     "execution_count": 4,
     "metadata": {},
     "output_type": "execute_result"
    }
   ],
   "source": [
    "data['edad'] = (data['edad'] // 10) * 10\n",
    "data"
   ]
  },
  {
   "attachments": {},
   "cell_type": "markdown",
   "id": "88cc15b6",
   "metadata": {},
   "source": [
    "Otra estrategia de anonimización muy interesante, es la que se conoce como **ruido aleatorio**. Este procedimiento lo que hace es añadir ruido aleatorio a los datos numéricos para desvincularlos de su valor real, lo cual puede ser útil para ocultar patrones específicos o valores exactos en un conjunto de datos.\n",
    "\n",
    "Básicamente el ruido aleatorio **distorsiona los valores numéricos**, pero de una forma tal que permite que el conjunto de datos **preserve la utilidad estadística**, ya que cambia los datos individuales, pero mantiene las propiedades generales de los datos como *medias*, las *varianzas*, la *desviación estándar*, etc.\n",
    "\n",
    "Primero vamos a generar el ruido:"
   ]
  },
  {
   "cell_type": "code",
   "execution_count": 5,
   "id": "fed5aa3c",
   "metadata": {},
   "outputs": [
    {
     "data": {
      "text/plain": [
       "array([-107.94001007,  -47.77111386,   71.78247857,   49.47439302,\n",
       "         80.65009401])"
      ]
     },
     "execution_count": 5,
     "metadata": {},
     "output_type": "execute_result"
    }
   ],
   "source": [
    "ruido = np.random.normal(0, 100, size=data['salario'].shape)\n",
    "ruido"
   ]
  },
  {
   "attachments": {},
   "cell_type": "markdown",
   "id": "6a37c77a",
   "metadata": {},
   "source": [
    "En esa línea código hemos implementado `np.random.normal()` que es una función de NumPy que genera números aleatorios manteniendo una distribución normal. Aquí describo los parámetros que hemos configurado:\n",
    "+ `0` - Este es el parámetro `mean` (media) de la distribución normal. En este caso, la media está configurada en `0`, lo que indica que el promedio de los valores generados por esta distribución será `0`.\n",
    "+ `100` - Este es el parámetro `std` (desviación estándar) de la distribución normal. Aquí, se especifica una desviación estándar de `100`, que define cuánto se espera que se dispersen los valores alrededor de la media. Una desviación estándar de `100` significa que la mayoría de los valores estará dentro de un rango de 100 unidades de la media en ambas direcciones (positiva y negativa).\n",
    "+ `size=data['salario'].shape` - Este parámetro especifica que forma va a tener el array que se va a generar. Al decir `data['salario'].shape` le está pidiendo que tenga la forma de la columna `salario` de nuestro dataframe, por lo que se va a generar un **array** de números aleatorios con la misma cantidad de elementos que la columna `salario`. Esto asegura que cada entrada en la columna `salario` luego tenga un número aleatorio correspondiente para añadirle ruido.\n",
    "\n",
    "Y luego vamos a agregar ese ruido a nuestros valores:"
   ]
  },
  {
   "cell_type": "code",
   "execution_count": 6,
   "id": "8d8eb55f",
   "metadata": {},
   "outputs": [
    {
     "data": {
      "text/html": [
       "<div>\n",
       "<style scoped>\n",
       "    .dataframe tbody tr th:only-of-type {\n",
       "        vertical-align: middle;\n",
       "    }\n",
       "\n",
       "    .dataframe tbody tr th {\n",
       "        vertical-align: top;\n",
       "    }\n",
       "\n",
       "    .dataframe thead th {\n",
       "        text-align: right;\n",
       "    }\n",
       "</style>\n",
       "<table border=\"1\" class=\"dataframe\">\n",
       "  <thead>\n",
       "    <tr style=\"text-align: right;\">\n",
       "      <th></th>\n",
       "      <th>edad</th>\n",
       "      <th>ubicacion</th>\n",
       "      <th>salario</th>\n",
       "      <th>banco</th>\n",
       "    </tr>\n",
       "  </thead>\n",
       "  <tbody>\n",
       "    <tr>\n",
       "      <th>0</th>\n",
       "      <td>20</td>\n",
       "      <td>Ciudad A</td>\n",
       "      <td>54892.059990</td>\n",
       "      <td>Banco 1</td>\n",
       "    </tr>\n",
       "    <tr>\n",
       "      <th>1</th>\n",
       "      <td>30</td>\n",
       "      <td>Ciudad B</td>\n",
       "      <td>33952.228886</td>\n",
       "      <td>Banco 3</td>\n",
       "    </tr>\n",
       "    <tr>\n",
       "      <th>2</th>\n",
       "      <td>10</td>\n",
       "      <td>Ciudad C</td>\n",
       "      <td>76071.782479</td>\n",
       "      <td>Banco 1</td>\n",
       "    </tr>\n",
       "    <tr>\n",
       "      <th>3</th>\n",
       "      <td>40</td>\n",
       "      <td>Ciudad D</td>\n",
       "      <td>51049.474393</td>\n",
       "      <td>Banco 2</td>\n",
       "    </tr>\n",
       "    <tr>\n",
       "      <th>4</th>\n",
       "      <td>60</td>\n",
       "      <td>Ciudad E</td>\n",
       "      <td>62080.650094</td>\n",
       "      <td>Banco 3</td>\n",
       "    </tr>\n",
       "  </tbody>\n",
       "</table>\n",
       "</div>"
      ],
      "text/plain": [
       "   edad ubicacion       salario    banco\n",
       "0    20  Ciudad A  54892.059990  Banco 1\n",
       "1    30  Ciudad B  33952.228886  Banco 3\n",
       "2    10  Ciudad C  76071.782479  Banco 1\n",
       "3    40  Ciudad D  51049.474393  Banco 2\n",
       "4    60  Ciudad E  62080.650094  Banco 3"
      ]
     },
     "execution_count": 6,
     "metadata": {},
     "output_type": "execute_result"
    }
   ],
   "source": [
    "data['salario'] += ruido\n",
    "data"
   ]
  },
  {
   "attachments": {},
   "cell_type": "markdown",
   "id": "5ed7c2f5",
   "metadata": {},
   "source": [
    "Por último vamos a conocer otra estrategia, que se llama **permutación**, o ***shuffling***, y que consiste en cambiar el orden se ciertos datos, de modo que se pierda la relación entre sus valores y otros campos del dataset. "
   ]
  },
  {
   "cell_type": "code",
   "execution_count": 7,
   "id": "4e4d3adc",
   "metadata": {},
   "outputs": [
    {
     "data": {
      "text/html": [
       "<div>\n",
       "<style scoped>\n",
       "    .dataframe tbody tr th:only-of-type {\n",
       "        vertical-align: middle;\n",
       "    }\n",
       "\n",
       "    .dataframe tbody tr th {\n",
       "        vertical-align: top;\n",
       "    }\n",
       "\n",
       "    .dataframe thead th {\n",
       "        text-align: right;\n",
       "    }\n",
       "</style>\n",
       "<table border=\"1\" class=\"dataframe\">\n",
       "  <thead>\n",
       "    <tr style=\"text-align: right;\">\n",
       "      <th></th>\n",
       "      <th>edad</th>\n",
       "      <th>ubicacion</th>\n",
       "      <th>salario</th>\n",
       "      <th>banco</th>\n",
       "    </tr>\n",
       "  </thead>\n",
       "  <tbody>\n",
       "    <tr>\n",
       "      <th>0</th>\n",
       "      <td>20</td>\n",
       "      <td>Ciudad A</td>\n",
       "      <td>54892.059990</td>\n",
       "      <td>Banco 3</td>\n",
       "    </tr>\n",
       "    <tr>\n",
       "      <th>1</th>\n",
       "      <td>30</td>\n",
       "      <td>Ciudad B</td>\n",
       "      <td>33952.228886</td>\n",
       "      <td>Banco 2</td>\n",
       "    </tr>\n",
       "    <tr>\n",
       "      <th>2</th>\n",
       "      <td>10</td>\n",
       "      <td>Ciudad C</td>\n",
       "      <td>76071.782479</td>\n",
       "      <td>Banco 1</td>\n",
       "    </tr>\n",
       "    <tr>\n",
       "      <th>3</th>\n",
       "      <td>40</td>\n",
       "      <td>Ciudad D</td>\n",
       "      <td>51049.474393</td>\n",
       "      <td>Banco 3</td>\n",
       "    </tr>\n",
       "    <tr>\n",
       "      <th>4</th>\n",
       "      <td>60</td>\n",
       "      <td>Ciudad E</td>\n",
       "      <td>62080.650094</td>\n",
       "      <td>Banco 1</td>\n",
       "    </tr>\n",
       "  </tbody>\n",
       "</table>\n",
       "</div>"
      ],
      "text/plain": [
       "   edad ubicacion       salario    banco\n",
       "0    20  Ciudad A  54892.059990  Banco 3\n",
       "1    30  Ciudad B  33952.228886  Banco 2\n",
       "2    10  Ciudad C  76071.782479  Banco 1\n",
       "3    40  Ciudad D  51049.474393  Banco 3\n",
       "4    60  Ciudad E  62080.650094  Banco 1"
      ]
     },
     "execution_count": 7,
     "metadata": {},
     "output_type": "execute_result"
    }
   ],
   "source": [
    "data['banco'] = np.random.permutation(data['banco'])\n",
    "data"
   ]
  },
  {
   "attachments": {},
   "cell_type": "markdown",
   "id": "0dda9c71",
   "metadata": {},
   "source": [
    "Esto permite que sea imposible individualizar esa información en los sujetos, pero hay que tener en cuenta que solo puede implementarse cuando esa relación no sea importante. \n",
    "\t\n",
    "Estas han sido las diferentes **técnicas de anonimización** de la información, y en la siguiente lección veremos otro conjunto de técnicas que sirven para la **pseudonimización**. No te las pierdas."
   ]
  },
  {
   "cell_type": "code",
   "execution_count": null,
   "id": "e439221c",
   "metadata": {},
   "outputs": [],
   "source": []
  }
 ],
 "metadata": {
  "kernelspec": {
   "display_name": "Python 3 (ipykernel)",
   "language": "python",
   "name": "python3"
  },
  "language_info": {
   "codemirror_mode": {
    "name": "ipython",
    "version": 3
   },
   "file_extension": ".py",
   "mimetype": "text/x-python",
   "name": "python",
   "nbconvert_exporter": "python",
   "pygments_lexer": "ipython3",
   "version": "3.11.5"
  }
 },
 "nbformat": 4,
 "nbformat_minor": 5
}
