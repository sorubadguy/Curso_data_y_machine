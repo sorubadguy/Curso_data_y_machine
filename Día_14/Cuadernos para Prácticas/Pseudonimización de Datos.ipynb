{
 "cells": [
  {
   "cell_type": "code",
   "execution_count": 1,
   "id": "04c28269",
   "metadata": {},
   "outputs": [],
   "source": [
    "import pandas as pd\n",
    "import uuid #!crea identificadores unicos\n",
    "import hashlib"
   ]
  },
  {
   "cell_type": "code",
   "execution_count": 2,
   "id": "817a9289",
   "metadata": {
    "scrolled": true
   },
   "outputs": [
    {
     "data": {
      "text/html": [
       "<div>\n",
       "<style scoped>\n",
       "    .dataframe tbody tr th:only-of-type {\n",
       "        vertical-align: middle;\n",
       "    }\n",
       "\n",
       "    .dataframe tbody tr th {\n",
       "        vertical-align: top;\n",
       "    }\n",
       "\n",
       "    .dataframe thead th {\n",
       "        text-align: right;\n",
       "    }\n",
       "</style>\n",
       "<table border=\"1\" class=\"dataframe\">\n",
       "  <thead>\n",
       "    <tr style=\"text-align: right;\">\n",
       "      <th></th>\n",
       "      <th>nombre</th>\n",
       "      <th>email</th>\n",
       "      <th>ubicacion</th>\n",
       "    </tr>\n",
       "  </thead>\n",
       "  <tbody>\n",
       "    <tr>\n",
       "      <th>0</th>\n",
       "      <td>Ana</td>\n",
       "      <td>ana@example.com</td>\n",
       "      <td>Ciudad A</td>\n",
       "    </tr>\n",
       "    <tr>\n",
       "      <th>1</th>\n",
       "      <td>Juan</td>\n",
       "      <td>juan@example.com</td>\n",
       "      <td>Ciudad B</td>\n",
       "    </tr>\n",
       "    <tr>\n",
       "      <th>2</th>\n",
       "      <td>Luis</td>\n",
       "      <td>luis@example.com</td>\n",
       "      <td>Ciudad C</td>\n",
       "    </tr>\n",
       "  </tbody>\n",
       "</table>\n",
       "</div>"
      ],
      "text/plain": [
       "  nombre             email ubicacion\n",
       "0    Ana   ana@example.com  Ciudad A\n",
       "1   Juan  juan@example.com  Ciudad B\n",
       "2   Luis  luis@example.com  Ciudad C"
      ]
     },
     "execution_count": 2,
     "metadata": {},
     "output_type": "execute_result"
    }
   ],
   "source": [
    "data = pd.DataFrame({\n",
    "    'nombre': ['Ana', 'Juan', 'Luis'],\n",
    "    'email': ['ana@example.com', 'juan@example.com', 'luis@example.com'],\n",
    "    'ubicacion': ['Ciudad A', 'Ciudad B', 'Ciudad C']\n",
    "})\n",
    "\n",
    "data"
   ]
  },
  {
   "cell_type": "code",
   "execution_count": 3,
   "id": "c15bcc93",
   "metadata": {},
   "outputs": [],
   "source": [
    "id_pseudo = []"
   ]
  },
  {
   "cell_type": "code",
   "execution_count": 4,
   "id": "680b1c31",
   "metadata": {},
   "outputs": [
    {
     "data": {
      "text/plain": [
       "['0b96d12e-12e8-4a34-939f-656ff3196048',\n",
       " 'e659ec08-2948-4d25-97c2-7a592b27dba7',\n",
       " '783aa288-0161-4b79-bbbc-06799e780218']"
      ]
     },
     "execution_count": 4,
     "metadata": {},
     "output_type": "execute_result"
    }
   ],
   "source": [
    "for i in range(len(data)):\n",
    "    # Generar un UUID\n",
    "    id_pseudo.append(str(uuid.uuid4()))\n",
    "    \n",
    "id_pseudo"
   ]
  },
  {
   "cell_type": "code",
   "execution_count": 5,
   "id": "ca55bdf7",
   "metadata": {},
   "outputs": [],
   "source": [
    "data['id_pseudo'] = id_pseudo\n",
    "data.drop('nombre', axis=1, inplace=True)"
   ]
  },
  {
   "cell_type": "code",
   "execution_count": 6,
   "id": "2889e97f",
   "metadata": {},
   "outputs": [
    {
     "data": {
      "text/html": [
       "<div>\n",
       "<style scoped>\n",
       "    .dataframe tbody tr th:only-of-type {\n",
       "        vertical-align: middle;\n",
       "    }\n",
       "\n",
       "    .dataframe tbody tr th {\n",
       "        vertical-align: top;\n",
       "    }\n",
       "\n",
       "    .dataframe thead th {\n",
       "        text-align: right;\n",
       "    }\n",
       "</style>\n",
       "<table border=\"1\" class=\"dataframe\">\n",
       "  <thead>\n",
       "    <tr style=\"text-align: right;\">\n",
       "      <th></th>\n",
       "      <th>email</th>\n",
       "      <th>ubicacion</th>\n",
       "      <th>id_pseudo</th>\n",
       "    </tr>\n",
       "  </thead>\n",
       "  <tbody>\n",
       "    <tr>\n",
       "      <th>0</th>\n",
       "      <td>ana@example.com</td>\n",
       "      <td>Ciudad A</td>\n",
       "      <td>0b96d12e-12e8-4a34-939f-656ff3196048</td>\n",
       "    </tr>\n",
       "    <tr>\n",
       "      <th>1</th>\n",
       "      <td>juan@example.com</td>\n",
       "      <td>Ciudad B</td>\n",
       "      <td>e659ec08-2948-4d25-97c2-7a592b27dba7</td>\n",
       "    </tr>\n",
       "    <tr>\n",
       "      <th>2</th>\n",
       "      <td>luis@example.com</td>\n",
       "      <td>Ciudad C</td>\n",
       "      <td>783aa288-0161-4b79-bbbc-06799e780218</td>\n",
       "    </tr>\n",
       "  </tbody>\n",
       "</table>\n",
       "</div>"
      ],
      "text/plain": [
       "              email ubicacion                             id_pseudo\n",
       "0   ana@example.com  Ciudad A  0b96d12e-12e8-4a34-939f-656ff3196048\n",
       "1  juan@example.com  Ciudad B  e659ec08-2948-4d25-97c2-7a592b27dba7\n",
       "2  luis@example.com  Ciudad C  783aa288-0161-4b79-bbbc-06799e780218"
      ]
     },
     "execution_count": 6,
     "metadata": {},
     "output_type": "execute_result"
    }
   ],
   "source": [
    "data"
   ]
  },
  {
   "cell_type": "code",
   "execution_count": 7,
   "id": "c66540c0",
   "metadata": {},
   "outputs": [],
   "source": [
    "def hash_data(data):\n",
    "    return hashlib.sha256(data.encode()).hexdigest()"
   ]
  },
  {
   "cell_type": "code",
   "execution_count": 8,
   "id": "b4a33247",
   "metadata": {},
   "outputs": [],
   "source": [
    "hash_email = []\n"
   ]
  },
  {
   "cell_type": "code",
   "execution_count": 9,
   "id": "094bc863",
   "metadata": {},
   "outputs": [],
   "source": [
    "for email in data['email']:\n",
    "    h_email = hash_data(email)\n",
    "    hash_email.append(h_email)\n",
    "data['email'] = hash_email"
   ]
  },
  {
   "cell_type": "code",
   "execution_count": 10,
   "id": "080e766c",
   "metadata": {},
   "outputs": [
    {
     "data": {
      "text/html": [
       "<div>\n",
       "<style scoped>\n",
       "    .dataframe tbody tr th:only-of-type {\n",
       "        vertical-align: middle;\n",
       "    }\n",
       "\n",
       "    .dataframe tbody tr th {\n",
       "        vertical-align: top;\n",
       "    }\n",
       "\n",
       "    .dataframe thead th {\n",
       "        text-align: right;\n",
       "    }\n",
       "</style>\n",
       "<table border=\"1\" class=\"dataframe\">\n",
       "  <thead>\n",
       "    <tr style=\"text-align: right;\">\n",
       "      <th></th>\n",
       "      <th>email</th>\n",
       "      <th>ubicacion</th>\n",
       "      <th>id_pseudo</th>\n",
       "    </tr>\n",
       "  </thead>\n",
       "  <tbody>\n",
       "    <tr>\n",
       "      <th>0</th>\n",
       "      <td>8e43ca37701228e74983efdbd0cff5c16b3b1e5d4e29a7...</td>\n",
       "      <td>Ciudad A</td>\n",
       "      <td>0b96d12e-12e8-4a34-939f-656ff3196048</td>\n",
       "    </tr>\n",
       "    <tr>\n",
       "      <th>1</th>\n",
       "      <td>81b562a0fe2aecc8831e2d7c9942f319736afc2a99415e...</td>\n",
       "      <td>Ciudad B</td>\n",
       "      <td>e659ec08-2948-4d25-97c2-7a592b27dba7</td>\n",
       "    </tr>\n",
       "    <tr>\n",
       "      <th>2</th>\n",
       "      <td>861d62c5b964e71b42e61aeb4e876f86908a86300b15b2...</td>\n",
       "      <td>Ciudad C</td>\n",
       "      <td>783aa288-0161-4b79-bbbc-06799e780218</td>\n",
       "    </tr>\n",
       "  </tbody>\n",
       "</table>\n",
       "</div>"
      ],
      "text/plain": [
       "                                               email ubicacion  \\\n",
       "0  8e43ca37701228e74983efdbd0cff5c16b3b1e5d4e29a7...  Ciudad A   \n",
       "1  81b562a0fe2aecc8831e2d7c9942f319736afc2a99415e...  Ciudad B   \n",
       "2  861d62c5b964e71b42e61aeb4e876f86908a86300b15b2...  Ciudad C   \n",
       "\n",
       "                              id_pseudo  \n",
       "0  0b96d12e-12e8-4a34-939f-656ff3196048  \n",
       "1  e659ec08-2948-4d25-97c2-7a592b27dba7  \n",
       "2  783aa288-0161-4b79-bbbc-06799e780218  "
      ]
     },
     "execution_count": 10,
     "metadata": {},
     "output_type": "execute_result"
    }
   ],
   "source": [
    "data"
   ]
  },
  {
   "cell_type": "code",
   "execution_count": 11,
   "id": "de8262b0",
   "metadata": {},
   "outputs": [],
   "source": [
    "mis_tokens = {}"
   ]
  },
  {
   "cell_type": "code",
   "execution_count": 15,
   "id": "538685cc",
   "metadata": {},
   "outputs": [],
   "source": [
    "def tokenizar(data):\n",
    "    token = str(uuid.uuid4())\n",
    "    mis_tokens[token] = data\n",
    "    return token"
   ]
  },
  {
   "cell_type": "code",
   "execution_count": 13,
   "id": "94f31d1a",
   "metadata": {},
   "outputs": [],
   "source": [
    "def recuperar_dato(token):\n",
    "    return  mis_tokens.get(token, \"Token no encontrado\")"
   ]
  },
  {
   "cell_type": "code",
   "execution_count": 16,
   "id": "7ac4931d",
   "metadata": {},
   "outputs": [],
   "source": [
    "dato_original = \"123-456-789\"\n",
    "token = tokenizar(dato_original)"
   ]
  },
  {
   "cell_type": "code",
   "execution_count": null,
   "id": "b26b0b7e",
   "metadata": {},
   "outputs": [
    {
     "name": "stdout",
     "output_type": "stream",
     "text": [
      "Token generado: 2a887463-7148-476d-b35c-629ee5e7039b\n",
      "Dato original: 123-456-789\n"
     ]
    }
   ],
   "source": [
    "print(f\"Token generado: {token}\")\n",
    "print(f\"Dato original: {dato_original}\")    "
   ]
  },
  {
   "cell_type": "code",
   "execution_count": null,
   "id": "2237466a",
   "metadata": {},
   "outputs": [],
   "source": []
  }
 ],
 "metadata": {
  "kernelspec": {
   "display_name": "venv",
   "language": "python",
   "name": "python3"
  },
  "language_info": {
   "codemirror_mode": {
    "name": "ipython",
    "version": 3
   },
   "file_extension": ".py",
   "mimetype": "text/x-python",
   "name": "python",
   "nbconvert_exporter": "python",
   "pygments_lexer": "ipython3",
   "version": "3.10.0"
  }
 },
 "nbformat": 4,
 "nbformat_minor": 5
}
