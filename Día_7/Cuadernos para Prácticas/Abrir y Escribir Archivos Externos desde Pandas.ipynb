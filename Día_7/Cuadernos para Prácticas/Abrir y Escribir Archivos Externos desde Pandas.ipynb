{
 "cells": [
  {
   "cell_type": "code",
   "execution_count": 1,
   "id": "dd9f5ae5",
   "metadata": {},
   "outputs": [],
   "source": [
    "import pandas as pd"
   ]
  },
  {
   "cell_type": "code",
   "execution_count": null,
   "id": "e94749d8",
   "metadata": {},
   "outputs": [],
   "source": [
    "ruta_excel = 'Compras_desde_ads.xlsx'\n",
    "ruta_xml = 'Valores de acciones.xml'"
   ]
  },
  {
   "cell_type": "code",
   "execution_count": 2,
   "id": "cca015cd",
   "metadata": {},
   "outputs": [
    {
     "data": {
      "text/plain": [
       "0   2024-03-19\n",
       "1   2024-03-20\n",
       "2   2024-03-21\n",
       "3   2024-03-22\n",
       "4   2024-03-23\n",
       "5   2024-03-24\n",
       "Name: Fecha, dtype: datetime64[ns]"
      ]
     },
     "execution_count": 2,
     "metadata": {},
     "output_type": "execute_result"
    }
   ],
   "source": [
    "data = {\n",
    "    'Fecha': ['2024-03-19', '2024-03-20', '2024-03-21', '2024-03-22', '2024-03-23', '2024-03-24'],\n",
    "    'Producto': ['Manzanas', 'Peras', 'Naranjas', 'Plátanos', 'Uvas', 'Melocotones'],\n",
    "    'Cantidad': [23, 15, 18, 30, 8, 20],\n",
    "    'Precio': [1.2, 1.5, 1.0, 0.8, 2.0, 1.7]\n",
    "}\n",
    "\n",
    "df_ventas = pd.DataFrame(data)\n",
    "\n",
    "df_ventas['Fecha'] = pd.to_datetime(df_ventas['Fecha'], format = '%Y-%m-%d', dayfirst = True)\n",
    "\n",
    "df_ventas['Fecha']"
   ]
  },
  {
   "cell_type": "code",
   "execution_count": 4,
   "id": "fb44ec3a-8c62-4d6a-b58a-910ab46f8d2d",
   "metadata": {},
   "outputs": [
    {
     "data": {
      "text/plain": [
       "0    19/03/2024\n",
       "1    20/03/2024\n",
       "2    21/03/2024\n",
       "3    22/03/2024\n",
       "4    23/03/2024\n",
       "5    24/03/2024\n",
       "Name: Fecha, dtype: object"
      ]
     },
     "execution_count": 4,
     "metadata": {},
     "output_type": "execute_result"
    }
   ],
   "source": [
    "df_ventas['Fecha'] = df_ventas['Fecha'].dt.strftime('%d/%m/%Y')\n",
    "df_ventas['Fecha']"
   ]
  },
  {
   "cell_type": "code",
   "execution_count": 5,
   "id": "297ee042-c9d8-4423-acc9-905293aa3055",
   "metadata": {},
   "outputs": [],
   "source": [
    "def guardar_en_excel():\n",
    "    df_ventas.to_excel('ventas2.xlsx', index = False)"
   ]
  },
  {
   "cell_type": "code",
   "execution_count": 6,
   "id": "982fe82b-991a-4696-9c1a-ceeb28a322f3",
   "metadata": {},
   "outputs": [],
   "source": [
    "guardar_en_excel()"
   ]
  },
  {
   "cell_type": "code",
   "execution_count": null,
   "id": "4164d9dc-95c6-4765-81f8-cd4fba516686",
   "metadata": {},
   "outputs": [],
   "source": []
  }
 ],
 "metadata": {
  "kernelspec": {
   "display_name": "Python 3 (ipykernel)",
   "language": "python",
   "name": "python3"
  },
  "language_info": {
   "codemirror_mode": {
    "name": "ipython",
    "version": 3
   },
   "file_extension": ".py",
   "mimetype": "text/x-python",
   "name": "python",
   "nbconvert_exporter": "python",
   "pygments_lexer": "ipython3",
   "version": "3.11.9"
  }
 },
 "nbformat": 4,
 "nbformat_minor": 5
}
